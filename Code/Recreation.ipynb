{
 "cells": [
  {
   "cell_type": "raw",
   "metadata": {},
   "source": [
    "Давай думать...\n",
    "нам необходимо решить задачу классификации, основанную на 1 ключевом параметре - HLDF, и вспомогательных (необходимо как-нибудь доопределить ключевой параметр через эти вспомогательные, не знаю, как, если честно\n",
    "\n",
    "Для честности эксперимента: сначала правим вид данных без заполнения, основанного на ключевом параметре, затем:\n",
    "1) Разбиваем на train - test сеты, для поддержания честности\n",
    "2) На train сете меняем параметры, используя ключевой признак (придав ему повышенный вес в алгоритме, например (наверное, придется написать свою реа\n",
    "лизацию алгоритма - выучить, заодно, бустинг)\n",
    "3) На test сете придется как-то менять, опираясь на аналогию train, как - не знаю (к примеру - решить дополнительную задачу регрессии на элементы, которые останутся без подсказок)\n",
    "4) Решить задачу, как-то придав HLDF повышенную важность\n",
    "\n",
    "Метрики:\n",
    "    В подзадаче регрессии - RMSE\\MAE\n",
    "    В задаче классификации - Roc-Auc или Precision"
   ]
  },
  {
   "cell_type": "raw",
   "metadata": {},
   "source": [
    "Шаги:\n",
    "1) Обработать датасет, изменив заполненные категориальные данные не категориальными\n",
    "2) Разбить на train - test\n",
    "3) Обработать train сет\n",
    "4) Изменить test сет\n",
    "5) Закинуть в классификатор"
   ]
  },
  {
   "cell_type": "code",
   "execution_count": 1,
   "metadata": {},
   "outputs": [],
   "source": [
    "import numpy as np\n",
    "import pandas as pd"
   ]
  },
  {
   "cell_type": "code",
   "execution_count": 2,
   "metadata": {},
   "outputs": [],
   "source": [
    "data = pd.read_excel(\"~/Desktop/data.xls\",header = 3)"
   ]
  },
  {
   "cell_type": "raw",
   "metadata": {},
   "source": [
    "Ок, продумаем шаги:\n",
    "\n",
    "1) Для первичного упрощения, строим линейную модель с L1 - регуляризацией, тем самым подбором коэффициентов убираем наименее нужные фичи (строя Threshold либо фиксированный, либо плавающий в процентах от начальных фич, либо по разбросу значений коэффициентов значимости)\n",
    "2) Обучаем модель с данным количеством фич через XGBoost (к примеру), добавляем ещё фичи, пока будет наблюдаться улучшение качества\n",
    "\n",
    "В итоге первых 2 пунктов получаем модель с уменьшенным числом фич, и, в теории, взвешенными коэффициентами для суммирования расстояний\n",
    "\n",
    "3) Разбиваем фичи на 3 классические группы:\n",
    "3а) Численные фичи - \n"
   ]
  },
  {
   "cell_type": "raw",
   "metadata": {},
   "source": [
    "Для выделелния более значимых фич действительно можно воспользоваться критерием значимости, что дал Чернышёв - обучить модель xgboost на всех фичах, и последовательно портить фичи, смотря на изменение результатов\n",
    "Т.е. применим Out Of Bag методику"
   ]
  },
  {
   "cell_type": "code",
   "execution_count": 3,
   "metadata": {},
   "outputs": [
    {
     "data": {
      "text/html": [
       "<div>\n",
       "<style scoped>\n",
       "    .dataframe tbody tr th:only-of-type {\n",
       "        vertical-align: middle;\n",
       "    }\n",
       "\n",
       "    .dataframe tbody tr th {\n",
       "        vertical-align: top;\n",
       "    }\n",
       "\n",
       "    .dataframe thead th {\n",
       "        text-align: right;\n",
       "    }\n",
       "</style>\n",
       "<table border=\"1\" class=\"dataframe\">\n",
       "  <thead>\n",
       "    <tr style=\"text-align: right;\">\n",
       "      <th></th>\n",
       "      <th>Unnamed: 0</th>\n",
       "      <th>Unnamed: 1</th>\n",
       "      <th>Unnamed: 2</th>\n",
       "      <th>Unnamed: 3</th>\n",
       "      <th>Глюкоза</th>\n",
       "      <th>Мочевина</th>\n",
       "      <th>Креатинин</th>\n",
       "      <th>Мочевая к-та</th>\n",
       "      <th>Холестерин</th>\n",
       "      <th>Х-ЛПВП</th>\n",
       "      <th>...</th>\n",
       "      <th>Анг II, пг/мл (N 10-60 пг/мл)</th>\n",
       "      <th>ЭТ, пмоль/л    (N =0,09)</th>\n",
       "      <th>VEGF,  пг/мл (N40-600)</th>\n",
       "      <th>HLDF (нг/мл</th>\n",
       "      <th>АТ к S100b</th>\n",
       "      <th>АТ к Анг  II</th>\n",
       "      <th>АТ к ЭТ</th>\n",
       "      <th>АТ к HLDF- 24</th>\n",
       "      <th>Unnamed: 35</th>\n",
       "      <th>Unnamed: 36</th>\n",
       "    </tr>\n",
       "  </thead>\n",
       "  <tbody>\n",
       "    <tr>\n",
       "      <td>0</td>\n",
       "      <td>NaN</td>\n",
       "      <td>NaN</td>\n",
       "      <td>NaN</td>\n",
       "      <td>NaN</td>\n",
       "      <td>мМ/Л</td>\n",
       "      <td>мМ/Л</td>\n",
       "      <td>мкМ/Л</td>\n",
       "      <td>мкМ/Л</td>\n",
       "      <td>мМ/Л</td>\n",
       "      <td>мМ/Л</td>\n",
       "      <td>...</td>\n",
       "      <td>NaN</td>\n",
       "      <td>NaN</td>\n",
       "      <td>NaN</td>\n",
       "      <td>NaN</td>\n",
       "      <td>NaN</td>\n",
       "      <td>NaN</td>\n",
       "      <td>NaN</td>\n",
       "      <td>NaN</td>\n",
       "      <td>NaN</td>\n",
       "      <td>NaN</td>\n",
       "    </tr>\n",
       "    <tr>\n",
       "      <td>1</td>\n",
       "      <td>2.0</td>\n",
       "      <td>Сл-сантехник</td>\n",
       "      <td>2.0</td>\n",
       "      <td>1956.0</td>\n",
       "      <td>6.2</td>\n",
       "      <td>5.9</td>\n",
       "      <td>110</td>\n",
       "      <td>443</td>\n",
       "      <td>6.2</td>\n",
       "      <td>1.07</td>\n",
       "      <td>...</td>\n",
       "      <td>NaN</td>\n",
       "      <td>NaN</td>\n",
       "      <td>NaN</td>\n",
       "      <td>NaN</td>\n",
       "      <td>NaN</td>\n",
       "      <td>NaN</td>\n",
       "      <td>NaN</td>\n",
       "      <td>NaN</td>\n",
       "      <td>0</td>\n",
       "      <td>2.0</td>\n",
       "    </tr>\n",
       "    <tr>\n",
       "      <td>2</td>\n",
       "      <td>3.0</td>\n",
       "      <td>инженер</td>\n",
       "      <td>1.0</td>\n",
       "      <td>1962.0</td>\n",
       "      <td>5.2</td>\n",
       "      <td>5</td>\n",
       "      <td>72</td>\n",
       "      <td>164</td>\n",
       "      <td>5.5</td>\n",
       "      <td>2.27</td>\n",
       "      <td>...</td>\n",
       "      <td>NaN</td>\n",
       "      <td>NaN</td>\n",
       "      <td>NaN</td>\n",
       "      <td>NaN</td>\n",
       "      <td>NaN</td>\n",
       "      <td>NaN</td>\n",
       "      <td>NaN</td>\n",
       "      <td>NaN</td>\n",
       "      <td>0</td>\n",
       "      <td>3.0</td>\n",
       "    </tr>\n",
       "    <tr>\n",
       "      <td>3</td>\n",
       "      <td>4.0</td>\n",
       "      <td>Инженер-технолог</td>\n",
       "      <td>-1000.0</td>\n",
       "      <td>1962.0</td>\n",
       "      <td>5.1</td>\n",
       "      <td>5.8</td>\n",
       "      <td>85</td>\n",
       "      <td>345</td>\n",
       "      <td>6.6</td>\n",
       "      <td>2.1</td>\n",
       "      <td>...</td>\n",
       "      <td>NaN</td>\n",
       "      <td>NaN</td>\n",
       "      <td>NaN</td>\n",
       "      <td>NaN</td>\n",
       "      <td>NaN</td>\n",
       "      <td>NaN</td>\n",
       "      <td>NaN</td>\n",
       "      <td>NaN</td>\n",
       "      <td>0</td>\n",
       "      <td>4.0</td>\n",
       "    </tr>\n",
       "    <tr>\n",
       "      <td>4</td>\n",
       "      <td>5.0</td>\n",
       "      <td>водитель</td>\n",
       "      <td>2.0</td>\n",
       "      <td>1964.0</td>\n",
       "      <td>5.6</td>\n",
       "      <td>5.7</td>\n",
       "      <td>74</td>\n",
       "      <td>438</td>\n",
       "      <td>6.3</td>\n",
       "      <td>1.04</td>\n",
       "      <td>...</td>\n",
       "      <td>0.38</td>\n",
       "      <td>0.07</td>\n",
       "      <td>458.4</td>\n",
       "      <td>NaN</td>\n",
       "      <td>1600.0</td>\n",
       "      <td>1600.0</td>\n",
       "      <td>400.0</td>\n",
       "      <td>50.0</td>\n",
       "      <td>0</td>\n",
       "      <td>5.0</td>\n",
       "    </tr>\n",
       "  </tbody>\n",
       "</table>\n",
       "<p>5 rows × 37 columns</p>\n",
       "</div>"
      ],
      "text/plain": [
       "   Unnamed: 0        Unnamed: 1  Unnamed: 2  Unnamed: 3 Глюкоза Мочевина  \\\n",
       "0         NaN               NaN         NaN         NaN    мМ/Л     мМ/Л   \n",
       "1         2.0      Сл-сантехник         2.0      1956.0     6.2      5.9   \n",
       "2         3.0          инженер          1.0      1962.0     5.2        5   \n",
       "3         4.0  Инженер-технолог     -1000.0      1962.0     5.1      5.8   \n",
       "4         5.0          водитель         2.0      1964.0     5.6      5.7   \n",
       "\n",
       "  Креатинин Мочевая к-та Холестерин Х-ЛПВП  ... Анг II, пг/мл (N 10-60 пг/мл)  \\\n",
       "0     мкМ/Л        мкМ/Л       мМ/Л   мМ/Л  ...                           NaN   \n",
       "1       110          443        6.2   1.07  ...                           NaN   \n",
       "2        72          164        5.5   2.27  ...                           NaN   \n",
       "3        85          345        6.6    2.1  ...                           NaN   \n",
       "4        74          438        6.3   1.04  ...                          0.38   \n",
       "\n",
       "  ЭТ, пмоль/л    (N =0,09) VEGF,  пг/мл (N40-600) HLDF (нг/мл АТ к S100b  \\\n",
       "0                      NaN                    NaN         NaN        NaN   \n",
       "1                      NaN                    NaN         NaN        NaN   \n",
       "2                      NaN                    NaN         NaN        NaN   \n",
       "3                      NaN                    NaN         NaN        NaN   \n",
       "4                     0.07                  458.4         NaN     1600.0   \n",
       "\n",
       "  АТ к Анг  II  АТ к ЭТ  АТ к HLDF- 24 Unnamed: 35 Unnamed: 36  \n",
       "0           NaN      NaN           NaN         NaN         NaN  \n",
       "1           NaN      NaN           NaN           0         2.0  \n",
       "2           NaN      NaN           NaN           0         3.0  \n",
       "3           NaN      NaN           NaN           0         4.0  \n",
       "4        1600.0    400.0          50.0           0         5.0  \n",
       "\n",
       "[5 rows x 37 columns]"
      ]
     },
     "execution_count": 3,
     "metadata": {},
     "output_type": "execute_result"
    }
   ],
   "source": [
    "data.head(5)"
   ]
  },
  {
   "cell_type": "code",
   "execution_count": 4,
   "metadata": {},
   "outputs": [],
   "source": [
    "data = data.drop(0)"
   ]
  },
  {
   "cell_type": "code",
   "execution_count": 5,
   "metadata": {},
   "outputs": [],
   "source": [
    "data = data.rename(columns={\"Unnamed: 0\" : \"Number\", \"Unnamed: 1\" : \"Profession\"})\n",
    "data = data.rename(columns={\"Unnamed: 2\" : \"Gender\", \"Unnamed: 3\" : \"Birth_year\"})"
   ]
  },
  {
   "cell_type": "code",
   "execution_count": 6,
   "metadata": {},
   "outputs": [
    {
     "data": {
      "text/html": [
       "<div>\n",
       "<style scoped>\n",
       "    .dataframe tbody tr th:only-of-type {\n",
       "        vertical-align: middle;\n",
       "    }\n",
       "\n",
       "    .dataframe tbody tr th {\n",
       "        vertical-align: top;\n",
       "    }\n",
       "\n",
       "    .dataframe thead th {\n",
       "        text-align: right;\n",
       "    }\n",
       "</style>\n",
       "<table border=\"1\" class=\"dataframe\">\n",
       "  <thead>\n",
       "    <tr style=\"text-align: right;\">\n",
       "      <th></th>\n",
       "      <th>Number</th>\n",
       "      <th>Profession</th>\n",
       "      <th>Gender</th>\n",
       "      <th>Birth_year</th>\n",
       "      <th>Глюкоза</th>\n",
       "      <th>Мочевина</th>\n",
       "      <th>Креатинин</th>\n",
       "      <th>Мочевая к-та</th>\n",
       "      <th>Холестерин</th>\n",
       "      <th>Х-ЛПВП</th>\n",
       "      <th>...</th>\n",
       "      <th>Анг II, пг/мл (N 10-60 пг/мл)</th>\n",
       "      <th>ЭТ, пмоль/л    (N =0,09)</th>\n",
       "      <th>VEGF,  пг/мл (N40-600)</th>\n",
       "      <th>HLDF (нг/мл</th>\n",
       "      <th>АТ к S100b</th>\n",
       "      <th>АТ к Анг  II</th>\n",
       "      <th>АТ к ЭТ</th>\n",
       "      <th>АТ к HLDF- 24</th>\n",
       "      <th>Unnamed: 35</th>\n",
       "      <th>Unnamed: 36</th>\n",
       "    </tr>\n",
       "  </thead>\n",
       "  <tbody>\n",
       "    <tr>\n",
       "      <td>1</td>\n",
       "      <td>2.0</td>\n",
       "      <td>Сл-сантехник</td>\n",
       "      <td>2.0</td>\n",
       "      <td>1956.0</td>\n",
       "      <td>6.2</td>\n",
       "      <td>5.9</td>\n",
       "      <td>110</td>\n",
       "      <td>443</td>\n",
       "      <td>6.2</td>\n",
       "      <td>1.07</td>\n",
       "      <td>...</td>\n",
       "      <td>NaN</td>\n",
       "      <td>NaN</td>\n",
       "      <td>NaN</td>\n",
       "      <td>NaN</td>\n",
       "      <td>NaN</td>\n",
       "      <td>NaN</td>\n",
       "      <td>NaN</td>\n",
       "      <td>NaN</td>\n",
       "      <td>0</td>\n",
       "      <td>2.0</td>\n",
       "    </tr>\n",
       "    <tr>\n",
       "      <td>2</td>\n",
       "      <td>3.0</td>\n",
       "      <td>инженер</td>\n",
       "      <td>1.0</td>\n",
       "      <td>1962.0</td>\n",
       "      <td>5.2</td>\n",
       "      <td>5</td>\n",
       "      <td>72</td>\n",
       "      <td>164</td>\n",
       "      <td>5.5</td>\n",
       "      <td>2.27</td>\n",
       "      <td>...</td>\n",
       "      <td>NaN</td>\n",
       "      <td>NaN</td>\n",
       "      <td>NaN</td>\n",
       "      <td>NaN</td>\n",
       "      <td>NaN</td>\n",
       "      <td>NaN</td>\n",
       "      <td>NaN</td>\n",
       "      <td>NaN</td>\n",
       "      <td>0</td>\n",
       "      <td>3.0</td>\n",
       "    </tr>\n",
       "    <tr>\n",
       "      <td>3</td>\n",
       "      <td>4.0</td>\n",
       "      <td>Инженер-технолог</td>\n",
       "      <td>-1000.0</td>\n",
       "      <td>1962.0</td>\n",
       "      <td>5.1</td>\n",
       "      <td>5.8</td>\n",
       "      <td>85</td>\n",
       "      <td>345</td>\n",
       "      <td>6.6</td>\n",
       "      <td>2.1</td>\n",
       "      <td>...</td>\n",
       "      <td>NaN</td>\n",
       "      <td>NaN</td>\n",
       "      <td>NaN</td>\n",
       "      <td>NaN</td>\n",
       "      <td>NaN</td>\n",
       "      <td>NaN</td>\n",
       "      <td>NaN</td>\n",
       "      <td>NaN</td>\n",
       "      <td>0</td>\n",
       "      <td>4.0</td>\n",
       "    </tr>\n",
       "    <tr>\n",
       "      <td>4</td>\n",
       "      <td>5.0</td>\n",
       "      <td>водитель</td>\n",
       "      <td>2.0</td>\n",
       "      <td>1964.0</td>\n",
       "      <td>5.6</td>\n",
       "      <td>5.7</td>\n",
       "      <td>74</td>\n",
       "      <td>438</td>\n",
       "      <td>6.3</td>\n",
       "      <td>1.04</td>\n",
       "      <td>...</td>\n",
       "      <td>0.38</td>\n",
       "      <td>0.07</td>\n",
       "      <td>458.40</td>\n",
       "      <td>NaN</td>\n",
       "      <td>1600.0</td>\n",
       "      <td>1600.0</td>\n",
       "      <td>400.0</td>\n",
       "      <td>50.0</td>\n",
       "      <td>0</td>\n",
       "      <td>5.0</td>\n",
       "    </tr>\n",
       "    <tr>\n",
       "      <td>5</td>\n",
       "      <td>12.0</td>\n",
       "      <td>слесарь</td>\n",
       "      <td>2.0</td>\n",
       "      <td>1959.0</td>\n",
       "      <td>5.7</td>\n",
       "      <td>5.5</td>\n",
       "      <td>88</td>\n",
       "      <td>286</td>\n",
       "      <td>7.1</td>\n",
       "      <td>0.91</td>\n",
       "      <td>...</td>\n",
       "      <td>0.00</td>\n",
       "      <td>0.32</td>\n",
       "      <td>70.91</td>\n",
       "      <td>120.0</td>\n",
       "      <td>400.0</td>\n",
       "      <td>400.0</td>\n",
       "      <td>600.0</td>\n",
       "      <td>100.0</td>\n",
       "      <td>0</td>\n",
       "      <td>12.0</td>\n",
       "    </tr>\n",
       "  </tbody>\n",
       "</table>\n",
       "<p>5 rows × 37 columns</p>\n",
       "</div>"
      ],
      "text/plain": [
       "   Number        Profession  Gender  Birth_year Глюкоза Мочевина Креатинин  \\\n",
       "1     2.0      Сл-сантехник     2.0      1956.0     6.2      5.9       110   \n",
       "2     3.0          инженер      1.0      1962.0     5.2        5        72   \n",
       "3     4.0  Инженер-технолог -1000.0      1962.0     5.1      5.8        85   \n",
       "4     5.0          водитель     2.0      1964.0     5.6      5.7        74   \n",
       "5    12.0          слесарь      2.0      1959.0     5.7      5.5        88   \n",
       "\n",
       "  Мочевая к-та Холестерин Х-ЛПВП  ... Анг II, пг/мл (N 10-60 пг/мл)  \\\n",
       "1          443        6.2   1.07  ...                           NaN   \n",
       "2          164        5.5   2.27  ...                           NaN   \n",
       "3          345        6.6    2.1  ...                           NaN   \n",
       "4          438        6.3   1.04  ...                          0.38   \n",
       "5          286        7.1   0.91  ...                          0.00   \n",
       "\n",
       "  ЭТ, пмоль/л    (N =0,09) VEGF,  пг/мл (N40-600) HLDF (нг/мл АТ к S100b  \\\n",
       "1                      NaN                    NaN         NaN        NaN   \n",
       "2                      NaN                    NaN         NaN        NaN   \n",
       "3                      NaN                    NaN         NaN        NaN   \n",
       "4                     0.07                 458.40         NaN     1600.0   \n",
       "5                     0.32                  70.91       120.0      400.0   \n",
       "\n",
       "  АТ к Анг  II  АТ к ЭТ  АТ к HLDF- 24 Unnamed: 35 Unnamed: 36  \n",
       "1           NaN      NaN           NaN           0         2.0  \n",
       "2           NaN      NaN           NaN           0         3.0  \n",
       "3           NaN      NaN           NaN           0         4.0  \n",
       "4        1600.0    400.0          50.0           0         5.0  \n",
       "5         400.0    600.0         100.0           0        12.0  \n",
       "\n",
       "[5 rows x 37 columns]"
      ]
     },
     "execution_count": 6,
     "metadata": {},
     "output_type": "execute_result"
    }
   ],
   "source": [
    "data.head(5)"
   ]
  },
  {
   "cell_type": "code",
   "execution_count": 7,
   "metadata": {},
   "outputs": [
    {
     "data": {
      "text/plain": [
       "Index(['Number', 'Profession', 'Gender', 'Birth_year', 'Глюкоза', 'Мочевина',\n",
       "       'Креатинин', 'Мочевая к-та', 'Холестерин', 'Х-ЛПВП', 'Х-ЛПНП',\n",
       "       'Триглицериды', 'индекс массы тела', 'курк\\ение',\n",
       "       'избыт, Потр, Алкоголя', 'и,п повар, Соли', 'гиподинамия', 'стресс',\n",
       "       'прием п\\щ контрац', 'насл отяг, По ГБ, ', 'насл отяг, По ССЗ',\n",
       "       'насл отяг, По СД', 'насл, Отяг по почечн, Заб', 'САД', 'ДАД',\n",
       "       'ГЛЖ ин Соколова-Лайона', 'S100b, нг/л (N до 90)',\n",
       "       'Анг II, пг/мл (N 10-60 пг/мл)', 'ЭТ, пмоль/л    (N =0,09)',\n",
       "       'VEGF,  пг/мл (N40-600)', 'HLDF (нг/мл', 'АТ к S100b', 'АТ к Анг  II ',\n",
       "       'АТ к ЭТ ', 'АТ к HLDF- 24', 'Unnamed: 35', 'Unnamed: 36'],\n",
       "      dtype='object')"
      ]
     },
     "execution_count": 7,
     "metadata": {},
     "output_type": "execute_result"
    }
   ],
   "source": [
    "data.columns"
   ]
  },
  {
   "cell_type": "code",
   "execution_count": 8,
   "metadata": {},
   "outputs": [
    {
     "data": {
      "text/plain": [
       "56"
      ]
     },
     "execution_count": 8,
     "metadata": {},
     "output_type": "execute_result"
    }
   ],
   "source": [
    "data['Profession'].unique().__len__()\n",
    "# дропнуть штоле?"
   ]
  },
  {
   "cell_type": "code",
   "execution_count": 9,
   "metadata": {},
   "outputs": [],
   "source": [
    "data = data.drop(columns={\"Unnamed: 36\"})"
   ]
  },
  {
   "cell_type": "code",
   "execution_count": 10,
   "metadata": {},
   "outputs": [],
   "source": [
    "data = data.rename(columns={\"Unnamed: 35\" : \"Target\"})"
   ]
  },
  {
   "cell_type": "code",
   "execution_count": 11,
   "metadata": {},
   "outputs": [
    {
     "data": {
      "text/plain": [
       "array([0, 'о', 'п'], dtype=object)"
      ]
     },
     "execution_count": 11,
     "metadata": {},
     "output_type": "execute_result"
    }
   ],
   "source": [
    "data[\"Target\"].unique()"
   ]
  },
  {
   "cell_type": "code",
   "execution_count": 12,
   "metadata": {},
   "outputs": [],
   "source": [
    "data[\"Target\"].replace({0 : 'о'}, inplace = True)"
   ]
  },
  {
   "cell_type": "code",
   "execution_count": 13,
   "metadata": {},
   "outputs": [],
   "source": [
    "data[\"male\"] = (data[\"Gender\"] == 2).astype(int)\n",
    "data[\"female\"] = (data[\"Gender\"] == 1).astype(int)\n",
    "data[\"no_spec_gender\"] = (data[\"Gender\"] == -1000).astype(int)\n",
    "data = data.drop(columns={\"Gender\"})"
   ]
  },
  {
   "cell_type": "code",
   "execution_count": 14,
   "metadata": {},
   "outputs": [],
   "source": [
    "data[\"Profession\"].replace({\"инженер \" : \"инженер\", \"инженр\" : \"инженер\", \"мастер \" : \"мастер\"}, inplace=True)\n",
    "data[\"Profession\"].fillna(\"no_info\", inplace=True)"
   ]
  },
  {
   "cell_type": "code",
   "execution_count": 15,
   "metadata": {},
   "outputs": [],
   "source": [
    "#laborers - ручная работа\n",
    "#servants - обсл. состав\n",
    "#leadership - управление\n",
    "#scientific - научные специальности, работа мозгом\n",
    "#engineering - инж. специальности\n",
    "#no_data - без инфы\n",
    "#retiree - пенсионер\n",
    "data['laborers'] = data['Profession'] == 'Сл-сантехник' \n",
    "data['laborers'] |=                    data['Profession'] == 'водитель' \n",
    "data['laborers'] |=                    data['Profession'] == 'слесарь ' \n",
    "data['laborers'] |=                    data['Profession'] == 'изолировщица' \n",
    "data['laborers'] |=                    data['Profession'] == 'аппаратчик' \n",
    "data['laborers'] |=                    data['Profession'] == 'тракторист' \n",
    "data['laborers'] |=                    data['Profession'] == 'плавильщик' \n",
    "data['laborers'] |=                    data['Profession'] == 'токарь ' \n",
    "data['laborers'] |=                    data['Profession'] == 'оператор                    1962' \n",
    "data['laborers'] |=                    data['Profession'] == 'пригот-ль р-ров' \n",
    "data['laborers'] |=                    data['Profession'] == 'монтажник РЭА' \n",
    "data['laborers'] |=                    data['Profession'] == 'техник' \n",
    "data['laborers'] |=                    data['Profession'] == 'сборщик м-схем'  \n",
    "data['laborers'] |=                    data['Profession'] == 'машинист' \n",
    "data['laborers'] |=                    data['Profession'] == 'старший мастер' \n",
    "data['laborers'] |=                    data['Profession'] == 'гальваник' \n",
    "data['laborers'] |=                    data['Profession'] == 'мастер отд работ1969' \n",
    "data['laborers'] |=                    data['Profession'] == 'эл. сварщик' \n",
    "data['laborers'] |=                    data['Profession'] == 'фрезеровщик' \n",
    "data['laborers'] |=                    data['Profession'] == 'изолировщик ' \n",
    "data['laborers'] |=                    data['Profession'] == 'эл,сварщик' \n",
    "data['laborers'] |=                    data['Profession'] == 'электромонтажник' \n",
    "data['laborers'] |=                    data['Profession'] == 'маляр' \n",
    "data['laborers'] |=                    data['Profession'] == 'маляр-штукатур' \n",
    "data['laborers'] |=                    data['Profession'] == 'мастер' \n",
    "data['laborers'] |=                    data['Profession'] == 'прессовщик'\n",
    "data['laborers'] |=                    data['Profession'] == 'электрик'\n",
    "\n",
    "data['servants'] = data['Profession'] == 'горничная' \n",
    "data['servants'] |=                    data['Profession'] == 'контролер КПП' \n",
    "data['servants'] |=                    data['Profession'] == 'диспетчер' \n",
    "data['servants'] |=                    data['Profession'] == 'дежурная' \n",
    "data['servants'] |=                    data['Profession'] == 'секретарь '\n",
    "\n",
    "data['leadership'] = data['Profession'] == 'нач группы ' \n",
    "data['leadership'] |=                     data['Profession'] == 'нач сектора' \n",
    "data['leadership'] |=                       data['Profession'] == 'гл инженер ' \n",
    "data['leadership'] |=                      data['Profession'] == 'нач-к ПРБ' \n",
    "data['leadership'] |=                      data['Profession'] == 'нач-к тех,бюро' \n",
    "data['leadership'] |=                      data['Profession'] == 'нач-к группы' \n",
    "data['leadership'] |=                      data['Profession'] == 'старший мастер' \n",
    "data['leadership'] |=                      data['Profession'] == 'нач-к бюро ' \n",
    "data['leadership'] |=                      data['Profession'] == 'нач-к сектора' \n",
    "data['leadership'] |=                      data['Profession'] == 'мастер'\n",
    "data['leadership'] |=                     data['Profession'] == 'зам, нач-ка отд,'\n",
    "\n",
    "data['scientific'] = data['Profession'] == 'внс' \n",
    "data['scientific'] |=                      data['Profession'] == 'вед,специалист'\n",
    "data['scientific'] |=                      data['Profession'] == 'науч. сотр'\n",
    "data['scientific'] |=                      data['Profession'] == 'нач-к тех,бюро'\n",
    "data['scientific'] |=                      data['Profession'] == 'нач-к бюро '\n",
    "data['scientific'] |=                      data['Profession'] == 'экономист '\n",
    "\n",
    "data['engineering'] = data['Profession'] == 'инженер'\n",
    "data['engineering'] |= data['Profession'] == 'Инженер-технолог' \n",
    "data['engineering'] |= data['Profession'] == 'гл инженер '\n",
    "data['engineering'] |= data['Profession'] == 'наладчик' \n",
    "data['engineering'] |= data['Profession'] == 'измеритель' \n",
    "data['engineering'] |= data['Profession'] == 'инженер-прогр,'\n",
    "data['engineering'] |= data['Profession'] == 'нач-к тех,бюро'\n",
    "\n",
    "data['no_job_data'] = data['Profession'] == 'no_info'\n",
    "data['no_job_data'] |= data['Profession'] == 'УВОЛЕНА'\n",
    "data['no_job_data'] |= data['Profession'] == 'УВОЛЕН'\n",
    "\n",
    "data['retiree'] = data['Profession'] == 'ПЕНСИОНЕР'"
   ]
  },
  {
   "cell_type": "code",
   "execution_count": 16,
   "metadata": {},
   "outputs": [],
   "source": [
    "data['laborers'] = data['laborers'].astype(int)\n",
    "data['servants'] = data['servants'].astype(int)\n",
    "data['leadership'] = data['leadership'].astype(int)\n",
    "data['scientific'] = data['scientific'].astype(int)\n",
    "data['engineering'] = data['engineering'].astype(int)\n",
    "data['no_job_data'] = data['no_job_data'].astype(int)\n",
    "data['retiree'] = data['retiree'].astype(int)"
   ]
  },
  {
   "cell_type": "code",
   "execution_count": 17,
   "metadata": {},
   "outputs": [],
   "source": [
    "data = data.drop(columns={'Profession'})"
   ]
  },
  {
   "cell_type": "code",
   "execution_count": 18,
   "metadata": {},
   "outputs": [
    {
     "data": {
      "text/html": [
       "<div>\n",
       "<style scoped>\n",
       "    .dataframe tbody tr th:only-of-type {\n",
       "        vertical-align: middle;\n",
       "    }\n",
       "\n",
       "    .dataframe tbody tr th {\n",
       "        vertical-align: top;\n",
       "    }\n",
       "\n",
       "    .dataframe thead th {\n",
       "        text-align: right;\n",
       "    }\n",
       "</style>\n",
       "<table border=\"1\" class=\"dataframe\">\n",
       "  <thead>\n",
       "    <tr style=\"text-align: right;\">\n",
       "      <th></th>\n",
       "      <th>Number</th>\n",
       "      <th>Глюкоза</th>\n",
       "      <th>Мочевина</th>\n",
       "      <th>Креатинин</th>\n",
       "      <th>Мочевая к-та</th>\n",
       "      <th>Холестерин</th>\n",
       "      <th>Х-ЛПВП</th>\n",
       "      <th>Х-ЛПНП</th>\n",
       "      <th>Триглицериды</th>\n",
       "      <th>индекс массы тела</th>\n",
       "      <th>...</th>\n",
       "      <th>female</th>\n",
       "      <th>no_spec_gender</th>\n",
       "      <th>laborers</th>\n",
       "      <th>servants</th>\n",
       "      <th>leadership</th>\n",
       "      <th>scientific</th>\n",
       "      <th>engineering</th>\n",
       "      <th>no_job_data</th>\n",
       "      <th>retiree</th>\n",
       "      <th>age</th>\n",
       "    </tr>\n",
       "  </thead>\n",
       "  <tbody>\n",
       "    <tr>\n",
       "      <td>1</td>\n",
       "      <td>2.0</td>\n",
       "      <td>6.2</td>\n",
       "      <td>5.9</td>\n",
       "      <td>110</td>\n",
       "      <td>443</td>\n",
       "      <td>6.2</td>\n",
       "      <td>1.07</td>\n",
       "      <td>4.25</td>\n",
       "      <td>2.37</td>\n",
       "      <td>20</td>\n",
       "      <td>...</td>\n",
       "      <td>0</td>\n",
       "      <td>0</td>\n",
       "      <td>1</td>\n",
       "      <td>0</td>\n",
       "      <td>0</td>\n",
       "      <td>0</td>\n",
       "      <td>0</td>\n",
       "      <td>0</td>\n",
       "      <td>0</td>\n",
       "      <td>63.0</td>\n",
       "    </tr>\n",
       "  </tbody>\n",
       "</table>\n",
       "<p>1 rows × 44 columns</p>\n",
       "</div>"
      ],
      "text/plain": [
       "   Number Глюкоза Мочевина Креатинин Мочевая к-та Холестерин Х-ЛПВП Х-ЛПНП  \\\n",
       "1     2.0     6.2      5.9       110          443        6.2   1.07   4.25   \n",
       "\n",
       "  Триглицериды индекс массы тела  ... female no_spec_gender laborers servants  \\\n",
       "1         2.37                20  ...      0              0        1        0   \n",
       "\n",
       "  leadership scientific engineering no_job_data retiree   age  \n",
       "1          0          0           0           0       0  63.0  \n",
       "\n",
       "[1 rows x 44 columns]"
      ]
     },
     "execution_count": 18,
     "metadata": {},
     "output_type": "execute_result"
    }
   ],
   "source": [
    "data[\"age\"] = 2019 - data[\"Birth_year\"]\n",
    "data = data.drop(columns = {'Birth_year'})\n",
    "data.head(1)"
   ]
  },
  {
   "cell_type": "code",
   "execution_count": 19,
   "metadata": {},
   "outputs": [],
   "source": [
    "data['ГЛЖ ин Соколова-Лайона'].replace({\"нет\" : np.NaN, \"да\" : np.NaN}, inplace = True)"
   ]
  },
  {
   "cell_type": "code",
   "execution_count": 20,
   "metadata": {},
   "outputs": [],
   "source": [
    "data.replace({\"нет\" : 0, \"да\" : 1, \"нет \" : 0, \"да \" : 1, \"не\" : 0}, inplace = True)"
   ]
  },
  {
   "cell_type": "code",
   "execution_count": 21,
   "metadata": {},
   "outputs": [],
   "source": [
    "data.rename(columns={'курк\\ение' : 'smoking', 'избыт, Потр, Алкоголя' : 'Alcoholic'}, inplace=True)"
   ]
  },
  {
   "cell_type": "code",
   "execution_count": 22,
   "metadata": {},
   "outputs": [
    {
     "data": {
      "text/plain": [
       "(array([1, 0]), dtype('int64'))"
      ]
     },
     "execution_count": 22,
     "metadata": {},
     "output_type": "execute_result"
    }
   ],
   "source": [
    "data['smoking'].replace({'нет нет' : 0}, inplace = True)\n",
    "data['smoking'].unique(), data['smoking'].dtype"
   ]
  },
  {
   "cell_type": "code",
   "execution_count": 23,
   "metadata": {},
   "outputs": [
    {
     "data": {
      "text/plain": [
       "(array([0, 1]), dtype('int64'))"
      ]
     },
     "execution_count": 23,
     "metadata": {},
     "output_type": "execute_result"
    }
   ],
   "source": [
    "data['Alcoholic'].replace({'нет нет нет нет нет ' : 0, \"нет  нет нет\" : 0}, inplace = True)\n",
    "data['Alcoholic'].unique(), data['Alcoholic'].dtype"
   ]
  },
  {
   "cell_type": "code",
   "execution_count": 24,
   "metadata": {},
   "outputs": [
    {
     "data": {
      "text/plain": [
       "array([0, 1])"
      ]
     },
     "execution_count": 24,
     "metadata": {},
     "output_type": "execute_result"
    }
   ],
   "source": [
    "data.rename(columns={'и,п повар, Соли' : 'excess_salt_consumption'}, inplace = True)\n",
    "data['excess_salt_consumption'].unique()"
   ]
  },
  {
   "cell_type": "code",
   "execution_count": 25,
   "metadata": {},
   "outputs": [
    {
     "data": {
      "text/plain": [
       "(array([0, 1]), dtype('int64'))"
      ]
     },
     "execution_count": 25,
     "metadata": {},
     "output_type": "execute_result"
    }
   ],
   "source": [
    "data['гиподинамия'].replace({'нетт' : 0}, inplace = True)\n",
    "data[\"гиподинамия\"].unique(), data['гиподинамия'].dtype"
   ]
  },
  {
   "cell_type": "code",
   "execution_count": 26,
   "metadata": {},
   "outputs": [],
   "source": [
    "data.replace({'уволил' : 6.0}, inplace = True)"
   ]
  },
  {
   "cell_type": "code",
   "execution_count": 27,
   "metadata": {},
   "outputs": [
    {
     "data": {
      "text/plain": [
       "array([20, 20.69, 30.47, 31.8, 26.5, 40.2, 23.9, 41.03, 32.5, 21.5, 30.07,\n",
       "       24.15, 29.32, 26.64, 25.47, 31.05, 21.01, 18.44, 19.89, 22.86,\n",
       "       31.56, 25.5, 27.89, 29.4, 17.65, 29.05, 23.08, 45.3, 38.37, 23.12,\n",
       "       25.46, 29.04, 24.68, 28.93, 27.14, 23.67, 29.31, 29.17, 27.44,\n",
       "       26.22, 23.31, 27.66, 25.28, 23.44, '21, 08', 21.88, '26, 47', 24.8,\n",
       "       18.78, 34.05, 20.28, 32, 48.33, 32.27, 21.64, 28.4, 27.87, 24.1,\n",
       "       29.58, 33.08, 43.7, 28.08, 26.47, 22.84, 25.53, 23.14, 23.23, 22.3,\n",
       "       40.16, 35.8, 26.85, 33.02, 23.05, 28.03, 28.41, 27.04, 38.74,\n",
       "       28.34, 29.68, 24.6, 29.76, 27.68, 27.97, 27.12, 33.21, 39.92,\n",
       "       25.16, 33.39, 31.23, '25, 04', 34.21, 49.08, 23.66, 24.16, 23.42,\n",
       "       32.18, 25.84, 32.6, 26.9, 24.22, 22.34, 24.45, 27.24, 31.14, 22.03,\n",
       "       36.06, 22.92, 24.54, 23.72, 29.07, 33.75, 19.14, 30.86, 27.09,\n",
       "       25.03], dtype=object)"
      ]
     },
     "execution_count": 27,
     "metadata": {},
     "output_type": "execute_result"
    }
   ],
   "source": [
    "data['индекс массы тела'].unique()"
   ]
  },
  {
   "cell_type": "code",
   "execution_count": 28,
   "metadata": {},
   "outputs": [],
   "source": [
    "help_array = np.empty(len(data))"
   ]
  },
  {
   "cell_type": "code",
   "execution_count": 29,
   "metadata": {},
   "outputs": [
    {
     "name": "stdout",
     "output_type": "stream",
     "text": [
      "21.08 <class 'float'>\n",
      "26.47 <class 'float'>\n",
      "25.04 <class 'float'>\n"
     ]
    }
   ],
   "source": [
    "for enum, item in enumerate(data['индекс массы тела']):\n",
    "    if type(item) == str:\n",
    "        sub_str = item[0:2] + \".\" + item[4:]\n",
    "        sub_float = float(sub_str)\n",
    "        print(sub_float, type(sub_float))\n",
    "        help_array[enum] = sub_float\n",
    "        \n",
    "    else:\n",
    "        help_array[enum] = item"
   ]
  },
  {
   "cell_type": "code",
   "execution_count": 30,
   "metadata": {},
   "outputs": [],
   "source": [
    "data['индекс массы тела'] = help_array"
   ]
  },
  {
   "cell_type": "code",
   "execution_count": 31,
   "metadata": {},
   "outputs": [
    {
     "data": {
      "text/plain": [
       "array([20.  , 20.69, 30.47, 31.8 , 26.5 , 40.2 , 23.9 , 41.03, 32.5 ,\n",
       "       21.5 , 30.07, 24.15, 29.32, 26.64, 25.47, 31.05, 21.01, 18.44,\n",
       "       19.89, 22.86, 31.56, 25.5 , 27.89, 29.4 , 17.65, 29.05, 23.08,\n",
       "       45.3 , 38.37, 23.12, 25.46, 29.04, 24.68, 28.93, 27.14, 23.67,\n",
       "       29.31, 29.17, 27.44, 26.22, 23.31, 27.66, 25.28, 23.44, 21.08,\n",
       "       21.88, 26.47, 24.8 , 18.78, 34.05, 20.28, 32.  , 48.33, 32.27,\n",
       "       21.64, 28.4 , 27.87, 24.1 , 29.58, 33.08, 43.7 , 28.08, 22.84,\n",
       "       25.53, 23.14, 23.23, 22.3 , 40.16, 35.8 , 26.85, 33.02, 23.05,\n",
       "       28.03, 28.41, 27.04, 38.74, 28.34, 29.68, 24.6 , 29.76, 27.68,\n",
       "       27.97, 27.12, 33.21, 39.92, 25.16, 33.39, 31.23, 25.04, 34.21,\n",
       "       49.08, 23.66, 24.16, 23.42, 32.18, 25.84, 32.6 , 26.9 , 24.22,\n",
       "       22.34, 24.45, 27.24, 31.14, 22.03, 36.06, 22.92, 24.54, 23.72,\n",
       "       29.07, 33.75, 19.14, 30.86, 27.09, 25.03])"
      ]
     },
     "execution_count": 31,
     "metadata": {},
     "output_type": "execute_result"
    }
   ],
   "source": [
    "data['индекс массы тела'].unique()"
   ]
  },
  {
   "cell_type": "code",
   "execution_count": 32,
   "metadata": {},
   "outputs": [
    {
     "data": {
      "text/plain": [
       "Number                           float64\n",
       "Глюкоза                          float64\n",
       "Мочевина                         float64\n",
       "Креатинин                          int64\n",
       "Мочевая к-та                       int64\n",
       "Холестерин                       float64\n",
       "Х-ЛПВП                           float64\n",
       "Х-ЛПНП                           float64\n",
       "Триглицериды                     float64\n",
       "индекс массы тела                float64\n",
       "smoking                            int64\n",
       "Alcoholic                          int64\n",
       "excess_salt_consumption            int64\n",
       "гиподинамия                        int64\n",
       "стресс                             int64\n",
       "прием п\\щ контрац                  int64\n",
       "насл отяг, По ГБ,                  int64\n",
       "насл отяг, По ССЗ                  int64\n",
       "насл отяг, По СД                   int64\n",
       "насл, Отяг по почечн, Заб          int64\n",
       "САД                              float64\n",
       "ДАД                              float64\n",
       "ГЛЖ ин Соколова-Лайона           float64\n",
       "S100b, нг/л (N до 90)             object\n",
       "Анг II, пг/мл (N 10-60 пг/мл)    float64\n",
       "ЭТ, пмоль/л    (N =0,09)         float64\n",
       "VEGF,  пг/мл (N40-600)           float64\n",
       "HLDF (нг/мл                      float64\n",
       "АТ к S100b                       float64\n",
       "АТ к Анг  II                     float64\n",
       "АТ к ЭТ                          float64\n",
       "АТ к HLDF- 24                    float64\n",
       "Target                            object\n",
       "male                               int64\n",
       "female                             int64\n",
       "no_spec_gender                     int64\n",
       "laborers                           int64\n",
       "servants                           int64\n",
       "leadership                         int64\n",
       "scientific                         int64\n",
       "engineering                        int64\n",
       "no_job_data                        int64\n",
       "retiree                            int64\n",
       "age                              float64\n",
       "dtype: object"
      ]
     },
     "execution_count": 32,
     "metadata": {},
     "output_type": "execute_result"
    }
   ],
   "source": [
    "data.dtypes"
   ]
  },
  {
   "cell_type": "code",
   "execution_count": 33,
   "metadata": {},
   "outputs": [],
   "source": [
    "data['S100b, нг/л (N до 90)'].replace({'ИНФАРКТ МОЗГА В 2018 ГОДУ' : -1}, inplace = True)"
   ]
  },
  {
   "cell_type": "code",
   "execution_count": 34,
   "metadata": {},
   "outputs": [],
   "source": [
    "from sklearn.model_selection import train_test_split"
   ]
  },
  {
   "cell_type": "code",
   "execution_count": 35,
   "metadata": {},
   "outputs": [],
   "source": [
    "train_data, test_data, train_target, test_target = train_test_split(data.drop(columns = {\"Target\"}), np.array(data[\"Target\"]),\n",
    "                                                                    test_size = 0.2, random_state = 241)"
   ]
  },
  {
   "cell_type": "code",
   "execution_count": 36,
   "metadata": {},
   "outputs": [],
   "source": [
    "requied_cols = train_data.columns[train_data.isnull().any()]"
   ]
  },
  {
   "cell_type": "code",
   "execution_count": 37,
   "metadata": {},
   "outputs": [],
   "source": [
    "train_data[\"Target\"] = train_target"
   ]
  },
  {
   "cell_type": "code",
   "execution_count": 38,
   "metadata": {},
   "outputs": [
    {
     "data": {
      "text/html": [
       "<div>\n",
       "<style scoped>\n",
       "    .dataframe tbody tr th:only-of-type {\n",
       "        vertical-align: middle;\n",
       "    }\n",
       "\n",
       "    .dataframe tbody tr th {\n",
       "        vertical-align: top;\n",
       "    }\n",
       "\n",
       "    .dataframe thead th {\n",
       "        text-align: right;\n",
       "    }\n",
       "</style>\n",
       "<table border=\"1\" class=\"dataframe\">\n",
       "  <thead>\n",
       "    <tr style=\"text-align: right;\">\n",
       "      <th></th>\n",
       "      <th>Target</th>\n",
       "      <th>ГЛЖ ин Соколова-Лайона</th>\n",
       "      <th>S100b, нг/л (N до 90)</th>\n",
       "      <th>Анг II, пг/мл (N 10-60 пг/мл)</th>\n",
       "      <th>ЭТ, пмоль/л    (N =0,09)</th>\n",
       "      <th>VEGF,  пг/мл (N40-600)</th>\n",
       "      <th>HLDF (нг/мл</th>\n",
       "      <th>АТ к S100b</th>\n",
       "      <th>АТ к Анг  II</th>\n",
       "      <th>АТ к ЭТ</th>\n",
       "      <th>АТ к HLDF- 24</th>\n",
       "    </tr>\n",
       "  </thead>\n",
       "  <tbody>\n",
       "    <tr>\n",
       "      <td>0</td>\n",
       "      <td>о</td>\n",
       "      <td>26.312500</td>\n",
       "      <td>65.876000</td>\n",
       "      <td>319.126207</td>\n",
       "      <td>0.641724</td>\n",
       "      <td>258.035172</td>\n",
       "      <td>108.230769</td>\n",
       "      <td>405.172414</td>\n",
       "      <td>331.034483</td>\n",
       "      <td>225.862069</td>\n",
       "      <td>91.379310</td>\n",
       "    </tr>\n",
       "    <tr>\n",
       "      <td>1</td>\n",
       "      <td>п</td>\n",
       "      <td>26.552632</td>\n",
       "      <td>59.704667</td>\n",
       "      <td>23.560000</td>\n",
       "      <td>0.692667</td>\n",
       "      <td>444.646667</td>\n",
       "      <td>57.666667</td>\n",
       "      <td>583.333333</td>\n",
       "      <td>366.666667</td>\n",
       "      <td>286.666667</td>\n",
       "      <td>103.333333</td>\n",
       "    </tr>\n",
       "  </tbody>\n",
       "</table>\n",
       "</div>"
      ],
      "text/plain": [
       "  Target  ГЛЖ ин Соколова-Лайона  S100b, нг/л (N до 90)  \\\n",
       "0      о               26.312500              65.876000   \n",
       "1      п               26.552632              59.704667   \n",
       "\n",
       "   Анг II, пг/мл (N 10-60 пг/мл)  ЭТ, пмоль/л    (N =0,09)  \\\n",
       "0                     319.126207                  0.641724   \n",
       "1                      23.560000                  0.692667   \n",
       "\n",
       "   VEGF,  пг/мл (N40-600)  HLDF (нг/мл  АТ к S100b  АТ к Анг  II     АТ к ЭТ   \\\n",
       "0              258.035172   108.230769  405.172414     331.034483  225.862069   \n",
       "1              444.646667    57.666667  583.333333     366.666667  286.666667   \n",
       "\n",
       "   АТ к HLDF- 24  \n",
       "0      91.379310  \n",
       "1     103.333333  "
      ]
     },
     "execution_count": 38,
     "metadata": {},
     "output_type": "execute_result"
    }
   ],
   "source": [
    "ppp = train_data.groupby(\"Target\", as_index = False)[requied_cols].mean()\n",
    "ppp"
   ]
  },
  {
   "cell_type": "code",
   "execution_count": 39,
   "metadata": {},
   "outputs": [
    {
     "data": {
      "text/plain": [
       "Int64Index([ 73,   5,  46, 114,  79,  86,  99,  37,  27,  80,  59,  60,  94,\n",
       "             68,  15,  81, 110, 105,  18,  93,   7,  34,  19,  35,  50,  16,\n",
       "             92,  48,  58,  11,  20,  61,  78,  96,  76,  54, 107,  40,  33,\n",
       "             87,  64,  65,  41,  42,  47, 115, 101,  75,  25, 109,  38,  66,\n",
       "             55,  13,  67, 104,  95,  53,  83,  98, 116,  12, 102,   3, 111,\n",
       "            103,  23,  49,  70,  88, 100,  43,   9,   1,  36,  71,  28,  85,\n",
       "            106,  63,  52,  56,  32,  26,  69,  10,  21,  89,  17, 108,  91,\n",
       "             31,  45],\n",
       "           dtype='int64')"
      ]
     },
     "execution_count": 39,
     "metadata": {},
     "output_type": "execute_result"
    }
   ],
   "source": [
    "indixes = train_data.index\n",
    "indixes"
   ]
  },
  {
   "cell_type": "code",
   "execution_count": 40,
   "metadata": {
    "scrolled": true
   },
   "outputs": [
    {
     "name": "stderr",
     "output_type": "stream",
     "text": [
      "/usr/local/lib/python3.7/site-packages/ipykernel_launcher.py:5: SettingWithCopyWarning: \n",
      "A value is trying to be set on a copy of a slice from a DataFrame\n",
      "\n",
      "See the caveats in the documentation: http://pandas.pydata.org/pandas-docs/stable/user_guide/indexing.html#returning-a-view-versus-a-copy\n",
      "  \"\"\"\n",
      "/usr/local/lib/python3.7/site-packages/ipykernel_launcher.py:7: SettingWithCopyWarning: \n",
      "A value is trying to be set on a copy of a slice from a DataFrame\n",
      "\n",
      "See the caveats in the documentation: http://pandas.pydata.org/pandas-docs/stable/user_guide/indexing.html#returning-a-view-versus-a-copy\n",
      "  import sys\n"
     ]
    }
   ],
   "source": [
    "for col in requied_cols:\n",
    "    for enum in indixes:\n",
    "        if np.isnan(train_data[col][enum]):\n",
    "            if train_data[\"Target\"][enum] == 'о':\n",
    "                train_data[col][enum] = ppp[col][0]\n",
    "            else:\n",
    "                train_data[col][enum] = ppp[col][1]"
   ]
  },
  {
   "cell_type": "code",
   "execution_count": 41,
   "metadata": {},
   "outputs": [
    {
     "data": {
      "text/plain": [
       "Number                           False\n",
       "Глюкоза                          False\n",
       "Мочевина                         False\n",
       "Креатинин                        False\n",
       "Мочевая к-та                     False\n",
       "Холестерин                       False\n",
       "Х-ЛПВП                           False\n",
       "Х-ЛПНП                           False\n",
       "Триглицериды                     False\n",
       "индекс массы тела                False\n",
       "smoking                          False\n",
       "Alcoholic                        False\n",
       "excess_salt_consumption          False\n",
       "гиподинамия                      False\n",
       "стресс                           False\n",
       "прием п\\щ контрац                False\n",
       "насл отяг, По ГБ,                False\n",
       "насл отяг, По ССЗ                False\n",
       "насл отяг, По СД                 False\n",
       "насл, Отяг по почечн, Заб        False\n",
       "САД                              False\n",
       "ДАД                              False\n",
       "ГЛЖ ин Соколова-Лайона           False\n",
       "S100b, нг/л (N до 90)            False\n",
       "Анг II, пг/мл (N 10-60 пг/мл)    False\n",
       "ЭТ, пмоль/л    (N =0,09)         False\n",
       "VEGF,  пг/мл (N40-600)           False\n",
       "HLDF (нг/мл                      False\n",
       "АТ к S100b                       False\n",
       "АТ к Анг  II                     False\n",
       "АТ к ЭТ                          False\n",
       "АТ к HLDF- 24                    False\n",
       "male                             False\n",
       "female                           False\n",
       "no_spec_gender                   False\n",
       "laborers                         False\n",
       "servants                         False\n",
       "leadership                       False\n",
       "scientific                       False\n",
       "engineering                      False\n",
       "no_job_data                      False\n",
       "retiree                          False\n",
       "age                              False\n",
       "Target                           False\n",
       "dtype: bool"
      ]
     },
     "execution_count": 41,
     "metadata": {},
     "output_type": "execute_result"
    }
   ],
   "source": [
    "train_data.isnull().any()"
   ]
  },
  {
   "cell_type": "code",
   "execution_count": 42,
   "metadata": {},
   "outputs": [],
   "source": [
    "train_data.drop(columns={\"Target\"}, inplace=True)"
   ]
  },
  {
   "cell_type": "code",
   "execution_count": 43,
   "metadata": {},
   "outputs": [],
   "source": [
    "test_target[np.where(test_target == 'п')] = 1"
   ]
  },
  {
   "cell_type": "code",
   "execution_count": 44,
   "metadata": {},
   "outputs": [],
   "source": [
    "test_target[np.where(test_target == 'о')] = 0"
   ]
  },
  {
   "cell_type": "code",
   "execution_count": 45,
   "metadata": {},
   "outputs": [],
   "source": [
    "train_target[np.where(train_target == 'п')] = 1"
   ]
  },
  {
   "cell_type": "code",
   "execution_count": 46,
   "metadata": {},
   "outputs": [],
   "source": [
    "train_target[np.where(train_target == 'о')] = 0"
   ]
  },
  {
   "cell_type": "code",
   "execution_count": 47,
   "metadata": {},
   "outputs": [],
   "source": [
    "test_target = test_target.astype(int)\n",
    "train_target = train_target.astype(int)"
   ]
  },
  {
   "cell_type": "code",
   "execution_count": 57,
   "metadata": {},
   "outputs": [
    {
     "data": {
      "text/plain": [
       "array([0, 0, 1, 0, 0, 0, 1, 0, 1, 0, 1, 0, 0, 1, 1, 0, 1, 1, 0, 0, 1, 0,\n",
       "       0, 1])"
      ]
     },
     "execution_count": 57,
     "metadata": {},
     "output_type": "execute_result"
    }
   ],
   "source": [
    "test_target"
   ]
  },
  {
   "cell_type": "raw",
   "metadata": {},
   "source": [
    "Вот до этого момента я считаю, что оно работает нормально"
   ]
  },
  {
   "cell_type": "code",
   "execution_count": 48,
   "metadata": {},
   "outputs": [],
   "source": [
    "from sklearn.ensemble import RandomForestClassifier"
   ]
  },
  {
   "cell_type": "code",
   "execution_count": 49,
   "metadata": {},
   "outputs": [],
   "source": [
    "forest = RandomForestClassifier(n_estimators = 100, n_jobs = -1)"
   ]
  },
  {
   "cell_type": "code",
   "execution_count": 50,
   "metadata": {},
   "outputs": [
    {
     "data": {
      "text/plain": [
       "RandomForestClassifier(bootstrap=True, class_weight=None, criterion='gini',\n",
       "                       max_depth=None, max_features='auto', max_leaf_nodes=None,\n",
       "                       min_impurity_decrease=0.0, min_impurity_split=None,\n",
       "                       min_samples_leaf=1, min_samples_split=2,\n",
       "                       min_weight_fraction_leaf=0.0, n_estimators=100,\n",
       "                       n_jobs=-1, oob_score=False, random_state=None, verbose=0,\n",
       "                       warm_start=False)"
      ]
     },
     "execution_count": 50,
     "metadata": {},
     "output_type": "execute_result"
    }
   ],
   "source": [
    "forest.fit(train_data, train_target)"
   ]
  },
  {
   "cell_type": "code",
   "execution_count": 51,
   "metadata": {},
   "outputs": [],
   "source": [
    "result = forest.predict(test_data.fillna(0))"
   ]
  },
  {
   "cell_type": "code",
   "execution_count": 60,
   "metadata": {},
   "outputs": [],
   "source": [
    "from sklearn.metrics import roc_auc_score\n",
    "from sklearn.metrics import precision_score"
   ]
  },
  {
   "cell_type": "code",
   "execution_count": 58,
   "metadata": {},
   "outputs": [
    {
     "data": {
      "text/plain": [
       "0.75"
      ]
     },
     "execution_count": 58,
     "metadata": {},
     "output_type": "execute_result"
    }
   ],
   "source": [
    "roc_auc_score(test_target, result)"
   ]
  },
  {
   "cell_type": "code",
   "execution_count": 61,
   "metadata": {},
   "outputs": [
    {
     "data": {
      "text/plain": [
       "0.5882352941176471"
      ]
     },
     "execution_count": 61,
     "metadata": {},
     "output_type": "execute_result"
    }
   ],
   "source": [
    "precision_score(test_target, result)"
   ]
  },
  {
   "cell_type": "raw",
   "metadata": {},
   "source": [
    "Нормализую входные данные"
   ]
  },
  {
   "cell_type": "code",
   "execution_count": 69,
   "metadata": {},
   "outputs": [],
   "source": [
    "new_train = (train_data - train_data.mean()) / train_data.std()"
   ]
  },
  {
   "cell_type": "code",
   "execution_count": 70,
   "metadata": {},
   "outputs": [],
   "source": [
    "new_test = (test_data - test_data.mean()) / test_data.std()"
   ]
  },
  {
   "cell_type": "code",
   "execution_count": 71,
   "metadata": {},
   "outputs": [
    {
     "data": {
      "text/plain": [
       "RandomForestClassifier(bootstrap=True, class_weight=None, criterion='gini',\n",
       "                       max_depth=None, max_features='auto', max_leaf_nodes=None,\n",
       "                       min_impurity_decrease=0.0, min_impurity_split=None,\n",
       "                       min_samples_leaf=1, min_samples_split=2,\n",
       "                       min_weight_fraction_leaf=0.0, n_estimators=100,\n",
       "                       n_jobs=-1, oob_score=False, random_state=None, verbose=0,\n",
       "                       warm_start=False)"
      ]
     },
     "execution_count": 71,
     "metadata": {},
     "output_type": "execute_result"
    }
   ],
   "source": [
    "forest.fit(new_train, train_target)"
   ]
  },
  {
   "cell_type": "code",
   "execution_count": 73,
   "metadata": {},
   "outputs": [],
   "source": [
    "result_norm = forest.predict(new_test.fillna(0))"
   ]
  },
  {
   "cell_type": "code",
   "execution_count": 74,
   "metadata": {},
   "outputs": [
    {
     "data": {
      "text/plain": [
       "0.7"
      ]
     },
     "execution_count": 74,
     "metadata": {},
     "output_type": "execute_result"
    }
   ],
   "source": [
    "roc_auc_score(test_target, result_norm)"
   ]
  },
  {
   "cell_type": "code",
   "execution_count": 75,
   "metadata": {},
   "outputs": [
    {
     "data": {
      "text/plain": [
       "1.0"
      ]
     },
     "execution_count": 75,
     "metadata": {},
     "output_type": "execute_result"
    }
   ],
   "source": [
    "precision_score(test_target, result_norm)"
   ]
  },
  {
   "cell_type": "code",
   "execution_count": 77,
   "metadata": {},
   "outputs": [
    {
     "data": {
      "text/plain": [
       "array([0, 0, 0, 0, 0, 0, 1, 0, 0, 0, 0, 0, 0, 1, 1, 0, 1, 0, 0, 0, 0, 0,\n",
       "       0, 0])"
      ]
     },
     "execution_count": 77,
     "metadata": {},
     "output_type": "execute_result"
    }
   ],
   "source": [
    "result_norm"
   ]
  },
  {
   "cell_type": "code",
   "execution_count": 78,
   "metadata": {},
   "outputs": [
    {
     "data": {
      "text/plain": [
       "array([0, 0, 1, 0, 0, 0, 1, 0, 1, 0, 1, 0, 0, 1, 1, 0, 1, 1, 0, 0, 1, 0,\n",
       "       0, 1])"
      ]
     },
     "execution_count": 78,
     "metadata": {},
     "output_type": "execute_result"
    }
   ],
   "source": [
    "test_target"
   ]
  },
  {
   "cell_type": "code",
   "execution_count": 62,
   "metadata": {},
   "outputs": [],
   "source": [
    "from sklearn.ensemble import GradientBoostingClassifier"
   ]
  },
  {
   "cell_type": "code",
   "execution_count": 63,
   "metadata": {},
   "outputs": [],
   "source": [
    "grad = GradientBoostingClassifier(n_estimators=100)"
   ]
  },
  {
   "cell_type": "code",
   "execution_count": 64,
   "metadata": {},
   "outputs": [
    {
     "data": {
      "text/plain": [
       "GradientBoostingClassifier(criterion='friedman_mse', init=None,\n",
       "                           learning_rate=0.1, loss='deviance', max_depth=3,\n",
       "                           max_features=None, max_leaf_nodes=None,\n",
       "                           min_impurity_decrease=0.0, min_impurity_split=None,\n",
       "                           min_samples_leaf=1, min_samples_split=2,\n",
       "                           min_weight_fraction_leaf=0.0, n_estimators=100,\n",
       "                           n_iter_no_change=None, presort='auto',\n",
       "                           random_state=None, subsample=1.0, tol=0.0001,\n",
       "                           validation_fraction=0.1, verbose=0,\n",
       "                           warm_start=False)"
      ]
     },
     "execution_count": 64,
     "metadata": {},
     "output_type": "execute_result"
    }
   ],
   "source": [
    "grad.fit(train_data, train_target)"
   ]
  },
  {
   "cell_type": "code",
   "execution_count": 66,
   "metadata": {},
   "outputs": [],
   "source": [
    "result_grad = grad.predict(test_data.fillna(0))"
   ]
  },
  {
   "cell_type": "code",
   "execution_count": 67,
   "metadata": {},
   "outputs": [
    {
     "data": {
      "text/plain": [
       "0.6785714285714286"
      ]
     },
     "execution_count": 67,
     "metadata": {},
     "output_type": "execute_result"
    }
   ],
   "source": [
    "roc_auc_score(test_target, result_grad)"
   ]
  },
  {
   "cell_type": "code",
   "execution_count": 68,
   "metadata": {},
   "outputs": [
    {
     "data": {
      "text/plain": [
       "0.5263157894736842"
      ]
     },
     "execution_count": 68,
     "metadata": {},
     "output_type": "execute_result"
    }
   ],
   "source": [
    "precision_score(test_target, result_grad)"
   ]
  },
  {
   "cell_type": "raw",
   "metadata": {},
   "source": [
    "Это результат без трансформаций"
   ]
  },
  {
   "cell_type": "raw",
   "metadata": {},
   "source": [
    "Попробуем заменить на средние из исходного"
   ]
  },
  {
   "cell_type": "code",
   "execution_count": 62,
   "metadata": {},
   "outputs": [],
   "source": [
    "cols = test_data.columns[test_data.isnull().any()]"
   ]
  },
  {
   "cell_type": "code",
   "execution_count": 63,
   "metadata": {},
   "outputs": [
    {
     "data": {
      "text/plain": [
       "Index(['ГЛЖ ин Соколова-Лайона', 'S100b, нг/л (N до 90)',\n",
       "       'Анг II, пг/мл (N 10-60 пг/мл)', 'ЭТ, пмоль/л    (N =0,09)',\n",
       "       'VEGF,  пг/мл (N40-600)', 'HLDF (нг/мл', 'АТ к S100b', 'АТ к Анг  II ',\n",
       "       'АТ к ЭТ ', 'АТ к HLDF- 24'],\n",
       "      dtype='object')"
      ]
     },
     "execution_count": 63,
     "metadata": {},
     "output_type": "execute_result"
    }
   ],
   "source": [
    "cols"
   ]
  },
  {
   "cell_type": "code",
   "execution_count": 69,
   "metadata": {},
   "outputs": [],
   "source": [
    "means = np.array(train_data[cols].mean())"
   ]
  },
  {
   "cell_type": "code",
   "execution_count": 70,
   "metadata": {},
   "outputs": [
    {
     "data": {
      "text/plain": [
       "Int64Index([ 57,   4,  90,  29,   8,  24,  72,  22,  82,  30,  74,  62,  44,\n",
       "             84,  77,  14, 113, 117,  51,   2,  97,   6,  39, 112],\n",
       "           dtype='int64')"
      ]
     },
     "execution_count": 70,
     "metadata": {},
     "output_type": "execute_result"
    }
   ],
   "source": [
    "inds = test_data.index\n",
    "inds"
   ]
  },
  {
   "cell_type": "code",
   "execution_count": 74,
   "metadata": {},
   "outputs": [
    {
     "name": "stderr",
     "output_type": "stream",
     "text": [
      "/usr/local/lib/python3.7/site-packages/ipykernel_launcher.py:4: SettingWithCopyWarning: \n",
      "A value is trying to be set on a copy of a slice from a DataFrame\n",
      "\n",
      "See the caveats in the documentation: http://pandas.pydata.org/pandas-docs/stable/user_guide/indexing.html#returning-a-view-versus-a-copy\n",
      "  after removing the cwd from sys.path.\n"
     ]
    }
   ],
   "source": [
    "for enum, col in enumerate(cols):\n",
    "    for ind in inds:\n",
    "        if np.isnan(test_data[col][ind]):\n",
    "            test_data[col][ind] = means[enum]"
   ]
  },
  {
   "cell_type": "code",
   "execution_count": 76,
   "metadata": {},
   "outputs": [
    {
     "data": {
      "text/plain": [
       "RandomForestClassifier(bootstrap=True, class_weight=None, criterion='gini',\n",
       "                       max_depth=None, max_features='auto', max_leaf_nodes=None,\n",
       "                       min_impurity_decrease=0.0, min_impurity_split=None,\n",
       "                       min_samples_leaf=1, min_samples_split=2,\n",
       "                       min_weight_fraction_leaf=0.0, n_estimators=100,\n",
       "                       n_jobs=-1, oob_score=False, random_state=None, verbose=0,\n",
       "                       warm_start=False)"
      ]
     },
     "execution_count": 76,
     "metadata": {},
     "output_type": "execute_result"
    }
   ],
   "source": [
    "forest.fit(train_data, train_target)"
   ]
  },
  {
   "cell_type": "code",
   "execution_count": 77,
   "metadata": {},
   "outputs": [],
   "source": [
    "result_means = forest.predict(test_data)"
   ]
  },
  {
   "cell_type": "code",
   "execution_count": 78,
   "metadata": {},
   "outputs": [
    {
     "data": {
      "text/plain": [
       "0.65"
      ]
     },
     "execution_count": 78,
     "metadata": {},
     "output_type": "execute_result"
    }
   ],
   "source": [
    "roc_auc_score(test_target, result_means)"
   ]
  },
  {
   "cell_type": "raw",
   "metadata": {},
   "source": [
    "Теперь надо бы предсказать для test_data данные этого столбца (и, желательно, остальных)\n",
    "Подстановка mean по столбцам для последующего предсказания сработала отвратно"
   ]
  },
  {
   "cell_type": "code",
   "execution_count": 47,
   "metadata": {},
   "outputs": [],
   "source": [
    "from sklearn.ensemble import RandomForestRegressor"
   ]
  },
  {
   "cell_type": "code",
   "execution_count": 48,
   "metadata": {},
   "outputs": [],
   "source": [
    "forest = RandomForestRegressor(n_estimators=100, n_jobs=-1)"
   ]
  },
  {
   "cell_type": "code",
   "execution_count": 65,
   "metadata": {},
   "outputs": [
    {
     "data": {
      "text/plain": [
       "RandomForestRegressor(bootstrap=True, criterion='mse', max_depth=None,\n",
       "                      max_features='auto', max_leaf_nodes=None,\n",
       "                      min_impurity_decrease=0.0, min_impurity_split=None,\n",
       "                      min_samples_leaf=1, min_samples_split=2,\n",
       "                      min_weight_fraction_leaf=0.0, n_estimators=100, n_jobs=-1,\n",
       "                      oob_score=False, random_state=None, verbose=0,\n",
       "                      warm_start=False)"
      ]
     },
     "execution_count": 65,
     "metadata": {},
     "output_type": "execute_result"
    }
   ],
   "source": [
    "forest.fit(train_data.drop(columns=requied_cols), train_data[\"HLDF (нг/мл\"])"
   ]
  },
  {
   "cell_type": "code",
   "execution_count": 66,
   "metadata": {},
   "outputs": [],
   "source": [
    "res = forest.predict(test_data.drop(columns=requied_cols))"
   ]
  },
  {
   "cell_type": "code",
   "execution_count": 67,
   "metadata": {},
   "outputs": [],
   "source": [
    "arr = np.array(test_data[\"HLDF (нг/мл\"])"
   ]
  },
  {
   "cell_type": "code",
   "execution_count": 68,
   "metadata": {},
   "outputs": [],
   "source": [
    "test = np.array(test_target)"
   ]
  },
  {
   "cell_type": "code",
   "execution_count": 69,
   "metadata": {},
   "outputs": [
    {
     "name": "stdout",
     "output_type": "stream",
     "text": [
      "58.5323076923077 93.0 о\n",
      "71.65564102564107 nan о\n",
      "60.49564102564105 nan п\n",
      "114.63153846153851 nan о\n",
      "74.74974358974362 130.0 о\n",
      "111.84564102564107 nan о\n",
      "81.50743589743594 53.0 п\n",
      "109.3328205128206 nan о\n",
      "81.9225641025642 nan п\n",
      "99.86435897435904 nan о\n",
      "76.94000000000007 nan п\n",
      "63.42358974358978 90.0 о\n",
      "91.12000000000008 nan о\n",
      "100.85871794871795 47.0 п\n",
      "68.9138461538462 56.0 п\n",
      "80.5664102564103 112.0 о\n",
      "63.35820512820519 55.0 п\n",
      "66.95487179487185 nan п\n",
      "103.7325641025642 nan о\n",
      "77.0828205128206 nan о\n",
      "104.05717948717955 nan п\n",
      "71.41948717948722 102.0 о\n",
      "99.18025641025646 nan о\n",
      "63.19179487179492 nan п\n"
     ]
    }
   ],
   "source": [
    "for i in range(res.__len__()):\n",
    "    print(res[i], arr[i], test[i])"
   ]
  },
  {
   "cell_type": "code",
   "execution_count": 46,
   "metadata": {},
   "outputs": [],
   "source": [
    "cols = test_data.columns[test_data.isnull().any()]"
   ]
  },
  {
   "cell_type": "code",
   "execution_count": 58,
   "metadata": {},
   "outputs": [],
   "source": [
    "cols = cols.delete(5)"
   ]
  },
  {
   "cell_type": "code",
   "execution_count": 59,
   "metadata": {},
   "outputs": [
    {
     "data": {
      "text/plain": [
       "Index(['ГЛЖ ин Соколова-Лайона', 'S100b, нг/л (N до 90)',\n",
       "       'Анг II, пг/мл (N 10-60 пг/мл)', 'ЭТ, пмоль/л    (N =0,09)',\n",
       "       'VEGF,  пг/мл (N40-600)', 'АТ к S100b', 'АТ к Анг  II ', 'АТ к ЭТ ',\n",
       "       'АТ к HLDF- 24'],\n",
       "      dtype='object')"
      ]
     },
     "execution_count": 59,
     "metadata": {},
     "output_type": "execute_result"
    }
   ],
   "source": [
    "cols"
   ]
  },
  {
   "cell_type": "code",
   "execution_count": 69,
   "metadata": {},
   "outputs": [],
   "source": [
    "means = np.array(train_data[cols].mean())"
   ]
  },
  {
   "cell_type": "code",
   "execution_count": 72,
   "metadata": {},
   "outputs": [
    {
     "data": {
      "text/plain": [
       "Int64Index([ 57,   4,  90,  29,   8,  24,  72,  22,  82,  30,  74,  62,  44,\n",
       "             84,  77,  14, 113, 117,  51,   2,  97,   6,  39, 112],\n",
       "           dtype='int64')"
      ]
     },
     "execution_count": 72,
     "metadata": {},
     "output_type": "execute_result"
    }
   ],
   "source": [
    "inds = test_data.index\n",
    "inds"
   ]
  },
  {
   "cell_type": "code",
   "execution_count": 74,
   "metadata": {},
   "outputs": [
    {
     "name": "stderr",
     "output_type": "stream",
     "text": [
      "/usr/local/lib/python3.7/site-packages/ipykernel_launcher.py:4: SettingWithCopyWarning: \n",
      "A value is trying to be set on a copy of a slice from a DataFrame\n",
      "\n",
      "See the caveats in the documentation: http://pandas.pydata.org/pandas-docs/stable/user_guide/indexing.html#returning-a-view-versus-a-copy\n",
      "  after removing the cwd from sys.path.\n"
     ]
    }
   ],
   "source": [
    "for enum, col in enumerate(cols):\n",
    "    for ind in inds:\n",
    "        if np.isnan(test_data[col][ind]):\n",
    "            test_data[col][ind] = means[enum]"
   ]
  },
  {
   "cell_type": "code",
   "execution_count": 76,
   "metadata": {},
   "outputs": [
    {
     "data": {
      "text/plain": [
       "Number                           False\n",
       "Глюкоза                          False\n",
       "Мочевина                         False\n",
       "Креатинин                        False\n",
       "Мочевая к-та                     False\n",
       "Холестерин                       False\n",
       "Х-ЛПВП                           False\n",
       "Х-ЛПНП                           False\n",
       "Триглицериды                     False\n",
       "индекс массы тела                False\n",
       "smoking                          False\n",
       "Alcoholic                        False\n",
       "excess_salt_consumption          False\n",
       "гиподинамия                      False\n",
       "стресс                           False\n",
       "прием п\\щ контрац                False\n",
       "насл отяг, По ГБ,                False\n",
       "насл отяг, По ССЗ                False\n",
       "насл отяг, По СД                 False\n",
       "насл, Отяг по почечн, Заб        False\n",
       "САД                              False\n",
       "ДАД                              False\n",
       "ГЛЖ ин Соколова-Лайона           False\n",
       "S100b, нг/л (N до 90)            False\n",
       "Анг II, пг/мл (N 10-60 пг/мл)    False\n",
       "ЭТ, пмоль/л    (N =0,09)         False\n",
       "VEGF,  пг/мл (N40-600)           False\n",
       "HLDF (нг/мл                       True\n",
       "АТ к S100b                       False\n",
       "АТ к Анг  II                     False\n",
       "АТ к ЭТ                          False\n",
       "АТ к HLDF- 24                    False\n",
       "male                             False\n",
       "female                           False\n",
       "no_spec_gender                   False\n",
       "laborers                         False\n",
       "servants                         False\n",
       "leadership                       False\n",
       "scientific                       False\n",
       "engineering                      False\n",
       "no_job_data                      False\n",
       "retiree                          False\n",
       "age                              False\n",
       "dtype: bool"
      ]
     },
     "execution_count": 76,
     "metadata": {},
     "output_type": "execute_result"
    }
   ],
   "source": [
    "test_data.isnull().any()"
   ]
  },
  {
   "cell_type": "code",
   "execution_count": 43,
   "metadata": {},
   "outputs": [
    {
     "data": {
      "text/plain": [
       "57      True\n",
       "4      False\n",
       "90     False\n",
       "29     False\n",
       "8       True\n",
       "24     False\n",
       "72      True\n",
       "22     False\n",
       "82     False\n",
       "30     False\n",
       "74     False\n",
       "62      True\n",
       "44     False\n",
       "84      True\n",
       "77      True\n",
       "14      True\n",
       "113     True\n",
       "117    False\n",
       "51     False\n",
       "2      False\n",
       "97     False\n",
       "6       True\n",
       "39     False\n",
       "112    False\n",
       "Name: HLDF (нг/мл, dtype: bool"
      ]
     },
     "execution_count": 43,
     "metadata": {},
     "output_type": "execute_result"
    }
   ],
   "source": [
    "~np.isnan(test_data[\"HLDF (нг/мл\"])"
   ]
  },
  {
   "cell_type": "code",
   "execution_count": 44,
   "metadata": {},
   "outputs": [
    {
     "data": {
      "text/plain": [
       "24"
      ]
     },
     "execution_count": 44,
     "metadata": {},
     "output_type": "execute_result"
    }
   ],
   "source": [
    "test_data[\"HLDF (нг/мл\"].index.__len__()"
   ]
  },
  {
   "cell_type": "code",
   "execution_count": 45,
   "metadata": {},
   "outputs": [],
   "source": [
    "ind = test_data[\"HLDF (нг/мл\"].index[~np.isnan(test_data[\"HLDF (нг/мл\"])]\n",
    "anti_ind = test_data[\"HLDF (нг/мл\"].index[np.isnan(test_data[\"HLDF (нг/мл\"])]"
   ]
  },
  {
   "cell_type": "code",
   "execution_count": 46,
   "metadata": {},
   "outputs": [
    {
     "data": {
      "text/html": [
       "<div>\n",
       "<style scoped>\n",
       "    .dataframe tbody tr th:only-of-type {\n",
       "        vertical-align: middle;\n",
       "    }\n",
       "\n",
       "    .dataframe tbody tr th {\n",
       "        vertical-align: top;\n",
       "    }\n",
       "\n",
       "    .dataframe thead th {\n",
       "        text-align: right;\n",
       "    }\n",
       "</style>\n",
       "<table border=\"1\" class=\"dataframe\">\n",
       "  <thead>\n",
       "    <tr style=\"text-align: right;\">\n",
       "      <th></th>\n",
       "      <th>Number</th>\n",
       "      <th>Глюкоза</th>\n",
       "      <th>Мочевина</th>\n",
       "      <th>Креатинин</th>\n",
       "      <th>Мочевая к-та</th>\n",
       "      <th>Холестерин</th>\n",
       "      <th>Х-ЛПВП</th>\n",
       "      <th>Х-ЛПНП</th>\n",
       "      <th>Триглицериды</th>\n",
       "      <th>индекс массы тела</th>\n",
       "      <th>...</th>\n",
       "      <th>female</th>\n",
       "      <th>no_spec_gender</th>\n",
       "      <th>laborers</th>\n",
       "      <th>servants</th>\n",
       "      <th>leadership</th>\n",
       "      <th>scientific</th>\n",
       "      <th>engineering</th>\n",
       "      <th>no_job_data</th>\n",
       "      <th>retiree</th>\n",
       "      <th>age</th>\n",
       "    </tr>\n",
       "  </thead>\n",
       "  <tbody>\n",
       "    <tr>\n",
       "      <td>57</td>\n",
       "      <td>116.0</td>\n",
       "      <td>15.8</td>\n",
       "      <td>3.6</td>\n",
       "      <td>84</td>\n",
       "      <td>312</td>\n",
       "      <td>4.1</td>\n",
       "      <td>1.35</td>\n",
       "      <td>1.91</td>\n",
       "      <td>3.22</td>\n",
       "      <td>27.87</td>\n",
       "      <td>...</td>\n",
       "      <td>0</td>\n",
       "      <td>0</td>\n",
       "      <td>1</td>\n",
       "      <td>0</td>\n",
       "      <td>0</td>\n",
       "      <td>0</td>\n",
       "      <td>0</td>\n",
       "      <td>0</td>\n",
       "      <td>0</td>\n",
       "      <td>54.0</td>\n",
       "    </tr>\n",
       "    <tr>\n",
       "      <td>8</td>\n",
       "      <td>20.0</td>\n",
       "      <td>7.1</td>\n",
       "      <td>5.3</td>\n",
       "      <td>93</td>\n",
       "      <td>478</td>\n",
       "      <td>4.0</td>\n",
       "      <td>0.53</td>\n",
       "      <td>1.73</td>\n",
       "      <td>4.41</td>\n",
       "      <td>41.03</td>\n",
       "      <td>...</td>\n",
       "      <td>0</td>\n",
       "      <td>1</td>\n",
       "      <td>1</td>\n",
       "      <td>0</td>\n",
       "      <td>0</td>\n",
       "      <td>0</td>\n",
       "      <td>0</td>\n",
       "      <td>0</td>\n",
       "      <td>0</td>\n",
       "      <td>57.0</td>\n",
       "    </tr>\n",
       "    <tr>\n",
       "      <td>72</td>\n",
       "      <td>31.0</td>\n",
       "      <td>6.1</td>\n",
       "      <td>4.8</td>\n",
       "      <td>96</td>\n",
       "      <td>498</td>\n",
       "      <td>7.4</td>\n",
       "      <td>1.59</td>\n",
       "      <td>4.39</td>\n",
       "      <td>3.73</td>\n",
       "      <td>33.02</td>\n",
       "      <td>...</td>\n",
       "      <td>0</td>\n",
       "      <td>0</td>\n",
       "      <td>0</td>\n",
       "      <td>0</td>\n",
       "      <td>0</td>\n",
       "      <td>0</td>\n",
       "      <td>1</td>\n",
       "      <td>0</td>\n",
       "      <td>0</td>\n",
       "      <td>47.0</td>\n",
       "    </tr>\n",
       "    <tr>\n",
       "      <td>62</td>\n",
       "      <td>131.0</td>\n",
       "      <td>5.2</td>\n",
       "      <td>8.8</td>\n",
       "      <td>98</td>\n",
       "      <td>349</td>\n",
       "      <td>3.7</td>\n",
       "      <td>1.25</td>\n",
       "      <td>2.45</td>\n",
       "      <td>0.73</td>\n",
       "      <td>28.08</td>\n",
       "      <td>...</td>\n",
       "      <td>0</td>\n",
       "      <td>0</td>\n",
       "      <td>0</td>\n",
       "      <td>0</td>\n",
       "      <td>0</td>\n",
       "      <td>0</td>\n",
       "      <td>0</td>\n",
       "      <td>1</td>\n",
       "      <td>0</td>\n",
       "      <td>29.0</td>\n",
       "    </tr>\n",
       "    <tr>\n",
       "      <td>84</td>\n",
       "      <td>71.0</td>\n",
       "      <td>6.7</td>\n",
       "      <td>6.5</td>\n",
       "      <td>88</td>\n",
       "      <td>386</td>\n",
       "      <td>5.7</td>\n",
       "      <td>2.27</td>\n",
       "      <td>3.27</td>\n",
       "      <td>0.54</td>\n",
       "      <td>27.12</td>\n",
       "      <td>...</td>\n",
       "      <td>1</td>\n",
       "      <td>0</td>\n",
       "      <td>0</td>\n",
       "      <td>1</td>\n",
       "      <td>0</td>\n",
       "      <td>0</td>\n",
       "      <td>0</td>\n",
       "      <td>0</td>\n",
       "      <td>0</td>\n",
       "      <td>58.0</td>\n",
       "    </tr>\n",
       "    <tr>\n",
       "      <td>77</td>\n",
       "      <td>47.0</td>\n",
       "      <td>6.3</td>\n",
       "      <td>5.4</td>\n",
       "      <td>76</td>\n",
       "      <td>575</td>\n",
       "      <td>7.0</td>\n",
       "      <td>1.52</td>\n",
       "      <td>4.75</td>\n",
       "      <td>1.72</td>\n",
       "      <td>38.74</td>\n",
       "      <td>...</td>\n",
       "      <td>0</td>\n",
       "      <td>0</td>\n",
       "      <td>1</td>\n",
       "      <td>0</td>\n",
       "      <td>0</td>\n",
       "      <td>0</td>\n",
       "      <td>0</td>\n",
       "      <td>0</td>\n",
       "      <td>0</td>\n",
       "      <td>55.0</td>\n",
       "    </tr>\n",
       "    <tr>\n",
       "      <td>14</td>\n",
       "      <td>29.0</td>\n",
       "      <td>6.7</td>\n",
       "      <td>6.7</td>\n",
       "      <td>87</td>\n",
       "      <td>326</td>\n",
       "      <td>5.5</td>\n",
       "      <td>1.59</td>\n",
       "      <td>3.04</td>\n",
       "      <td>0.75</td>\n",
       "      <td>26.64</td>\n",
       "      <td>...</td>\n",
       "      <td>0</td>\n",
       "      <td>0</td>\n",
       "      <td>0</td>\n",
       "      <td>0</td>\n",
       "      <td>0</td>\n",
       "      <td>0</td>\n",
       "      <td>1</td>\n",
       "      <td>0</td>\n",
       "      <td>0</td>\n",
       "      <td>57.0</td>\n",
       "    </tr>\n",
       "    <tr>\n",
       "      <td>113</td>\n",
       "      <td>134.0</td>\n",
       "      <td>5.3</td>\n",
       "      <td>6.5</td>\n",
       "      <td>73</td>\n",
       "      <td>366</td>\n",
       "      <td>4.9</td>\n",
       "      <td>1.73</td>\n",
       "      <td>3.14</td>\n",
       "      <td>0.75</td>\n",
       "      <td>26.47</td>\n",
       "      <td>...</td>\n",
       "      <td>0</td>\n",
       "      <td>0</td>\n",
       "      <td>0</td>\n",
       "      <td>0</td>\n",
       "      <td>0</td>\n",
       "      <td>0</td>\n",
       "      <td>1</td>\n",
       "      <td>0</td>\n",
       "      <td>0</td>\n",
       "      <td>30.0</td>\n",
       "    </tr>\n",
       "    <tr>\n",
       "      <td>6</td>\n",
       "      <td>15.0</td>\n",
       "      <td>11.7</td>\n",
       "      <td>3.2</td>\n",
       "      <td>66</td>\n",
       "      <td>434</td>\n",
       "      <td>6.8</td>\n",
       "      <td>0.92</td>\n",
       "      <td>4.59</td>\n",
       "      <td>4.65</td>\n",
       "      <td>40.20</td>\n",
       "      <td>...</td>\n",
       "      <td>1</td>\n",
       "      <td>0</td>\n",
       "      <td>1</td>\n",
       "      <td>0</td>\n",
       "      <td>0</td>\n",
       "      <td>0</td>\n",
       "      <td>0</td>\n",
       "      <td>0</td>\n",
       "      <td>0</td>\n",
       "      <td>53.0</td>\n",
       "    </tr>\n",
       "  </tbody>\n",
       "</table>\n",
       "<p>9 rows × 43 columns</p>\n",
       "</div>"
      ],
      "text/plain": [
       "     Number  Глюкоза  Мочевина  Креатинин  Мочевая к-та  Холестерин  Х-ЛПВП  \\\n",
       "57    116.0     15.8       3.6         84           312         4.1    1.35   \n",
       "8      20.0      7.1       5.3         93           478         4.0    0.53   \n",
       "72     31.0      6.1       4.8         96           498         7.4    1.59   \n",
       "62    131.0      5.2       8.8         98           349         3.7    1.25   \n",
       "84     71.0      6.7       6.5         88           386         5.7    2.27   \n",
       "77     47.0      6.3       5.4         76           575         7.0    1.52   \n",
       "14     29.0      6.7       6.7         87           326         5.5    1.59   \n",
       "113   134.0      5.3       6.5         73           366         4.9    1.73   \n",
       "6      15.0     11.7       3.2         66           434         6.8    0.92   \n",
       "\n",
       "     Х-ЛПНП  Триглицериды  индекс массы тела  ...  female  no_spec_gender  \\\n",
       "57     1.91          3.22              27.87  ...       0               0   \n",
       "8      1.73          4.41              41.03  ...       0               1   \n",
       "72     4.39          3.73              33.02  ...       0               0   \n",
       "62     2.45          0.73              28.08  ...       0               0   \n",
       "84     3.27          0.54              27.12  ...       1               0   \n",
       "77     4.75          1.72              38.74  ...       0               0   \n",
       "14     3.04          0.75              26.64  ...       0               0   \n",
       "113    3.14          0.75              26.47  ...       0               0   \n",
       "6      4.59          4.65              40.20  ...       1               0   \n",
       "\n",
       "     laborers  servants  leadership  scientific  engineering  no_job_data  \\\n",
       "57          1         0           0           0            0            0   \n",
       "8           1         0           0           0            0            0   \n",
       "72          0         0           0           0            1            0   \n",
       "62          0         0           0           0            0            1   \n",
       "84          0         1           0           0            0            0   \n",
       "77          1         0           0           0            0            0   \n",
       "14          0         0           0           0            1            0   \n",
       "113         0         0           0           0            1            0   \n",
       "6           1         0           0           0            0            0   \n",
       "\n",
       "     retiree   age  \n",
       "57         0  54.0  \n",
       "8          0  57.0  \n",
       "72         0  47.0  \n",
       "62         0  29.0  \n",
       "84         0  58.0  \n",
       "77         0  55.0  \n",
       "14         0  57.0  \n",
       "113        0  30.0  \n",
       "6          0  53.0  \n",
       "\n",
       "[9 rows x 43 columns]"
      ]
     },
     "execution_count": 46,
     "metadata": {},
     "output_type": "execute_result"
    }
   ],
   "source": [
    "test_data.loc[ind] "
   ]
  },
  {
   "cell_type": "code",
   "execution_count": 82,
   "metadata": {},
   "outputs": [],
   "source": [
    "new_train_data = train_data.append(test_data.loc[ind])"
   ]
  },
  {
   "cell_type": "code",
   "execution_count": 83,
   "metadata": {},
   "outputs": [],
   "source": [
    "new_train_target = np.array(new_train_data[\"HLDF (нг/мл\"])"
   ]
  },
  {
   "cell_type": "code",
   "execution_count": 84,
   "metadata": {},
   "outputs": [
    {
     "data": {
      "text/plain": [
       "array([ 57.66666667, 120.        , 108.23076923,  57.66666667,\n",
       "        56.        ,  57.66666667,  54.        , 108.23076923,\n",
       "       108.23076923,  62.        , 108.23076923, 108.23076923,\n",
       "        57.66666667,  57.66666667, 118.        ,  57.66666667,\n",
       "        57.66666667,  64.        , 108.23076923,  57.66666667,\n",
       "       124.        , 108.23076923, 108.23076923, 108.23076923,\n",
       "       105.        , 129.        ,  62.        ,  70.        ,\n",
       "        80.        ,  84.        , 115.        ,  97.        ,\n",
       "        57.66666667,  59.        ,  57.66666667, 105.        ,\n",
       "        57.66666667, 108.23076923, 106.        ,  57.66666667,\n",
       "       108.23076923, 108.23076923,  88.        , 108.23076923,\n",
       "       108.23076923,  57.66666667,  57.66666667,  54.        ,\n",
       "       118.        ,  57.66666667, 108.23076923, 108.23076923,\n",
       "       108.23076923,  91.        , 108.23076923,  57.66666667,\n",
       "        64.        , 118.        ,  50.        ,  57.66666667,\n",
       "        57.66666667, 110.        ,  57.66666667, 108.23076923,\n",
       "        57.66666667,  57.66666667,  88.        , 108.23076923,\n",
       "        57.66666667,  57.66666667,  57.66666667, 108.23076923,\n",
       "       128.        , 108.23076923, 114.        ,  66.        ,\n",
       "       108.23076923,  77.        ,  58.        , 130.        ,\n",
       "       108.23076923, 108.23076923, 132.        , 112.        ,\n",
       "        40.        ,  92.        , 132.        ,  57.66666667,\n",
       "       108.23076923,  49.        ,  50.        , 108.        ,\n",
       "       108.23076923,  93.        , 130.        ,  53.        ,\n",
       "        90.        ,  47.        ,  56.        , 112.        ,\n",
       "        55.        , 102.        ])"
      ]
     },
     "execution_count": 84,
     "metadata": {},
     "output_type": "execute_result"
    }
   ],
   "source": [
    "new_train_target"
   ]
  },
  {
   "cell_type": "code",
   "execution_count": 85,
   "metadata": {},
   "outputs": [],
   "source": [
    "new_test_data = test_data.loc[anti_ind]"
   ]
  },
  {
   "cell_type": "code",
   "execution_count": 86,
   "metadata": {},
   "outputs": [],
   "source": [
    "from sklearn.ensemble import RandomForestRegressor"
   ]
  },
  {
   "cell_type": "code",
   "execution_count": 87,
   "metadata": {},
   "outputs": [],
   "source": [
    "forest = RandomForestRegressor(n_estimators = 100, n_jobs = -1)"
   ]
  },
  {
   "cell_type": "code",
   "execution_count": 88,
   "metadata": {},
   "outputs": [],
   "source": [
    "forest_train = np.array(new_train_data.drop(columns={\"HLDF (нг/мл\"}).fillna(0))"
   ]
  },
  {
   "cell_type": "code",
   "execution_count": 89,
   "metadata": {},
   "outputs": [
    {
     "data": {
      "text/plain": [
       "RandomForestRegressor(bootstrap=True, criterion='mse', max_depth=None,\n",
       "                      max_features='auto', max_leaf_nodes=None,\n",
       "                      min_impurity_decrease=0.0, min_impurity_split=None,\n",
       "                      min_samples_leaf=1, min_samples_split=2,\n",
       "                      min_weight_fraction_leaf=0.0, n_estimators=100, n_jobs=-1,\n",
       "                      oob_score=False, random_state=None, verbose=0,\n",
       "                      warm_start=False)"
      ]
     },
     "execution_count": 89,
     "metadata": {},
     "output_type": "execute_result"
    }
   ],
   "source": [
    "forest.fit(forest_train, new_train_target)"
   ]
  },
  {
   "cell_type": "code",
   "execution_count": 63,
   "metadata": {},
   "outputs": [
    {
     "data": {
      "text/plain": [
       "Index(['ГЛЖ ин Соколова-Лайона', 'S100b, нг/л (N до 90)',\n",
       "       'Анг II, пг/мл (N 10-60 пг/мл)', 'ЭТ, пмоль/л    (N =0,09)',\n",
       "       'VEGF,  пг/мл (N40-600)', 'HLDF (нг/мл', 'АТ к S100b', 'АТ к Анг  II ',\n",
       "       'АТ к ЭТ ', 'АТ к HLDF- 24'],\n",
       "      dtype='object')"
      ]
     },
     "execution_count": 63,
     "metadata": {},
     "output_type": "execute_result"
    }
   ],
   "source": [
    "requied_cols"
   ]
  },
  {
   "cell_type": "code",
   "execution_count": 64,
   "metadata": {},
   "outputs": [
    {
     "ename": "NameError",
     "evalue": "name 'new_test_data' is not defined",
     "output_type": "error",
     "traceback": [
      "\u001b[0;31m---------------------------------------------------------------------------\u001b[0m",
      "\u001b[0;31mNameError\u001b[0m                                 Traceback (most recent call last)",
      "\u001b[0;32m<ipython-input-64-8e7e63ef478a>\u001b[0m in \u001b[0;36m<module>\u001b[0;34m\u001b[0m\n\u001b[0;32m----> 1\u001b[0;31m \u001b[0mforest_test\u001b[0m \u001b[0;34m=\u001b[0m \u001b[0mnp\u001b[0m\u001b[0;34m.\u001b[0m\u001b[0marray\u001b[0m\u001b[0;34m(\u001b[0m\u001b[0mnew_test_data\u001b[0m\u001b[0;34m.\u001b[0m\u001b[0mdrop\u001b[0m\u001b[0;34m(\u001b[0m\u001b[0mcolumns\u001b[0m\u001b[0;34m=\u001b[0m\u001b[0mrequied_cols\u001b[0m\u001b[0;34m)\u001b[0m\u001b[0;34m.\u001b[0m\u001b[0mfillna\u001b[0m\u001b[0;34m(\u001b[0m\u001b[0;36m0\u001b[0m\u001b[0;34m)\u001b[0m\u001b[0;34m)\u001b[0m\u001b[0;34m\u001b[0m\u001b[0;34m\u001b[0m\u001b[0m\n\u001b[0m",
      "\u001b[0;31mNameError\u001b[0m: name 'new_test_data' is not defined"
     ]
    }
   ],
   "source": [
    "forest_test = np.array(new_test_data.drop(columns=requied_cols).fillna(0))"
   ]
  },
  {
   "cell_type": "code",
   "execution_count": 91,
   "metadata": {},
   "outputs": [],
   "source": [
    "res = forest.predict(forest_test)"
   ]
  },
  {
   "cell_type": "code",
   "execution_count": 92,
   "metadata": {},
   "outputs": [
    {
     "data": {
      "text/plain": [
       "array([80.48358974, 90.50512821, 99.56076923, 86.73230769, 98.78897436,\n",
       "       83.0074359 , 85.08025641, 92.94307692, 84.14564103, 81.42641026,\n",
       "       83.86717949, 81.34307692, 85.30923077, 83.43820513, 82.06384615])"
      ]
     },
     "execution_count": 92,
     "metadata": {},
     "output_type": "execute_result"
    }
   ],
   "source": [
    "res"
   ]
  },
  {
   "cell_type": "code",
   "execution_count": 93,
   "metadata": {},
   "outputs": [],
   "source": [
    "true= np.array(data.loc[anti_ind][\"Target\"])"
   ]
  },
  {
   "cell_type": "code",
   "execution_count": 94,
   "metadata": {},
   "outputs": [
    {
     "name": "stdout",
     "output_type": "stream",
     "text": [
      "80.48358974358976 о\n",
      "90.50512820512824 п\n",
      "99.56076923076925 о\n",
      "86.73230769230776 о\n",
      "98.78897435897436 о\n",
      "83.00743589743595 п\n",
      "85.08025641025647 о\n",
      "92.94307692307693 п\n",
      "84.14564102564108 о\n",
      "81.42641025641032 п\n",
      "83.86717948717957 о\n",
      "81.34307692307698 о\n",
      "85.30923076923084 п\n",
      "83.4382051282052 о\n",
      "82.06384615384621 п\n"
     ]
    }
   ],
   "source": [
    "for i in range(res.__len__()):\n",
    "    print(res[i], true[i])"
   ]
  },
  {
   "cell_type": "raw",
   "metadata": {},
   "source": [
    "Попробую то же предсказание, но с меньшим числом аршументов (уберу те, что приходилось дополнять)"
   ]
  },
  {
   "cell_type": "code",
   "execution_count": 219,
   "metadata": {},
   "outputs": [],
   "source": [
    "extra_train_data = new_train_data.drop(columns = new_train_data.columns[new_train_data.isnull().any()])"
   ]
  },
  {
   "cell_type": "code",
   "execution_count": 222,
   "metadata": {},
   "outputs": [],
   "source": [
    "extra_test_data = new_test_data.drop(columns = new_train_data.columns[new_train_data.isnull().any()])"
   ]
  },
  {
   "cell_type": "code",
   "execution_count": 223,
   "metadata": {},
   "outputs": [
    {
     "data": {
      "text/plain": [
       "RandomForestRegressor(bootstrap=True, criterion='mse', max_depth=None,\n",
       "                      max_features='auto', max_leaf_nodes=None,\n",
       "                      min_impurity_decrease=0.0, min_impurity_split=None,\n",
       "                      min_samples_leaf=1, min_samples_split=2,\n",
       "                      min_weight_fraction_leaf=0.0, n_estimators=100, n_jobs=-1,\n",
       "                      oob_score=False, random_state=None, verbose=0,\n",
       "                      warm_start=False)"
      ]
     },
     "execution_count": 223,
     "metadata": {},
     "output_type": "execute_result"
    }
   ],
   "source": [
    "forest.fit(extra_train_data.drop(columns = {\"HLDF (нг/мл\"}), new_train_target)"
   ]
  },
  {
   "cell_type": "code",
   "execution_count": 224,
   "metadata": {},
   "outputs": [],
   "source": [
    "res_2 = forest.predict(extra_test_data.drop(columns = {\"HLDF (нг/мл\"}))"
   ]
  },
  {
   "cell_type": "code",
   "execution_count": 70,
   "metadata": {},
   "outputs": [
    {
     "ename": "NameError",
     "evalue": "name 'true' is not defined",
     "output_type": "error",
     "traceback": [
      "\u001b[0;31m---------------------------------------------------------------------------\u001b[0m",
      "\u001b[0;31mNameError\u001b[0m                                 Traceback (most recent call last)",
      "\u001b[0;32m<ipython-input-70-f68de83dbfb0>\u001b[0m in \u001b[0;36m<module>\u001b[0;34m\u001b[0m\n\u001b[1;32m      1\u001b[0m \u001b[0;32mfor\u001b[0m \u001b[0mi\u001b[0m \u001b[0;32min\u001b[0m \u001b[0mrange\u001b[0m\u001b[0;34m(\u001b[0m\u001b[0mres\u001b[0m\u001b[0;34m.\u001b[0m\u001b[0m__len__\u001b[0m\u001b[0;34m(\u001b[0m\u001b[0;34m)\u001b[0m\u001b[0;34m)\u001b[0m\u001b[0;34m:\u001b[0m\u001b[0;34m\u001b[0m\u001b[0;34m\u001b[0m\u001b[0m\n\u001b[0;32m----> 2\u001b[0;31m     \u001b[0mprint\u001b[0m\u001b[0;34m(\u001b[0m\u001b[0mres\u001b[0m\u001b[0;34m[\u001b[0m\u001b[0mi\u001b[0m\u001b[0;34m]\u001b[0m\u001b[0;34m,\u001b[0m \u001b[0mtrue\u001b[0m\u001b[0;34m[\u001b[0m\u001b[0mi\u001b[0m\u001b[0;34m]\u001b[0m\u001b[0;34m)\u001b[0m\u001b[0;34m\u001b[0m\u001b[0;34m\u001b[0m\u001b[0m\n\u001b[0m",
      "\u001b[0;31mNameError\u001b[0m: name 'true' is not defined"
     ]
    }
   ],
   "source": [
    "for i in range(res.__len__()):\n",
    "    print(res[i], true[i])"
   ]
  },
  {
   "cell_type": "code",
   "execution_count": 121,
   "metadata": {},
   "outputs": [
    {
     "data": {
      "text/plain": [
       "Index(['Number', 'Глюкоза', 'Мочевина', 'Креатинин', 'Мочевая к-та',\n",
       "       'Холестерин', 'Х-ЛПВП', 'Х-ЛПНП', 'Триглицериды', 'индекс массы тела',\n",
       "       'smoking', 'Alcoholic', 'excess_salt_consumption', 'гиподинамия',\n",
       "       'стресс', 'прием п\\щ контрац', 'насл отяг, По ГБ, ',\n",
       "       'насл отяг, По ССЗ', 'насл отяг, По СД', 'насл, Отяг по почечн, Заб',\n",
       "       'САД', 'ДАД', 'ГЛЖ ин Соколова-Лайона', 'S100b, нг/л (N до 90)',\n",
       "       'Анг II, пг/мл (N 10-60 пг/мл)', 'ЭТ, пмоль/л    (N =0,09)',\n",
       "       'VEGF,  пг/мл (N40-600)', 'HLDF (нг/мл', 'АТ к S100b', 'АТ к Анг  II ',\n",
       "       'АТ к ЭТ ', 'АТ к HLDF- 24', 'male', 'female', 'no_spec_gender',\n",
       "       'laborers', 'servants', 'leadership', 'scientific', 'engineering',\n",
       "       'no_job_data', 'retiree', 'age'],\n",
       "      dtype='object')"
      ]
     },
     "execution_count": 121,
     "metadata": {},
     "output_type": "execute_result"
    }
   ],
   "source": [
    "test_data.columns"
   ]
  },
  {
   "cell_type": "code",
   "execution_count": 62,
   "metadata": {},
   "outputs": [],
   "source": [
    "rep_arr = test_data[\"HLDF (нг/мл\"]"
   ]
  },
  {
   "cell_type": "code",
   "execution_count": 63,
   "metadata": {},
   "outputs": [],
   "source": [
    "rep_arr[anti_ind] = res"
   ]
  },
  {
   "cell_type": "code",
   "execution_count": 64,
   "metadata": {},
   "outputs": [
    {
     "data": {
      "text/plain": [
       "57      93.000\n",
       "4       79.803\n",
       "90      65.351\n",
       "29     106.920\n",
       "8      130.000\n",
       "24     106.279\n",
       "72      53.000\n",
       "22     104.017\n",
       "82      74.670\n",
       "30      99.409\n",
       "74      84.654\n",
       "62      90.000\n",
       "44     101.803\n",
       "84      47.000\n",
       "77      56.000\n",
       "14     112.000\n",
       "113     55.000\n",
       "117     71.381\n",
       "51     101.315\n",
       "2       77.362\n",
       "97     103.301\n",
       "6      102.000\n",
       "39      93.543\n",
       "112     62.898\n",
       "Name: HLDF (нг/мл, dtype: float64"
      ]
     },
     "execution_count": 64,
     "metadata": {},
     "output_type": "execute_result"
    }
   ],
   "source": [
    "rep_arr"
   ]
  },
  {
   "cell_type": "code",
   "execution_count": 65,
   "metadata": {},
   "outputs": [],
   "source": [
    "test_data[\"HLDF (нг/мл\"] = rep_arr"
   ]
  },
  {
   "cell_type": "code",
   "execution_count": 66,
   "metadata": {},
   "outputs": [],
   "source": [
    "requied_cols = train_data.columns[train_data.isnull().any()]"
   ]
  },
  {
   "cell_type": "code",
   "execution_count": 67,
   "metadata": {},
   "outputs": [],
   "source": [
    "train_data[\"Target\"] = train_target"
   ]
  },
  {
   "cell_type": "code",
   "execution_count": 68,
   "metadata": {},
   "outputs": [
    {
     "data": {
      "text/html": [
       "<div>\n",
       "<style scoped>\n",
       "    .dataframe tbody tr th:only-of-type {\n",
       "        vertical-align: middle;\n",
       "    }\n",
       "\n",
       "    .dataframe tbody tr th {\n",
       "        vertical-align: top;\n",
       "    }\n",
       "\n",
       "    .dataframe thead th {\n",
       "        text-align: right;\n",
       "    }\n",
       "</style>\n",
       "<table border=\"1\" class=\"dataframe\">\n",
       "  <thead>\n",
       "    <tr style=\"text-align: right;\">\n",
       "      <th></th>\n",
       "      <th>Target</th>\n",
       "      <th>ГЛЖ ин Соколова-Лайона</th>\n",
       "      <th>S100b, нг/л (N до 90)</th>\n",
       "      <th>Анг II, пг/мл (N 10-60 пг/мл)</th>\n",
       "      <th>ЭТ, пмоль/л    (N =0,09)</th>\n",
       "      <th>VEGF,  пг/мл (N40-600)</th>\n",
       "      <th>АТ к S100b</th>\n",
       "      <th>АТ к Анг  II</th>\n",
       "      <th>АТ к ЭТ</th>\n",
       "      <th>АТ к HLDF- 24</th>\n",
       "    </tr>\n",
       "  </thead>\n",
       "  <tbody>\n",
       "    <tr>\n",
       "      <td>0</td>\n",
       "      <td>о</td>\n",
       "      <td>26.312500</td>\n",
       "      <td>65.876000</td>\n",
       "      <td>319.126207</td>\n",
       "      <td>0.641724</td>\n",
       "      <td>258.035172</td>\n",
       "      <td>405.172414</td>\n",
       "      <td>331.034483</td>\n",
       "      <td>225.862069</td>\n",
       "      <td>91.379310</td>\n",
       "    </tr>\n",
       "    <tr>\n",
       "      <td>1</td>\n",
       "      <td>п</td>\n",
       "      <td>26.552632</td>\n",
       "      <td>59.704667</td>\n",
       "      <td>23.560000</td>\n",
       "      <td>0.692667</td>\n",
       "      <td>444.646667</td>\n",
       "      <td>583.333333</td>\n",
       "      <td>366.666667</td>\n",
       "      <td>286.666667</td>\n",
       "      <td>103.333333</td>\n",
       "    </tr>\n",
       "  </tbody>\n",
       "</table>\n",
       "</div>"
      ],
      "text/plain": [
       "  Target  ГЛЖ ин Соколова-Лайона  S100b, нг/л (N до 90)  \\\n",
       "0      о               26.312500              65.876000   \n",
       "1      п               26.552632              59.704667   \n",
       "\n",
       "   Анг II, пг/мл (N 10-60 пг/мл)  ЭТ, пмоль/л    (N =0,09)  \\\n",
       "0                     319.126207                  0.641724   \n",
       "1                      23.560000                  0.692667   \n",
       "\n",
       "   VEGF,  пг/мл (N40-600)  АТ к S100b  АТ к Анг  II     АТ к ЭТ   \\\n",
       "0              258.035172  405.172414     331.034483  225.862069   \n",
       "1              444.646667  583.333333     366.666667  286.666667   \n",
       "\n",
       "   АТ к HLDF- 24  \n",
       "0      91.379310  \n",
       "1     103.333333  "
      ]
     },
     "execution_count": 68,
     "metadata": {},
     "output_type": "execute_result"
    }
   ],
   "source": [
    "ppp = train_data.groupby(\"Target\", as_index = False)[requied_cols].mean()\n",
    "ppp"
   ]
  },
  {
   "cell_type": "code",
   "execution_count": 69,
   "metadata": {},
   "outputs": [
    {
     "data": {
      "text/plain": [
       "Int64Index([ 73,   5,  46, 114,  79,  86,  99,  37,  27,  80,  59,  60,  94,\n",
       "             68,  15,  81, 110, 105,  18,  93,   7,  34,  19,  35,  50,  16,\n",
       "             92,  48,  58,  11,  20,  61,  78,  96,  76,  54, 107,  40,  33,\n",
       "             87,  64,  65,  41,  42,  47, 115, 101,  75,  25, 109,  38,  66,\n",
       "             55,  13,  67, 104,  95,  53,  83,  98, 116,  12, 102,   3, 111,\n",
       "            103,  23,  49,  70,  88, 100,  43,   9,   1,  36,  71,  28,  85,\n",
       "            106,  63,  52,  56,  32,  26,  69,  10,  21,  89,  17, 108,  91,\n",
       "             31,  45],\n",
       "           dtype='int64')"
      ]
     },
     "execution_count": 69,
     "metadata": {},
     "output_type": "execute_result"
    }
   ],
   "source": [
    "indixes = train_data.index\n",
    "indixes"
   ]
  },
  {
   "cell_type": "code",
   "execution_count": 71,
   "metadata": {
    "scrolled": true
   },
   "outputs": [
    {
     "name": "stderr",
     "output_type": "stream",
     "text": [
      "/usr/local/lib/python3.7/site-packages/ipykernel_launcher.py:5: SettingWithCopyWarning: \n",
      "A value is trying to be set on a copy of a slice from a DataFrame\n",
      "\n",
      "See the caveats in the documentation: http://pandas.pydata.org/pandas-docs/stable/user_guide/indexing.html#returning-a-view-versus-a-copy\n",
      "  \"\"\"\n",
      "/usr/local/lib/python3.7/site-packages/ipykernel_launcher.py:7: SettingWithCopyWarning: \n",
      "A value is trying to be set on a copy of a slice from a DataFrame\n",
      "\n",
      "See the caveats in the documentation: http://pandas.pydata.org/pandas-docs/stable/user_guide/indexing.html#returning-a-view-versus-a-copy\n",
      "  import sys\n"
     ]
    }
   ],
   "source": [
    "for col in requied_cols:\n",
    "    for enum in indixes:\n",
    "        if np.isnan(train_data[col][enum]):\n",
    "            if train_data[\"Target\"][enum] == 'о':\n",
    "                train_data[col][enum] = ppp[col][0]\n",
    "            else:\n",
    "                train_data[col][enum] = ppp[col][1]"
   ]
  },
  {
   "cell_type": "code",
   "execution_count": 72,
   "metadata": {},
   "outputs": [
    {
     "data": {
      "text/plain": [
       "Number                           False\n",
       "Глюкоза                          False\n",
       "Мочевина                         False\n",
       "Креатинин                        False\n",
       "Мочевая к-та                     False\n",
       "Холестерин                       False\n",
       "Х-ЛПВП                           False\n",
       "Х-ЛПНП                           False\n",
       "Триглицериды                     False\n",
       "индекс массы тела                False\n",
       "smoking                          False\n",
       "Alcoholic                        False\n",
       "excess_salt_consumption          False\n",
       "гиподинамия                      False\n",
       "стресс                           False\n",
       "прием п\\щ контрац                False\n",
       "насл отяг, По ГБ,                False\n",
       "насл отяг, По ССЗ                False\n",
       "насл отяг, По СД                 False\n",
       "насл, Отяг по почечн, Заб        False\n",
       "САД                              False\n",
       "ДАД                              False\n",
       "ГЛЖ ин Соколова-Лайона           False\n",
       "S100b, нг/л (N до 90)            False\n",
       "Анг II, пг/мл (N 10-60 пг/мл)    False\n",
       "ЭТ, пмоль/л    (N =0,09)         False\n",
       "VEGF,  пг/мл (N40-600)           False\n",
       "HLDF (нг/мл                      False\n",
       "АТ к S100b                       False\n",
       "АТ к Анг  II                     False\n",
       "АТ к ЭТ                          False\n",
       "АТ к HLDF- 24                    False\n",
       "male                             False\n",
       "female                           False\n",
       "no_spec_gender                   False\n",
       "laborers                         False\n",
       "servants                         False\n",
       "leadership                       False\n",
       "scientific                       False\n",
       "engineering                      False\n",
       "no_job_data                      False\n",
       "retiree                          False\n",
       "age                              False\n",
       "Target                           False\n",
       "dtype: bool"
      ]
     },
     "execution_count": 72,
     "metadata": {},
     "output_type": "execute_result"
    }
   ],
   "source": [
    "train_data.isnull().any()"
   ]
  },
  {
   "cell_type": "code",
   "execution_count": 77,
   "metadata": {},
   "outputs": [],
   "source": [
    "new_train_data = train_data"
   ]
  },
  {
   "cell_type": "code",
   "execution_count": 75,
   "metadata": {},
   "outputs": [
    {
     "data": {
      "text/plain": [
       "Number                           False\n",
       "Глюкоза                          False\n",
       "Мочевина                         False\n",
       "Креатинин                        False\n",
       "Мочевая к-та                     False\n",
       "Холестерин                       False\n",
       "Х-ЛПВП                           False\n",
       "Х-ЛПНП                           False\n",
       "Триглицериды                     False\n",
       "индекс массы тела                False\n",
       "smoking                          False\n",
       "Alcoholic                        False\n",
       "excess_salt_consumption          False\n",
       "гиподинамия                      False\n",
       "стресс                           False\n",
       "прием п\\щ контрац                False\n",
       "насл отяг, По ГБ,                False\n",
       "насл отяг, По ССЗ                False\n",
       "насл отяг, По СД                 False\n",
       "насл, Отяг по почечн, Заб        False\n",
       "САД                              False\n",
       "ДАД                              False\n",
       "ГЛЖ ин Соколова-Лайона            True\n",
       "S100b, нг/л (N до 90)             True\n",
       "Анг II, пг/мл (N 10-60 пг/мл)     True\n",
       "ЭТ, пмоль/л    (N =0,09)          True\n",
       "VEGF,  пг/мл (N40-600)            True\n",
       "HLDF (нг/мл                      False\n",
       "АТ к S100b                        True\n",
       "АТ к Анг  II                      True\n",
       "АТ к ЭТ                           True\n",
       "АТ к HLDF- 24                     True\n",
       "male                             False\n",
       "female                           False\n",
       "no_spec_gender                   False\n",
       "laborers                         False\n",
       "servants                         False\n",
       "leadership                       False\n",
       "scientific                       False\n",
       "engineering                      False\n",
       "no_job_data                      False\n",
       "retiree                          False\n",
       "age                              False\n",
       "dtype: bool"
      ]
     },
     "execution_count": 75,
     "metadata": {},
     "output_type": "execute_result"
    }
   ],
   "source": []
  },
  {
   "cell_type": "code",
   "execution_count": null,
   "metadata": {},
   "outputs": [],
   "source": []
  }
 ],
 "metadata": {
  "kernelspec": {
   "display_name": "Python 3",
   "language": "python",
   "name": "python3"
  },
  "language_info": {
   "codemirror_mode": {
    "name": "ipython",
    "version": 3
   },
   "file_extension": ".py",
   "mimetype": "text/x-python",
   "name": "python",
   "nbconvert_exporter": "python",
   "pygments_lexer": "ipython3",
   "version": "3.7.4"
  }
 },
 "nbformat": 4,
 "nbformat_minor": 2
}
