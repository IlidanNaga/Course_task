{
 "cells": [
  {
   "cell_type": "code",
   "execution_count": 1,
   "metadata": {},
   "outputs": [],
   "source": [
    "import numpy as np\n",
    "import pandas as pd"
   ]
  },
  {
   "cell_type": "code",
   "execution_count": 39,
   "metadata": {},
   "outputs": [],
   "source": [
    "from sklearn.metrics import roc_auc_score"
   ]
  },
  {
   "cell_type": "code",
   "execution_count": 77,
   "metadata": {},
   "outputs": [],
   "source": [
    "from random import shuffle"
   ]
  },
  {
   "cell_type": "markdown",
   "metadata": {},
   "source": [
    "Загрузим преобразованные данные"
   ]
  },
  {
   "cell_type": "code",
   "execution_count": 4,
   "metadata": {},
   "outputs": [],
   "source": [
    "data = pd.read_csv(\"Data_transformed.csv\")"
   ]
  },
  {
   "cell_type": "code",
   "execution_count": 6,
   "metadata": {},
   "outputs": [
    {
     "data": {
      "text/html": [
       "<div>\n",
       "<style scoped>\n",
       "    .dataframe tbody tr th:only-of-type {\n",
       "        vertical-align: middle;\n",
       "    }\n",
       "\n",
       "    .dataframe tbody tr th {\n",
       "        vertical-align: top;\n",
       "    }\n",
       "\n",
       "    .dataframe thead th {\n",
       "        text-align: right;\n",
       "    }\n",
       "</style>\n",
       "<table border=\"1\" class=\"dataframe\">\n",
       "  <thead>\n",
       "    <tr style=\"text-align: right;\">\n",
       "      <th></th>\n",
       "      <th>Number</th>\n",
       "      <th>Глюкоза</th>\n",
       "      <th>Мочевина</th>\n",
       "      <th>Креатинин</th>\n",
       "      <th>Мочевая к-та</th>\n",
       "      <th>Холестерин</th>\n",
       "      <th>Х-ЛПВП</th>\n",
       "      <th>Х-ЛПНП</th>\n",
       "      <th>Триглицериды</th>\n",
       "      <th>индекс массы тела</th>\n",
       "      <th>...</th>\n",
       "      <th>АТ к Анг  II</th>\n",
       "      <th>АТ к ЭТ</th>\n",
       "      <th>АТ к HLDF- 24</th>\n",
       "      <th>Target</th>\n",
       "      <th>phys</th>\n",
       "      <th>mind</th>\n",
       "      <th>age</th>\n",
       "      <th>male</th>\n",
       "      <th>female</th>\n",
       "      <th>no_spec_gender</th>\n",
       "    </tr>\n",
       "  </thead>\n",
       "  <tbody>\n",
       "    <tr>\n",
       "      <td>0</td>\n",
       "      <td>2.0</td>\n",
       "      <td>6.2</td>\n",
       "      <td>5.9</td>\n",
       "      <td>110</td>\n",
       "      <td>443</td>\n",
       "      <td>6.2</td>\n",
       "      <td>1.07</td>\n",
       "      <td>4.25</td>\n",
       "      <td>2.37</td>\n",
       "      <td>20.00</td>\n",
       "      <td>...</td>\n",
       "      <td>NaN</td>\n",
       "      <td>NaN</td>\n",
       "      <td>NaN</td>\n",
       "      <td>-1</td>\n",
       "      <td>3</td>\n",
       "      <td>0</td>\n",
       "      <td>63.0</td>\n",
       "      <td>1</td>\n",
       "      <td>0</td>\n",
       "      <td>0</td>\n",
       "    </tr>\n",
       "    <tr>\n",
       "      <td>1</td>\n",
       "      <td>3.0</td>\n",
       "      <td>5.2</td>\n",
       "      <td>5.0</td>\n",
       "      <td>72</td>\n",
       "      <td>164</td>\n",
       "      <td>5.5</td>\n",
       "      <td>2.27</td>\n",
       "      <td>3.39</td>\n",
       "      <td>0.64</td>\n",
       "      <td>20.69</td>\n",
       "      <td>...</td>\n",
       "      <td>NaN</td>\n",
       "      <td>NaN</td>\n",
       "      <td>NaN</td>\n",
       "      <td>-1</td>\n",
       "      <td>1</td>\n",
       "      <td>2</td>\n",
       "      <td>57.0</td>\n",
       "      <td>0</td>\n",
       "      <td>1</td>\n",
       "      <td>0</td>\n",
       "    </tr>\n",
       "    <tr>\n",
       "      <td>2</td>\n",
       "      <td>4.0</td>\n",
       "      <td>5.1</td>\n",
       "      <td>5.8</td>\n",
       "      <td>85</td>\n",
       "      <td>345</td>\n",
       "      <td>6.6</td>\n",
       "      <td>2.10</td>\n",
       "      <td>4.14</td>\n",
       "      <td>0.36</td>\n",
       "      <td>30.47</td>\n",
       "      <td>...</td>\n",
       "      <td>NaN</td>\n",
       "      <td>NaN</td>\n",
       "      <td>NaN</td>\n",
       "      <td>-1</td>\n",
       "      <td>1</td>\n",
       "      <td>2</td>\n",
       "      <td>57.0</td>\n",
       "      <td>0</td>\n",
       "      <td>0</td>\n",
       "      <td>1</td>\n",
       "    </tr>\n",
       "    <tr>\n",
       "      <td>3</td>\n",
       "      <td>5.0</td>\n",
       "      <td>5.6</td>\n",
       "      <td>5.7</td>\n",
       "      <td>74</td>\n",
       "      <td>438</td>\n",
       "      <td>6.3</td>\n",
       "      <td>1.04</td>\n",
       "      <td>3.96</td>\n",
       "      <td>3.38</td>\n",
       "      <td>31.80</td>\n",
       "      <td>...</td>\n",
       "      <td>1600.0</td>\n",
       "      <td>400.0</td>\n",
       "      <td>50.0</td>\n",
       "      <td>-1</td>\n",
       "      <td>1</td>\n",
       "      <td>1</td>\n",
       "      <td>55.0</td>\n",
       "      <td>1</td>\n",
       "      <td>0</td>\n",
       "      <td>0</td>\n",
       "    </tr>\n",
       "    <tr>\n",
       "      <td>4</td>\n",
       "      <td>12.0</td>\n",
       "      <td>5.7</td>\n",
       "      <td>5.5</td>\n",
       "      <td>88</td>\n",
       "      <td>286</td>\n",
       "      <td>7.1</td>\n",
       "      <td>0.91</td>\n",
       "      <td>5.33</td>\n",
       "      <td>1.80</td>\n",
       "      <td>26.50</td>\n",
       "      <td>...</td>\n",
       "      <td>400.0</td>\n",
       "      <td>600.0</td>\n",
       "      <td>100.0</td>\n",
       "      <td>-1</td>\n",
       "      <td>3</td>\n",
       "      <td>0</td>\n",
       "      <td>60.0</td>\n",
       "      <td>1</td>\n",
       "      <td>0</td>\n",
       "      <td>0</td>\n",
       "    </tr>\n",
       "  </tbody>\n",
       "</table>\n",
       "<p>5 rows × 39 columns</p>\n",
       "</div>"
      ],
      "text/plain": [
       "   Number  Глюкоза  Мочевина  Креатинин  Мочевая к-та  Холестерин  Х-ЛПВП  \\\n",
       "0     2.0      6.2       5.9        110           443         6.2    1.07   \n",
       "1     3.0      5.2       5.0         72           164         5.5    2.27   \n",
       "2     4.0      5.1       5.8         85           345         6.6    2.10   \n",
       "3     5.0      5.6       5.7         74           438         6.3    1.04   \n",
       "4    12.0      5.7       5.5         88           286         7.1    0.91   \n",
       "\n",
       "   Х-ЛПНП  Триглицериды  индекс массы тела  ...  АТ к Анг  II   АТ к ЭТ   \\\n",
       "0    4.25          2.37              20.00  ...            NaN       NaN   \n",
       "1    3.39          0.64              20.69  ...            NaN       NaN   \n",
       "2    4.14          0.36              30.47  ...            NaN       NaN   \n",
       "3    3.96          3.38              31.80  ...         1600.0     400.0   \n",
       "4    5.33          1.80              26.50  ...          400.0     600.0   \n",
       "\n",
       "   АТ к HLDF- 24  Target  phys  mind   age  male  female  no_spec_gender  \n",
       "0            NaN      -1     3     0  63.0     1       0               0  \n",
       "1            NaN      -1     1     2  57.0     0       1               0  \n",
       "2            NaN      -1     1     2  57.0     0       0               1  \n",
       "3           50.0      -1     1     1  55.0     1       0               0  \n",
       "4          100.0      -1     3     0  60.0     1       0               0  \n",
       "\n",
       "[5 rows x 39 columns]"
      ]
     },
     "execution_count": 6,
     "metadata": {},
     "output_type": "execute_result"
    }
   ],
   "source": [
    "data.head(5)"
   ]
  },
  {
   "cell_type": "markdown",
   "metadata": {},
   "source": [
    "Разобьём случайным образом выборку на train и test для дальнейших манипуляций. В силу малого размера самой выборки, воспользуемся кросс-валидацией на 4 фолда"
   ]
  },
  {
   "cell_type": "code",
   "execution_count": 7,
   "metadata": {},
   "outputs": [],
   "source": [
    "from sklearn.model_selection import KFold"
   ]
  },
  {
   "cell_type": "code",
   "execution_count": 181,
   "metadata": {},
   "outputs": [],
   "source": [
    "folds = KFold(n_splits = 4, shuffle = True, random_state = 451)"
   ]
  },
  {
   "cell_type": "code",
   "execution_count": 182,
   "metadata": {},
   "outputs": [
    {
     "data": {
      "text/plain": [
       "4"
      ]
     },
     "execution_count": 182,
     "metadata": {},
     "output_type": "execute_result"
    }
   ],
   "source": [
    "folds.get_n_splits(data)"
   ]
  },
  {
   "cell_type": "code",
   "execution_count": 183,
   "metadata": {
    "collapsed": true
   },
   "outputs": [
    {
     "name": "stdout",
     "output_type": "stream",
     "text": [
      "Train:  [  0   1   2   3   4   6   9  11  13  14  15  17  18  19  20  22  24  25\n",
      "  27  28  29  30  31  33  34  35  36  37  40  41  42  43  44  45  46  47\n",
      "  48  50  52  53  54  55  57  58  60  62  63  64  65  66  67  68  69  70\n",
      "  73  74  75  76  77  78  79  81  82  84  85  87  89  91  92  94  95  96\n",
      "  97  98  99 100 101 102 103 106 107 108 112 113 114 115 116]\n",
      "Test:  [  5   7   8  10  12  16  21  23  26  32  38  39  49  51  56  59  61  71\n",
      "  72  80  83  86  88  90  93 104 105 109 110 111]\n",
      "Train:  [  0   1   4   5   6   7   8   9  10  11  12  14  16  17  18  19  21  23\n",
      "  24  25  26  27  29  31  32  33  34  35  36  37  38  39  40  41  42  43\n",
      "  44  45  48  49  51  52  53  55  56  58  59  60  61  62  63  67  69  71\n",
      "  72  73  74  75  76  80  81  83  85  86  87  88  89  90  92  93  94  95\n",
      "  96  97  99 100 102 103 104 105 107 108 109 110 111 112 114 115]\n",
      "Test:  [  2   3  13  15  20  22  28  30  46  47  50  54  57  64  65  66  68  70\n",
      "  77  78  79  82  84  91  98 101 106 113 116]\n",
      "Train:  [  1   2   3   5   7   8  10  12  13  14  15  16  17  19  20  21  22  23\n",
      "  24  26  28  29  30  31  32  35  36  37  38  39  41  43  44  45  46  47\n",
      "  48  49  50  51  52  54  56  57  59  61  62  64  65  66  68  69  70  71\n",
      "  72  73  75  76  77  78  79  80  82  83  84  86  88  90  91  92  93  94\n",
      "  95  98 100 101 103 104 105 106 107 108 109 110 111 113 114 116]\n",
      "Test:  [  0   4   6   9  11  18  25  27  33  34  40  42  53  55  58  60  63  67\n",
      "  74  81  85  87  89  96  97  99 102 112 115]\n",
      "Train:  [  0   2   3   4   5   6   7   8   9  10  11  12  13  15  16  18  20  21\n",
      "  22  23  25  26  27  28  30  32  33  34  38  39  40  42  46  47  49  50\n",
      "  51  53  54  55  56  57  58  59  60  61  63  64  65  66  67  68  70  71\n",
      "  72  74  77  78  79  80  81  82  83  84  85  86  87  88  89  90  91  93\n",
      "  96  97  98  99 101 102 104 105 106 109 110 111 112 113 115 116]\n",
      "Test:  [  1  14  17  19  24  29  31  35  36  37  41  43  44  45  48  52  62  69\n",
      "  73  75  76  92  94  95 100 103 107 108 114]\n"
     ]
    }
   ],
   "source": [
    "for train_index, test_index in folds.split(data):\n",
    "    print(\"Train: \", train_index)\n",
    "    print(\"Test: \", test_index)"
   ]
  },
  {
   "cell_type": "raw",
   "metadata": {},
   "source": [
    "Окей, данные разбиты. Теперь оценим наиболее и наименее важные фичи посредством Out-of-bag методики. Варианты базовых моделей:\n",
    "1) Decision Tree \\ Random Forest\n",
    "2) LinearRegression + L2 (Ridge)\n",
    "3) XGboost, или какой-либо другой способ град. бустинга."
   ]
  },
  {
   "cell_type": "code",
   "execution_count": 184,
   "metadata": {},
   "outputs": [],
   "source": [
    "from sklearn.tree import DecisionTreeClassifier as DTC"
   ]
  },
  {
   "cell_type": "markdown",
   "metadata": {},
   "source": [
    "Для решающего дерева из sclearn необходимо избавиться от np.nan элементов"
   ]
  },
  {
   "cell_type": "code",
   "execution_count": 185,
   "metadata": {},
   "outputs": [],
   "source": [
    "data.fillna(0, inplace = True)"
   ]
  },
  {
   "cell_type": "code",
   "execution_count": 186,
   "metadata": {},
   "outputs": [],
   "source": [
    "model = DTC(random_state = 541)"
   ]
  },
  {
   "cell_type": "code",
   "execution_count": 187,
   "metadata": {},
   "outputs": [],
   "source": [
    "columns = data.drop(columns = \"Target\").columns"
   ]
  },
  {
   "cell_type": "code",
   "execution_count": 188,
   "metadata": {
    "collapsed": true
   },
   "outputs": [
    {
     "data": {
      "text/plain": [
       "Index(['Number', 'Глюкоза', 'Мочевина', 'Креатинин', 'Мочевая к-та',\n",
       "       'Холестерин', 'Х-ЛПВП', 'Х-ЛПНП', 'Триглицериды', 'индекс массы тела',\n",
       "       'smoking', 'Alcoholic', 'excess_salt_consumption', 'гиподинамия',\n",
       "       'стресс', 'прием п\\щ контрац', 'насл отяг, По ГБ, ',\n",
       "       'насл отяг, По ССЗ', 'насл отяг, По СД', 'насл, Отяг по почечн, Заб',\n",
       "       'САД', 'ДАД', 'ГЛЖ ин Соколова-Лайона', 'S100b, нг/л (N до 90)',\n",
       "       'Анг II, пг/мл (N 10-60 пг/мл)', 'ЭТ, пмоль/л    (N =0,09)',\n",
       "       'VEGF,  пг/мл (N40-600)', 'HLDF (нг/мл', 'АТ к S100b', 'АТ к Анг  II ',\n",
       "       'АТ к ЭТ ', 'АТ к HLDF- 24', 'phys', 'mind', 'age', 'male', 'female',\n",
       "       'no_spec_gender'],\n",
       "      dtype='object')"
      ]
     },
     "execution_count": 188,
     "metadata": {},
     "output_type": "execute_result"
    }
   ],
   "source": [
    "columns"
   ]
  },
  {
   "cell_type": "code",
   "execution_count": 189,
   "metadata": {},
   "outputs": [],
   "source": [
    "cv_true = []\n",
    "cv = [[], [], [], []]"
   ]
  },
  {
   "cell_type": "code",
   "execution_count": 190,
   "metadata": {},
   "outputs": [],
   "source": [
    "for enum, indixes in enumerate(folds.split(data)):\n",
    "    \n",
    "    train_index = indixes[0]\n",
    "    test_index = indixes[1]\n",
    "    \n",
    "    train = pd.DataFrame.copy(data.loc[train_index])\n",
    "    test = pd.DataFrame.copy(data.loc[test_index])\n",
    "\n",
    "    train_target = np.array(train[\"Target\"])\n",
    "    test_target = np.array(test[\"Target\"])\n",
    "    \n",
    "    train.drop(columns = \"Target\", inplace = True)\n",
    "    test.drop(columns = \"Target\", inplace = True)\n",
    "    \n",
    "    model.fit(train, train_target)\n",
    "    \n",
    "    preds = model.predict(test)\n",
    "    \n",
    "    cv_true.append(roc_auc_score(test_target, preds))\n",
    "    \n",
    "    for column in columns:\n",
    "        \n",
    "        hold = np.array(test[column])\n",
    "        \n",
    "        res = np.copy(hold)\n",
    "        \n",
    "        shuffle(res)\n",
    "        \n",
    "        test[column] = res\n",
    "        \n",
    "        preds_shuffle = model.predict(test)\n",
    "        \n",
    "        cv[enum].append(roc_auc_score(test_target, preds_shuffle))\n",
    "        \n",
    "        test[column] = hold"
   ]
  },
  {
   "cell_type": "code",
   "execution_count": 191,
   "metadata": {
    "collapsed": true
   },
   "outputs": [
    {
     "data": {
      "text/plain": [
       "[[0.8348416289592759,\n",
       "  0.8348416289592759,\n",
       "  0.8348416289592759,\n",
       "  0.8348416289592759,\n",
       "  0.8348416289592759,\n",
       "  0.8348416289592759,\n",
       "  0.8348416289592759,\n",
       "  0.8348416289592759,\n",
       "  0.8348416289592759,\n",
       "  0.8348416289592759,\n",
       "  0.8348416289592759,\n",
       "  0.8348416289592759,\n",
       "  0.8348416289592759,\n",
       "  0.8348416289592759,\n",
       "  0.8348416289592759,\n",
       "  0.8348416289592759,\n",
       "  0.8348416289592759,\n",
       "  0.8348416289592759,\n",
       "  0.8348416289592759,\n",
       "  0.8348416289592759,\n",
       "  0.746606334841629,\n",
       "  0.8529411764705882,\n",
       "  0.8348416289592759,\n",
       "  0.8348416289592759,\n",
       "  0.8348416289592759,\n",
       "  0.8348416289592759,\n",
       "  0.8348416289592759,\n",
       "  0.5633484162895928,\n",
       "  0.8348416289592759,\n",
       "  0.8348416289592759,\n",
       "  0.8348416289592759,\n",
       "  0.8348416289592759,\n",
       "  0.8348416289592759,\n",
       "  0.8348416289592759,\n",
       "  0.8642533936651584,\n",
       "  0.8348416289592759,\n",
       "  0.8348416289592759,\n",
       "  0.8348416289592759],\n",
       " [0.7451923076923077,\n",
       "  0.7836538461538461,\n",
       "  0.7836538461538461,\n",
       "  0.8149038461538461,\n",
       "  0.7836538461538461,\n",
       "  0.7836538461538461,\n",
       "  0.7836538461538461,\n",
       "  0.7836538461538461,\n",
       "  0.7836538461538461,\n",
       "  0.7836538461538461,\n",
       "  0.7836538461538461,\n",
       "  0.7836538461538461,\n",
       "  0.7836538461538461,\n",
       "  0.7836538461538461,\n",
       "  0.7836538461538461,\n",
       "  0.7836538461538461,\n",
       "  0.7836538461538461,\n",
       "  0.7836538461538461,\n",
       "  0.7836538461538461,\n",
       "  0.7836538461538461,\n",
       "  0.5048076923076923,\n",
       "  0.7596153846153846,\n",
       "  0.7836538461538461,\n",
       "  0.7836538461538461,\n",
       "  0.7836538461538461,\n",
       "  0.7836538461538461,\n",
       "  0.7836538461538461,\n",
       "  0.6826923076923077,\n",
       "  0.7836538461538461,\n",
       "  0.7836538461538461,\n",
       "  0.7836538461538461,\n",
       "  0.7836538461538461,\n",
       "  0.7836538461538461,\n",
       "  0.7836538461538461,\n",
       "  0.7836538461538461,\n",
       "  0.7836538461538461,\n",
       "  0.7836538461538461,\n",
       "  0.7836538461538461],\n",
       " [0.6151960784313725,\n",
       "  0.7573529411764706,\n",
       "  0.7990196078431373,\n",
       "  0.7573529411764706,\n",
       "  0.7573529411764706,\n",
       "  0.7573529411764706,\n",
       "  0.7573529411764706,\n",
       "  0.7573529411764706,\n",
       "  0.7450980392156862,\n",
       "  0.7573529411764706,\n",
       "  0.7573529411764706,\n",
       "  0.7573529411764706,\n",
       "  0.7573529411764706,\n",
       "  0.7573529411764706,\n",
       "  0.7573529411764706,\n",
       "  0.7279411764705881,\n",
       "  0.7573529411764706,\n",
       "  0.7573529411764706,\n",
       "  0.7573529411764706,\n",
       "  0.7573529411764706,\n",
       "  0.6568627450980391,\n",
       "  0.7573529411764706,\n",
       "  0.7867647058823529,\n",
       "  0.7573529411764706,\n",
       "  0.7573529411764706,\n",
       "  0.7573529411764706,\n",
       "  0.7573529411764706,\n",
       "  0.5906862745098039,\n",
       "  0.7573529411764706,\n",
       "  0.7573529411764706,\n",
       "  0.7573529411764706,\n",
       "  0.7573529411764706,\n",
       "  0.7573529411764706,\n",
       "  0.7573529411764706,\n",
       "  0.7573529411764706,\n",
       "  0.7573529411764706,\n",
       "  0.7573529411764706,\n",
       "  0.7573529411764706],\n",
       " [0.7818627450980391,\n",
       "  0.8529411764705882,\n",
       "  0.8529411764705882,\n",
       "  0.8235294117647058,\n",
       "  0.8529411764705882,\n",
       "  0.8823529411764706,\n",
       "  0.8529411764705882,\n",
       "  0.8529411764705882,\n",
       "  0.8112745098039215,\n",
       "  0.8529411764705882,\n",
       "  0.8529411764705882,\n",
       "  0.8529411764705882,\n",
       "  0.8529411764705882,\n",
       "  0.8529411764705882,\n",
       "  0.8529411764705882,\n",
       "  0.8529411764705882,\n",
       "  0.8529411764705882,\n",
       "  0.9117647058823529,\n",
       "  0.8529411764705882,\n",
       "  0.8529411764705882,\n",
       "  0.7573529411764706,\n",
       "  0.6519607843137255,\n",
       "  0.8235294117647058,\n",
       "  0.8112745098039215,\n",
       "  0.8529411764705882,\n",
       "  0.8529411764705882,\n",
       "  0.8529411764705882,\n",
       "  0.7279411764705881,\n",
       "  0.8529411764705882,\n",
       "  0.8529411764705882,\n",
       "  0.8529411764705882,\n",
       "  0.8529411764705882,\n",
       "  0.8529411764705882,\n",
       "  0.8529411764705882,\n",
       "  0.8529411764705882,\n",
       "  0.8529411764705882,\n",
       "  0.8529411764705882,\n",
       "  0.8529411764705882]]"
      ]
     },
     "execution_count": 191,
     "metadata": {},
     "output_type": "execute_result"
    }
   ],
   "source": [
    "cv"
   ]
  },
  {
   "cell_type": "code",
   "execution_count": 192,
   "metadata": {},
   "outputs": [
    {
     "data": {
      "text/plain": [
       "[0.8348416289592759,\n",
       " 0.7836538461538461,\n",
       " 0.7573529411764706,\n",
       " 0.8529411764705882]"
      ]
     },
     "execution_count": 192,
     "metadata": {},
     "output_type": "execute_result"
    }
   ],
   "source": [
    "cv_true"
   ]
  },
  {
   "cell_type": "code",
   "execution_count": 193,
   "metadata": {},
   "outputs": [],
   "source": [
    "cv_check = [[], [], [], []]"
   ]
  },
  {
   "cell_type": "code",
   "execution_count": 194,
   "metadata": {},
   "outputs": [],
   "source": [
    "for i in range(4):\n",
    "    true_i = cv_true[i]\n",
    "    \n",
    "    for enum, val in enumerate(cv[i]):\n",
    "        \n",
    "        if true_i > val:\n",
    "            cv_check[i].append(enum)"
   ]
  },
  {
   "cell_type": "code",
   "execution_count": 195,
   "metadata": {},
   "outputs": [
    {
     "data": {
      "text/plain": [
       "[[20, 27], [0, 20, 21, 27], [0, 8, 15, 20, 27], [0, 3, 8, 20, 21, 22, 23, 27]]"
      ]
     },
     "execution_count": 195,
     "metadata": {},
     "output_type": "execute_result"
    }
   ],
   "source": [
    "cv_check"
   ]
  },
  {
   "cell_type": "code",
   "execution_count": 196,
   "metadata": {},
   "outputs": [
    {
     "name": "stdout",
     "output_type": "stream",
     "text": [
      "Positive:  САД\n",
      "Positive:  HLDF (нг/мл\n"
     ]
    }
   ],
   "source": [
    "for item in cv_check[0]:\n",
    "    \n",
    "    if item >= 0:\n",
    "        print(\"Positive: \", columns[item])"
   ]
  },
  {
   "cell_type": "code",
   "execution_count": 197,
   "metadata": {},
   "outputs": [
    {
     "name": "stdout",
     "output_type": "stream",
     "text": [
      "Positive:  Number\n",
      "Positive:  САД\n",
      "Positive:  ДАД\n",
      "Positive:  HLDF (нг/мл\n"
     ]
    }
   ],
   "source": [
    "for item in cv_check[1]:\n",
    "    \n",
    "    if item >= 0:\n",
    "        print(\"Positive: \", columns[item])"
   ]
  },
  {
   "cell_type": "code",
   "execution_count": 198,
   "metadata": {},
   "outputs": [
    {
     "name": "stdout",
     "output_type": "stream",
     "text": [
      "Positive:  Number\n",
      "Positive:  Триглицериды\n",
      "Positive:  прием п\\щ контрац\n",
      "Positive:  САД\n",
      "Positive:  HLDF (нг/мл\n"
     ]
    }
   ],
   "source": [
    "for item in cv_check[2]:\n",
    "    \n",
    "    if item >= 0:\n",
    "        print(\"Positive: \", columns[item])"
   ]
  },
  {
   "cell_type": "code",
   "execution_count": 199,
   "metadata": {},
   "outputs": [
    {
     "name": "stdout",
     "output_type": "stream",
     "text": [
      "Positive:  Number\n",
      "Positive:  Креатинин\n",
      "Positive:  Триглицериды\n",
      "Positive:  САД\n",
      "Positive:  ДАД\n",
      "Positive:  ГЛЖ ин Соколова-Лайона\n",
      "Positive:  S100b, нг/л (N до 90)\n",
      "Positive:  HLDF (нг/мл\n"
     ]
    }
   ],
   "source": [
    "for item in cv_check[3]:\n",
    "    \n",
    "    if item >= 0:\n",
    "        print(\"Positive: \", columns[item])"
   ]
  },
  {
   "cell_type": "code",
   "execution_count": 200,
   "metadata": {},
   "outputs": [],
   "source": [
    "useful_features = []"
   ]
  },
  {
   "cell_type": "code",
   "execution_count": 201,
   "metadata": {},
   "outputs": [],
   "source": [
    "for item in cv_check:\n",
    "    for val in item:\n",
    "        if columns[val] not in useful_features:\n",
    "            useful_features.append(columns[val])"
   ]
  },
  {
   "cell_type": "code",
   "execution_count": 202,
   "metadata": {},
   "outputs": [
    {
     "data": {
      "text/plain": [
       "['САД',\n",
       " 'HLDF (нг/мл',\n",
       " 'Number',\n",
       " 'ДАД',\n",
       " 'Триглицериды',\n",
       " 'прием п\\\\щ контрац',\n",
       " 'Креатинин',\n",
       " 'ГЛЖ ин Соколова-Лайона',\n",
       " 'S100b, нг/л (N до 90)']"
      ]
     },
     "execution_count": 202,
     "metadata": {},
     "output_type": "execute_result"
    }
   ],
   "source": [
    "useful_features"
   ]
  },
  {
   "cell_type": "markdown",
   "metadata": {},
   "source": [
    "Для более корректной оценки полезных фич оценка будет запущена 100 раз и выбраны наиболее часто встречающиеся фичи"
   ]
  },
  {
   "cell_type": "code",
   "execution_count": 223,
   "metadata": {},
   "outputs": [],
   "source": [
    "values = []"
   ]
  },
  {
   "cell_type": "code",
   "execution_count": 224,
   "metadata": {},
   "outputs": [],
   "source": [
    "for i in range(100):\n",
    "    \n",
    "    model = DTC()\n",
    "    \n",
    "    cv = [[], [], [], []]\n",
    "    cv_true = []\n",
    "    \n",
    "    for enum, indixes in enumerate(folds.split(data)):\n",
    "\n",
    "        train_index = indixes[0]\n",
    "        test_index = indixes[1]\n",
    "\n",
    "        train = pd.DataFrame.copy(data.loc[train_index])\n",
    "        test = pd.DataFrame.copy(data.loc[test_index])\n",
    "\n",
    "        train_target = np.array(train[\"Target\"])\n",
    "        test_target = np.array(test[\"Target\"])\n",
    "\n",
    "        train.drop(columns = \"Target\", inplace = True)\n",
    "        test.drop(columns = \"Target\", inplace = True)\n",
    "\n",
    "        model.fit(train, train_target)\n",
    "\n",
    "        preds = model.predict(test)\n",
    "\n",
    "        cv_true.append(roc_auc_score(test_target, preds))\n",
    "\n",
    "        for column in columns:\n",
    "\n",
    "            hold = np.array(test[column])\n",
    "\n",
    "            res = np.copy(hold)\n",
    "\n",
    "            shuffle(res)\n",
    "\n",
    "            test[column] = res\n",
    "\n",
    "            preds_shuffle = model.predict(test)\n",
    "\n",
    "            cv[enum].append(roc_auc_score(test_target, preds_shuffle))\n",
    "\n",
    "            test[column] = hold\n",
    "            \n",
    "    cv_check = [[], [], [], []]\n",
    "    \n",
    "    for i in range(4):\n",
    "        true_i = cv_true[i]\n",
    "\n",
    "        for enum, val in enumerate(cv[i]):\n",
    "\n",
    "            if true_i > val:\n",
    "                cv_check[i].append(enum)\n",
    "    \n",
    "    useful_features = []\n",
    "    \n",
    "    for item in cv_check:\n",
    "        for val in item:\n",
    "            if columns[val] not in useful_features:\n",
    "                useful_features.append(columns[val])\n",
    "                \n",
    "    values.append(useful_features)"
   ]
  },
  {
   "cell_type": "code",
   "execution_count": 244,
   "metadata": {},
   "outputs": [],
   "source": [
    "association = np.zeros(38)"
   ]
  },
  {
   "cell_type": "code",
   "execution_count": 245,
   "metadata": {
    "collapsed": true
   },
   "outputs": [
    {
     "name": "stdout",
     "output_type": "stream",
     "text": [
      "Number\n",
      "[100.   0.   0.   0.   0.   0.   0.   0.   0.   0.   0.   0.   0.   0.\n",
      "   0.   0.   0.   0.   0.   0.   0.   0.   0.   0.   0.   0.   0.   0.\n",
      "   0.   0.   0.   0.   0.   0.   0.   0.   0.   0.]\n",
      "Глюкоза\n",
      "[100.  16.   0.   0.   0.   0.   0.   0.   0.   0.   0.   0.   0.   0.\n",
      "   0.   0.   0.   0.   0.   0.   0.   0.   0.   0.   0.   0.   0.   0.\n",
      "   0.   0.   0.   0.   0.   0.   0.   0.   0.   0.]\n",
      "Мочевина\n",
      "[100.  16.  33.   0.   0.   0.   0.   0.   0.   0.   0.   0.   0.   0.\n",
      "   0.   0.   0.   0.   0.   0.   0.   0.   0.   0.   0.   0.   0.   0.\n",
      "   0.   0.   0.   0.   0.   0.   0.   0.   0.   0.]\n",
      "Креатинин\n",
      "[100.  16.  33.  55.   0.   0.   0.   0.   0.   0.   0.   0.   0.   0.\n",
      "   0.   0.   0.   0.   0.   0.   0.   0.   0.   0.   0.   0.   0.   0.\n",
      "   0.   0.   0.   0.   0.   0.   0.   0.   0.   0.]\n",
      "Мочевая к-та\n",
      "[100.  16.  33.  55.  37.   0.   0.   0.   0.   0.   0.   0.   0.   0.\n",
      "   0.   0.   0.   0.   0.   0.   0.   0.   0.   0.   0.   0.   0.   0.\n",
      "   0.   0.   0.   0.   0.   0.   0.   0.   0.   0.]\n",
      "Холестерин\n",
      "[100.  16.  33.  55.  37.  17.   0.   0.   0.   0.   0.   0.   0.   0.\n",
      "   0.   0.   0.   0.   0.   0.   0.   0.   0.   0.   0.   0.   0.   0.\n",
      "   0.   0.   0.   0.   0.   0.   0.   0.   0.   0.]\n",
      "Х-ЛПВП\n",
      "[100.  16.  33.  55.  37.  17.  13.   0.   0.   0.   0.   0.   0.   0.\n",
      "   0.   0.   0.   0.   0.   0.   0.   0.   0.   0.   0.   0.   0.   0.\n",
      "   0.   0.   0.   0.   0.   0.   0.   0.   0.   0.]\n",
      "Х-ЛПНП\n",
      "[100.  16.  33.  55.  37.  17.  13.  11.   0.   0.   0.   0.   0.   0.\n",
      "   0.   0.   0.   0.   0.   0.   0.   0.   0.   0.   0.   0.   0.   0.\n",
      "   0.   0.   0.   0.   0.   0.   0.   0.   0.   0.]\n",
      "Триглицериды\n",
      "[100.  16.  33.  55.  37.  17.  13.  11.  80.   0.   0.   0.   0.   0.\n",
      "   0.   0.   0.   0.   0.   0.   0.   0.   0.   0.   0.   0.   0.   0.\n",
      "   0.   0.   0.   0.   0.   0.   0.   0.   0.   0.]\n",
      "индекс массы тела\n",
      "[100.  16.  33.  55.  37.  17.  13.  11.  80.  27.   0.   0.   0.   0.\n",
      "   0.   0.   0.   0.   0.   0.   0.   0.   0.   0.   0.   0.   0.   0.\n",
      "   0.   0.   0.   0.   0.   0.   0.   0.   0.   0.]\n",
      "smoking\n",
      "[100.  16.  33.  55.  37.  17.  13.  11.  80.  27.   0.   0.   0.   0.\n",
      "   0.   0.   0.   0.   0.   0.   0.   0.   0.   0.   0.   0.   0.   0.\n",
      "   0.   0.   0.   0.   0.   0.   0.   0.   0.   0.]\n",
      "Alcoholic\n",
      "[100.  16.  33.  55.  37.  17.  13.  11.  80.  27.   0.   0.   0.   0.\n",
      "   0.   0.   0.   0.   0.   0.   0.   0.   0.   0.   0.   0.   0.   0.\n",
      "   0.   0.   0.   0.   0.   0.   0.   0.   0.   0.]\n",
      "excess_salt_consumption\n",
      "[100.  16.  33.  55.  37.  17.  13.  11.  80.  27.   0.   0.   1.   0.\n",
      "   0.   0.   0.   0.   0.   0.   0.   0.   0.   0.   0.   0.   0.   0.\n",
      "   0.   0.   0.   0.   0.   0.   0.   0.   0.   0.]\n",
      "гиподинамия\n",
      "[100.  16.  33.  55.  37.  17.  13.  11.  80.  27.   0.   0.   1.   0.\n",
      "   0.   0.   0.   0.   0.   0.   0.   0.   0.   0.   0.   0.   0.   0.\n",
      "   0.   0.   0.   0.   0.   0.   0.   0.   0.   0.]\n",
      "стресс\n",
      "[100.  16.  33.  55.  37.  17.  13.  11.  80.  27.   0.   0.   1.   0.\n",
      "   0.   0.   0.   0.   0.   0.   0.   0.   0.   0.   0.   0.   0.   0.\n",
      "   0.   0.   0.   0.   0.   0.   0.   0.   0.   0.]\n",
      "прием п\\щ контрац\n",
      "[100.  16.  33.  55.  37.  17.  13.  11.  80.  27.   0.   0.   1.   0.\n",
      "   0.  39.   0.   0.   0.   0.   0.   0.   0.   0.   0.   0.   0.   0.\n",
      "   0.   0.   0.   0.   0.   0.   0.   0.   0.   0.]\n",
      "насл отяг, По ГБ, \n",
      "[100.  16.  33.  55.  37.  17.  13.  11.  80.  27.   0.   0.   1.   0.\n",
      "   0.  39.   1.   0.   0.   0.   0.   0.   0.   0.   0.   0.   0.   0.\n",
      "   0.   0.   0.   0.   0.   0.   0.   0.   0.   0.]\n",
      "насл отяг, По ССЗ\n",
      "[100.  16.  33.  55.  37.  17.  13.  11.  80.  27.   0.   0.   1.   0.\n",
      "   0.  39.   1.   0.   0.   0.   0.   0.   0.   0.   0.   0.   0.   0.\n",
      "   0.   0.   0.   0.   0.   0.   0.   0.   0.   0.]\n",
      "насл отяг, По СД\n",
      "[100.  16.  33.  55.  37.  17.  13.  11.  80.  27.   0.   0.   1.   0.\n",
      "   0.  39.   1.   0.   0.   0.   0.   0.   0.   0.   0.   0.   0.   0.\n",
      "   0.   0.   0.   0.   0.   0.   0.   0.   0.   0.]\n",
      "насл, Отяг по почечн, Заб\n",
      "[100.  16.  33.  55.  37.  17.  13.  11.  80.  27.   0.   0.   1.   0.\n",
      "   0.  39.   1.   0.   0.   1.   0.   0.   0.   0.   0.   0.   0.   0.\n",
      "   0.   0.   0.   0.   0.   0.   0.   0.   0.   0.]\n",
      "САД\n",
      "[100.  16.  33.  55.  37.  17.  13.  11.  80.  27.   0.   0.   1.   0.\n",
      "   0.  39.   1.   0.   0.   1. 100.   0.   0.   0.   0.   0.   0.   0.\n",
      "   0.   0.   0.   0.   0.   0.   0.   0.   0.   0.]\n",
      "ДАД\n",
      "[100.  16.  33.  55.  37.  17.  13.  11.  80.  27.   0.   0.   1.   0.\n",
      "   0.  39.   1.   0.   0.   1. 100.  97.   0.   0.   0.   0.   0.   0.\n",
      "   0.   0.   0.   0.   0.   0.   0.   0.   0.   0.]\n",
      "ГЛЖ ин Соколова-Лайона\n",
      "[100.  16.  33.  55.  37.  17.  13.  11.  80.  27.   0.   0.   1.   0.\n",
      "   0.  39.   1.   0.   0.   1. 100.  97.  60.   0.   0.   0.   0.   0.\n",
      "   0.   0.   0.   0.   0.   0.   0.   0.   0.   0.]\n",
      "S100b, нг/л (N до 90)\n",
      "[100.  16.  33.  55.  37.  17.  13.  11.  80.  27.   0.   0.   1.   0.\n",
      "   0.  39.   1.   0.   0.   1. 100.  97.  60.   4.   0.   0.   0.   0.\n",
      "   0.   0.   0.   0.   0.   0.   0.   0.   0.   0.]\n",
      "Анг II, пг/мл (N 10-60 пг/мл)\n",
      "[100.  16.  33.  55.  37.  17.  13.  11.  80.  27.   0.   0.   1.   0.\n",
      "   0.  39.   1.   0.   0.   1. 100.  97.  60.   4.   5.   0.   0.   0.\n",
      "   0.   0.   0.   0.   0.   0.   0.   0.   0.   0.]\n",
      "ЭТ, пмоль/л    (N =0,09)\n",
      "[100.  16.  33.  55.  37.  17.  13.  11.  80.  27.   0.   0.   1.   0.\n",
      "   0.  39.   1.   0.   0.   1. 100.  97.  60.   4.   5.   1.   0.   0.\n",
      "   0.   0.   0.   0.   0.   0.   0.   0.   0.   0.]\n",
      "VEGF,  пг/мл (N40-600)\n",
      "[100.  16.  33.  55.  37.  17.  13.  11.  80.  27.   0.   0.   1.   0.\n",
      "   0.  39.   1.   0.   0.   1. 100.  97.  60.   4.   5.   1.  32.   0.\n",
      "   0.   0.   0.   0.   0.   0.   0.   0.   0.   0.]\n",
      "HLDF (нг/мл\n",
      "[100.  16.  33.  55.  37.  17.  13.  11.  80.  27.   0.   0.   1.   0.\n",
      "   0.  39.   1.   0.   0.   1. 100.  97.  60.   4.   5.   1.  32. 100.\n",
      "   0.   0.   0.   0.   0.   0.   0.   0.   0.   0.]\n",
      "АТ к S100b\n",
      "[100.  16.  33.  55.  37.  17.  13.  11.  80.  27.   0.   0.   1.   0.\n",
      "   0.  39.   1.   0.   0.   1. 100.  97.  60.   4.   5.   1.  32. 100.\n",
      "   0.   0.   0.   0.   0.   0.   0.   0.   0.   0.]\n",
      "АТ к Анг  II \n",
      "[100.  16.  33.  55.  37.  17.  13.  11.  80.  27.   0.   0.   1.   0.\n",
      "   0.  39.   1.   0.   0.   1. 100.  97.  60.   4.   5.   1.  32. 100.\n",
      "   0.  11.   0.   0.   0.   0.   0.   0.   0.   0.]\n",
      "АТ к ЭТ \n",
      "[100.  16.  33.  55.  37.  17.  13.  11.  80.  27.   0.   0.   1.   0.\n",
      "   0.  39.   1.   0.   0.   1. 100.  97.  60.   4.   5.   1.  32. 100.\n",
      "   0.  11.   1.   0.   0.   0.   0.   0.   0.   0.]\n",
      "АТ к HLDF- 24\n",
      "[100.  16.  33.  55.  37.  17.  13.  11.  80.  27.   0.   0.   1.   0.\n",
      "   0.  39.   1.   0.   0.   1. 100.  97.  60.   4.   5.   1.  32. 100.\n",
      "   0.  11.   1.   8.   0.   0.   0.   0.   0.   0.]\n",
      "phys\n",
      "[100.  16.  33.  55.  37.  17.  13.  11.  80.  27.   0.   0.   1.   0.\n",
      "   0.  39.   1.   0.   0.   1. 100.  97.  60.   4.   5.   1.  32. 100.\n",
      "   0.  11.   1.   8.   5.   0.   0.   0.   0.   0.]\n",
      "mind\n",
      "[100.  16.  33.  55.  37.  17.  13.  11.  80.  27.   0.   0.   1.   0.\n",
      "   0.  39.   1.   0.   0.   1. 100.  97.  60.   4.   5.   1.  32. 100.\n",
      "   0.  11.   1.   8.   5.   4.   0.   0.   0.   0.]\n",
      "age\n",
      "[100.  16.  33.  55.  37.  17.  13.  11.  80.  27.   0.   0.   1.   0.\n",
      "   0.  39.   1.   0.   0.   1. 100.  97.  60.   4.   5.   1.  32. 100.\n",
      "   0.  11.   1.   8.   5.   4.  23.   0.   0.   0.]\n",
      "male\n",
      "[100.  16.  33.  55.  37.  17.  13.  11.  80.  27.   0.   0.   1.   0.\n",
      "   0.  39.   1.   0.   0.   1. 100.  97.  60.   4.   5.   1.  32. 100.\n",
      "   0.  11.   1.   8.   5.   4.  23.   0.   0.   0.]\n",
      "female\n",
      "[100.  16.  33.  55.  37.  17.  13.  11.  80.  27.   0.   0.   1.   0.\n",
      "   0.  39.   1.   0.   0.   1. 100.  97.  60.   4.   5.   1.  32. 100.\n",
      "   0.  11.   1.   8.   5.   4.  23.   0.   1.   0.]\n",
      "no_spec_gender\n",
      "[100.  16.  33.  55.  37.  17.  13.  11.  80.  27.   0.   0.   1.   0.\n",
      "   0.  39.   1.   0.   0.   1. 100.  97.  60.   4.   5.   1.  32. 100.\n",
      "   0.  11.   1.   8.   5.   4.  23.   0.   1.   0.]\n"
     ]
    }
   ],
   "source": [
    "for enum, item in enumerate(columns):\n",
    "    print(item)\n",
    "    for best in values:\n",
    "        if item in best:\n",
    "            association[enum] += 1\n",
    "            \n",
    "    print(association)"
   ]
  },
  {
   "cell_type": "code",
   "execution_count": 253,
   "metadata": {},
   "outputs": [],
   "source": [
    "order = np.argsort(association)[::-1]"
   ]
  },
  {
   "cell_type": "code",
   "execution_count": 254,
   "metadata": {},
   "outputs": [
    {
     "data": {
      "text/plain": [
       "Index(['Number', 'САД', 'HLDF (нг/мл', 'ДАД', 'Триглицериды',\n",
       "       'ГЛЖ ин Соколова-Лайона', 'Креатинин', 'прием п\\щ контрац',\n",
       "       'Мочевая к-та', 'Мочевина', 'VEGF,  пг/мл (N40-600)',\n",
       "       'индекс массы тела', 'age', 'Холестерин', 'Глюкоза', 'Х-ЛПВП',\n",
       "       'АТ к Анг  II ', 'Х-ЛПНП', 'АТ к HLDF- 24', 'phys',\n",
       "       'Анг II, пг/мл (N 10-60 пг/мл)', 'mind', 'S100b, нг/л (N до 90)',\n",
       "       'насл отяг, По ГБ, ', 'female', 'excess_salt_consumption',\n",
       "       'насл, Отяг по почечн, Заб', 'АТ к ЭТ ', 'ЭТ, пмоль/л    (N =0,09)',\n",
       "       'no_spec_gender', 'smoking', 'Alcoholic', 'гиподинамия', 'стресс',\n",
       "       'насл отяг, По ССЗ', 'АТ к S100b', 'male', 'насл отяг, По СД'],\n",
       "      dtype='object')"
      ]
     },
     "execution_count": 254,
     "metadata": {},
     "output_type": "execute_result"
    }
   ],
   "source": [
    "columns[order]"
   ]
  },
  {
   "cell_type": "code",
   "execution_count": 282,
   "metadata": {},
   "outputs": [
    {
     "data": {
      "text/plain": [
       "array([100., 100., 100.,  97.,  80.,  60.,  55.,  39.,  37.,  33.,  32.,\n",
       "        27.,  23.,  17.,  16.,  13.,  11.,  11.,   8.,   5.,   5.,   4.,\n",
       "         4.,   1.,   1.,   1.,   1.,   1.,   1.,   0.,   0.,   0.,   0.,\n",
       "         0.,   0.,   0.,   0.,   0.])"
      ]
     },
     "execution_count": 282,
     "metadata": {},
     "output_type": "execute_result"
    }
   ],
   "source": [
    "association[order]"
   ]
  },
  {
   "cell_type": "markdown",
   "metadata": {},
   "source": [
    "Исходя из этого можно разделить фичи на полезные, относительно полезные и бесполезные. Отсечками будут являться 50% и 10% соответственно"
   ]
  },
  {
   "cell_type": "code",
   "execution_count": 259,
   "metadata": {},
   "outputs": [
    {
     "data": {
      "text/plain": [
       "Index(['Number', 'САД', 'HLDF (нг/мл', 'ДАД', 'Триглицериды',\n",
       "       'ГЛЖ ин Соколова-Лайона', 'Креатинин'],\n",
       "      dtype='object')"
      ]
     },
     "execution_count": 259,
     "metadata": {},
     "output_type": "execute_result"
    }
   ],
   "source": [
    "columns[order[:sum(association[order] > 50)]]"
   ]
  },
  {
   "cell_type": "code",
   "execution_count": 263,
   "metadata": {},
   "outputs": [
    {
     "data": {
      "text/plain": [
       "Index(['прием п\\щ контрац', 'Мочевая к-та', 'Мочевина',\n",
       "       'VEGF,  пг/мл (N40-600)', 'индекс массы тела', 'age', 'Холестерин',\n",
       "       'Глюкоза', 'Х-ЛПВП', 'АТ к Анг  II ', 'Х-ЛПНП'],\n",
       "      dtype='object')"
      ]
     },
     "execution_count": 263,
     "metadata": {},
     "output_type": "execute_result"
    }
   ],
   "source": [
    "columns[order[7:sum(association[order] > 10)]]"
   ]
  },
  {
   "cell_type": "markdown",
   "metadata": {},
   "source": [
    "Оставлены будут следующие параметры:"
   ]
  },
  {
   "cell_type": "code",
   "execution_count": 287,
   "metadata": {},
   "outputs": [
    {
     "data": {
      "text/plain": [
       "Index(['Number', 'САД', 'HLDF (нг/мл', 'ДАД', 'Триглицериды',\n",
       "       'ГЛЖ ин Соколова-Лайона', 'Креатинин', 'прием п\\щ контрац',\n",
       "       'Мочевая к-та', 'Мочевина', 'VEGF,  пг/мл (N40-600)'],\n",
       "      dtype='object')"
      ]
     },
     "execution_count": 287,
     "metadata": {},
     "output_type": "execute_result"
    }
   ],
   "source": [
    "columns[order[:sum(association[order] > 30)]]"
   ]
  },
  {
   "cell_type": "markdown",
   "metadata": {},
   "source": [
    "Сохраним их с соответствующими вероятностями (вероятно, для простоты, в форме их индексов"
   ]
  },
  {
   "cell_type": "code",
   "execution_count": 283,
   "metadata": {},
   "outputs": [],
   "source": [
    "saves = columns[order]"
   ]
  },
  {
   "cell_type": "code",
   "execution_count": 285,
   "metadata": {},
   "outputs": [],
   "source": [
    "percentile = association[order]"
   ]
  },
  {
   "cell_type": "code",
   "execution_count": 284,
   "metadata": {},
   "outputs": [
    {
     "data": {
      "text/plain": [
       "Index(['Number', 'САД', 'HLDF (нг/мл', 'ДАД', 'Триглицериды',\n",
       "       'ГЛЖ ин Соколова-Лайона', 'Креатинин', 'прием п\\щ контрац',\n",
       "       'Мочевая к-та', 'Мочевина', 'VEGF,  пг/мл (N40-600)',\n",
       "       'индекс массы тела', 'age', 'Холестерин', 'Глюкоза', 'Х-ЛПВП',\n",
       "       'АТ к Анг  II ', 'Х-ЛПНП', 'АТ к HLDF- 24', 'phys',\n",
       "       'Анг II, пг/мл (N 10-60 пг/мл)', 'mind', 'S100b, нг/л (N до 90)',\n",
       "       'насл отяг, По ГБ, ', 'female', 'excess_salt_consumption',\n",
       "       'насл, Отяг по почечн, Заб', 'АТ к ЭТ ', 'ЭТ, пмоль/л    (N =0,09)',\n",
       "       'no_spec_gender', 'smoking', 'Alcoholic', 'гиподинамия', 'стресс',\n",
       "       'насл отяг, По ССЗ', 'АТ к S100b', 'male', 'насл отяг, По СД'],\n",
       "      dtype='object')"
      ]
     },
     "execution_count": 284,
     "metadata": {},
     "output_type": "execute_result"
    }
   ],
   "source": [
    "saves"
   ]
  },
  {
   "cell_type": "code",
   "execution_count": 288,
   "metadata": {},
   "outputs": [
    {
     "data": {
      "text/plain": [
       "array([100., 100., 100.,  97.,  80.,  60.,  55.,  39.,  37.,  33.,  32.,\n",
       "        27.,  23.,  17.,  16.,  13.,  11.,  11.,   8.,   5.,   5.,   4.,\n",
       "         4.,   1.,   1.,   1.,   1.,   1.,   1.,   0.,   0.,   0.,   0.,\n",
       "         0.,   0.,   0.,   0.,   0.])"
      ]
     },
     "execution_count": 288,
     "metadata": {},
     "output_type": "execute_result"
    }
   ],
   "source": [
    "percentile"
   ]
  }
 ],
 "metadata": {
  "kernelspec": {
   "display_name": "Python 3",
   "language": "python",
   "name": "python3"
  },
  "language_info": {
   "codemirror_mode": {
    "name": "ipython",
    "version": 3
   },
   "file_extension": ".py",
   "mimetype": "text/x-python",
   "name": "python",
   "nbconvert_exporter": "python",
   "pygments_lexer": "ipython3",
   "version": "3.7.4"
  }
 },
 "nbformat": 4,
 "nbformat_minor": 2
}
