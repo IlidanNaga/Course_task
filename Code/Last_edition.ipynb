{
 "cells": [
  {
   "cell_type": "raw",
   "metadata": {},
   "source": [
    "Давай думать...\n",
    "нам необходимо решить задачу классификации, основанную на 1 ключевом параметре - HLDF, и вспомогательных (необходимо как-нибудь доопределить ключевой параметр через эти вспомогательные, не знаю, как, если честно\n",
    "\n",
    "Для честности эксперимента: сначала правим вид данных без заполнения, основанного на ключевом параметре, затем:\n",
    "1) Разбиваем на train - test сеты, для поддержания честности\n",
    "2) На train сете меняем параметры, используя ключевой признак (придав ему повышенный вес в алгоритме, например (наверное, придется написать свою реализацию алгоритма - выучить, заодно, бустинг)\n",
    "3) На test сете придется как-то менять, опираясь на аналогию train, как - не знаю (к примеру - решить дополнительную задачу регрессии на элементы, которые останутся без подсказок)\n",
    "4) Решить задачу, как-то придав HLDF повышенную важность\n",
    "\n",
    "Метрики:\n",
    "    В подзадаче регрессии - RMSE\\MAE\n",
    "    В задаче классификации - Roc-Auc или Precision"
   ]
  },
  {
   "cell_type": "raw",
   "metadata": {},
   "source": [
    "Шаги:\n",
    "1) Обработать датасет, изменив заполненные категориальные данные не категориальными\n",
    "2) Разбить на train - test\n",
    "3) Обработать train сет\n",
    "4) Изменить test сет\n",
    "5) Закинуть в классификатор"
   ]
  },
  {
   "cell_type": "code",
   "execution_count": 106,
   "metadata": {},
   "outputs": [],
   "source": [
    "from sklearn.metrics import accuracy_score\n",
    "from sklearn.metrics import roc_auc_score\n",
    "from sklearn.metrics import precision_score\n",
    "from sklearn.metrics import recall_score\n",
    "\n",
    "def check_metrics(true_val, pred_val):\n",
    "    print(\"Accuracy: \", accuracy_score(true_val, pred_val))\n",
    "    print(\"Roc_Auc: \", roc_auc_score(true_val, pred_val))\n",
    "    print(\"Precision: \", precision_score(true_val, pred_val), \" - процент правильно определенных положительных\")\n",
    "    print(\"Recall: \", recall_score(true_val, pred_val), \" - процент выбранных положительных\")\n"
   ]
  },
  {
   "cell_type": "code",
   "execution_count": 1,
   "metadata": {},
   "outputs": [],
   "source": [
    "import numpy as np\n",
    "import pandas as pd"
   ]
  },
  {
   "cell_type": "code",
   "execution_count": 2,
   "metadata": {},
   "outputs": [],
   "source": [
    "data = pd.read_excel(\"~/Desktop/data.xls\",header = 3)"
   ]
  },
  {
   "cell_type": "code",
   "execution_count": 3,
   "metadata": {},
   "outputs": [
    {
     "data": {
      "text/html": [
       "<div>\n",
       "<style scoped>\n",
       "    .dataframe tbody tr th:only-of-type {\n",
       "        vertical-align: middle;\n",
       "    }\n",
       "\n",
       "    .dataframe tbody tr th {\n",
       "        vertical-align: top;\n",
       "    }\n",
       "\n",
       "    .dataframe thead th {\n",
       "        text-align: right;\n",
       "    }\n",
       "</style>\n",
       "<table border=\"1\" class=\"dataframe\">\n",
       "  <thead>\n",
       "    <tr style=\"text-align: right;\">\n",
       "      <th></th>\n",
       "      <th>Unnamed: 0</th>\n",
       "      <th>Unnamed: 1</th>\n",
       "      <th>Unnamed: 2</th>\n",
       "      <th>Unnamed: 3</th>\n",
       "      <th>Глюкоза</th>\n",
       "      <th>Мочевина</th>\n",
       "      <th>Креатинин</th>\n",
       "      <th>Мочевая к-та</th>\n",
       "      <th>Холестерин</th>\n",
       "      <th>Х-ЛПВП</th>\n",
       "      <th>...</th>\n",
       "      <th>Анг II, пг/мл (N 10-60 пг/мл)</th>\n",
       "      <th>ЭТ, пмоль/л    (N =0,09)</th>\n",
       "      <th>VEGF,  пг/мл (N40-600)</th>\n",
       "      <th>HLDF (нг/мл</th>\n",
       "      <th>АТ к S100b</th>\n",
       "      <th>АТ к Анг  II</th>\n",
       "      <th>АТ к ЭТ</th>\n",
       "      <th>АТ к HLDF- 24</th>\n",
       "      <th>Unnamed: 35</th>\n",
       "      <th>Unnamed: 36</th>\n",
       "    </tr>\n",
       "  </thead>\n",
       "  <tbody>\n",
       "    <tr>\n",
       "      <td>0</td>\n",
       "      <td>NaN</td>\n",
       "      <td>NaN</td>\n",
       "      <td>NaN</td>\n",
       "      <td>NaN</td>\n",
       "      <td>мМ/Л</td>\n",
       "      <td>мМ/Л</td>\n",
       "      <td>мкМ/Л</td>\n",
       "      <td>мкМ/Л</td>\n",
       "      <td>мМ/Л</td>\n",
       "      <td>мМ/Л</td>\n",
       "      <td>...</td>\n",
       "      <td>NaN</td>\n",
       "      <td>NaN</td>\n",
       "      <td>NaN</td>\n",
       "      <td>NaN</td>\n",
       "      <td>NaN</td>\n",
       "      <td>NaN</td>\n",
       "      <td>NaN</td>\n",
       "      <td>NaN</td>\n",
       "      <td>NaN</td>\n",
       "      <td>NaN</td>\n",
       "    </tr>\n",
       "    <tr>\n",
       "      <td>1</td>\n",
       "      <td>2.0</td>\n",
       "      <td>Сл-сантехник</td>\n",
       "      <td>2.0</td>\n",
       "      <td>1956.0</td>\n",
       "      <td>6.2</td>\n",
       "      <td>5.9</td>\n",
       "      <td>110</td>\n",
       "      <td>443</td>\n",
       "      <td>6.2</td>\n",
       "      <td>1.07</td>\n",
       "      <td>...</td>\n",
       "      <td>NaN</td>\n",
       "      <td>NaN</td>\n",
       "      <td>NaN</td>\n",
       "      <td>NaN</td>\n",
       "      <td>NaN</td>\n",
       "      <td>NaN</td>\n",
       "      <td>NaN</td>\n",
       "      <td>NaN</td>\n",
       "      <td>0</td>\n",
       "      <td>2.0</td>\n",
       "    </tr>\n",
       "    <tr>\n",
       "      <td>2</td>\n",
       "      <td>3.0</td>\n",
       "      <td>инженер</td>\n",
       "      <td>1.0</td>\n",
       "      <td>1962.0</td>\n",
       "      <td>5.2</td>\n",
       "      <td>5</td>\n",
       "      <td>72</td>\n",
       "      <td>164</td>\n",
       "      <td>5.5</td>\n",
       "      <td>2.27</td>\n",
       "      <td>...</td>\n",
       "      <td>NaN</td>\n",
       "      <td>NaN</td>\n",
       "      <td>NaN</td>\n",
       "      <td>NaN</td>\n",
       "      <td>NaN</td>\n",
       "      <td>NaN</td>\n",
       "      <td>NaN</td>\n",
       "      <td>NaN</td>\n",
       "      <td>0</td>\n",
       "      <td>3.0</td>\n",
       "    </tr>\n",
       "    <tr>\n",
       "      <td>3</td>\n",
       "      <td>4.0</td>\n",
       "      <td>Инженер-технолог</td>\n",
       "      <td>-1000.0</td>\n",
       "      <td>1962.0</td>\n",
       "      <td>5.1</td>\n",
       "      <td>5.8</td>\n",
       "      <td>85</td>\n",
       "      <td>345</td>\n",
       "      <td>6.6</td>\n",
       "      <td>2.1</td>\n",
       "      <td>...</td>\n",
       "      <td>NaN</td>\n",
       "      <td>NaN</td>\n",
       "      <td>NaN</td>\n",
       "      <td>NaN</td>\n",
       "      <td>NaN</td>\n",
       "      <td>NaN</td>\n",
       "      <td>NaN</td>\n",
       "      <td>NaN</td>\n",
       "      <td>0</td>\n",
       "      <td>4.0</td>\n",
       "    </tr>\n",
       "    <tr>\n",
       "      <td>4</td>\n",
       "      <td>5.0</td>\n",
       "      <td>водитель</td>\n",
       "      <td>2.0</td>\n",
       "      <td>1964.0</td>\n",
       "      <td>5.6</td>\n",
       "      <td>5.7</td>\n",
       "      <td>74</td>\n",
       "      <td>438</td>\n",
       "      <td>6.3</td>\n",
       "      <td>1.04</td>\n",
       "      <td>...</td>\n",
       "      <td>0.38</td>\n",
       "      <td>0.07</td>\n",
       "      <td>458.4</td>\n",
       "      <td>NaN</td>\n",
       "      <td>1600.0</td>\n",
       "      <td>1600.0</td>\n",
       "      <td>400.0</td>\n",
       "      <td>50.0</td>\n",
       "      <td>0</td>\n",
       "      <td>5.0</td>\n",
       "    </tr>\n",
       "  </tbody>\n",
       "</table>\n",
       "<p>5 rows × 37 columns</p>\n",
       "</div>"
      ],
      "text/plain": [
       "   Unnamed: 0        Unnamed: 1  Unnamed: 2  Unnamed: 3 Глюкоза Мочевина  \\\n",
       "0         NaN               NaN         NaN         NaN    мМ/Л     мМ/Л   \n",
       "1         2.0      Сл-сантехник         2.0      1956.0     6.2      5.9   \n",
       "2         3.0          инженер          1.0      1962.0     5.2        5   \n",
       "3         4.0  Инженер-технолог     -1000.0      1962.0     5.1      5.8   \n",
       "4         5.0          водитель         2.0      1964.0     5.6      5.7   \n",
       "\n",
       "  Креатинин Мочевая к-та Холестерин Х-ЛПВП  ... Анг II, пг/мл (N 10-60 пг/мл)  \\\n",
       "0     мкМ/Л        мкМ/Л       мМ/Л   мМ/Л  ...                           NaN   \n",
       "1       110          443        6.2   1.07  ...                           NaN   \n",
       "2        72          164        5.5   2.27  ...                           NaN   \n",
       "3        85          345        6.6    2.1  ...                           NaN   \n",
       "4        74          438        6.3   1.04  ...                          0.38   \n",
       "\n",
       "  ЭТ, пмоль/л    (N =0,09) VEGF,  пг/мл (N40-600) HLDF (нг/мл АТ к S100b  \\\n",
       "0                      NaN                    NaN         NaN        NaN   \n",
       "1                      NaN                    NaN         NaN        NaN   \n",
       "2                      NaN                    NaN         NaN        NaN   \n",
       "3                      NaN                    NaN         NaN        NaN   \n",
       "4                     0.07                  458.4         NaN     1600.0   \n",
       "\n",
       "  АТ к Анг  II  АТ к ЭТ  АТ к HLDF- 24 Unnamed: 35 Unnamed: 36  \n",
       "0           NaN      NaN           NaN         NaN         NaN  \n",
       "1           NaN      NaN           NaN           0         2.0  \n",
       "2           NaN      NaN           NaN           0         3.0  \n",
       "3           NaN      NaN           NaN           0         4.0  \n",
       "4        1600.0    400.0          50.0           0         5.0  \n",
       "\n",
       "[5 rows x 37 columns]"
      ]
     },
     "execution_count": 3,
     "metadata": {},
     "output_type": "execute_result"
    }
   ],
   "source": [
    "data.head(5)"
   ]
  },
  {
   "cell_type": "code",
   "execution_count": 4,
   "metadata": {},
   "outputs": [],
   "source": [
    "data = data.drop(0)"
   ]
  },
  {
   "cell_type": "code",
   "execution_count": 5,
   "metadata": {},
   "outputs": [],
   "source": [
    "data = data.rename(columns={\"Unnamed: 0\" : \"Number\", \"Unnamed: 1\" : \"Profession\"})\n",
    "data = data.rename(columns={\"Unnamed: 2\" : \"Gender\", \"Unnamed: 3\" : \"Birth_year\"})"
   ]
  },
  {
   "cell_type": "code",
   "execution_count": 6,
   "metadata": {},
   "outputs": [
    {
     "data": {
      "text/html": [
       "<div>\n",
       "<style scoped>\n",
       "    .dataframe tbody tr th:only-of-type {\n",
       "        vertical-align: middle;\n",
       "    }\n",
       "\n",
       "    .dataframe tbody tr th {\n",
       "        vertical-align: top;\n",
       "    }\n",
       "\n",
       "    .dataframe thead th {\n",
       "        text-align: right;\n",
       "    }\n",
       "</style>\n",
       "<table border=\"1\" class=\"dataframe\">\n",
       "  <thead>\n",
       "    <tr style=\"text-align: right;\">\n",
       "      <th></th>\n",
       "      <th>Number</th>\n",
       "      <th>Profession</th>\n",
       "      <th>Gender</th>\n",
       "      <th>Birth_year</th>\n",
       "      <th>Глюкоза</th>\n",
       "      <th>Мочевина</th>\n",
       "      <th>Креатинин</th>\n",
       "      <th>Мочевая к-та</th>\n",
       "      <th>Холестерин</th>\n",
       "      <th>Х-ЛПВП</th>\n",
       "      <th>...</th>\n",
       "      <th>Анг II, пг/мл (N 10-60 пг/мл)</th>\n",
       "      <th>ЭТ, пмоль/л    (N =0,09)</th>\n",
       "      <th>VEGF,  пг/мл (N40-600)</th>\n",
       "      <th>HLDF (нг/мл</th>\n",
       "      <th>АТ к S100b</th>\n",
       "      <th>АТ к Анг  II</th>\n",
       "      <th>АТ к ЭТ</th>\n",
       "      <th>АТ к HLDF- 24</th>\n",
       "      <th>Unnamed: 35</th>\n",
       "      <th>Unnamed: 36</th>\n",
       "    </tr>\n",
       "  </thead>\n",
       "  <tbody>\n",
       "    <tr>\n",
       "      <td>1</td>\n",
       "      <td>2.0</td>\n",
       "      <td>Сл-сантехник</td>\n",
       "      <td>2.0</td>\n",
       "      <td>1956.0</td>\n",
       "      <td>6.2</td>\n",
       "      <td>5.9</td>\n",
       "      <td>110</td>\n",
       "      <td>443</td>\n",
       "      <td>6.2</td>\n",
       "      <td>1.07</td>\n",
       "      <td>...</td>\n",
       "      <td>NaN</td>\n",
       "      <td>NaN</td>\n",
       "      <td>NaN</td>\n",
       "      <td>NaN</td>\n",
       "      <td>NaN</td>\n",
       "      <td>NaN</td>\n",
       "      <td>NaN</td>\n",
       "      <td>NaN</td>\n",
       "      <td>0</td>\n",
       "      <td>2.0</td>\n",
       "    </tr>\n",
       "    <tr>\n",
       "      <td>2</td>\n",
       "      <td>3.0</td>\n",
       "      <td>инженер</td>\n",
       "      <td>1.0</td>\n",
       "      <td>1962.0</td>\n",
       "      <td>5.2</td>\n",
       "      <td>5</td>\n",
       "      <td>72</td>\n",
       "      <td>164</td>\n",
       "      <td>5.5</td>\n",
       "      <td>2.27</td>\n",
       "      <td>...</td>\n",
       "      <td>NaN</td>\n",
       "      <td>NaN</td>\n",
       "      <td>NaN</td>\n",
       "      <td>NaN</td>\n",
       "      <td>NaN</td>\n",
       "      <td>NaN</td>\n",
       "      <td>NaN</td>\n",
       "      <td>NaN</td>\n",
       "      <td>0</td>\n",
       "      <td>3.0</td>\n",
       "    </tr>\n",
       "    <tr>\n",
       "      <td>3</td>\n",
       "      <td>4.0</td>\n",
       "      <td>Инженер-технолог</td>\n",
       "      <td>-1000.0</td>\n",
       "      <td>1962.0</td>\n",
       "      <td>5.1</td>\n",
       "      <td>5.8</td>\n",
       "      <td>85</td>\n",
       "      <td>345</td>\n",
       "      <td>6.6</td>\n",
       "      <td>2.1</td>\n",
       "      <td>...</td>\n",
       "      <td>NaN</td>\n",
       "      <td>NaN</td>\n",
       "      <td>NaN</td>\n",
       "      <td>NaN</td>\n",
       "      <td>NaN</td>\n",
       "      <td>NaN</td>\n",
       "      <td>NaN</td>\n",
       "      <td>NaN</td>\n",
       "      <td>0</td>\n",
       "      <td>4.0</td>\n",
       "    </tr>\n",
       "    <tr>\n",
       "      <td>4</td>\n",
       "      <td>5.0</td>\n",
       "      <td>водитель</td>\n",
       "      <td>2.0</td>\n",
       "      <td>1964.0</td>\n",
       "      <td>5.6</td>\n",
       "      <td>5.7</td>\n",
       "      <td>74</td>\n",
       "      <td>438</td>\n",
       "      <td>6.3</td>\n",
       "      <td>1.04</td>\n",
       "      <td>...</td>\n",
       "      <td>0.38</td>\n",
       "      <td>0.07</td>\n",
       "      <td>458.40</td>\n",
       "      <td>NaN</td>\n",
       "      <td>1600.0</td>\n",
       "      <td>1600.0</td>\n",
       "      <td>400.0</td>\n",
       "      <td>50.0</td>\n",
       "      <td>0</td>\n",
       "      <td>5.0</td>\n",
       "    </tr>\n",
       "    <tr>\n",
       "      <td>5</td>\n",
       "      <td>12.0</td>\n",
       "      <td>слесарь</td>\n",
       "      <td>2.0</td>\n",
       "      <td>1959.0</td>\n",
       "      <td>5.7</td>\n",
       "      <td>5.5</td>\n",
       "      <td>88</td>\n",
       "      <td>286</td>\n",
       "      <td>7.1</td>\n",
       "      <td>0.91</td>\n",
       "      <td>...</td>\n",
       "      <td>0.00</td>\n",
       "      <td>0.32</td>\n",
       "      <td>70.91</td>\n",
       "      <td>120.0</td>\n",
       "      <td>400.0</td>\n",
       "      <td>400.0</td>\n",
       "      <td>600.0</td>\n",
       "      <td>100.0</td>\n",
       "      <td>0</td>\n",
       "      <td>12.0</td>\n",
       "    </tr>\n",
       "  </tbody>\n",
       "</table>\n",
       "<p>5 rows × 37 columns</p>\n",
       "</div>"
      ],
      "text/plain": [
       "   Number        Profession  Gender  Birth_year Глюкоза Мочевина Креатинин  \\\n",
       "1     2.0      Сл-сантехник     2.0      1956.0     6.2      5.9       110   \n",
       "2     3.0          инженер      1.0      1962.0     5.2        5        72   \n",
       "3     4.0  Инженер-технолог -1000.0      1962.0     5.1      5.8        85   \n",
       "4     5.0          водитель     2.0      1964.0     5.6      5.7        74   \n",
       "5    12.0          слесарь      2.0      1959.0     5.7      5.5        88   \n",
       "\n",
       "  Мочевая к-та Холестерин Х-ЛПВП  ... Анг II, пг/мл (N 10-60 пг/мл)  \\\n",
       "1          443        6.2   1.07  ...                           NaN   \n",
       "2          164        5.5   2.27  ...                           NaN   \n",
       "3          345        6.6    2.1  ...                           NaN   \n",
       "4          438        6.3   1.04  ...                          0.38   \n",
       "5          286        7.1   0.91  ...                          0.00   \n",
       "\n",
       "  ЭТ, пмоль/л    (N =0,09) VEGF,  пг/мл (N40-600) HLDF (нг/мл АТ к S100b  \\\n",
       "1                      NaN                    NaN         NaN        NaN   \n",
       "2                      NaN                    NaN         NaN        NaN   \n",
       "3                      NaN                    NaN         NaN        NaN   \n",
       "4                     0.07                 458.40         NaN     1600.0   \n",
       "5                     0.32                  70.91       120.0      400.0   \n",
       "\n",
       "  АТ к Анг  II  АТ к ЭТ  АТ к HLDF- 24 Unnamed: 35 Unnamed: 36  \n",
       "1           NaN      NaN           NaN           0         2.0  \n",
       "2           NaN      NaN           NaN           0         3.0  \n",
       "3           NaN      NaN           NaN           0         4.0  \n",
       "4        1600.0    400.0          50.0           0         5.0  \n",
       "5         400.0    600.0         100.0           0        12.0  \n",
       "\n",
       "[5 rows x 37 columns]"
      ]
     },
     "execution_count": 6,
     "metadata": {},
     "output_type": "execute_result"
    }
   ],
   "source": [
    "data.head(5)"
   ]
  },
  {
   "cell_type": "code",
   "execution_count": 7,
   "metadata": {},
   "outputs": [
    {
     "data": {
      "text/plain": [
       "Index(['Number', 'Profession', 'Gender', 'Birth_year', 'Глюкоза', 'Мочевина',\n",
       "       'Креатинин', 'Мочевая к-та', 'Холестерин', 'Х-ЛПВП', 'Х-ЛПНП',\n",
       "       'Триглицериды', 'индекс массы тела', 'курк\\ение',\n",
       "       'избыт, Потр, Алкоголя', 'и,п повар, Соли', 'гиподинамия', 'стресс',\n",
       "       'прием п\\щ контрац', 'насл отяг, По ГБ, ', 'насл отяг, По ССЗ',\n",
       "       'насл отяг, По СД', 'насл, Отяг по почечн, Заб', 'САД', 'ДАД',\n",
       "       'ГЛЖ ин Соколова-Лайона', 'S100b, нг/л (N до 90)',\n",
       "       'Анг II, пг/мл (N 10-60 пг/мл)', 'ЭТ, пмоль/л    (N =0,09)',\n",
       "       'VEGF,  пг/мл (N40-600)', 'HLDF (нг/мл', 'АТ к S100b', 'АТ к Анг  II ',\n",
       "       'АТ к ЭТ ', 'АТ к HLDF- 24', 'Unnamed: 35', 'Unnamed: 36'],\n",
       "      dtype='object')"
      ]
     },
     "execution_count": 7,
     "metadata": {},
     "output_type": "execute_result"
    }
   ],
   "source": [
    "data.columns"
   ]
  },
  {
   "cell_type": "code",
   "execution_count": 8,
   "metadata": {},
   "outputs": [
    {
     "data": {
      "text/plain": [
       "56"
      ]
     },
     "execution_count": 8,
     "metadata": {},
     "output_type": "execute_result"
    }
   ],
   "source": [
    "data['Profession'].unique().__len__()\n",
    "# дропнуть штоле?"
   ]
  },
  {
   "cell_type": "code",
   "execution_count": 9,
   "metadata": {},
   "outputs": [],
   "source": [
    "data = data.drop(columns={\"Unnamed: 36\"})"
   ]
  },
  {
   "cell_type": "code",
   "execution_count": 10,
   "metadata": {},
   "outputs": [],
   "source": [
    "data = data.rename(columns={\"Unnamed: 35\" : \"Target\"})"
   ]
  },
  {
   "cell_type": "code",
   "execution_count": 11,
   "metadata": {},
   "outputs": [
    {
     "data": {
      "text/plain": [
       "array([0, 'о', 'п'], dtype=object)"
      ]
     },
     "execution_count": 11,
     "metadata": {},
     "output_type": "execute_result"
    }
   ],
   "source": [
    "data[\"Target\"].unique()"
   ]
  },
  {
   "cell_type": "code",
   "execution_count": 12,
   "metadata": {},
   "outputs": [],
   "source": [
    "data[\"Target\"].replace({0 : 'о'}, inplace = True)"
   ]
  },
  {
   "cell_type": "code",
   "execution_count": 13,
   "metadata": {},
   "outputs": [],
   "source": [
    "data[\"male\"] = (data[\"Gender\"] == 2).astype(int)\n",
    "data[\"female\"] = (data[\"Gender\"] == 1).astype(int)\n",
    "data[\"no_spec_gender\"] = (data[\"Gender\"] == -1000).astype(int)\n",
    "data = data.drop(columns={\"Gender\"})"
   ]
  },
  {
   "cell_type": "code",
   "execution_count": 14,
   "metadata": {},
   "outputs": [],
   "source": [
    "data[\"Profession\"].replace({\"инженер \" : \"инженер\", \"инженр\" : \"инженер\", \"мастер \" : \"мастер\"}, inplace=True)\n",
    "data[\"Profession\"].fillna(\"no_info\", inplace=True)"
   ]
  },
  {
   "cell_type": "code",
   "execution_count": 15,
   "metadata": {},
   "outputs": [],
   "source": [
    "#laborers - ручная работа\n",
    "#servants - обсл. состав\n",
    "#leadership - управление\n",
    "#scientific - научные специальности, работа мозгом\n",
    "#engineering - инж. специальности\n",
    "#no_data - без инфы\n",
    "#retiree - пенсионер\n",
    "data['laborers'] = data['Profession'] == 'Сл-сантехник' \n",
    "data['laborers'] |=                    data['Profession'] == 'водитель' \n",
    "data['laborers'] |=                    data['Profession'] == 'слесарь ' \n",
    "data['laborers'] |=                    data['Profession'] == 'изолировщица' \n",
    "data['laborers'] |=                    data['Profession'] == 'аппаратчик' \n",
    "data['laborers'] |=                    data['Profession'] == 'тракторист' \n",
    "data['laborers'] |=                    data['Profession'] == 'плавильщик' \n",
    "data['laborers'] |=                    data['Profession'] == 'токарь ' \n",
    "data['laborers'] |=                    data['Profession'] == 'оператор                    1962' \n",
    "data['laborers'] |=                    data['Profession'] == 'пригот-ль р-ров' \n",
    "data['laborers'] |=                    data['Profession'] == 'монтажник РЭА' \n",
    "data['laborers'] |=                    data['Profession'] == 'техник' \n",
    "data['laborers'] |=                    data['Profession'] == 'сборщик м-схем'  \n",
    "data['laborers'] |=                    data['Profession'] == 'машинист' \n",
    "data['laborers'] |=                    data['Profession'] == 'старший мастер' \n",
    "data['laborers'] |=                    data['Profession'] == 'гальваник' \n",
    "data['laborers'] |=                    data['Profession'] == 'мастер отд работ1969' \n",
    "data['laborers'] |=                    data['Profession'] == 'эл. сварщик' \n",
    "data['laborers'] |=                    data['Profession'] == 'фрезеровщик' \n",
    "data['laborers'] |=                    data['Profession'] == 'изолировщик ' \n",
    "data['laborers'] |=                    data['Profession'] == 'эл,сварщик' \n",
    "data['laborers'] |=                    data['Profession'] == 'электромонтажник' \n",
    "data['laborers'] |=                    data['Profession'] == 'маляр' \n",
    "data['laborers'] |=                    data['Profession'] == 'маляр-штукатур' \n",
    "data['laborers'] |=                    data['Profession'] == 'мастер' \n",
    "data['laborers'] |=                    data['Profession'] == 'прессовщик'\n",
    "data['laborers'] |=                    data['Profession'] == 'электрик'\n",
    "\n",
    "data['servants'] = data['Profession'] == 'горничная' \n",
    "data['servants'] |=                    data['Profession'] == 'контролер КПП' \n",
    "data['servants'] |=                    data['Profession'] == 'диспетчер' \n",
    "data['servants'] |=                    data['Profession'] == 'дежурная' \n",
    "data['servants'] |=                    data['Profession'] == 'секретарь '\n",
    "\n",
    "data['leadership'] = data['Profession'] == 'нач группы ' \n",
    "data['leadership'] |=                     data['Profession'] == 'нач сектора' \n",
    "data['leadership'] |=                       data['Profession'] == 'гл инженер ' \n",
    "data['leadership'] |=                      data['Profession'] == 'нач-к ПРБ' \n",
    "data['leadership'] |=                      data['Profession'] == 'нач-к тех,бюро' \n",
    "data['leadership'] |=                      data['Profession'] == 'нач-к группы' \n",
    "data['leadership'] |=                      data['Profession'] == 'старший мастер' \n",
    "data['leadership'] |=                      data['Profession'] == 'нач-к бюро ' \n",
    "data['leadership'] |=                      data['Profession'] == 'нач-к сектора' \n",
    "data['leadership'] |=                      data['Profession'] == 'мастер'\n",
    "data['leadership'] |=                     data['Profession'] == 'зам, нач-ка отд,'\n",
    "\n",
    "data['scientific'] = data['Profession'] == 'внс' \n",
    "data['scientific'] |=                      data['Profession'] == 'вед,специалист'\n",
    "data['scientific'] |=                      data['Profession'] == 'науч. сотр'\n",
    "data['scientific'] |=                      data['Profession'] == 'нач-к тех,бюро'\n",
    "data['scientific'] |=                      data['Profession'] == 'нач-к бюро '\n",
    "data['scientific'] |=                      data['Profession'] == 'экономист '\n",
    "\n",
    "data['engineering'] = data['Profession'] == 'инженер'\n",
    "data['engineering'] |= data['Profession'] == 'Инженер-технолог' \n",
    "data['engineering'] |= data['Profession'] == 'гл инженер '\n",
    "data['engineering'] |= data['Profession'] == 'наладчик' \n",
    "data['engineering'] |= data['Profession'] == 'измеритель' \n",
    "data['engineering'] |= data['Profession'] == 'инженер-прогр,'\n",
    "data['engineering'] |= data['Profession'] == 'нач-к тех,бюро'\n",
    "\n",
    "data['no_job_data'] = data['Profession'] == 'no_info'\n",
    "data['no_job_data'] |= data['Profession'] == 'УВОЛЕНА'\n",
    "data['no_job_data'] |= data['Profession'] == 'УВОЛЕН'\n",
    "\n",
    "data['retiree'] = data['Profession'] == 'ПЕНСИОНЕР'"
   ]
  },
  {
   "cell_type": "code",
   "execution_count": 16,
   "metadata": {},
   "outputs": [],
   "source": [
    "data['laborers'] = data['laborers'].astype(int)\n",
    "data['servants'] = data['servants'].astype(int)\n",
    "data['leadership'] = data['leadership'].astype(int)\n",
    "data['scientific'] = data['scientific'].astype(int)\n",
    "data['engineering'] = data['engineering'].astype(int)\n",
    "data['no_job_data'] = data['no_job_data'].astype(int)\n",
    "data['retiree'] = data['retiree'].astype(int)"
   ]
  },
  {
   "cell_type": "code",
   "execution_count": 17,
   "metadata": {},
   "outputs": [],
   "source": [
    "data = data.drop(columns={'Profession'})"
   ]
  },
  {
   "cell_type": "code",
   "execution_count": 18,
   "metadata": {},
   "outputs": [
    {
     "data": {
      "text/html": [
       "<div>\n",
       "<style scoped>\n",
       "    .dataframe tbody tr th:only-of-type {\n",
       "        vertical-align: middle;\n",
       "    }\n",
       "\n",
       "    .dataframe tbody tr th {\n",
       "        vertical-align: top;\n",
       "    }\n",
       "\n",
       "    .dataframe thead th {\n",
       "        text-align: right;\n",
       "    }\n",
       "</style>\n",
       "<table border=\"1\" class=\"dataframe\">\n",
       "  <thead>\n",
       "    <tr style=\"text-align: right;\">\n",
       "      <th></th>\n",
       "      <th>Number</th>\n",
       "      <th>Глюкоза</th>\n",
       "      <th>Мочевина</th>\n",
       "      <th>Креатинин</th>\n",
       "      <th>Мочевая к-та</th>\n",
       "      <th>Холестерин</th>\n",
       "      <th>Х-ЛПВП</th>\n",
       "      <th>Х-ЛПНП</th>\n",
       "      <th>Триглицериды</th>\n",
       "      <th>индекс массы тела</th>\n",
       "      <th>...</th>\n",
       "      <th>female</th>\n",
       "      <th>no_spec_gender</th>\n",
       "      <th>laborers</th>\n",
       "      <th>servants</th>\n",
       "      <th>leadership</th>\n",
       "      <th>scientific</th>\n",
       "      <th>engineering</th>\n",
       "      <th>no_job_data</th>\n",
       "      <th>retiree</th>\n",
       "      <th>age</th>\n",
       "    </tr>\n",
       "  </thead>\n",
       "  <tbody>\n",
       "    <tr>\n",
       "      <td>1</td>\n",
       "      <td>2.0</td>\n",
       "      <td>6.2</td>\n",
       "      <td>5.9</td>\n",
       "      <td>110</td>\n",
       "      <td>443</td>\n",
       "      <td>6.2</td>\n",
       "      <td>1.07</td>\n",
       "      <td>4.25</td>\n",
       "      <td>2.37</td>\n",
       "      <td>20</td>\n",
       "      <td>...</td>\n",
       "      <td>0</td>\n",
       "      <td>0</td>\n",
       "      <td>1</td>\n",
       "      <td>0</td>\n",
       "      <td>0</td>\n",
       "      <td>0</td>\n",
       "      <td>0</td>\n",
       "      <td>0</td>\n",
       "      <td>0</td>\n",
       "      <td>63.0</td>\n",
       "    </tr>\n",
       "  </tbody>\n",
       "</table>\n",
       "<p>1 rows × 44 columns</p>\n",
       "</div>"
      ],
      "text/plain": [
       "   Number Глюкоза Мочевина Креатинин Мочевая к-та Холестерин Х-ЛПВП Х-ЛПНП  \\\n",
       "1     2.0     6.2      5.9       110          443        6.2   1.07   4.25   \n",
       "\n",
       "  Триглицериды индекс массы тела  ... female no_spec_gender laborers servants  \\\n",
       "1         2.37                20  ...      0              0        1        0   \n",
       "\n",
       "  leadership scientific engineering no_job_data retiree   age  \n",
       "1          0          0           0           0       0  63.0  \n",
       "\n",
       "[1 rows x 44 columns]"
      ]
     },
     "execution_count": 18,
     "metadata": {},
     "output_type": "execute_result"
    }
   ],
   "source": [
    "data[\"age\"] = 2019 - data[\"Birth_year\"]\n",
    "data = data.drop(columns = {'Birth_year'})\n",
    "data.head(1)"
   ]
  },
  {
   "cell_type": "code",
   "execution_count": 19,
   "metadata": {},
   "outputs": [],
   "source": [
    "data['ГЛЖ ин Соколова-Лайона'].replace({\"нет\" : np.NaN, \"да\" : np.NaN}, inplace = True)"
   ]
  },
  {
   "cell_type": "code",
   "execution_count": 20,
   "metadata": {},
   "outputs": [],
   "source": [
    "data.replace({\"нет\" : 0, \"да\" : 1, \"нет \" : 0, \"да \" : 1, \"не\" : 0}, inplace = True)"
   ]
  },
  {
   "cell_type": "code",
   "execution_count": 21,
   "metadata": {},
   "outputs": [],
   "source": [
    "data.rename(columns={'курк\\ение' : 'smoking', 'избыт, Потр, Алкоголя' : 'Alcoholic'}, inplace=True)"
   ]
  },
  {
   "cell_type": "code",
   "execution_count": 22,
   "metadata": {},
   "outputs": [
    {
     "data": {
      "text/plain": [
       "(array([1, 0]), dtype('int64'))"
      ]
     },
     "execution_count": 22,
     "metadata": {},
     "output_type": "execute_result"
    }
   ],
   "source": [
    "data['smoking'].replace({'нет нет' : 0}, inplace = True)\n",
    "data['smoking'].unique(), data['smoking'].dtype"
   ]
  },
  {
   "cell_type": "code",
   "execution_count": 23,
   "metadata": {},
   "outputs": [
    {
     "data": {
      "text/plain": [
       "(array([0, 1]), dtype('int64'))"
      ]
     },
     "execution_count": 23,
     "metadata": {},
     "output_type": "execute_result"
    }
   ],
   "source": [
    "data['Alcoholic'].replace({'нет нет нет нет нет ' : 0, \"нет  нет нет\" : 0}, inplace = True)\n",
    "data['Alcoholic'].unique(), data['Alcoholic'].dtype"
   ]
  },
  {
   "cell_type": "code",
   "execution_count": 24,
   "metadata": {},
   "outputs": [
    {
     "data": {
      "text/plain": [
       "array([0, 1])"
      ]
     },
     "execution_count": 24,
     "metadata": {},
     "output_type": "execute_result"
    }
   ],
   "source": [
    "data.rename(columns={'и,п повар, Соли' : 'excess_salt_consumption'}, inplace = True)\n",
    "data['excess_salt_consumption'].unique()"
   ]
  },
  {
   "cell_type": "code",
   "execution_count": 25,
   "metadata": {},
   "outputs": [
    {
     "data": {
      "text/plain": [
       "(array([0, 1]), dtype('int64'))"
      ]
     },
     "execution_count": 25,
     "metadata": {},
     "output_type": "execute_result"
    }
   ],
   "source": [
    "data['гиподинамия'].replace({'нетт' : 0}, inplace = True)\n",
    "data[\"гиподинамия\"].unique(), data['гиподинамия'].dtype"
   ]
  },
  {
   "cell_type": "code",
   "execution_count": 26,
   "metadata": {},
   "outputs": [],
   "source": [
    "data.replace({'уволил' : 6.0}, inplace = True)"
   ]
  },
  {
   "cell_type": "code",
   "execution_count": 27,
   "metadata": {},
   "outputs": [
    {
     "data": {
      "text/plain": [
       "array([20, 20.69, 30.47, 31.8, 26.5, 40.2, 23.9, 41.03, 32.5, 21.5, 30.07,\n",
       "       24.15, 29.32, 26.64, 25.47, 31.05, 21.01, 18.44, 19.89, 22.86,\n",
       "       31.56, 25.5, 27.89, 29.4, 17.65, 29.05, 23.08, 45.3, 38.37, 23.12,\n",
       "       25.46, 29.04, 24.68, 28.93, 27.14, 23.67, 29.31, 29.17, 27.44,\n",
       "       26.22, 23.31, 27.66, 25.28, 23.44, '21, 08', 21.88, '26, 47', 24.8,\n",
       "       18.78, 34.05, 20.28, 32, 48.33, 32.27, 21.64, 28.4, 27.87, 24.1,\n",
       "       29.58, 33.08, 43.7, 28.08, 26.47, 22.84, 25.53, 23.14, 23.23, 22.3,\n",
       "       40.16, 35.8, 26.85, 33.02, 23.05, 28.03, 28.41, 27.04, 38.74,\n",
       "       28.34, 29.68, 24.6, 29.76, 27.68, 27.97, 27.12, 33.21, 39.92,\n",
       "       25.16, 33.39, 31.23, '25, 04', 34.21, 49.08, 23.66, 24.16, 23.42,\n",
       "       32.18, 25.84, 32.6, 26.9, 24.22, 22.34, 24.45, 27.24, 31.14, 22.03,\n",
       "       36.06, 22.92, 24.54, 23.72, 29.07, 33.75, 19.14, 30.86, 27.09,\n",
       "       25.03], dtype=object)"
      ]
     },
     "execution_count": 27,
     "metadata": {},
     "output_type": "execute_result"
    }
   ],
   "source": [
    "data['индекс массы тела'].unique()"
   ]
  },
  {
   "cell_type": "code",
   "execution_count": 28,
   "metadata": {},
   "outputs": [],
   "source": [
    "help_array = np.empty(len(data))"
   ]
  },
  {
   "cell_type": "code",
   "execution_count": 30,
   "metadata": {},
   "outputs": [
    {
     "name": "stdout",
     "output_type": "stream",
     "text": [
      "21.08 <class 'float'>\n",
      "26.47 <class 'float'>\n",
      "25.04 <class 'float'>\n"
     ]
    }
   ],
   "source": [
    "for enum, item in enumerate(data['индекс массы тела']):\n",
    "    if type(item) == str:\n",
    "        sub_str = item[0:2] + \".\" + item[4:]\n",
    "        sub_float = float(sub_str)\n",
    "        print(sub_float, type(sub_float))\n",
    "        help_array[enum] = sub_float\n",
    "        \n",
    "    else:\n",
    "        help_array[enum] = item"
   ]
  },
  {
   "cell_type": "code",
   "execution_count": 31,
   "metadata": {},
   "outputs": [],
   "source": [
    "data['индекс массы тела'] = help_array"
   ]
  },
  {
   "cell_type": "code",
   "execution_count": 32,
   "metadata": {},
   "outputs": [
    {
     "data": {
      "text/plain": [
       "array([20.  , 20.69, 30.47, 31.8 , 26.5 , 40.2 , 23.9 , 41.03, 32.5 ,\n",
       "       21.5 , 30.07, 24.15, 29.32, 26.64, 25.47, 31.05, 21.01, 18.44,\n",
       "       19.89, 22.86, 31.56, 25.5 , 27.89, 29.4 , 17.65, 29.05, 23.08,\n",
       "       45.3 , 38.37, 23.12, 25.46, 29.04, 24.68, 28.93, 27.14, 23.67,\n",
       "       29.31, 29.17, 27.44, 26.22, 23.31, 27.66, 25.28, 23.44, 21.08,\n",
       "       21.88, 26.47, 24.8 , 18.78, 34.05, 20.28, 32.  , 48.33, 32.27,\n",
       "       21.64, 28.4 , 27.87, 24.1 , 29.58, 33.08, 43.7 , 28.08, 22.84,\n",
       "       25.53, 23.14, 23.23, 22.3 , 40.16, 35.8 , 26.85, 33.02, 23.05,\n",
       "       28.03, 28.41, 27.04, 38.74, 28.34, 29.68, 24.6 , 29.76, 27.68,\n",
       "       27.97, 27.12, 33.21, 39.92, 25.16, 33.39, 31.23, 25.04, 34.21,\n",
       "       49.08, 23.66, 24.16, 23.42, 32.18, 25.84, 32.6 , 26.9 , 24.22,\n",
       "       22.34, 24.45, 27.24, 31.14, 22.03, 36.06, 22.92, 24.54, 23.72,\n",
       "       29.07, 33.75, 19.14, 30.86, 27.09, 25.03])"
      ]
     },
     "execution_count": 32,
     "metadata": {},
     "output_type": "execute_result"
    }
   ],
   "source": [
    "data['индекс массы тела'].unique()"
   ]
  },
  {
   "cell_type": "code",
   "execution_count": 33,
   "metadata": {},
   "outputs": [
    {
     "data": {
      "text/plain": [
       "Number                           float64\n",
       "Глюкоза                          float64\n",
       "Мочевина                         float64\n",
       "Креатинин                          int64\n",
       "Мочевая к-та                       int64\n",
       "Холестерин                       float64\n",
       "Х-ЛПВП                           float64\n",
       "Х-ЛПНП                           float64\n",
       "Триглицериды                     float64\n",
       "индекс массы тела                float64\n",
       "smoking                            int64\n",
       "Alcoholic                          int64\n",
       "excess_salt_consumption            int64\n",
       "гиподинамия                        int64\n",
       "стресс                             int64\n",
       "прием п\\щ контрац                  int64\n",
       "насл отяг, По ГБ,                  int64\n",
       "насл отяг, По ССЗ                  int64\n",
       "насл отяг, По СД                   int64\n",
       "насл, Отяг по почечн, Заб          int64\n",
       "САД                              float64\n",
       "ДАД                              float64\n",
       "ГЛЖ ин Соколова-Лайона           float64\n",
       "S100b, нг/л (N до 90)             object\n",
       "Анг II, пг/мл (N 10-60 пг/мл)    float64\n",
       "ЭТ, пмоль/л    (N =0,09)         float64\n",
       "VEGF,  пг/мл (N40-600)           float64\n",
       "HLDF (нг/мл                      float64\n",
       "АТ к S100b                       float64\n",
       "АТ к Анг  II                     float64\n",
       "АТ к ЭТ                          float64\n",
       "АТ к HLDF- 24                    float64\n",
       "Target                            object\n",
       "male                               int64\n",
       "female                             int64\n",
       "no_spec_gender                     int64\n",
       "laborers                           int64\n",
       "servants                           int64\n",
       "leadership                         int64\n",
       "scientific                         int64\n",
       "engineering                        int64\n",
       "no_job_data                        int64\n",
       "retiree                            int64\n",
       "age                              float64\n",
       "dtype: object"
      ]
     },
     "execution_count": 33,
     "metadata": {},
     "output_type": "execute_result"
    }
   ],
   "source": [
    "data.dtypes"
   ]
  },
  {
   "cell_type": "code",
   "execution_count": 34,
   "metadata": {},
   "outputs": [],
   "source": [
    "data['S100b, нг/л (N до 90)'].replace({'ИНФАРКТ МОЗГА В 2018 ГОДУ' : -1}, inplace = True)"
   ]
  },
  {
   "cell_type": "code",
   "execution_count": 35,
   "metadata": {},
   "outputs": [],
   "source": [
    "from sklearn.model_selection import train_test_split"
   ]
  },
  {
   "cell_type": "code",
   "execution_count": 413,
   "metadata": {},
   "outputs": [],
   "source": [
    "train_data, test_data, train_target, test_target = train_test_split(data.drop(columns = {\"Target\"}), np.array(data[\"Target\"]),\n",
    "                                                                    test_size = 0.3, random_state=17)"
   ]
  },
  {
   "cell_type": "code",
   "execution_count": 414,
   "metadata": {},
   "outputs": [],
   "source": [
    "test_target[np.where(test_target == 'п')] = 1"
   ]
  },
  {
   "cell_type": "code",
   "execution_count": 415,
   "metadata": {},
   "outputs": [],
   "source": [
    "test_target[np.where(test_target == 'о')] = -1"
   ]
  },
  {
   "cell_type": "code",
   "execution_count": 416,
   "metadata": {},
   "outputs": [],
   "source": [
    "train_target[np.where(train_target == 'п')] = 1"
   ]
  },
  {
   "cell_type": "code",
   "execution_count": 417,
   "metadata": {},
   "outputs": [],
   "source": [
    "train_target[np.where(train_target == 'о')] = -1"
   ]
  },
  {
   "cell_type": "code",
   "execution_count": 418,
   "metadata": {},
   "outputs": [],
   "source": [
    "test_target = test_target.astype(int)\n",
    "train_target = train_target.astype(int)"
   ]
  },
  {
   "cell_type": "code",
   "execution_count": 419,
   "metadata": {},
   "outputs": [],
   "source": [
    "from sklearn.tree import DecisionTreeClassifier"
   ]
  },
  {
   "cell_type": "code",
   "execution_count": 430,
   "metadata": {},
   "outputs": [],
   "source": [
    "DTC = DecisionTreeClassifier(criterion=\"entropy\")"
   ]
  },
  {
   "cell_type": "code",
   "execution_count": 433,
   "metadata": {},
   "outputs": [],
   "source": [
    "classifier = AdaBoostClassifier(base_estimator=DTC)"
   ]
  },
  {
   "cell_type": "code",
   "execution_count": 435,
   "metadata": {},
   "outputs": [
    {
     "data": {
      "text/plain": [
       "AdaBoostClassifier(algorithm='SAMME.R',\n",
       "                   base_estimator=DecisionTreeClassifier(class_weight=None,\n",
       "                                                         criterion='entropy',\n",
       "                                                         max_depth=None,\n",
       "                                                         max_features=None,\n",
       "                                                         max_leaf_nodes=None,\n",
       "                                                         min_impurity_decrease=0.0,\n",
       "                                                         min_impurity_split=None,\n",
       "                                                         min_samples_leaf=1,\n",
       "                                                         min_samples_split=2,\n",
       "                                                         min_weight_fraction_leaf=0.0,\n",
       "                                                         presort=False,\n",
       "                                                         random_state=None,\n",
       "                                                         splitter='best'),\n",
       "                   learning_rate=1.0, n_estimators=50, random_state=None)"
      ]
     },
     "execution_count": 435,
     "metadata": {},
     "output_type": "execute_result"
    }
   ],
   "source": [
    "classifier.fit(train_data.fillna(0), train_target)"
   ]
  },
  {
   "cell_type": "code",
   "execution_count": 436,
   "metadata": {},
   "outputs": [
    {
     "name": "stdout",
     "output_type": "stream",
     "text": [
      "Accuracy:  0.8055555555555556\n",
      "Roc_Auc:  0.8\n",
      "Precision:  0.8  - процент правильно определенных положительных\n",
      "Recall:  0.75  - процент выбранных положительных\n"
     ]
    }
   ],
   "source": [
    "check_metrics(test_target, classifier.predict(test_data.fillna(0)))"
   ]
  },
  {
   "cell_type": "code",
   "execution_count": 441,
   "metadata": {},
   "outputs": [
    {
     "data": {
      "text/plain": [
       "DecisionTreeClassifier(class_weight=None, criterion='entropy', max_depth=None,\n",
       "                       max_features=None, max_leaf_nodes=None,\n",
       "                       min_impurity_decrease=0.0, min_impurity_split=None,\n",
       "                       min_samples_leaf=1, min_samples_split=2,\n",
       "                       min_weight_fraction_leaf=0.0, presort=False,\n",
       "                       random_state=None, splitter='best')"
      ]
     },
     "execution_count": 441,
     "metadata": {},
     "output_type": "execute_result"
    }
   ],
   "source": [
    "DTC.fit(train_data.fillna(0), train_target)"
   ]
  },
  {
   "cell_type": "code",
   "execution_count": 442,
   "metadata": {},
   "outputs": [
    {
     "name": "stdout",
     "output_type": "stream",
     "text": [
      "Accuracy:  0.8888888888888888\n",
      "Roc_Auc:  0.8875\n",
      "Precision:  0.875  - процент правильно определенных положительных\n",
      "Recall:  0.875  - процент выбранных положительных\n"
     ]
    }
   ],
   "source": [
    "check_metrics(test_target, DTC.predict(test_data.fillna(0)))"
   ]
  },
  {
   "cell_type": "code",
   "execution_count": 423,
   "metadata": {},
   "outputs": [],
   "source": [
    "RFC = RandomForestClassifier(n_estimators = 200, criterion='entropy')"
   ]
  },
  {
   "cell_type": "code",
   "execution_count": 424,
   "metadata": {},
   "outputs": [
    {
     "data": {
      "text/plain": [
       "RandomForestClassifier(bootstrap=True, class_weight=None, criterion='entropy',\n",
       "                       max_depth=None, max_features='auto', max_leaf_nodes=None,\n",
       "                       min_impurity_decrease=0.0, min_impurity_split=None,\n",
       "                       min_samples_leaf=1, min_samples_split=2,\n",
       "                       min_weight_fraction_leaf=0.0, n_estimators=200,\n",
       "                       n_jobs=None, oob_score=False, random_state=None,\n",
       "                       verbose=0, warm_start=False)"
      ]
     },
     "execution_count": 424,
     "metadata": {},
     "output_type": "execute_result"
    }
   ],
   "source": [
    "RFC.fit(train_data.fillna(0), train_target)"
   ]
  },
  {
   "cell_type": "code",
   "execution_count": 425,
   "metadata": {},
   "outputs": [
    {
     "name": "stdout",
     "output_type": "stream",
     "text": [
      "Accuracy:  0.7777777777777778\n",
      "Roc_Auc:  0.7625000000000001\n",
      "Precision:  0.8333333333333334  - процент правильно определенных положительных\n",
      "Recall:  0.625  - процент выбранных положительных\n"
     ]
    }
   ],
   "source": [
    "check_metrics(test_target, RFC.predict(test_data.fillna(0)))"
   ]
  },
  {
   "cell_type": "code",
   "execution_count": 426,
   "metadata": {},
   "outputs": [],
   "source": [
    "from sklearn.ensemble import AdaBoostClassifier"
   ]
  },
  {
   "cell_type": "code",
   "execution_count": 427,
   "metadata": {},
   "outputs": [],
   "source": [
    "classifier = AdaBoostClassifier()"
   ]
  },
  {
   "cell_type": "code",
   "execution_count": 428,
   "metadata": {},
   "outputs": [
    {
     "data": {
      "text/plain": [
       "AdaBoostClassifier(algorithm='SAMME.R', base_estimator=None, learning_rate=1.0,\n",
       "                   n_estimators=50, random_state=None)"
      ]
     },
     "execution_count": 428,
     "metadata": {},
     "output_type": "execute_result"
    }
   ],
   "source": [
    "classifier.fit(train_data.fillna(0), train_target)"
   ]
  },
  {
   "cell_type": "code",
   "execution_count": 429,
   "metadata": {},
   "outputs": [
    {
     "name": "stdout",
     "output_type": "stream",
     "text": [
      "Accuracy:  0.8055555555555556\n",
      "Roc_Auc:  0.7937500000000001\n",
      "Precision:  0.8461538461538461  - процент правильно определенных положительных\n",
      "Recall:  0.6875  - процент выбранных положительных\n"
     ]
    }
   ],
   "source": [
    "check_metrics(test_target, classifier.predict(test_data.fillna(0)))"
   ]
  },
  {
   "cell_type": "code",
   "execution_count": 75,
   "metadata": {},
   "outputs": [],
   "source": [
    "from sklearn.svm import SVC"
   ]
  },
  {
   "cell_type": "code",
   "execution_count": 404,
   "metadata": {},
   "outputs": [],
   "source": [
    "svc = SVC(probability=False, kernel='linear')\n",
    "abc = AdaBoostClassifier(base_estimator=svc)"
   ]
  },
  {
   "cell_type": "code",
   "execution_count": 409,
   "metadata": {},
   "outputs": [],
   "source": [
    "svc = SVC(probability=True, kernel='linear')"
   ]
  },
  {
   "cell_type": "code",
   "execution_count": 410,
   "metadata": {},
   "outputs": [
    {
     "data": {
      "text/plain": [
       "SVC(C=1.0, cache_size=200, class_weight=None, coef0=0.0,\n",
       "    decision_function_shape='ovr', degree=3, gamma='auto_deprecated',\n",
       "    kernel='linear', max_iter=-1, probability=True, random_state=None,\n",
       "    shrinking=True, tol=0.001, verbose=False)"
      ]
     },
     "execution_count": 410,
     "metadata": {},
     "output_type": "execute_result"
    }
   ],
   "source": [
    "svc.fit(train_data.fillna(0), train_target)"
   ]
  },
  {
   "cell_type": "code",
   "execution_count": 411,
   "metadata": {},
   "outputs": [
    {
     "name": "stdout",
     "output_type": "stream",
     "text": [
      "Accuracy:  0.5833333333333334\n",
      "Roc_Auc:  0.5811688311688311\n",
      "Precision:  0.47058823529411764  - процент правильно определенных положительных\n",
      "Recall:  0.5714285714285714  - процент выбранных положительных\n"
     ]
    }
   ],
   "source": [
    "check_metrics(test_target, svc.predict(test_data.fillna(0)))"
   ]
  },
  {
   "cell_type": "code",
   "execution_count": 102,
   "metadata": {},
   "outputs": [],
   "source": [
    "from sklearn.ensemble import RandomForestClassifier"
   ]
  },
  {
   "cell_type": "code",
   "execution_count": 103,
   "metadata": {},
   "outputs": [],
   "source": [
    "RFC = RandomForestClassifier()"
   ]
  },
  {
   "cell_type": "code",
   "execution_count": 104,
   "metadata": {},
   "outputs": [
    {
     "name": "stderr",
     "output_type": "stream",
     "text": [
      "/usr/local/lib/python3.7/site-packages/sklearn/ensemble/forest.py:245: FutureWarning: The default value of n_estimators will change from 10 in version 0.20 to 100 in 0.22.\n",
      "  \"10 in version 0.20 to 100 in 0.22.\", FutureWarning)\n"
     ]
    },
    {
     "data": {
      "text/plain": [
       "RandomForestClassifier(bootstrap=True, class_weight=None, criterion='gini',\n",
       "                       max_depth=None, max_features='auto', max_leaf_nodes=None,\n",
       "                       min_impurity_decrease=0.0, min_impurity_split=None,\n",
       "                       min_samples_leaf=1, min_samples_split=2,\n",
       "                       min_weight_fraction_leaf=0.0, n_estimators=10,\n",
       "                       n_jobs=None, oob_score=False, random_state=None,\n",
       "                       verbose=0, warm_start=False)"
      ]
     },
     "execution_count": 104,
     "metadata": {},
     "output_type": "execute_result"
    }
   ],
   "source": [
    "RFC.fit(train_data.fillna(0), train_target)"
   ]
  },
  {
   "cell_type": "code",
   "execution_count": 107,
   "metadata": {},
   "outputs": [
    {
     "name": "stdout",
     "output_type": "stream",
     "text": [
      "Accuracy:  0.8333333333333334\n",
      "Roc_Auc:  0.8142857142857143\n",
      "Precision:  0.875  - процент правильно определенных положительных\n",
      "Recall:  0.7  - процент выбранных положительных\n"
     ]
    }
   ],
   "source": [
    "check_metrics(test_target, RFC.predict(test_data.fillna(0)))"
   ]
  },
  {
   "cell_type": "code",
   "execution_count": 129,
   "metadata": {},
   "outputs": [],
   "source": [
    "train_array = np.array(train_data)"
   ]
  },
  {
   "cell_type": "code",
   "execution_count": 139,
   "metadata": {},
   "outputs": [],
   "source": [
    "train_array = np.c_[train_array[:, :23], train_array[:, 32:]]"
   ]
  },
  {
   "cell_type": "code",
   "execution_count": 140,
   "metadata": {},
   "outputs": [
    {
     "data": {
      "text/plain": [
       "array([ 35.  ,   5.8 ,   5.3 , 109.  , 462.  ,   5.8 ,   1.56,   3.74,\n",
       "         1.52,  23.05,   1.  ,   0.  ,   0.  ,   0.  ,   0.  ,   0.  ,\n",
       "         0.  ,   0.  ,   0.  ,   0.  , 110.  ,  70.  ,  20.  ,   1.  ,\n",
       "         0.  ,   0.  ,   1.  ,   0.  ,   0.  ,   0.  ,   0.  ,   0.  ,\n",
       "         0.  ,  42.  ])"
      ]
     },
     "execution_count": 140,
     "metadata": {},
     "output_type": "execute_result"
    }
   ],
   "source": [
    "train_array[0]"
   ]
  },
  {
   "cell_type": "code",
   "execution_count": 141,
   "metadata": {},
   "outputs": [],
   "source": [
    "test_array = np.array(test_data)"
   ]
  },
  {
   "cell_type": "code",
   "execution_count": 142,
   "metadata": {},
   "outputs": [],
   "source": [
    "test_array = np.c_[test_array[:, :23], test_array[:, 32:]]"
   ]
  },
  {
   "cell_type": "code",
   "execution_count": 149,
   "metadata": {},
   "outputs": [
    {
     "data": {
      "text/plain": [
       "AdaBoostClassifier(algorithm='SAMME.R', base_estimator=None, learning_rate=1.0,\n",
       "                   n_estimators=50, random_state=None)"
      ]
     },
     "execution_count": 149,
     "metadata": {},
     "output_type": "execute_result"
    }
   ],
   "source": [
    "classifier.fit(np.nan_to_num(train_array), train_target)"
   ]
  },
  {
   "cell_type": "code",
   "execution_count": 150,
   "metadata": {},
   "outputs": [
    {
     "name": "stdout",
     "output_type": "stream",
     "text": [
      "Accuracy:  0.75\n",
      "Roc_Auc:  0.7285714285714286\n",
      "Precision:  0.75  - процент правильно определенных положительных\n",
      "Recall:  0.6  - процент выбранных положительных\n"
     ]
    }
   ],
   "source": [
    "check_metrics(test_target, classifier.predict(np.nan_to_num(test_array)))"
   ]
  },
  {
   "cell_type": "code",
   "execution_count": 165,
   "metadata": {},
   "outputs": [],
   "source": [
    "train_array = np.array(train_data)\n",
    "test_array = np.array(test_data)"
   ]
  },
  {
   "cell_type": "code",
   "execution_count": 166,
   "metadata": {},
   "outputs": [],
   "source": [
    "train_array = train_array[:, 23:32]\n",
    "test_array = test_array[:, 23:32]"
   ]
  },
  {
   "cell_type": "code",
   "execution_count": 158,
   "metadata": {},
   "outputs": [
    {
     "data": {
      "text/plain": [
       "AdaBoostClassifier(algorithm='SAMME.R', base_estimator=None, learning_rate=1.0,\n",
       "                   n_estimators=50, random_state=None)"
      ]
     },
     "execution_count": 158,
     "metadata": {},
     "output_type": "execute_result"
    }
   ],
   "source": [
    "classifier.fit(np.nan_to_num(train_array), train_target)"
   ]
  },
  {
   "cell_type": "code",
   "execution_count": 159,
   "metadata": {},
   "outputs": [
    {
     "name": "stdout",
     "output_type": "stream",
     "text": [
      "Accuracy:  0.625\n",
      "Roc_Auc:  0.6785714285714286\n",
      "Precision:  0.5263157894736842  - процент правильно определенных положительных\n",
      "Recall:  1.0  - процент выбранных положительных\n"
     ]
    }
   ],
   "source": [
    "check_metrics(test_target, classifier.predict(np.nan_to_num(test_array)))"
   ]
  },
  {
   "cell_type": "code",
   "execution_count": 161,
   "metadata": {},
   "outputs": [
    {
     "data": {
      "text/plain": [
       "array([ 63.81888889, 218.365     ,   0.65909091, 321.65272727,\n",
       "        89.73170732, 465.90909091, 343.18181818, 246.59090909,\n",
       "        95.45454545])"
      ]
     },
     "execution_count": 161,
     "metadata": {},
     "output_type": "execute_result"
    }
   ],
   "source": [
    "np.nanmean(train_array, axis=0)"
   ]
  },
  {
   "cell_type": "code",
   "execution_count": 167,
   "metadata": {},
   "outputs": [],
   "source": [
    "inds = np.where(np.isnan(train_array))\n",
    "train_array[inds] = np.take(np.nanmean(train_array, axis=0), inds[1])"
   ]
  },
  {
   "cell_type": "code",
   "execution_count": 168,
   "metadata": {},
   "outputs": [],
   "source": [
    "inds = np.where(np.isnan(test_array))\n",
    "test_array[inds] = np.take(np.nanmean(test_array, axis=0), inds[1])"
   ]
  },
  {
   "cell_type": "code",
   "execution_count": 169,
   "metadata": {},
   "outputs": [
    {
     "data": {
      "text/plain": [
       "AdaBoostClassifier(algorithm='SAMME.R', base_estimator=None, learning_rate=1.0,\n",
       "                   n_estimators=50, random_state=None)"
      ]
     },
     "execution_count": 169,
     "metadata": {},
     "output_type": "execute_result"
    }
   ],
   "source": [
    "classifier.fit(train_array, train_target)"
   ]
  },
  {
   "cell_type": "code",
   "execution_count": 170,
   "metadata": {},
   "outputs": [
    {
     "name": "stdout",
     "output_type": "stream",
     "text": [
      "Accuracy:  0.625\n",
      "Roc_Auc:  0.6642857142857143\n",
      "Precision:  0.5294117647058824  - процент правильно определенных положительных\n",
      "Recall:  0.9  - процент выбранных положительных\n"
     ]
    }
   ],
   "source": [
    "check_metrics(test_target, classifier.predict(test_array))"
   ]
  }
 ],
 "metadata": {
  "kernelspec": {
   "display_name": "Python 3",
   "language": "python",
   "name": "python3"
  },
  "language_info": {
   "codemirror_mode": {
    "name": "ipython",
    "version": 3
   },
   "file_extension": ".py",
   "mimetype": "text/x-python",
   "name": "python",
   "nbconvert_exporter": "python",
   "pygments_lexer": "ipython3",
   "version": "3.7.4"
  }
 },
 "nbformat": 4,
 "nbformat_minor": 2
}
