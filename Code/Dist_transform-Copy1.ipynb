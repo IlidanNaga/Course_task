{
 "cells": [
  {
   "cell_type": "code",
   "execution_count": 1,
   "metadata": {},
   "outputs": [],
   "source": [
    "import numpy as np\n",
    "import pandas as pd\n",
    "import matplotlib.pyplot as plt\n",
    "from sklearn.metrics import roc_auc_score\n"
   ]
  },
  {
   "cell_type": "markdown",
   "metadata": {},
   "source": [
    "## Загрузка алгоритма, удаление ненужных признаков"
   ]
  },
  {
   "cell_type": "code",
   "execution_count": 2,
   "metadata": {},
   "outputs": [
    {
     "data": {
      "text/html": [
       "<div>\n",
       "<style scoped>\n",
       "    .dataframe tbody tr th:only-of-type {\n",
       "        vertical-align: middle;\n",
       "    }\n",
       "\n",
       "    .dataframe tbody tr th {\n",
       "        vertical-align: top;\n",
       "    }\n",
       "\n",
       "    .dataframe thead th {\n",
       "        text-align: right;\n",
       "    }\n",
       "</style>\n",
       "<table border=\"1\" class=\"dataframe\">\n",
       "  <thead>\n",
       "    <tr style=\"text-align: right;\">\n",
       "      <th></th>\n",
       "      <th>Number</th>\n",
       "      <th>Глюкоза</th>\n",
       "      <th>Мочевина</th>\n",
       "      <th>Креатинин</th>\n",
       "      <th>Мочевая к-та</th>\n",
       "      <th>Холестерин</th>\n",
       "      <th>Х-ЛПВП</th>\n",
       "      <th>Х-ЛПНП</th>\n",
       "      <th>Триглицериды</th>\n",
       "      <th>индекс массы тела</th>\n",
       "      <th>...</th>\n",
       "      <th>АТ к Анг  II</th>\n",
       "      <th>АТ к ЭТ</th>\n",
       "      <th>АТ к HLDF- 24</th>\n",
       "      <th>Target</th>\n",
       "      <th>phys</th>\n",
       "      <th>mind</th>\n",
       "      <th>age</th>\n",
       "      <th>male</th>\n",
       "      <th>female</th>\n",
       "      <th>no_spec_gender</th>\n",
       "    </tr>\n",
       "  </thead>\n",
       "  <tbody>\n",
       "    <tr>\n",
       "      <td>0</td>\n",
       "      <td>2.0</td>\n",
       "      <td>6.2</td>\n",
       "      <td>5.9</td>\n",
       "      <td>110</td>\n",
       "      <td>443</td>\n",
       "      <td>6.2</td>\n",
       "      <td>1.07</td>\n",
       "      <td>4.25</td>\n",
       "      <td>2.37</td>\n",
       "      <td>20.00</td>\n",
       "      <td>...</td>\n",
       "      <td>NaN</td>\n",
       "      <td>NaN</td>\n",
       "      <td>NaN</td>\n",
       "      <td>-1</td>\n",
       "      <td>3</td>\n",
       "      <td>0</td>\n",
       "      <td>63.0</td>\n",
       "      <td>1</td>\n",
       "      <td>0</td>\n",
       "      <td>0</td>\n",
       "    </tr>\n",
       "    <tr>\n",
       "      <td>1</td>\n",
       "      <td>3.0</td>\n",
       "      <td>5.2</td>\n",
       "      <td>5.0</td>\n",
       "      <td>72</td>\n",
       "      <td>164</td>\n",
       "      <td>5.5</td>\n",
       "      <td>2.27</td>\n",
       "      <td>3.39</td>\n",
       "      <td>0.64</td>\n",
       "      <td>20.69</td>\n",
       "      <td>...</td>\n",
       "      <td>NaN</td>\n",
       "      <td>NaN</td>\n",
       "      <td>NaN</td>\n",
       "      <td>-1</td>\n",
       "      <td>1</td>\n",
       "      <td>2</td>\n",
       "      <td>57.0</td>\n",
       "      <td>0</td>\n",
       "      <td>1</td>\n",
       "      <td>0</td>\n",
       "    </tr>\n",
       "    <tr>\n",
       "      <td>2</td>\n",
       "      <td>4.0</td>\n",
       "      <td>5.1</td>\n",
       "      <td>5.8</td>\n",
       "      <td>85</td>\n",
       "      <td>345</td>\n",
       "      <td>6.6</td>\n",
       "      <td>2.10</td>\n",
       "      <td>4.14</td>\n",
       "      <td>0.36</td>\n",
       "      <td>30.47</td>\n",
       "      <td>...</td>\n",
       "      <td>NaN</td>\n",
       "      <td>NaN</td>\n",
       "      <td>NaN</td>\n",
       "      <td>-1</td>\n",
       "      <td>1</td>\n",
       "      <td>2</td>\n",
       "      <td>57.0</td>\n",
       "      <td>0</td>\n",
       "      <td>0</td>\n",
       "      <td>1</td>\n",
       "    </tr>\n",
       "    <tr>\n",
       "      <td>3</td>\n",
       "      <td>5.0</td>\n",
       "      <td>5.6</td>\n",
       "      <td>5.7</td>\n",
       "      <td>74</td>\n",
       "      <td>438</td>\n",
       "      <td>6.3</td>\n",
       "      <td>1.04</td>\n",
       "      <td>3.96</td>\n",
       "      <td>3.38</td>\n",
       "      <td>31.80</td>\n",
       "      <td>...</td>\n",
       "      <td>1600.0</td>\n",
       "      <td>400.0</td>\n",
       "      <td>50.0</td>\n",
       "      <td>-1</td>\n",
       "      <td>1</td>\n",
       "      <td>1</td>\n",
       "      <td>55.0</td>\n",
       "      <td>1</td>\n",
       "      <td>0</td>\n",
       "      <td>0</td>\n",
       "    </tr>\n",
       "    <tr>\n",
       "      <td>4</td>\n",
       "      <td>12.0</td>\n",
       "      <td>5.7</td>\n",
       "      <td>5.5</td>\n",
       "      <td>88</td>\n",
       "      <td>286</td>\n",
       "      <td>7.1</td>\n",
       "      <td>0.91</td>\n",
       "      <td>5.33</td>\n",
       "      <td>1.80</td>\n",
       "      <td>26.50</td>\n",
       "      <td>...</td>\n",
       "      <td>400.0</td>\n",
       "      <td>600.0</td>\n",
       "      <td>100.0</td>\n",
       "      <td>-1</td>\n",
       "      <td>3</td>\n",
       "      <td>0</td>\n",
       "      <td>60.0</td>\n",
       "      <td>1</td>\n",
       "      <td>0</td>\n",
       "      <td>0</td>\n",
       "    </tr>\n",
       "  </tbody>\n",
       "</table>\n",
       "<p>5 rows × 39 columns</p>\n",
       "</div>"
      ],
      "text/plain": [
       "   Number  Глюкоза  Мочевина  Креатинин  Мочевая к-та  Холестерин  Х-ЛПВП  \\\n",
       "0     2.0      6.2       5.9        110           443         6.2    1.07   \n",
       "1     3.0      5.2       5.0         72           164         5.5    2.27   \n",
       "2     4.0      5.1       5.8         85           345         6.6    2.10   \n",
       "3     5.0      5.6       5.7         74           438         6.3    1.04   \n",
       "4    12.0      5.7       5.5         88           286         7.1    0.91   \n",
       "\n",
       "   Х-ЛПНП  Триглицериды  индекс массы тела  ...  АТ к Анг  II   АТ к ЭТ   \\\n",
       "0    4.25          2.37              20.00  ...            NaN       NaN   \n",
       "1    3.39          0.64              20.69  ...            NaN       NaN   \n",
       "2    4.14          0.36              30.47  ...            NaN       NaN   \n",
       "3    3.96          3.38              31.80  ...         1600.0     400.0   \n",
       "4    5.33          1.80              26.50  ...          400.0     600.0   \n",
       "\n",
       "   АТ к HLDF- 24  Target  phys  mind   age  male  female  no_spec_gender  \n",
       "0            NaN      -1     3     0  63.0     1       0               0  \n",
       "1            NaN      -1     1     2  57.0     0       1               0  \n",
       "2            NaN      -1     1     2  57.0     0       0               1  \n",
       "3           50.0      -1     1     1  55.0     1       0               0  \n",
       "4          100.0      -1     3     0  60.0     1       0               0  \n",
       "\n",
       "[5 rows x 39 columns]"
      ]
     },
     "execution_count": 2,
     "metadata": {},
     "output_type": "execute_result"
    }
   ],
   "source": [
    "data = pd.read_csv(\"Data_transformed.csv\")\n",
    "data.head(5)"
   ]
  },
  {
   "cell_type": "code",
   "execution_count": 3,
   "metadata": {},
   "outputs": [],
   "source": [
    "features = np.array(['Number', 'САД', 'HLDF (нг/мл', 'ДАД', 'Триглицериды',\n",
    "       'ГЛЖ ин Соколова-Лайона', 'Креатинин', 'прием п\\щ контрац',\n",
    "       'Мочевая к-та', 'Мочевина', 'VEGF,  пг/мл (N40-600)',\n",
    "       'индекс массы тела', 'age', 'Холестерин', 'Глюкоза', 'Х-ЛПВП',\n",
    "       'АТ к Анг  II ', 'Х-ЛПНП', 'АТ к HLDF- 24', 'phys',\n",
    "       'Анг II, пг/мл (N 10-60 пг/мл)', 'mind', 'S100b, нг/л (N до 90)',\n",
    "       'насл отяг, По ГБ, ', 'female', 'excess_salt_consumption',\n",
    "       'насл, Отяг по почечн, Заб', 'АТ к ЭТ ', 'ЭТ, пмоль/л    (N =0,09)',\n",
    "       'no_spec_gender', 'smoking', 'Alcoholic', 'гиподинамия', 'стресс',\n",
    "       'насл отяг, По ССЗ', 'АТ к S100b', 'male', 'насл отяг, По СД'])"
   ]
  },
  {
   "cell_type": "code",
   "execution_count": 4,
   "metadata": {},
   "outputs": [],
   "source": [
    "percentiles = np.array([100., 100., 100.,  97.,  80.,  60.,  55.,  39.,  37.,  33.,  32.,\n",
    "        27.,  23.,  17.,  16.,  13.,  11.,  11.,   8.,   5.,   5.,   4.,\n",
    "         4.,   1.,   1.,   1.,   1.,   1.,   1.,   0.,   0.,   0.,   0.,\n",
    "         0.,   0.,   0.,   0.,   0.])"
   ]
  },
  {
   "cell_type": "code",
   "execution_count": 5,
   "metadata": {},
   "outputs": [],
   "source": [
    "kept_ft = features[np.where(percentiles > 30)[0]]\n",
    "kept_pc = percentiles[np.where(percentiles > 30)[0]]"
   ]
  },
  {
   "cell_type": "code",
   "execution_count": 6,
   "metadata": {},
   "outputs": [],
   "source": [
    "removed_ft = list(set(data.columns.tolist()).difference(set(kept_ft.tolist())))"
   ]
  },
  {
   "cell_type": "code",
   "execution_count": 7,
   "metadata": {},
   "outputs": [],
   "source": [
    "target_col = data[\"Target\"]"
   ]
  },
  {
   "cell_type": "code",
   "execution_count": 8,
   "metadata": {},
   "outputs": [],
   "source": [
    "data.drop(columns = removed_ft, inplace=True)"
   ]
  },
  {
   "cell_type": "markdown",
   "metadata": {},
   "source": [
    "### Оценка качества работы алгоритма с отбором признаков:"
   ]
  },
  {
   "cell_type": "code",
   "execution_count": 9,
   "metadata": {},
   "outputs": [],
   "source": [
    "eval_data = data.fillna(-100)"
   ]
  },
  {
   "cell_type": "code",
   "execution_count": 10,
   "metadata": {},
   "outputs": [],
   "source": [
    "from sklearn.model_selection import train_test_split, KFold"
   ]
  },
  {
   "cell_type": "code",
   "execution_count": 11,
   "metadata": {},
   "outputs": [],
   "source": [
    "from sklearn.ensemble import RandomForestClassifier as RFC"
   ]
  },
  {
   "cell_type": "code",
   "execution_count": 12,
   "metadata": {},
   "outputs": [],
   "source": [
    "cv = KFold(shuffle = True, random_state=451, n_splits=5)"
   ]
  },
  {
   "cell_type": "code",
   "execution_count": 13,
   "metadata": {},
   "outputs": [],
   "source": [
    "model = RFC(random_state = 451)"
   ]
  },
  {
   "cell_type": "code",
   "execution_count": 14,
   "metadata": {},
   "outputs": [
    {
     "name": "stdout",
     "output_type": "stream",
     "text": [
      "0.8535714285714285\n",
      "0.8535714285714286\n",
      "0.9246031746031746\n",
      "0.9047619047619047\n",
      "0.9642857142857143\n"
     ]
    },
    {
     "name": "stderr",
     "output_type": "stream",
     "text": [
      "/usr/local/lib/python3.7/site-packages/sklearn/ensemble/forest.py:245: FutureWarning: The default value of n_estimators will change from 10 in version 0.20 to 100 in 0.22.\n",
      "  \"10 in version 0.20 to 100 in 0.22.\", FutureWarning)\n"
     ]
    }
   ],
   "source": [
    "for train_index, test_index in cv.split(data):\n",
    "    model.fit(eval_data.loc[train_index], target_col[train_index])\n",
    "    preds = model.predict_proba(eval_data.loc[test_index])[:, 1]\n",
    "    \n",
    "    print(roc_auc_score(target_col[test_index], preds))"
   ]
  },
  {
   "cell_type": "code",
   "execution_count": 15,
   "metadata": {},
   "outputs": [],
   "source": [
    "from sklearn.tree import DecisionTreeClassifier as DTC"
   ]
  },
  {
   "cell_type": "code",
   "execution_count": 16,
   "metadata": {},
   "outputs": [],
   "source": [
    "model_dtc = DTC()"
   ]
  },
  {
   "cell_type": "code",
   "execution_count": 17,
   "metadata": {},
   "outputs": [
    {
     "name": "stdout",
     "output_type": "stream",
     "text": [
      "0.8785714285714286\n",
      "0.85\n",
      "0.9642857142857143\n",
      "0.8571428571428572\n",
      "0.9285714285714286\n"
     ]
    }
   ],
   "source": [
    "for train_index, test_index in cv.split(data):\n",
    "    model_dtc.fit(eval_data.loc[train_index], target_col[train_index])\n",
    "    preds = model_dtc.predict_proba(eval_data.loc[test_index])[:, 1]\n",
    "    \n",
    "    print(roc_auc_score(target_col[test_index], preds))"
   ]
  },
  {
   "cell_type": "markdown",
   "metadata": {},
   "source": [
    "Т.е. после преобразования качество работы алгоритма повысилось на схожем разбиении на ~5%"
   ]
  },
  {
   "cell_type": "markdown",
   "metadata": {},
   "source": [
    "## Перевод к попарному расстоянию объектов"
   ]
  },
  {
   "cell_type": "markdown",
   "metadata": {},
   "source": [
    "Всего есть 11 фич, среди них:\n",
    "9 численных, которым подойдет метрика расстояния\n",
    "1 бинарная, которой так же подойдет данная метрика\n",
    "1 численная (Number), к которой данная тактика не применима - в случае с ней можно будет поискать корреляцию с метками target"
   ]
  },
  {
   "cell_type": "markdown",
   "metadata": {},
   "source": [
    "Number:"
   ]
  },
  {
   "cell_type": "code",
   "execution_count": 18,
   "metadata": {},
   "outputs": [
    {
     "data": {
      "text/plain": [
       "array([  2.,   3.,   4.,   5.,  12.,  15.,  16.,  20.,  22.,  25.,  26.,\n",
       "        27.,  28.,  29.,  30.,  34.,  37.,  38.,  39.,  40.,  41.,  45.,\n",
       "        49.,  50.,  51.,  52.,  53.,  56.,  57.,  58.,  59.,  65.,  66.,\n",
       "        67.,  68.,  70.,  72.,  73.,  74.,  75.,  79.,  80.,  81.,  86.,\n",
       "        87.,  89.,  90.,  91.,  96.,  97., 103., 108., 112., 113., 114.,\n",
       "       115., 116., 119., 125., 127.,  64., 131., 135., 138., 144., 147.,\n",
       "       149.,   7.,  10.,  11.,  21.,  31.,  35.,  42.,  43.,  46.,  47.,\n",
       "        48.,  54.,  55.,  60.,  61.,  69.,  71.,  77.,  78.,  83.,  84.,\n",
       "        85.,  88.,  92.,  93.,  94.,  95.,  98.,  99., 100., 102., 104.,\n",
       "       105., 106., 109., 110., 111., 117., 118., 120., 121., 122., 123.,\n",
       "       124., 126., 134., 137., 140., 141., 146.])"
      ]
     },
     "execution_count": 18,
     "metadata": {},
     "output_type": "execute_result"
    }
   ],
   "source": [
    "arr = np.array(data[\"Number\"])\n",
    "arr"
   ]
  },
  {
   "cell_type": "code",
   "execution_count": 19,
   "metadata": {},
   "outputs": [
    {
     "data": {
      "text/plain": [
       "<matplotlib.collections.PathCollection at 0x11e251e10>"
      ]
     },
     "execution_count": 19,
     "metadata": {},
     "output_type": "execute_result"
    },
    {
     "data": {
      "image/png": "[encoded data removed]",
      "text/plain": [
       "<Figure size 432x288 with 1 Axes>"
      ]
     },
     "metadata": {
      "needs_background": "light"
     },
     "output_type": "display_data"
    }
   ],
   "source": [
    "plt.scatter(arr, target_col)"
   ]
  },
  {
   "cell_type": "code",
   "execution_count": 20,
   "metadata": {},
   "outputs": [
    {
     "data": {
      "text/plain": [
       "array([  7.,  10.,  11.,  21.,  31.,  35.,  42.,  43.,  46.,  47.,  48.,\n",
       "        54.,  55.,  60.,  61.,  69.,  71.,  77.,  78.,  83.,  84.,  85.,\n",
       "        88.,  92.,  93.,  94.,  95.,  98.,  99., 100., 102., 104., 105.,\n",
       "       106., 109., 110., 111., 117., 118., 120., 121., 122., 123., 124.,\n",
       "       126., 134., 137., 140., 141., 146.])"
      ]
     },
     "execution_count": 20,
     "metadata": {},
     "output_type": "execute_result"
    }
   ],
   "source": [
    "arr[target_col > 0]"
   ]
  },
  {
   "cell_type": "code",
   "execution_count": 21,
   "metadata": {},
   "outputs": [
    {
     "data": {
      "text/plain": [
       "array([  2.,   3.,   4.,   5.,  12.,  15.,  16.,  20.,  22.,  25.,  26.,\n",
       "        27.,  28.,  29.,  30.,  34.,  37.,  38.,  39.,  40.,  41.,  45.,\n",
       "        49.,  50.,  51.,  52.,  53.,  56.,  57.,  58.,  59.,  65.,  66.,\n",
       "        67.,  68.,  70.,  72.,  73.,  74.,  75.,  79.,  80.,  81.,  86.,\n",
       "        87.,  89.,  90.,  91.,  96.,  97., 103., 108., 112., 113., 114.,\n",
       "       115., 116., 119., 125., 127.,  64., 131., 135., 138., 144., 147.,\n",
       "       149.])"
      ]
     },
     "execution_count": 21,
     "metadata": {},
     "output_type": "execute_result"
    }
   ],
   "source": [
    "arr[target_col < 0]"
   ]
  },
  {
   "cell_type": "markdown",
   "metadata": {},
   "source": [
    "У меня нет идей, как представлять этот столбец для попарного расстояния. Для остальных:"
   ]
  },
  {
   "cell_type": "code",
   "execution_count": 57,
   "metadata": {},
   "outputs": [],
   "source": [
    "def build_distances(train_line, test_line):\n",
    "    \n",
    "    train_pre_arr = np.absolute(train_line[None, :] - train_line[:, None])\n",
    "    test_pre_arr = np.absolute(train_line[None, :] - test_line[:, None])\n",
    "    \n",
    "    train_max = train_pre_arr.max() + 0.01\n",
    "\n",
    "    return train_pre_arr / train_max, test_pre_arr / train_max"
   ]
  },
  {
   "cell_type": "code",
   "execution_count": 58,
   "metadata": {},
   "outputs": [],
   "source": [
    "def recombination(train_df, test_df):\n",
    "    # пока что уберем из рассмотрения столбец Number, т.к. я не знаю, что с ним делать\n",
    "    \n",
    "    columns = train_df.columns\n",
    "    \n",
    "    train_len = train_df[\"Number\"].__len__()\n",
    "    test_len = test_df[\"Number\"].__len__()\n",
    "    \n",
    "    train_pairwise = np.zeros((train_len, train_len))\n",
    "    test_pairwise = np.zeros((test_len, train_len))\n",
    "    \n",
    "    for col in columns:\n",
    "        \n",
    "        train_arr = np.array(train_df[col])\n",
    "        test_arr = np.array(test_df[col])\n",
    "        \n",
    "        train_dist, test_dist = build_distances(train_arr, test_arr)\n",
    "        \n",
    "        position = np.where(features == col)[0][0]\n",
    "        \n",
    "        train_pairwise += percentiles[position] / 100 * train_dist\n",
    "        test_pairwise += percentiles[position] / 100 * test_dist\n",
    "        \n",
    "    return train_pairwise, test_pairwise"
   ]
  },
  {
   "cell_type": "markdown",
   "metadata": {},
   "source": [
    "## Базовая модель (KNN Classifier):"
   ]
  },
  {
   "cell_type": "code",
   "execution_count": 24,
   "metadata": {},
   "outputs": [],
   "source": [
    "from sklearn.neighbors import KNeighborsClassifier as KNC"
   ]
  },
  {
   "cell_type": "code",
   "execution_count": 25,
   "metadata": {},
   "outputs": [],
   "source": [
    "eval_data = data.fillna(-100)"
   ]
  },
  {
   "cell_type": "code",
   "execution_count": 26,
   "metadata": {},
   "outputs": [],
   "source": [
    "model = KNC()"
   ]
  },
  {
   "cell_type": "code",
   "execution_count": 96,
   "metadata": {},
   "outputs": [],
   "source": [
    "cv = KFold(n_splits=8, shuffle = True)"
   ]
  },
  {
   "cell_type": "code",
   "execution_count": 171,
   "metadata": {},
   "outputs": [
    {
     "name": "stdout",
     "output_type": "stream",
     "text": [
      "0.9\n",
      "0.90625\n",
      "0.9142857142857143\n",
      "1.0\n",
      "0.7714285714285715\n",
      "0.8285714285714285\n",
      "0.7714285714285714\n",
      "0.9464285714285714\n",
      "0.8333333333333333\n",
      "0.9642857142857143\n",
      "Average:  0.8836011904761903\n"
     ]
    }
   ],
   "source": [
    "avg_sum = 0\n",
    "splits = 10\n",
    "cv = KFold(n_splits=splits, shuffle = True)\n",
    "\n",
    "for train_index, test_index in cv.split(eval_data):\n",
    "    X_train = eval_data.loc[train_index]\n",
    "    X_test = eval_data.loc[test_index]\n",
    "    \n",
    "    y_train = target_col[train_index]\n",
    "    y_test = target_col[test_index]\n",
    "    \n",
    "    \n",
    "    train_pairwise, test_pairwise = recombination(X_train, X_test)\n",
    "    \n",
    "    model.fit(train_pairwise, y_train)\n",
    "    \n",
    "    preds = model.predict_proba(test_pairwise)[:, 1]\n",
    "    \n",
    "    print(roc_auc_score(y_test, preds))\n",
    "    \n",
    "    avg_sum += roc_auc_score(y_test, preds)\n",
    "    \n",
    "print(\"Average: \", avg_sum / splits)"
   ]
  },
  {
   "cell_type": "markdown",
   "metadata": {},
   "source": [
    "#### Модель, вычисляющая лишь по попарным расстояниям в test части"
   ]
  },
  {
   "cell_type": "code",
   "execution_count": 28,
   "metadata": {},
   "outputs": [],
   "source": [
    "class Model:\n",
    "    \n",
    "    def __init__(self, n_neighbors = 5, weight = False):\n",
    "\n",
    "        self.n_neighbors = n_neighbors\n",
    "        self.weight = weight\n",
    "    \n",
    "    def fit(self,X_train, y_train):\n",
    "        self.target = y_train\n",
    "    \n",
    "    def predict(self, X_test):\n",
    "        \n",
    "        def distances(values):\n",
    "            # epsilon-add of 1/10^2\n",
    "\n",
    "            return values / (np.sum(values) + 0.1)\n",
    "        \n",
    "        result_col = np.empty(X_test.shape[0])\n",
    "    \n",
    "        for enum, item in enumerate(X_test):\n",
    "\n",
    "            sorted_line = np.argsort(item)[:self.n_neighbors]\n",
    "            sorted_dist = item[sorted_line]\n",
    "\n",
    "            sorted_targets = self.target[sorted_line]\n",
    "            \n",
    "            if self.weight: \n",
    "                weights = distances(sorted_dist)\n",
    "            else:\n",
    "                weights = np.ones(self.n_neighbors)\n",
    "\n",
    "            sign = np.sum(sorted_targets * weights)\n",
    "\n",
    "            if sign >= 0:\n",
    "                result_col[enum] = 1\n",
    "            else:\n",
    "                result_col[enum] = -1\n",
    "\n",
    "        return result_col"
   ]
  },
  {
   "cell_type": "code",
   "execution_count": 29,
   "metadata": {},
   "outputs": [],
   "source": [
    "model_2 = Model()"
   ]
  },
  {
   "cell_type": "code",
   "execution_count": 135,
   "metadata": {},
   "outputs": [
    {
     "name": "stdout",
     "output_type": "stream",
     "text": [
      "0.8611111111111112\n",
      "0.638888888888889\n",
      "0.8333333333333333\n",
      "0.8500000000000001\n",
      "0.9500000000000001\n",
      "0.6777777777777778\n",
      "0.5714285714285714\n",
      "0.8571428571428572\n"
     ]
    },
    {
     "name": "stderr",
     "output_type": "stream",
     "text": [
      "/usr/local/lib/python3.7/site-packages/pandas/core/series.py:1143: FutureWarning: \n",
      "Passing list-likes to .loc or [] with any missing label will raise\n",
      "KeyError in the future, you can use .reindex() as an alternative.\n",
      "\n",
      "See the documentation here:\n",
      "https://pandas.pydata.org/pandas-docs/stable/user_guide/indexing.html#deprecate-loc-reindex-listlike\n",
      "  return self.loc[key]\n",
      "/usr/local/lib/python3.7/site-packages/pandas/core/series.py:1143: FutureWarning: \n",
      "Passing list-likes to .loc or [] with any missing label will raise\n",
      "KeyError in the future, you can use .reindex() as an alternative.\n",
      "\n",
      "See the documentation here:\n",
      "https://pandas.pydata.org/pandas-docs/stable/user_guide/indexing.html#deprecate-loc-reindex-listlike\n",
      "  return self.loc[key]\n",
      "/usr/local/lib/python3.7/site-packages/pandas/core/series.py:1143: FutureWarning: \n",
      "Passing list-likes to .loc or [] with any missing label will raise\n",
      "KeyError in the future, you can use .reindex() as an alternative.\n",
      "\n",
      "See the documentation here:\n",
      "https://pandas.pydata.org/pandas-docs/stable/user_guide/indexing.html#deprecate-loc-reindex-listlike\n",
      "  return self.loc[key]\n",
      "/usr/local/lib/python3.7/site-packages/pandas/core/series.py:1143: FutureWarning: \n",
      "Passing list-likes to .loc or [] with any missing label will raise\n",
      "KeyError in the future, you can use .reindex() as an alternative.\n",
      "\n",
      "See the documentation here:\n",
      "https://pandas.pydata.org/pandas-docs/stable/user_guide/indexing.html#deprecate-loc-reindex-listlike\n",
      "  return self.loc[key]\n",
      "/usr/local/lib/python3.7/site-packages/pandas/core/series.py:1143: FutureWarning: \n",
      "Passing list-likes to .loc or [] with any missing label will raise\n",
      "KeyError in the future, you can use .reindex() as an alternative.\n",
      "\n",
      "See the documentation here:\n",
      "https://pandas.pydata.org/pandas-docs/stable/user_guide/indexing.html#deprecate-loc-reindex-listlike\n",
      "  return self.loc[key]\n",
      "/usr/local/lib/python3.7/site-packages/pandas/core/series.py:1143: FutureWarning: \n",
      "Passing list-likes to .loc or [] with any missing label will raise\n",
      "KeyError in the future, you can use .reindex() as an alternative.\n",
      "\n",
      "See the documentation here:\n",
      "https://pandas.pydata.org/pandas-docs/stable/user_guide/indexing.html#deprecate-loc-reindex-listlike\n",
      "  return self.loc[key]\n",
      "/usr/local/lib/python3.7/site-packages/pandas/core/series.py:1143: FutureWarning: \n",
      "Passing list-likes to .loc or [] with any missing label will raise\n",
      "KeyError in the future, you can use .reindex() as an alternative.\n",
      "\n",
      "See the documentation here:\n",
      "https://pandas.pydata.org/pandas-docs/stable/user_guide/indexing.html#deprecate-loc-reindex-listlike\n",
      "  return self.loc[key]\n",
      "/usr/local/lib/python3.7/site-packages/pandas/core/series.py:1143: FutureWarning: \n",
      "Passing list-likes to .loc or [] with any missing label will raise\n",
      "KeyError in the future, you can use .reindex() as an alternative.\n",
      "\n",
      "See the documentation here:\n",
      "https://pandas.pydata.org/pandas-docs/stable/user_guide/indexing.html#deprecate-loc-reindex-listlike\n",
      "  return self.loc[key]\n"
     ]
    }
   ],
   "source": [
    "for train_index, test_index in cv.split(eval_data):\n",
    "    X_train = eval_data.loc[train_index]\n",
    "    X_test = eval_data.loc[test_index]\n",
    "    \n",
    "    y_train = target_col[train_index]\n",
    "    y_test = target_col[test_index]\n",
    "    \n",
    "    \n",
    "    train_pairwise, test_pairwise = recombination(X_train, X_test)\n",
    "    \n",
    "    model_2.fit(train_pairwise, y_train)\n",
    "    \n",
    "    preds = model_2.predict(test_pairwise)\n",
    "    \n",
    "    print(roc_auc_score(y_test, preds))"
   ]
  },
  {
   "cell_type": "code",
   "execution_count": null,
   "metadata": {},
   "outputs": [],
   "source": []
  }
 ],
 "metadata": {
  "kernelspec": {
   "display_name": "Python 3",
   "language": "python",
   "name": "python3"
  },
  "language_info": {
   "codemirror_mode": {
    "name": "ipython",
    "version": 3
   },
   "file_extension": ".py",
   "mimetype": "text/x-python",
   "name": "python",
   "nbconvert_exporter": "python",
   "pygments_lexer": "ipython3",
   "version": "3.7.4"
  }
 },
 "nbformat": 4,
 "nbformat_minor": 2
}
