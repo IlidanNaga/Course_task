{
 "cells": [
  {
   "cell_type": "code",
   "execution_count": 1,
   "metadata": {},
   "outputs": [],
   "source": [
    "import numpy as np\n",
    "import pandas as pd"
   ]
  },
  {
   "cell_type": "code",
   "execution_count": 2,
   "metadata": {},
   "outputs": [],
   "source": [
    "from random import shuffle"
   ]
  },
  {
   "cell_type": "code",
   "execution_count": 3,
   "metadata": {},
   "outputs": [],
   "source": [
    "from sklearn.metrics import roc_auc_score\n",
    "from sklearn.metrics import accuracy_score"
   ]
  },
  {
   "cell_type": "code",
   "execution_count": 4,
   "metadata": {},
   "outputs": [],
   "source": [
    "train_dataset = pd.read_excel(\"train1.xlsx\")\n",
    "test_dataset = pd.read_excel(\"recog1.xlsx\")"
   ]
  },
  {
   "cell_type": "markdown",
   "metadata": {},
   "source": [
    "Подготовим хранилища для результатов"
   ]
  },
  {
   "cell_type": "code",
   "execution_count": null,
   "metadata": {},
   "outputs": [],
   "source": []
  },
  {
   "cell_type": "markdown",
   "metadata": {},
   "source": [
    "Предполагается, что у нас дан маркер таргета"
   ]
  },
  {
   "cell_type": "code",
   "execution_count": 5,
   "metadata": {},
   "outputs": [],
   "source": [
    "target_col = \"im\""
   ]
  },
  {
   "cell_type": "code",
   "execution_count": 6,
   "metadata": {},
   "outputs": [],
   "source": [
    "train_target = np.array(train_dataset[target_col])\n",
    "test_target = np.array(test_dataset[target_col])"
   ]
  },
  {
   "cell_type": "code",
   "execution_count": 7,
   "metadata": {},
   "outputs": [
    {
     "data": {
      "text/plain": [
       "485"
      ]
     },
     "execution_count": 7,
     "metadata": {},
     "output_type": "execute_result"
    }
   ],
   "source": [
    "train_target.__len__()"
   ]
  },
  {
   "cell_type": "markdown",
   "metadata": {},
   "source": [
    "Так же предполагается, что я уже знаю, какой из параметров излишний"
   ]
  },
  {
   "cell_type": "code",
   "execution_count": 8,
   "metadata": {},
   "outputs": [],
   "source": [
    "train_dataset.drop(columns = ['sys', target_col], inplace = True)\n",
    "test_dataset.drop(columns = ['sys', target_col], inplace = True)"
   ]
  },
  {
   "cell_type": "code",
   "execution_count": 9,
   "metadata": {},
   "outputs": [
    {
     "data": {
      "text/html": [
       "<div>\n",
       "<style scoped>\n",
       "    .dataframe tbody tr th:only-of-type {\n",
       "        vertical-align: middle;\n",
       "    }\n",
       "\n",
       "    .dataframe tbody tr th {\n",
       "        vertical-align: top;\n",
       "    }\n",
       "\n",
       "    .dataframe thead th {\n",
       "        text-align: right;\n",
       "    }\n",
       "</style>\n",
       "<table border=\"1\" class=\"dataframe\">\n",
       "  <thead>\n",
       "    <tr style=\"text-align: right;\">\n",
       "      <th></th>\n",
       "      <th>noma</th>\n",
       "      <th>ecg_id</th>\n",
       "      <th>MB0</th>\n",
       "      <th>MB1</th>\n",
       "      <th>MB2</th>\n",
       "      <th>MSEP</th>\n",
       "      <th>MSRP</th>\n",
       "      <th>MDP</th>\n",
       "      <th>MRR</th>\n",
       "      <th>MdSEP</th>\n",
       "      <th>...</th>\n",
       "      <th>msh22</th>\n",
       "      <th>msh23</th>\n",
       "      <th>msh24</th>\n",
       "      <th>msh25</th>\n",
       "      <th>msh26</th>\n",
       "      <th>msh27</th>\n",
       "      <th>msh28</th>\n",
       "      <th>msh29</th>\n",
       "      <th>msh30</th>\n",
       "      <th>msh31</th>\n",
       "    </tr>\n",
       "  </thead>\n",
       "  <tbody>\n",
       "    <tr>\n",
       "      <td>0</td>\n",
       "      <td>26</td>\n",
       "      <td>45909</td>\n",
       "      <td>0</td>\n",
       "      <td>0</td>\n",
       "      <td>-1</td>\n",
       "      <td>0</td>\n",
       "      <td>0</td>\n",
       "      <td>0</td>\n",
       "      <td>0</td>\n",
       "      <td>721</td>\n",
       "      <td>...</td>\n",
       "      <td>6.987262</td>\n",
       "      <td>5.842897</td>\n",
       "      <td>6.949771</td>\n",
       "      <td>5.843638</td>\n",
       "      <td>6.935230</td>\n",
       "      <td>5.821854</td>\n",
       "      <td>6.910798</td>\n",
       "      <td>5.806775</td>\n",
       "      <td>6.897684</td>\n",
       "      <td>5.639776</td>\n",
       "    </tr>\n",
       "    <tr>\n",
       "      <td>1</td>\n",
       "      <td>35</td>\n",
       "      <td>46125</td>\n",
       "      <td>251</td>\n",
       "      <td>176</td>\n",
       "      <td>343</td>\n",
       "      <td>280</td>\n",
       "      <td>373</td>\n",
       "      <td>551</td>\n",
       "      <td>748</td>\n",
       "      <td>752</td>\n",
       "      <td>...</td>\n",
       "      <td>6.604633</td>\n",
       "      <td>5.460614</td>\n",
       "      <td>6.555808</td>\n",
       "      <td>5.436133</td>\n",
       "      <td>6.521528</td>\n",
       "      <td>5.415350</td>\n",
       "      <td>6.498449</td>\n",
       "      <td>5.406096</td>\n",
       "      <td>6.486808</td>\n",
       "      <td>5.397264</td>\n",
       "    </tr>\n",
       "  </tbody>\n",
       "</table>\n",
       "<p>2 rows × 87 columns</p>\n",
       "</div>"
      ],
      "text/plain": [
       "   noma  ecg_id  MB0  MB1  MB2  MSEP  MSRP  MDP  MRR  MdSEP  ...     msh22  \\\n",
       "0    26   45909    0    0   -1     0     0    0    0    721  ...  6.987262   \n",
       "1    35   46125  251  176  343   280   373  551  748    752  ...  6.604633   \n",
       "\n",
       "      msh23     msh24     msh25     msh26     msh27     msh28     msh29  \\\n",
       "0  5.842897  6.949771  5.843638  6.935230  5.821854  6.910798  5.806775   \n",
       "1  5.460614  6.555808  5.436133  6.521528  5.415350  6.498449  5.406096   \n",
       "\n",
       "      msh30     msh31  \n",
       "0  6.897684  5.639776  \n",
       "1  6.486808  5.397264  \n",
       "\n",
       "[2 rows x 87 columns]"
      ]
     },
     "execution_count": 9,
     "metadata": {},
     "output_type": "execute_result"
    }
   ],
   "source": [
    "train_dataset.head(2)"
   ]
  },
  {
   "cell_type": "markdown",
   "metadata": {},
   "source": [
    "Базовая модель для обнаружения лучших объектов - catboost"
   ]
  },
  {
   "cell_type": "code",
   "execution_count": 10,
   "metadata": {},
   "outputs": [],
   "source": [
    "from catboost import CatBoostClassifier"
   ]
  },
  {
   "cell_type": "code",
   "execution_count": 11,
   "metadata": {},
   "outputs": [],
   "source": [
    "model = CatBoostClassifier(logging_level = \"Silent\")"
   ]
  },
  {
   "cell_type": "markdown",
   "metadata": {},
   "source": [
    "Обнаружение лучших признаков\n"
   ]
  },
  {
   "cell_type": "code",
   "execution_count": 12,
   "metadata": {},
   "outputs": [],
   "source": [
    "from sklearn.model_selection import KFold"
   ]
  },
  {
   "cell_type": "code",
   "execution_count": 13,
   "metadata": {},
   "outputs": [],
   "source": [
    "folds = KFold(n_splits = 4, shuffle = True)"
   ]
  },
  {
   "cell_type": "code",
   "execution_count": 14,
   "metadata": {},
   "outputs": [],
   "source": [
    "data = pd.DataFrame.copy(train_dataset)"
   ]
  },
  {
   "cell_type": "code",
   "execution_count": 15,
   "metadata": {},
   "outputs": [],
   "source": [
    "values = []"
   ]
  },
  {
   "cell_type": "code",
   "execution_count": 16,
   "metadata": {},
   "outputs": [],
   "source": [
    "columns = data.columns"
   ]
  },
  {
   "cell_type": "code",
   "execution_count": 18,
   "metadata": {},
   "outputs": [],
   "source": [
    "for i in range(100):\n",
    "    \n",
    "    model = CatBoostClassifier(logging_level='Silent')\n",
    "    \n",
    "    cv = [[], [], [], []]\n",
    "    cv_true = []\n",
    "    \n",
    "    for enum, indixes in enumerate(folds.split(data)):\n",
    "\n",
    "        train_index = indixes[0]\n",
    "        test_index = indixes[1]\n",
    "\n",
    "\n",
    "        train = pd.DataFrame.copy(data.loc[train_index])\n",
    "        test = pd.DataFrame.copy(data.loc[test_index])\n",
    "\n",
    "        train_targ = train_target[train_index]\n",
    "        test_targ = train_target[test_index]\n",
    "\n",
    "        model.fit(train, train_targ)\n",
    "\n",
    "        preds = model.predict(test)\n",
    "\n",
    "        cv_true.append(roc_auc_score(test_targ, preds))\n",
    "\n",
    "        for column in columns:\n",
    "\n",
    "            hold = np.array(test[column])\n",
    "\n",
    "            res = np.copy(hold)\n",
    "\n",
    "            shuffle(res)\n",
    "\n",
    "            test[column] = res\n",
    "\n",
    "            preds_shuffle = model.predict(test)\n",
    "\n",
    "            cv[enum].append(roc_auc_score(test_targ, preds_shuffle))\n",
    "\n",
    "            test[column] = hold\n",
    "            \n",
    "    cv_check = [[], [], [], []]\n",
    "    \n",
    "    for i in range(4):\n",
    "        true_i = cv_true[i]\n",
    "\n",
    "        for enum, val in enumerate(cv[i]):\n",
    "\n",
    "            if true_i > val:\n",
    "                cv_check[i].append(enum)\n",
    "    \n",
    "    useful_features = []\n",
    "    \n",
    "    for item in cv_check:\n",
    "        for val in item:\n",
    "            if columns[val] not in useful_features:\n",
    "                useful_features.append(columns[val])\n",
    "                \n",
    "    values.append(useful_features)"
   ]
  },
  {
   "cell_type": "code",
   "execution_count": 20,
   "metadata": {},
   "outputs": [],
   "source": [
    "association = np.zeros(columns.__len__())\n",
    "\n",
    "for enum, item in enumerate(columns):\n",
    "    for best in values:\n",
    "        if item in best:\n",
    "            association[enum] += 1"
   ]
  },
  {
   "cell_type": "code",
   "execution_count": 21,
   "metadata": {},
   "outputs": [],
   "source": [
    "order = np.argsort(association)[::-1]"
   ]
  },
  {
   "cell_type": "code",
   "execution_count": 22,
   "metadata": {},
   "outputs": [],
   "source": [
    "valuable_columns = columns[order]"
   ]
  },
  {
   "cell_type": "code",
   "execution_count": 23,
   "metadata": {},
   "outputs": [],
   "source": [
    "values_of_columns = association[order]"
   ]
  },
  {
   "cell_type": "code",
   "execution_count": 25,
   "metadata": {},
   "outputs": [
    {
     "data": {
      "text/plain": [
       "array([100., 100., 100., 100.,  96.,  88.,  88.,  82.,  80.,  78.,  75.,\n",
       "        74.,  72.,  70.,  70.,  68.,  67.,  64.,  58.,  57.,  54.,  48.,\n",
       "        45.,  38.,  38.,  36.,  36.,  35.,  34.,  33.,  32.,  31.,  31.,\n",
       "        30.,  29.,  29.,  29.,  28.,  28.,  27.,  26.,  26.,  26.,  26.,\n",
       "        26.,  25.,  25.,  25.,  25.,  24.,  24.,  24.,  23.,  23.,  23.,\n",
       "        23.,  23.,  23.,  22.,  22.,  22.,  21.,  21.,  21.,  21.,  20.,\n",
       "        20.,  20.,  20.,  20.,  19.,  19.,  19.,  18.,  18.,  17.,  17.,\n",
       "        17.,  16.,  16.,  15.,  15.,  15.,  14.,  14.,  14.,   6.])"
      ]
     },
     "execution_count": 25,
     "metadata": {},
     "output_type": "execute_result"
    }
   ],
   "source": [
    "values_of_columns"
   ]
  },
  {
   "cell_type": "markdown",
   "metadata": {},
   "source": [
    "Выберем столбцы, которые оставим"
   ]
  },
  {
   "cell_type": "code",
   "execution_count": 32,
   "metadata": {},
   "outputs": [],
   "source": [
    "kept_columns = valuable_columns[values_of_columns > 40]\n",
    "kept_values = values_of_columns[values_of_columns > 40]"
   ]
  },
  {
   "cell_type": "code",
   "execution_count": 33,
   "metadata": {},
   "outputs": [],
   "source": [
    "train_kept = pd.DataFrame.copy(train_dataset.loc[:, kept_columns])\n",
    "test_kept = pd.DataFrame.copy(test_dataset.loc[:, kept_columns])"
   ]
  },
  {
   "cell_type": "code",
   "execution_count": 34,
   "metadata": {},
   "outputs": [
    {
     "data": {
      "text/plain": [
       "Index(['msp1', 'sst', 'sqrs', 'spq', 'MSRP', 'noma', 'ecg_id', 'msh2', 'msh0',\n",
       "       'MDP', 'quality', 'MB0', 'MdSEP', 'MdSRP', 'MSEP', 'MdDP', 'msp2',\n",
       "       'MB1', 'msp4', 'MRR', 'msp3', 'msh4', 'msp6'],\n",
       "      dtype='object')"
      ]
     },
     "execution_count": 34,
     "metadata": {},
     "output_type": "execute_result"
    }
   ],
   "source": [
    "kept_columns"
   ]
  },
  {
   "cell_type": "code",
   "execution_count": 35,
   "metadata": {},
   "outputs": [
    {
     "data": {
      "text/plain": [
       "array([100., 100., 100., 100.,  96.,  88.,  88.,  82.,  80.,  78.,  75.,\n",
       "        74.,  72.,  70.,  70.,  68.,  67.,  64.,  58.,  57.,  54.,  48.,\n",
       "        45.])"
      ]
     },
     "execution_count": 35,
     "metadata": {},
     "output_type": "execute_result"
    }
   ],
   "source": [
    "kept_values"
   ]
  },
  {
   "cell_type": "markdown",
   "metadata": {},
   "source": [
    "## Введем преобразование к матрице попарных расстояний:"
   ]
  },
  {
   "cell_type": "code",
   "execution_count": 36,
   "metadata": {},
   "outputs": [],
   "source": [
    "def numeric_features(feat_line):\n",
    "    \n",
    "    pre_arr = np.absolute(feat_line[None, :] - feat_line[:, None])\n",
    "    max_val = pre_arr.max()\n",
    "    \n",
    "    return pre_arr / pre_arr.max()\n",
    "\n",
    "def build_distances(train_line, test_line):\n",
    "    \n",
    "    train_pre_arr = np.absolute(train_line[None, :] - train_line[:, None])\n",
    "    test_pre_arr = np.absolute(train_line[None, :] - test_line[:, None])\n",
    "    \n",
    "    train_max = train_pre_arr.max()\n",
    "\n",
    "    return train_pre_arr / train_max, test_pre_arr / train_max\n",
    "\n",
    "def recombinate(arr_list, names_list):\n",
    "    # also uses features and percentiles lists\n",
    "    \n",
    "    pairwise = np.zeros(arr_list[0].shape)\n",
    "    \n",
    "    for enum, item in enumerate(names_list):\n",
    "        \n",
    "        position = np.where(features == item)[0][0]\n",
    "        pairwise += percentiles[position] / 100 * arr_list[enum]\n",
    "        \n",
    "    return pairwise"
   ]
  },
  {
   "cell_type": "code",
   "execution_count": 58,
   "metadata": {},
   "outputs": [],
   "source": [
    "def recombination(train_df, test_df,\n",
    "                  features, percentiles,\n",
    "                  filling_diag = 'mean', \n",
    "                  using_percentiles = True):\n",
    "    # пока что уберем из рассмотрения столбец Number, т.к. я не знаю, что с ним делать\n",
    "    \n",
    "    columns = train_df.columns\n",
    "    \n",
    "    train_len = train_df.__len__()\n",
    "    test_len = test_df.__len__()\n",
    "    \n",
    "    train_pairwise = np.zeros((train_len, train_len))\n",
    "    test_pairwise = np.zeros((test_len, train_len))\n",
    "    \n",
    "    for col in columns:\n",
    "        \n",
    "        train_arr = np.array(train_df[col])\n",
    "        test_arr = np.array(test_df[col])\n",
    "        \n",
    "        train_dist, test_dist = build_distances(train_arr, test_arr)\n",
    "        \n",
    "        position = np.where(features == col)[0][0]\n",
    "        \n",
    "        if using_percentiles:\n",
    "        \n",
    "            train_pairwise += percentiles[position] / 100 * train_dist\n",
    "            test_pairwise += percentiles[position] / 100 * test_dist\n",
    "\n",
    "        else:\n",
    "            \n",
    "            train_pairwise += train_dist\n",
    "            test_pairwise += test_dist\n",
    "            \n",
    "    if filling_diag == 'mean':\n",
    "        \n",
    "        np.fill_diagonal(train_pairwise, np.mean(train_pairwise))\n",
    "        \n",
    "    if filling_diag == 'median':\n",
    "        \n",
    "        np.fill_diagonal(train_pairwise, np.median(train_pairwise))\n",
    "        \n",
    "    if filling_diag == 'max':\n",
    "        \n",
    "        np.fill_diagonal(train_pairwise, np.max(train_pairwise))\n",
    "        \n",
    "    return train_pairwise, test_pairwise"
   ]
  },
  {
   "cell_type": "markdown",
   "metadata": {},
   "source": [
    "## As a benchmark, i'll use just boosting:"
   ]
  },
  {
   "cell_type": "code",
   "execution_count": 56,
   "metadata": {},
   "outputs": [],
   "source": [
    "values_1 = []\n",
    "values_2 = []\n",
    "values_3 = []\n",
    "values_4 = []\n",
    "values_5 = []\n",
    "values_6 = []\n",
    "iters = [100, 200, 300, 400, 500,\n",
    "         600, 700, 800, 900, 1000, \n",
    "         1500, 2000, 2500, 3000]"
   ]
  },
  {
   "cell_type": "code",
   "execution_count": 40,
   "metadata": {},
   "outputs": [
    {
     "data": {
      "text/html": [
       "<div>\n",
       "<style scoped>\n",
       "    .dataframe tbody tr th:only-of-type {\n",
       "        vertical-align: middle;\n",
       "    }\n",
       "\n",
       "    .dataframe tbody tr th {\n",
       "        vertical-align: top;\n",
       "    }\n",
       "\n",
       "    .dataframe thead th {\n",
       "        text-align: right;\n",
       "    }\n",
       "</style>\n",
       "<table border=\"1\" class=\"dataframe\">\n",
       "  <thead>\n",
       "    <tr style=\"text-align: right;\">\n",
       "      <th></th>\n",
       "      <th>noma</th>\n",
       "      <th>ecg_id</th>\n",
       "      <th>MB0</th>\n",
       "      <th>MB1</th>\n",
       "      <th>MB2</th>\n",
       "      <th>MSEP</th>\n",
       "      <th>MSRP</th>\n",
       "      <th>MDP</th>\n",
       "      <th>MRR</th>\n",
       "      <th>MdSEP</th>\n",
       "      <th>...</th>\n",
       "      <th>msh22</th>\n",
       "      <th>msh23</th>\n",
       "      <th>msh24</th>\n",
       "      <th>msh25</th>\n",
       "      <th>msh26</th>\n",
       "      <th>msh27</th>\n",
       "      <th>msh28</th>\n",
       "      <th>msh29</th>\n",
       "      <th>msh30</th>\n",
       "      <th>msh31</th>\n",
       "    </tr>\n",
       "  </thead>\n",
       "  <tbody>\n",
       "    <tr>\n",
       "      <td>0</td>\n",
       "      <td>26</td>\n",
       "      <td>45909</td>\n",
       "      <td>0</td>\n",
       "      <td>0</td>\n",
       "      <td>-1</td>\n",
       "      <td>0</td>\n",
       "      <td>0</td>\n",
       "      <td>0</td>\n",
       "      <td>0</td>\n",
       "      <td>721</td>\n",
       "      <td>...</td>\n",
       "      <td>6.987262</td>\n",
       "      <td>5.842897</td>\n",
       "      <td>6.949771</td>\n",
       "      <td>5.843638</td>\n",
       "      <td>6.935230</td>\n",
       "      <td>5.821854</td>\n",
       "      <td>6.910798</td>\n",
       "      <td>5.806775</td>\n",
       "      <td>6.897684</td>\n",
       "      <td>5.639776</td>\n",
       "    </tr>\n",
       "    <tr>\n",
       "      <td>1</td>\n",
       "      <td>35</td>\n",
       "      <td>46125</td>\n",
       "      <td>251</td>\n",
       "      <td>176</td>\n",
       "      <td>343</td>\n",
       "      <td>280</td>\n",
       "      <td>373</td>\n",
       "      <td>551</td>\n",
       "      <td>748</td>\n",
       "      <td>752</td>\n",
       "      <td>...</td>\n",
       "      <td>6.604633</td>\n",
       "      <td>5.460614</td>\n",
       "      <td>6.555808</td>\n",
       "      <td>5.436133</td>\n",
       "      <td>6.521528</td>\n",
       "      <td>5.415350</td>\n",
       "      <td>6.498449</td>\n",
       "      <td>5.406096</td>\n",
       "      <td>6.486808</td>\n",
       "      <td>5.397264</td>\n",
       "    </tr>\n",
       "  </tbody>\n",
       "</table>\n",
       "<p>2 rows × 87 columns</p>\n",
       "</div>"
      ],
      "text/plain": [
       "   noma  ecg_id  MB0  MB1  MB2  MSEP  MSRP  MDP  MRR  MdSEP  ...     msh22  \\\n",
       "0    26   45909    0    0   -1     0     0    0    0    721  ...  6.987262   \n",
       "1    35   46125  251  176  343   280   373  551  748    752  ...  6.604633   \n",
       "\n",
       "      msh23     msh24     msh25     msh26     msh27     msh28     msh29  \\\n",
       "0  5.842897  6.949771  5.843638  6.935230  5.821854  6.910798  5.806775   \n",
       "1  5.460614  6.555808  5.436133  6.521528  5.415350  6.498449  5.406096   \n",
       "\n",
       "      msh30     msh31  \n",
       "0  6.897684  5.639776  \n",
       "1  6.486808  5.397264  \n",
       "\n",
       "[2 rows x 87 columns]"
      ]
     },
     "execution_count": 40,
     "metadata": {},
     "output_type": "execute_result"
    }
   ],
   "source": [
    "train_dataset.head(2)"
   ]
  },
  {
   "cell_type": "code",
   "execution_count": 43,
   "metadata": {},
   "outputs": [],
   "source": [
    "train_normalized = (train_dataset - train_dataset.mean()) / train_dataset.std()\n",
    "test_normalized = (test_dataset - test_dataset.mean()) / test_dataset.std()"
   ]
  },
  {
   "cell_type": "code",
   "execution_count": 44,
   "metadata": {},
   "outputs": [],
   "source": [
    "kept_norm = (train_kept - train_kept.mean()) / train_kept.std()\n",
    "kept_test_norm = (test_kept - test_kept.mean()) / test_kept.std()"
   ]
  },
  {
   "cell_type": "code",
   "execution_count": 59,
   "metadata": {},
   "outputs": [],
   "source": [
    "train_f_pair, test_f_pair = recombination(train_dataset,\n",
    "                                          test_dataset,\n",
    "                                          valuable_columns,\n",
    "                                          values_of_columns,\n",
    "                                          filling_diag = 'mean',\n",
    "                                          using_percentiles = False)"
   ]
  },
  {
   "cell_type": "code",
   "execution_count": 60,
   "metadata": {},
   "outputs": [],
   "source": [
    "train_pair, test_pair = recombination(train_kept,\n",
    "                                      test_kept,\n",
    "                                      valuable_columns,\n",
    "                                      values_of_columns,\n",
    "                                      filling_diag = 'mean',\n",
    "                                      using_percentiles = False\n",
    "                                      )"
   ]
  },
  {
   "cell_type": "code",
   "execution_count": 61,
   "metadata": {},
   "outputs": [],
   "source": [
    "train_p_pair, test_p_pair = recombination(train_kept,\n",
    "                                          test_kept,\n",
    "                                          valuable_columns,\n",
    "                                          values_of_columns,\n",
    "                                          filling_diag = 'mean',\n",
    "                                          using_percentiles = True)"
   ]
  },
  {
   "cell_type": "code",
   "execution_count": 87,
   "metadata": {},
   "outputs": [],
   "source": [
    "iters_2 = [4000, 5000, 6000]"
   ]
  },
  {
   "cell_type": "code",
   "execution_count": null,
   "metadata": {},
   "outputs": [],
   "source": [
    "iters += iters_2"
   ]
  },
  {
   "cell_type": "code",
   "execution_count": null,
   "metadata": {},
   "outputs": [
    {
     "name": "stdout",
     "output_type": "stream",
     "text": [
      "4000\n"
     ]
    }
   ],
   "source": [
    "for it in iters_2:\n",
    "    \n",
    "    model = CatBoostClassifier(logging_level = \"Silent\",\n",
    "                               iterations = it,\n",
    "                               depth = 4)\n",
    "    \n",
    "    model.fit(train_dataset, train_target)\n",
    "    preds_1 = model.predict_proba(test_dataset)[:, 1]    \n",
    "    values_1.append(roc_auc_score(test_target, preds_1))\n",
    "    \n",
    "    model.fit(train_normalized, train_target)\n",
    "    preds_2 = model.predict_proba(test_normalized)[:, 1]    \n",
    "    values_2.append(roc_auc_score(test_target, preds_2))\n",
    "    \n",
    "    model.fit(kept_norm, train_target)\n",
    "    preds_3 = model.predict_proba(kept_test_norm)[:, 1]    \n",
    "    values_3.append(roc_auc_score(test_target, preds_3))\n",
    "    \n",
    "    model.fit(train_f_pair, train_target)\n",
    "    preds_4 = model.predict_proba(test_f_pair)[:, 1]    \n",
    "    values_4.append(roc_auc_score(test_target, preds_4))\n",
    "    \n",
    "    model.fit(train_pair, train_target)\n",
    "    preds_5 = model.predict_proba(test_pair)[:, 1]    \n",
    "    values_5.append(roc_auc_score(test_target, preds_5))\n",
    "    \n",
    "    model.fit(train_p_pair, train_target)\n",
    "    preds_6 = model.predict_proba(test_p_pair)[:, 1]\n",
    "    values_6.append(roc_auc_score(test_target, preds_6))\n",
    "    \n",
    "    model.fit(train_kept, train_target)\n",
    "    preds_7 = model.predict_proba(test_kept)[:, 1]    \n",
    "    values_7.append(roc_auc_score(test_target, preds_7))\n",
    "    \n",
    "    print(it)"
   ]
  },
  {
   "cell_type": "code",
   "execution_count": 78,
   "metadata": {},
   "outputs": [],
   "source": [
    "values_7 = []"
   ]
  },
  {
   "cell_type": "code",
   "execution_count": 82,
   "metadata": {},
   "outputs": [
    {
     "name": "stdout",
     "output_type": "stream",
     "text": [
      "100\n",
      "200\n",
      "300\n",
      "400\n",
      "500\n",
      "600\n",
      "700\n",
      "800\n",
      "900\n",
      "1000\n",
      "1500\n",
      "2000\n",
      "2500\n",
      "3000\n"
     ]
    }
   ],
   "source": [
    "for it in iters:\n",
    "    \n",
    "    model = CatBoostClassifier(logging_level = \"Silent\",\n",
    "                               iterations = it,\n",
    "                               depth = 4)\n",
    "    \n",
    "\n",
    "    \n",
    "    print(it)\n",
    "    "
   ]
  },
  {
   "cell_type": "code",
   "execution_count": 83,
   "metadata": {},
   "outputs": [],
   "source": [
    "import matplotlib.pyplot as plt"
   ]
  },
  {
   "cell_type": "code",
   "execution_count": 86,
   "metadata": {},
   "outputs": [
    {
     "data": {
      "text/plain": [
       "[<matplotlib.lines.Line2D at 0x12276ba50>]"
      ]
     },
     "execution_count": 86,
     "metadata": {},
     "output_type": "execute_result"
    },
    {
     "data": {
      "image/png": "[encoded data removed]",
      "text/plain": [
       "<Figure size 720x720 with 1 Axes>"
      ]
     },
     "metadata": {
      "needs_background": "light"
     },
     "output_type": "display_data"
    }
   ],
   "source": [
    "plt.figure(figsize = [10, 10])\n",
    "\n",
    "plt.plot(iters, values_1, color = 'red')\n",
    "plt.plot(iters, values_2, color = 'green')\n",
    "plt.plot(iters, values_3, color = 'blue')\n",
    "plt.plot(iters, values_4, color = 'purple')\n",
    "plt.plot(iters, values_5, color = 'yellow')\n",
    "plt.plot(iters, values_6, color = 'pink')\n",
    "plt.plot(iters, values_7, color = 'teal')"
   ]
  },
  {
   "cell_type": "markdown",
   "metadata": {},
   "source": [
    "## Как видно, отбор параметров не сильно помогает работе catboost, т.к. в нем встроен собственный подбор параметров (результаты которого схожи с полученными мною)"
   ]
  },
  {
   "cell_type": "code",
   "execution_count": null,
   "metadata": {},
   "outputs": [],
   "source": []
  }
 ],
 "metadata": {
  "kernelspec": {
   "display_name": "Python 3",
   "language": "python",
   "name": "python3"
  },
  "language_info": {
   "codemirror_mode": {
    "name": "ipython",
    "version": 3
   },
   "file_extension": ".py",
   "mimetype": "text/x-python",
   "name": "python",
   "nbconvert_exporter": "python",
   "pygments_lexer": "ipython3",
   "version": "3.7.4"
  }
 },
 "nbformat": 4,
 "nbformat_minor": 2
}
