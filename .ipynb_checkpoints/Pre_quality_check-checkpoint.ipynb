{
 "cells": [
  {
   "cell_type": "code",
   "execution_count": 23,
   "metadata": {},
   "outputs": [],
   "source": [
    "import numpy as np\n",
    "import pandas as pd"
   ]
  },
  {
   "cell_type": "code",
   "execution_count": 209,
   "metadata": {},
   "outputs": [],
   "source": [
    "import matplotlib.pyplot as plt"
   ]
  },
  {
   "cell_type": "markdown",
   "metadata": {},
   "source": [
    "Load Data"
   ]
  },
  {
   "cell_type": "code",
   "execution_count": 173,
   "metadata": {},
   "outputs": [],
   "source": [
    "data = pd.read_csv(\"Data_transformed.csv\")"
   ]
  },
  {
   "cell_type": "code",
   "execution_count": 174,
   "metadata": {},
   "outputs": [
    {
     "data": {
      "text/html": [
       "<div>\n",
       "<style scoped>\n",
       "    .dataframe tbody tr th:only-of-type {\n",
       "        vertical-align: middle;\n",
       "    }\n",
       "\n",
       "    .dataframe tbody tr th {\n",
       "        vertical-align: top;\n",
       "    }\n",
       "\n",
       "    .dataframe thead th {\n",
       "        text-align: right;\n",
       "    }\n",
       "</style>\n",
       "<table border=\"1\" class=\"dataframe\">\n",
       "  <thead>\n",
       "    <tr style=\"text-align: right;\">\n",
       "      <th></th>\n",
       "      <th>Number</th>\n",
       "      <th>Глюкоза</th>\n",
       "      <th>Мочевина</th>\n",
       "      <th>Креатинин</th>\n",
       "      <th>Мочевая к-та</th>\n",
       "      <th>Холестерин</th>\n",
       "      <th>Х-ЛПВП</th>\n",
       "      <th>Х-ЛПНП</th>\n",
       "      <th>Триглицериды</th>\n",
       "      <th>индекс массы тела</th>\n",
       "      <th>...</th>\n",
       "      <th>АТ к Анг  II</th>\n",
       "      <th>АТ к ЭТ</th>\n",
       "      <th>АТ к HLDF- 24</th>\n",
       "      <th>Target</th>\n",
       "      <th>phys</th>\n",
       "      <th>mind</th>\n",
       "      <th>age</th>\n",
       "      <th>male</th>\n",
       "      <th>female</th>\n",
       "      <th>no_spec_gender</th>\n",
       "    </tr>\n",
       "  </thead>\n",
       "  <tbody>\n",
       "    <tr>\n",
       "      <td>0</td>\n",
       "      <td>2.0</td>\n",
       "      <td>6.2</td>\n",
       "      <td>5.9</td>\n",
       "      <td>110</td>\n",
       "      <td>443</td>\n",
       "      <td>6.2</td>\n",
       "      <td>1.07</td>\n",
       "      <td>4.25</td>\n",
       "      <td>2.37</td>\n",
       "      <td>20.00</td>\n",
       "      <td>...</td>\n",
       "      <td>NaN</td>\n",
       "      <td>NaN</td>\n",
       "      <td>NaN</td>\n",
       "      <td>-1</td>\n",
       "      <td>3</td>\n",
       "      <td>0</td>\n",
       "      <td>63.0</td>\n",
       "      <td>1</td>\n",
       "      <td>0</td>\n",
       "      <td>0</td>\n",
       "    </tr>\n",
       "    <tr>\n",
       "      <td>1</td>\n",
       "      <td>3.0</td>\n",
       "      <td>5.2</td>\n",
       "      <td>5.0</td>\n",
       "      <td>72</td>\n",
       "      <td>164</td>\n",
       "      <td>5.5</td>\n",
       "      <td>2.27</td>\n",
       "      <td>3.39</td>\n",
       "      <td>0.64</td>\n",
       "      <td>20.69</td>\n",
       "      <td>...</td>\n",
       "      <td>NaN</td>\n",
       "      <td>NaN</td>\n",
       "      <td>NaN</td>\n",
       "      <td>-1</td>\n",
       "      <td>1</td>\n",
       "      <td>2</td>\n",
       "      <td>57.0</td>\n",
       "      <td>0</td>\n",
       "      <td>1</td>\n",
       "      <td>0</td>\n",
       "    </tr>\n",
       "    <tr>\n",
       "      <td>2</td>\n",
       "      <td>4.0</td>\n",
       "      <td>5.1</td>\n",
       "      <td>5.8</td>\n",
       "      <td>85</td>\n",
       "      <td>345</td>\n",
       "      <td>6.6</td>\n",
       "      <td>2.10</td>\n",
       "      <td>4.14</td>\n",
       "      <td>0.36</td>\n",
       "      <td>30.47</td>\n",
       "      <td>...</td>\n",
       "      <td>NaN</td>\n",
       "      <td>NaN</td>\n",
       "      <td>NaN</td>\n",
       "      <td>-1</td>\n",
       "      <td>1</td>\n",
       "      <td>2</td>\n",
       "      <td>57.0</td>\n",
       "      <td>0</td>\n",
       "      <td>0</td>\n",
       "      <td>1</td>\n",
       "    </tr>\n",
       "    <tr>\n",
       "      <td>3</td>\n",
       "      <td>5.0</td>\n",
       "      <td>5.6</td>\n",
       "      <td>5.7</td>\n",
       "      <td>74</td>\n",
       "      <td>438</td>\n",
       "      <td>6.3</td>\n",
       "      <td>1.04</td>\n",
       "      <td>3.96</td>\n",
       "      <td>3.38</td>\n",
       "      <td>31.80</td>\n",
       "      <td>...</td>\n",
       "      <td>1600.0</td>\n",
       "      <td>400.0</td>\n",
       "      <td>50.0</td>\n",
       "      <td>-1</td>\n",
       "      <td>1</td>\n",
       "      <td>1</td>\n",
       "      <td>55.0</td>\n",
       "      <td>1</td>\n",
       "      <td>0</td>\n",
       "      <td>0</td>\n",
       "    </tr>\n",
       "    <tr>\n",
       "      <td>4</td>\n",
       "      <td>12.0</td>\n",
       "      <td>5.7</td>\n",
       "      <td>5.5</td>\n",
       "      <td>88</td>\n",
       "      <td>286</td>\n",
       "      <td>7.1</td>\n",
       "      <td>0.91</td>\n",
       "      <td>5.33</td>\n",
       "      <td>1.80</td>\n",
       "      <td>26.50</td>\n",
       "      <td>...</td>\n",
       "      <td>400.0</td>\n",
       "      <td>600.0</td>\n",
       "      <td>100.0</td>\n",
       "      <td>-1</td>\n",
       "      <td>3</td>\n",
       "      <td>0</td>\n",
       "      <td>60.0</td>\n",
       "      <td>1</td>\n",
       "      <td>0</td>\n",
       "      <td>0</td>\n",
       "    </tr>\n",
       "  </tbody>\n",
       "</table>\n",
       "<p>5 rows × 39 columns</p>\n",
       "</div>"
      ],
      "text/plain": [
       "   Number  Глюкоза  Мочевина  Креатинин  Мочевая к-та  Холестерин  Х-ЛПВП  \\\n",
       "0     2.0      6.2       5.9        110           443         6.2    1.07   \n",
       "1     3.0      5.2       5.0         72           164         5.5    2.27   \n",
       "2     4.0      5.1       5.8         85           345         6.6    2.10   \n",
       "3     5.0      5.6       5.7         74           438         6.3    1.04   \n",
       "4    12.0      5.7       5.5         88           286         7.1    0.91   \n",
       "\n",
       "   Х-ЛПНП  Триглицериды  индекс массы тела  ...  АТ к Анг  II   АТ к ЭТ   \\\n",
       "0    4.25          2.37              20.00  ...            NaN       NaN   \n",
       "1    3.39          0.64              20.69  ...            NaN       NaN   \n",
       "2    4.14          0.36              30.47  ...            NaN       NaN   \n",
       "3    3.96          3.38              31.80  ...         1600.0     400.0   \n",
       "4    5.33          1.80              26.50  ...          400.0     600.0   \n",
       "\n",
       "   АТ к HLDF- 24  Target  phys  mind   age  male  female  no_spec_gender  \n",
       "0            NaN      -1     3     0  63.0     1       0               0  \n",
       "1            NaN      -1     1     2  57.0     0       1               0  \n",
       "2            NaN      -1     1     2  57.0     0       0               1  \n",
       "3           50.0      -1     1     1  55.0     1       0               0  \n",
       "4          100.0      -1     3     0  60.0     1       0               0  \n",
       "\n",
       "[5 rows x 39 columns]"
      ]
     },
     "execution_count": 174,
     "metadata": {},
     "output_type": "execute_result"
    }
   ],
   "source": [
    "data.head(5)"
   ]
  },
  {
   "cell_type": "markdown",
   "metadata": {},
   "source": [
    "Taking features sorted by value from prev file"
   ]
  },
  {
   "cell_type": "code",
   "execution_count": 175,
   "metadata": {},
   "outputs": [],
   "source": [
    "features = np.array(['Number', 'САД', 'HLDF (нг/мл', 'ДАД', 'Триглицериды',\n",
    "       'ГЛЖ ин Соколова-Лайона', 'Креатинин', 'прием п\\щ контрац',\n",
    "       'Мочевая к-та', 'Мочевина', 'VEGF,  пг/мл (N40-600)',\n",
    "       'индекс массы тела', 'age', 'Холестерин', 'Глюкоза', 'Х-ЛПВП',\n",
    "       'АТ к Анг  II ', 'Х-ЛПНП', 'АТ к HLDF- 24', 'phys',\n",
    "       'Анг II, пг/мл (N 10-60 пг/мл)', 'mind', 'S100b, нг/л (N до 90)',\n",
    "       'насл отяг, По ГБ, ', 'female', 'excess_salt_consumption',\n",
    "       'насл, Отяг по почечн, Заб', 'АТ к ЭТ ', 'ЭТ, пмоль/л    (N =0,09)',\n",
    "       'no_spec_gender', 'smoking', 'Alcoholic', 'гиподинамия', 'стресс',\n",
    "       'насл отяг, По ССЗ', 'АТ к S100b', 'male', 'насл отяг, По СД'])"
   ]
  },
  {
   "cell_type": "code",
   "execution_count": 176,
   "metadata": {},
   "outputs": [],
   "source": [
    "percentiles = np.array([100., 100., 100.,  97.,  80.,  60.,  55.,  39.,  37.,  33.,  32.,\n",
    "        27.,  23.,  17.,  16.,  13.,  11.,  11.,   8.,   5.,   5.,   4.,\n",
    "         4.,   1.,   1.,   1.,   1.,   1.,   1.,   0.,   0.,   0.,   0.,\n",
    "         0.,   0.,   0.,   0.,   0.])"
   ]
  },
  {
   "cell_type": "markdown",
   "metadata": {},
   "source": [
    "Threshold would be around 0.3 appearance rate. Dropping rarer columns"
   ]
  },
  {
   "cell_type": "code",
   "execution_count": 177,
   "metadata": {},
   "outputs": [],
   "source": [
    "kept_ft = features[np.where(percentiles > 30)[0]]\n",
    "kept_pc = percentiles[np.where(percentiles > 30)[0]]"
   ]
  },
  {
   "cell_type": "code",
   "execution_count": 178,
   "metadata": {},
   "outputs": [
    {
     "data": {
      "text/plain": [
       "array(['Number', 'САД', 'HLDF (нг/мл', 'ДАД', 'Триглицериды',\n",
       "       'ГЛЖ ин Соколова-Лайона', 'Креатинин', 'прием п\\\\щ контрац',\n",
       "       'Мочевая к-та', 'Мочевина', 'VEGF,  пг/мл (N40-600)'], dtype='<U29')"
      ]
     },
     "execution_count": 178,
     "metadata": {},
     "output_type": "execute_result"
    }
   ],
   "source": [
    "kept_ft"
   ]
  },
  {
   "cell_type": "code",
   "execution_count": 179,
   "metadata": {
    "collapsed": true
   },
   "outputs": [
    {
     "data": {
      "text/plain": [
       "Index(['Number', 'Глюкоза', 'Мочевина', 'Креатинин', 'Мочевая к-та',\n",
       "       'Холестерин', 'Х-ЛПВП', 'Х-ЛПНП', 'Триглицериды', 'индекс массы тела',\n",
       "       'smoking', 'Alcoholic', 'excess_salt_consumption', 'гиподинамия',\n",
       "       'стресс', 'прием п\\щ контрац', 'насл отяг, По ГБ, ',\n",
       "       'насл отяг, По ССЗ', 'насл отяг, По СД', 'насл, Отяг по почечн, Заб',\n",
       "       'САД', 'ДАД', 'ГЛЖ ин Соколова-Лайона', 'S100b, нг/л (N до 90)',\n",
       "       'Анг II, пг/мл (N 10-60 пг/мл)', 'ЭТ, пмоль/л    (N =0,09)',\n",
       "       'VEGF,  пг/мл (N40-600)', 'HLDF (нг/мл', 'АТ к S100b', 'АТ к Анг  II ',\n",
       "       'АТ к ЭТ ', 'АТ к HLDF- 24', 'Target', 'phys', 'mind', 'age', 'male',\n",
       "       'female', 'no_spec_gender'],\n",
       "      dtype='object')"
      ]
     },
     "execution_count": 179,
     "metadata": {},
     "output_type": "execute_result"
    }
   ],
   "source": [
    "data.columns"
   ]
  },
  {
   "cell_type": "code",
   "execution_count": 180,
   "metadata": {
    "collapsed": true
   },
   "outputs": [
    {
     "data": {
      "text/plain": [
       "0     -1\n",
       "1     -1\n",
       "2     -1\n",
       "3     -1\n",
       "4     -1\n",
       "      ..\n",
       "112    1\n",
       "113    1\n",
       "114    1\n",
       "115    1\n",
       "116    1\n",
       "Name: Target, Length: 117, dtype: int64"
      ]
     },
     "execution_count": 180,
     "metadata": {},
     "output_type": "execute_result"
    }
   ],
   "source": [
    "Target_col = data[\"Target\"]\n",
    "data.drop(columns = \"Target\", inplace=True)\n",
    "Target_col"
   ]
  },
  {
   "cell_type": "code",
   "execution_count": 181,
   "metadata": {
    "collapsed": true
   },
   "outputs": [
    {
     "data": {
      "text/plain": [
       "['ЭТ, пмоль/л    (N =0,09)',\n",
       " 'smoking',\n",
       " 'Alcoholic',\n",
       " 'Х-ЛПНП',\n",
       " 'excess_salt_consumption',\n",
       " 'насл отяг, По СД',\n",
       " 'АТ к S100b',\n",
       " 'насл, Отяг по почечн, Заб',\n",
       " 'Глюкоза',\n",
       " 'phys',\n",
       " 'гиподинамия',\n",
       " 'Х-ЛПВП',\n",
       " 'АТ к ЭТ ',\n",
       " 'age',\n",
       " 'стресс',\n",
       " 'mind',\n",
       " 'АТ к HLDF- 24',\n",
       " 'индекс массы тела',\n",
       " 'насл отяг, По ГБ, ',\n",
       " 'female',\n",
       " 'Холестерин',\n",
       " 'no_spec_gender',\n",
       " 'насл отяг, По ССЗ',\n",
       " 'АТ к Анг  II ',\n",
       " 'male',\n",
       " 'Анг II, пг/мл (N 10-60 пг/мл)',\n",
       " 'S100b, нг/л (N до 90)']"
      ]
     },
     "execution_count": 181,
     "metadata": {},
     "output_type": "execute_result"
    }
   ],
   "source": [
    "removed_ft = list(set(data.columns.tolist()).difference(set(kept_ft.tolist())))\n",
    "removed_ft"
   ]
  },
  {
   "cell_type": "code",
   "execution_count": 182,
   "metadata": {},
   "outputs": [],
   "source": [
    "data.drop(columns = removed_ft, inplace=True)"
   ]
  },
  {
   "cell_type": "code",
   "execution_count": 183,
   "metadata": {},
   "outputs": [
    {
     "data": {
      "text/html": [
       "<div>\n",
       "<style scoped>\n",
       "    .dataframe tbody tr th:only-of-type {\n",
       "        vertical-align: middle;\n",
       "    }\n",
       "\n",
       "    .dataframe tbody tr th {\n",
       "        vertical-align: top;\n",
       "    }\n",
       "\n",
       "    .dataframe thead th {\n",
       "        text-align: right;\n",
       "    }\n",
       "</style>\n",
       "<table border=\"1\" class=\"dataframe\">\n",
       "  <thead>\n",
       "    <tr style=\"text-align: right;\">\n",
       "      <th></th>\n",
       "      <th>Number</th>\n",
       "      <th>Мочевина</th>\n",
       "      <th>Креатинин</th>\n",
       "      <th>Мочевая к-та</th>\n",
       "      <th>Триглицериды</th>\n",
       "      <th>прием п\\щ контрац</th>\n",
       "      <th>САД</th>\n",
       "      <th>ДАД</th>\n",
       "      <th>ГЛЖ ин Соколова-Лайона</th>\n",
       "      <th>VEGF,  пг/мл (N40-600)</th>\n",
       "      <th>HLDF (нг/мл</th>\n",
       "    </tr>\n",
       "  </thead>\n",
       "  <tbody>\n",
       "    <tr>\n",
       "      <td>0</td>\n",
       "      <td>2.0</td>\n",
       "      <td>5.9</td>\n",
       "      <td>110</td>\n",
       "      <td>443</td>\n",
       "      <td>2.37</td>\n",
       "      <td>0</td>\n",
       "      <td>160.0</td>\n",
       "      <td>90.0</td>\n",
       "      <td>NaN</td>\n",
       "      <td>NaN</td>\n",
       "      <td>NaN</td>\n",
       "    </tr>\n",
       "    <tr>\n",
       "      <td>1</td>\n",
       "      <td>3.0</td>\n",
       "      <td>5.0</td>\n",
       "      <td>72</td>\n",
       "      <td>164</td>\n",
       "      <td>0.64</td>\n",
       "      <td>0</td>\n",
       "      <td>130.0</td>\n",
       "      <td>80.0</td>\n",
       "      <td>22.0</td>\n",
       "      <td>NaN</td>\n",
       "      <td>NaN</td>\n",
       "    </tr>\n",
       "    <tr>\n",
       "      <td>2</td>\n",
       "      <td>4.0</td>\n",
       "      <td>5.8</td>\n",
       "      <td>85</td>\n",
       "      <td>345</td>\n",
       "      <td>0.36</td>\n",
       "      <td>0</td>\n",
       "      <td>120.0</td>\n",
       "      <td>80.0</td>\n",
       "      <td>NaN</td>\n",
       "      <td>NaN</td>\n",
       "      <td>NaN</td>\n",
       "    </tr>\n",
       "    <tr>\n",
       "      <td>3</td>\n",
       "      <td>5.0</td>\n",
       "      <td>5.7</td>\n",
       "      <td>74</td>\n",
       "      <td>438</td>\n",
       "      <td>3.38</td>\n",
       "      <td>0</td>\n",
       "      <td>135.0</td>\n",
       "      <td>80.0</td>\n",
       "      <td>14.0</td>\n",
       "      <td>458.40</td>\n",
       "      <td>NaN</td>\n",
       "    </tr>\n",
       "    <tr>\n",
       "      <td>4</td>\n",
       "      <td>12.0</td>\n",
       "      <td>5.5</td>\n",
       "      <td>88</td>\n",
       "      <td>286</td>\n",
       "      <td>1.80</td>\n",
       "      <td>0</td>\n",
       "      <td>120.0</td>\n",
       "      <td>80.0</td>\n",
       "      <td>18.0</td>\n",
       "      <td>70.91</td>\n",
       "      <td>120.0</td>\n",
       "    </tr>\n",
       "  </tbody>\n",
       "</table>\n",
       "</div>"
      ],
      "text/plain": [
       "   Number  Мочевина  Креатинин  Мочевая к-та  Триглицериды  прием п\\щ контрац  \\\n",
       "0     2.0       5.9        110           443          2.37                  0   \n",
       "1     3.0       5.0         72           164          0.64                  0   \n",
       "2     4.0       5.8         85           345          0.36                  0   \n",
       "3     5.0       5.7         74           438          3.38                  0   \n",
       "4    12.0       5.5         88           286          1.80                  0   \n",
       "\n",
       "     САД   ДАД  ГЛЖ ин Соколова-Лайона  VEGF,  пг/мл (N40-600)  HLDF (нг/мл  \n",
       "0  160.0  90.0                     NaN                     NaN          NaN  \n",
       "1  130.0  80.0                    22.0                     NaN          NaN  \n",
       "2  120.0  80.0                     NaN                     NaN          NaN  \n",
       "3  135.0  80.0                    14.0                  458.40          NaN  \n",
       "4  120.0  80.0                    18.0                   70.91        120.0  "
      ]
     },
     "execution_count": 183,
     "metadata": {},
     "output_type": "execute_result"
    }
   ],
   "source": [
    "data.head(5)"
   ]
  },
  {
   "cell_type": "markdown",
   "metadata": {},
   "source": [
    "Pairwise distance must be measured separately on train and test set (not to prevent overlearn, but to reduce amount of calculations)"
   ]
  },
  {
   "cell_type": "code",
   "execution_count": 184,
   "metadata": {},
   "outputs": [],
   "source": [
    "from sklearn.model_selection import train_test_split"
   ]
  },
  {
   "cell_type": "code",
   "execution_count": 185,
   "metadata": {},
   "outputs": [],
   "source": [
    "X_train, X_test, y_train, y_test = train_test_split(data, Target_col,\n",
    "                                                    test_size = 0.25,\n",
    "                                                    random_state = 451)"
   ]
  },
  {
   "cell_type": "markdown",
   "metadata": {},
   "source": [
    "Test launch on Decision Tree and Random Forest"
   ]
  },
  {
   "cell_type": "code",
   "execution_count": 186,
   "metadata": {},
   "outputs": [],
   "source": [
    "from sklearn.tree import DecisionTreeClassifier as DTC"
   ]
  },
  {
   "cell_type": "code",
   "execution_count": 187,
   "metadata": {},
   "outputs": [],
   "source": [
    "model = DTC()"
   ]
  },
  {
   "cell_type": "code",
   "execution_count": 188,
   "metadata": {},
   "outputs": [
    {
     "data": {
      "text/plain": [
       "DecisionTreeClassifier(class_weight=None, criterion='gini', max_depth=None,\n",
       "                       max_features=None, max_leaf_nodes=None,\n",
       "                       min_impurity_decrease=0.0, min_impurity_split=None,\n",
       "                       min_samples_leaf=1, min_samples_split=2,\n",
       "                       min_weight_fraction_leaf=0.0, presort=False,\n",
       "                       random_state=None, splitter='best')"
      ]
     },
     "execution_count": 188,
     "metadata": {},
     "output_type": "execute_result"
    }
   ],
   "source": [
    "model.fit(X_train.fillna(0), y_train)"
   ]
  },
  {
   "cell_type": "code",
   "execution_count": 189,
   "metadata": {},
   "outputs": [],
   "source": [
    "preds = model.predict_proba(X_test.fillna(0))[:, 1]"
   ]
  },
  {
   "cell_type": "code",
   "execution_count": 190,
   "metadata": {},
   "outputs": [],
   "source": [
    "from sklearn.metrics import roc_auc_score"
   ]
  },
  {
   "cell_type": "code",
   "execution_count": 191,
   "metadata": {},
   "outputs": [
    {
     "data": {
      "text/plain": [
       "0.9027149321266968"
      ]
     },
     "execution_count": 191,
     "metadata": {},
     "output_type": "execute_result"
    }
   ],
   "source": [
    "roc_auc_score(y_test, preds)"
   ]
  },
  {
   "cell_type": "code",
   "execution_count": 207,
   "metadata": {},
   "outputs": [
    {
     "data": {
      "text/plain": [
       "array([1., 0., 0., 0., 1., 0., 1., 1., 0., 1., 0., 0., 1., 0., 1., 0., 1.,\n",
       "       1., 0., 0., 0., 1., 1., 0., 0., 1., 0., 0., 1., 1.])"
      ]
     },
     "execution_count": 207,
     "metadata": {},
     "output_type": "execute_result"
    }
   ],
   "source": [
    "preds"
   ]
  },
  {
   "cell_type": "code",
   "execution_count": 192,
   "metadata": {},
   "outputs": [],
   "source": [
    "from sklearn.ensemble import RandomForestClassifier as RFC"
   ]
  },
  {
   "cell_type": "code",
   "execution_count": 201,
   "metadata": {},
   "outputs": [],
   "source": [
    "model2 = RFC(random_state=451)"
   ]
  },
  {
   "cell_type": "code",
   "execution_count": 202,
   "metadata": {},
   "outputs": [
    {
     "name": "stderr",
     "output_type": "stream",
     "text": [
      "/usr/local/lib/python3.7/site-packages/sklearn/ensemble/forest.py:245: FutureWarning: The default value of n_estimators will change from 10 in version 0.20 to 100 in 0.22.\n",
      "  \"10 in version 0.20 to 100 in 0.22.\", FutureWarning)\n"
     ]
    },
    {
     "data": {
      "text/plain": [
       "RandomForestClassifier(bootstrap=True, class_weight=None, criterion='gini',\n",
       "                       max_depth=None, max_features='auto', max_leaf_nodes=None,\n",
       "                       min_impurity_decrease=0.0, min_impurity_split=None,\n",
       "                       min_samples_leaf=1, min_samples_split=2,\n",
       "                       min_weight_fraction_leaf=0.0, n_estimators=10,\n",
       "                       n_jobs=None, oob_score=False, random_state=451,\n",
       "                       verbose=0, warm_start=False)"
      ]
     },
     "execution_count": 202,
     "metadata": {},
     "output_type": "execute_result"
    }
   ],
   "source": [
    "model2.fit(X_train.fillna(0), y_train)"
   ]
  },
  {
   "cell_type": "code",
   "execution_count": 203,
   "metadata": {},
   "outputs": [],
   "source": [
    "preds2 = model2.predict_proba(X_test.fillna(0))[:, 1]"
   ]
  },
  {
   "cell_type": "code",
   "execution_count": 204,
   "metadata": {},
   "outputs": [
    {
     "data": {
      "text/plain": [
       "0.911764705882353"
      ]
     },
     "execution_count": 204,
     "metadata": {},
     "output_type": "execute_result"
    }
   ],
   "source": [
    "roc_auc_score(y_test, preds2)"
   ]
  },
  {
   "cell_type": "markdown",
   "metadata": {},
   "source": [
    "Для базовой оценки качества работы алгоритма хватит\n",
    "\n",
    "Так же замечу, что значительно повысилось качество, что было получено за счёт преобразования данных и отсеивания шумовых признаков"
   ]
  },
  {
   "cell_type": "code",
   "execution_count": 383,
   "metadata": {},
   "outputs": [
    {
     "data": {
      "text/html": [
       "<div>\n",
       "<style scoped>\n",
       "    .dataframe tbody tr th:only-of-type {\n",
       "        vertical-align: middle;\n",
       "    }\n",
       "\n",
       "    .dataframe tbody tr th {\n",
       "        vertical-align: top;\n",
       "    }\n",
       "\n",
       "    .dataframe thead th {\n",
       "        text-align: right;\n",
       "    }\n",
       "</style>\n",
       "<table border=\"1\" class=\"dataframe\">\n",
       "  <thead>\n",
       "    <tr style=\"text-align: right;\">\n",
       "      <th></th>\n",
       "      <th>Number</th>\n",
       "      <th>Мочевина</th>\n",
       "      <th>Креатинин</th>\n",
       "      <th>Мочевая к-та</th>\n",
       "      <th>Триглицериды</th>\n",
       "      <th>прием п\\щ контрац</th>\n",
       "      <th>САД</th>\n",
       "      <th>ДАД</th>\n",
       "      <th>ГЛЖ ин Соколова-Лайона</th>\n",
       "      <th>VEGF,  пг/мл (N40-600)</th>\n",
       "      <th>HLDF (нг/мл</th>\n",
       "    </tr>\n",
       "  </thead>\n",
       "  <tbody>\n",
       "    <tr>\n",
       "      <td>30</td>\n",
       "      <td>59.0</td>\n",
       "      <td>5.4</td>\n",
       "      <td>74</td>\n",
       "      <td>297</td>\n",
       "      <td>0.56</td>\n",
       "      <td>0</td>\n",
       "      <td>120.0</td>\n",
       "      <td>80.0</td>\n",
       "      <td>24.0</td>\n",
       "      <td>29.8</td>\n",
       "      <td>108.0</td>\n",
       "    </tr>\n",
       "    <tr>\n",
       "      <td>77</td>\n",
       "      <td>48.0</td>\n",
       "      <td>4.5</td>\n",
       "      <td>69</td>\n",
       "      <td>350</td>\n",
       "      <td>2.03</td>\n",
       "      <td>1</td>\n",
       "      <td>120.0</td>\n",
       "      <td>80.0</td>\n",
       "      <td>22.0</td>\n",
       "      <td>-100.0</td>\n",
       "      <td>-100.0</td>\n",
       "    </tr>\n",
       "    <tr>\n",
       "      <td>84</td>\n",
       "      <td>77.0</td>\n",
       "      <td>3.7</td>\n",
       "      <td>68</td>\n",
       "      <td>331</td>\n",
       "      <td>1.36</td>\n",
       "      <td>0</td>\n",
       "      <td>130.0</td>\n",
       "      <td>80.0</td>\n",
       "      <td>25.0</td>\n",
       "      <td>527.3</td>\n",
       "      <td>77.0</td>\n",
       "    </tr>\n",
       "    <tr>\n",
       "      <td>65</td>\n",
       "      <td>147.0</td>\n",
       "      <td>4.4</td>\n",
       "      <td>92</td>\n",
       "      <td>495</td>\n",
       "      <td>3.08</td>\n",
       "      <td>0</td>\n",
       "      <td>120.0</td>\n",
       "      <td>80.0</td>\n",
       "      <td>27.0</td>\n",
       "      <td>-100.0</td>\n",
       "      <td>-100.0</td>\n",
       "    </tr>\n",
       "    <tr>\n",
       "      <td>28</td>\n",
       "      <td>57.0</td>\n",
       "      <td>4.0</td>\n",
       "      <td>68</td>\n",
       "      <td>387</td>\n",
       "      <td>0.83</td>\n",
       "      <td>0</td>\n",
       "      <td>120.0</td>\n",
       "      <td>80.0</td>\n",
       "      <td>28.0</td>\n",
       "      <td>-100.0</td>\n",
       "      <td>-100.0</td>\n",
       "    </tr>\n",
       "  </tbody>\n",
       "</table>\n",
       "</div>"
      ],
      "text/plain": [
       "    Number  Мочевина  Креатинин  Мочевая к-та  Триглицериды  \\\n",
       "30    59.0       5.4         74           297          0.56   \n",
       "77    48.0       4.5         69           350          2.03   \n",
       "84    77.0       3.7         68           331          1.36   \n",
       "65   147.0       4.4         92           495          3.08   \n",
       "28    57.0       4.0         68           387          0.83   \n",
       "\n",
       "    прием п\\щ контрац    САД   ДАД  ГЛЖ ин Соколова-Лайона  \\\n",
       "30                  0  120.0  80.0                    24.0   \n",
       "77                  1  120.0  80.0                    22.0   \n",
       "84                  0  130.0  80.0                    25.0   \n",
       "65                  0  120.0  80.0                    27.0   \n",
       "28                  0  120.0  80.0                    28.0   \n",
       "\n",
       "    VEGF,  пг/мл (N40-600)  HLDF (нг/мл  \n",
       "30                    29.8        108.0  \n",
       "77                  -100.0       -100.0  \n",
       "84                   527.3         77.0  \n",
       "65                  -100.0       -100.0  \n",
       "28                  -100.0       -100.0  "
      ]
     },
     "execution_count": 383,
     "metadata": {},
     "output_type": "execute_result"
    }
   ],
   "source": [
    "new_train = pd.DataFrame.copy(X_train.fillna(-100))\n",
    "new_train.head(5)"
   ]
  },
  {
   "cell_type": "code",
   "execution_count": 384,
   "metadata": {},
   "outputs": [
    {
     "data": {
      "text/html": [
       "<div>\n",
       "<style scoped>\n",
       "    .dataframe tbody tr th:only-of-type {\n",
       "        vertical-align: middle;\n",
       "    }\n",
       "\n",
       "    .dataframe tbody tr th {\n",
       "        vertical-align: top;\n",
       "    }\n",
       "\n",
       "    .dataframe thead th {\n",
       "        text-align: right;\n",
       "    }\n",
       "</style>\n",
       "<table border=\"1\" class=\"dataframe\">\n",
       "  <thead>\n",
       "    <tr style=\"text-align: right;\">\n",
       "      <th></th>\n",
       "      <th>Number</th>\n",
       "      <th>Мочевина</th>\n",
       "      <th>Креатинин</th>\n",
       "      <th>Мочевая к-та</th>\n",
       "      <th>Триглицериды</th>\n",
       "      <th>прием п\\щ контрац</th>\n",
       "      <th>САД</th>\n",
       "      <th>ДАД</th>\n",
       "      <th>ГЛЖ ин Соколова-Лайона</th>\n",
       "      <th>VEGF,  пг/мл (N40-600)</th>\n",
       "      <th>HLDF (нг/мл</th>\n",
       "    </tr>\n",
       "  </thead>\n",
       "  <tbody>\n",
       "    <tr>\n",
       "      <td>83</td>\n",
       "      <td>71.0</td>\n",
       "      <td>6.5</td>\n",
       "      <td>88</td>\n",
       "      <td>386</td>\n",
       "      <td>0.54</td>\n",
       "      <td>0</td>\n",
       "      <td>120.0</td>\n",
       "      <td>80.0</td>\n",
       "      <td>37.0</td>\n",
       "      <td>214.30</td>\n",
       "      <td>47.0</td>\n",
       "    </tr>\n",
       "    <tr>\n",
       "      <td>16</td>\n",
       "      <td>37.0</td>\n",
       "      <td>6.6</td>\n",
       "      <td>84</td>\n",
       "      <td>286</td>\n",
       "      <td>0.68</td>\n",
       "      <td>0</td>\n",
       "      <td>110.0</td>\n",
       "      <td>70.0</td>\n",
       "      <td>28.0</td>\n",
       "      <td>46.63</td>\n",
       "      <td>-100.0</td>\n",
       "    </tr>\n",
       "    <tr>\n",
       "      <td>7</td>\n",
       "      <td>20.0</td>\n",
       "      <td>5.3</td>\n",
       "      <td>93</td>\n",
       "      <td>478</td>\n",
       "      <td>4.41</td>\n",
       "      <td>0</td>\n",
       "      <td>130.0</td>\n",
       "      <td>90.0</td>\n",
       "      <td>-100.0</td>\n",
       "      <td>387.70</td>\n",
       "      <td>130.0</td>\n",
       "    </tr>\n",
       "    <tr>\n",
       "      <td>49</td>\n",
       "      <td>97.0</td>\n",
       "      <td>4.2</td>\n",
       "      <td>53</td>\n",
       "      <td>479</td>\n",
       "      <td>1.05</td>\n",
       "      <td>0</td>\n",
       "      <td>120.0</td>\n",
       "      <td>80.0</td>\n",
       "      <td>28.0</td>\n",
       "      <td>428.50</td>\n",
       "      <td>105.0</td>\n",
       "    </tr>\n",
       "    <tr>\n",
       "      <td>110</td>\n",
       "      <td>124.0</td>\n",
       "      <td>3.7</td>\n",
       "      <td>68</td>\n",
       "      <td>246</td>\n",
       "      <td>0.86</td>\n",
       "      <td>0</td>\n",
       "      <td>130.0</td>\n",
       "      <td>90.0</td>\n",
       "      <td>22.0</td>\n",
       "      <td>-100.00</td>\n",
       "      <td>-100.0</td>\n",
       "    </tr>\n",
       "  </tbody>\n",
       "</table>\n",
       "</div>"
      ],
      "text/plain": [
       "     Number  Мочевина  Креатинин  Мочевая к-та  Триглицериды  \\\n",
       "83     71.0       6.5         88           386          0.54   \n",
       "16     37.0       6.6         84           286          0.68   \n",
       "7      20.0       5.3         93           478          4.41   \n",
       "49     97.0       4.2         53           479          1.05   \n",
       "110   124.0       3.7         68           246          0.86   \n",
       "\n",
       "     прием п\\щ контрац    САД   ДАД  ГЛЖ ин Соколова-Лайона  \\\n",
       "83                   0  120.0  80.0                    37.0   \n",
       "16                   0  110.0  70.0                    28.0   \n",
       "7                    0  130.0  90.0                  -100.0   \n",
       "49                   0  120.0  80.0                    28.0   \n",
       "110                  0  130.0  90.0                    22.0   \n",
       "\n",
       "     VEGF,  пг/мл (N40-600)  HLDF (нг/мл  \n",
       "83                   214.30         47.0  \n",
       "16                    46.63       -100.0  \n",
       "7                    387.70        130.0  \n",
       "49                   428.50        105.0  \n",
       "110                 -100.00       -100.0  "
      ]
     },
     "execution_count": 384,
     "metadata": {},
     "output_type": "execute_result"
    }
   ],
   "source": [
    "new_test = pd.DataFrame.copy(X_test.fillna(-100))\n",
    "new_test.head(5)"
   ]
  },
  {
   "cell_type": "raw",
   "metadata": {},
   "source": [
    "Пройдёмся в отдельности по каждой фиче (болтологическая часть): (!!! - наиболее важные параметры)\n",
    "1) (!!!) Number - наверное, необходимо посмотреть для начала распределение ответов в зависимости от значения этого параметра. В силу его специфики пока не представляю, как он работает. М.б. нужно выделять группу кластеров по ответам"
   ]
  },
  {
   "cell_type": "markdown",
   "metadata": {},
   "source": [
    "\"Подготовлю функцию для оценки попарного расстояния для базовых численных методов\""
   ]
  },
  {
   "cell_type": "code",
   "execution_count": 262,
   "metadata": {},
   "outputs": [],
   "source": [
    "def numeric_features(feat_line):\n",
    "    \n",
    "    pre_arr = np.absolute(feat_line[None, :] - feat_line[:, None])\n",
    "    max_val = pre_arr.max()\n",
    "    \n",
    "    return pre_arr / pre_arr.max()"
   ]
  },
  {
   "cell_type": "code",
   "execution_count": 399,
   "metadata": {},
   "outputs": [],
   "source": [
    "def build_distances(train_line, test_line):\n",
    "    \n",
    "    train_pre_arr = np.absolute(train_line[None, :] - train_line[:, None])\n",
    "    test_pre_arr = np.absolute(train_line[None, :] - test_line[:, None])\n",
    "    \n",
    "    train_max = train_pre_arr.max()\n",
    "\n",
    "    return train_pre_arr / train_max, test_pre_arr / train_max"
   ]
  },
  {
   "cell_type": "code",
   "execution_count": 375,
   "metadata": {},
   "outputs": [],
   "source": [
    "def recombinate(arr_list, names_list):\n",
    "    # also uses features and percentiles lists\n",
    "    \n",
    "    pairwise = np.zeros(arr_list[0].shape)\n",
    "    \n",
    "    for enum, item in enumerate(names_list):\n",
    "        \n",
    "        position = np.where(features == item)[0][0]\n",
    "        pairwise += percentiles[position] / 100 * arr_list[enum]\n",
    "        \n",
    "    return pairwise"
   ]
  },
  {
   "cell_type": "code",
   "execution_count": 392,
   "metadata": {},
   "outputs": [
    {
     "data": {
      "text/plain": [
       "(30, 87)"
      ]
     },
     "execution_count": 392,
     "metadata": {},
     "output_type": "execute_result"
    }
   ],
   "source": [
    "(np.array(new_train[\"HLDF (нг/мл\"])[None, :] - np.array(new_test[\"HLDF (нг/мл\"])[:, None]).shape"
   ]
  },
  {
   "cell_type": "code",
   "execution_count": 397,
   "metadata": {},
   "outputs": [],
   "source": [
    "def recombination(train_df, test_df):\n",
    "    # пока что уберем из рассмотрения столбец Number, т.к. я не знаю, что с ним делать\n",
    "    \n",
    "    columns = train_df.drop(columns = \"Number\").columns\n",
    "    \n",
    "    train_len = train_df[\"Number\"].__len__()\n",
    "    test_len = test_df[\"Number\"].__len__()\n",
    "    \n",
    "    train_pairwise = np.zeros((train_len, train_len))\n",
    "    test_pairwise = np.zeros((test_len, train_len))\n",
    "    \n",
    "    for col in columns:\n",
    "        \n",
    "        train_arr = np.array(train_df[col])\n",
    "        test_arr = np.array(test_df[col])\n",
    "        \n",
    "        train_dist, test_dist = build_distances(train_arr, test_arr)\n",
    "        \n",
    "        position = np.where(features == col)[0][0]\n",
    "        \n",
    "        train_pairwise += percentiles[position] / 100 * train_dist\n",
    "        test_pairwise += percentiles[position] / 100 * test_dist\n",
    "        \n",
    "    return train_pairwise, test_pairwise"
   ]
  },
  {
   "cell_type": "code",
   "execution_count": 404,
   "metadata": {},
   "outputs": [],
   "source": [
    "train_pairs, test_pairs = recombination(new_train, new_test)"
   ]
  },
  {
   "cell_type": "markdown",
   "metadata": {},
   "source": [
    "# Обучение базовой модели (KNN?)"
   ]
  },
  {
   "cell_type": "code",
   "execution_count": 408,
   "metadata": {},
   "outputs": [],
   "source": [
    "from sklearn.neighbors import KNeighborsClassifier as KNC"
   ]
  },
  {
   "cell_type": "code",
   "execution_count": 470,
   "metadata": {},
   "outputs": [],
   "source": [
    "model = KNC(n_neighbors = 9, weights = 'distance', algorithm='ball_tree')"
   ]
  },
  {
   "cell_type": "code",
   "execution_count": 471,
   "metadata": {},
   "outputs": [
    {
     "data": {
      "text/plain": [
       "KNeighborsClassifier(algorithm='ball_tree', leaf_size=30, metric='minkowski',\n",
       "                     metric_params=None, n_jobs=None, n_neighbors=9, p=2,\n",
       "                     weights='distance')"
      ]
     },
     "execution_count": 471,
     "metadata": {},
     "output_type": "execute_result"
    }
   ],
   "source": [
    "model.fit(train_pairs, y_train)"
   ]
  },
  {
   "cell_type": "code",
   "execution_count": 472,
   "metadata": {},
   "outputs": [],
   "source": [
    "preds = model.predict(test_pairs)"
   ]
  },
  {
   "cell_type": "code",
   "execution_count": 473,
   "metadata": {},
   "outputs": [
    {
     "data": {
      "text/plain": [
       "0.8936651583710408"
      ]
     },
     "execution_count": 473,
     "metadata": {},
     "output_type": "execute_result"
    }
   ],
   "source": [
    "roc_auc_score(y_test, preds)"
   ]
  },
  {
   "cell_type": "code",
   "execution_count": 474,
   "metadata": {},
   "outputs": [
    {
     "data": {
      "text/plain": [
       "array([ 1, -1, -1, -1,  1, -1,  1,  1, -1,  1, -1, -1, -1, -1,  1, -1,  1,\n",
       "        1, -1, -1, -1,  1,  1, -1, -1, -1, -1, -1,  1,  1])"
      ]
     },
     "execution_count": 474,
     "metadata": {},
     "output_type": "execute_result"
    }
   ],
   "source": [
    "preds"
   ]
  },
  {
   "cell_type": "markdown",
   "metadata": {},
   "source": [
    "# Построим автоматизацию для случайного разбиения"
   ]
  },
  {
   "cell_type": "code",
   "execution_count": 475,
   "metadata": {},
   "outputs": [],
   "source": [
    "features = np.array(['Number', 'САД', 'HLDF (нг/мл', 'ДАД', 'Триглицериды',\n",
    "       'ГЛЖ ин Соколова-Лайона', 'Креатинин', 'прием п\\щ контрац',\n",
    "       'Мочевая к-та', 'Мочевина', 'VEGF,  пг/мл (N40-600)',\n",
    "       'индекс массы тела', 'age', 'Холестерин', 'Глюкоза', 'Х-ЛПВП',\n",
    "       'АТ к Анг  II ', 'Х-ЛПНП', 'АТ к HLDF- 24', 'phys',\n",
    "       'Анг II, пг/мл (N 10-60 пг/мл)', 'mind', 'S100b, нг/л (N до 90)',\n",
    "       'насл отяг, По ГБ, ', 'female', 'excess_salt_consumption',\n",
    "       'насл, Отяг по почечн, Заб', 'АТ к ЭТ ', 'ЭТ, пмоль/л    (N =0,09)',\n",
    "       'no_spec_gender', 'smoking', 'Alcoholic', 'гиподинамия', 'стресс',\n",
    "       'насл отяг, По ССЗ', 'АТ к S100b', 'male', 'насл отяг, По СД'])"
   ]
  },
  {
   "cell_type": "code",
   "execution_count": 476,
   "metadata": {},
   "outputs": [],
   "source": [
    "percentiles = np.array([100., 100., 100.,  97.,  80.,  60.,  55.,  39.,  37.,  33.,  32.,\n",
    "        27.,  23.,  17.,  16.,  13.,  11.,  11.,   8.,   5.,   5.,   4.,\n",
    "         4.,   1.,   1.,   1.,   1.,   1.,   1.,   0.,   0.,   0.,   0.,\n",
    "         0.,   0.,   0.,   0.,   0.])"
   ]
  },
  {
   "cell_type": "code",
   "execution_count": 488,
   "metadata": {},
   "outputs": [],
   "source": [
    "kept_ft = features[percentiles > 30]\n",
    "kept_pc = percentiles[percentiles > 30]"
   ]
  },
  {
   "cell_type": "code",
   "execution_count": 490,
   "metadata": {},
   "outputs": [
    {
     "data": {
      "text/html": [
       "<div>\n",
       "<style scoped>\n",
       "    .dataframe tbody tr th:only-of-type {\n",
       "        vertical-align: middle;\n",
       "    }\n",
       "\n",
       "    .dataframe tbody tr th {\n",
       "        vertical-align: top;\n",
       "    }\n",
       "\n",
       "    .dataframe thead th {\n",
       "        text-align: right;\n",
       "    }\n",
       "</style>\n",
       "<table border=\"1\" class=\"dataframe\">\n",
       "  <thead>\n",
       "    <tr style=\"text-align: right;\">\n",
       "      <th></th>\n",
       "      <th>Number</th>\n",
       "      <th>Мочевина</th>\n",
       "      <th>Креатинин</th>\n",
       "      <th>Мочевая к-та</th>\n",
       "      <th>Триглицериды</th>\n",
       "      <th>прием п\\щ контрац</th>\n",
       "      <th>САД</th>\n",
       "      <th>ДАД</th>\n",
       "      <th>ГЛЖ ин Соколова-Лайона</th>\n",
       "      <th>VEGF,  пг/мл (N40-600)</th>\n",
       "      <th>HLDF (нг/мл</th>\n",
       "    </tr>\n",
       "  </thead>\n",
       "  <tbody>\n",
       "    <tr>\n",
       "      <td>0</td>\n",
       "      <td>2.0</td>\n",
       "      <td>5.9</td>\n",
       "      <td>110</td>\n",
       "      <td>443</td>\n",
       "      <td>2.37</td>\n",
       "      <td>0</td>\n",
       "      <td>160.0</td>\n",
       "      <td>90.0</td>\n",
       "      <td>NaN</td>\n",
       "      <td>NaN</td>\n",
       "      <td>NaN</td>\n",
       "    </tr>\n",
       "    <tr>\n",
       "      <td>1</td>\n",
       "      <td>3.0</td>\n",
       "      <td>5.0</td>\n",
       "      <td>72</td>\n",
       "      <td>164</td>\n",
       "      <td>0.64</td>\n",
       "      <td>0</td>\n",
       "      <td>130.0</td>\n",
       "      <td>80.0</td>\n",
       "      <td>22.0</td>\n",
       "      <td>NaN</td>\n",
       "      <td>NaN</td>\n",
       "    </tr>\n",
       "    <tr>\n",
       "      <td>2</td>\n",
       "      <td>4.0</td>\n",
       "      <td>5.8</td>\n",
       "      <td>85</td>\n",
       "      <td>345</td>\n",
       "      <td>0.36</td>\n",
       "      <td>0</td>\n",
       "      <td>120.0</td>\n",
       "      <td>80.0</td>\n",
       "      <td>NaN</td>\n",
       "      <td>NaN</td>\n",
       "      <td>NaN</td>\n",
       "    </tr>\n",
       "    <tr>\n",
       "      <td>3</td>\n",
       "      <td>5.0</td>\n",
       "      <td>5.7</td>\n",
       "      <td>74</td>\n",
       "      <td>438</td>\n",
       "      <td>3.38</td>\n",
       "      <td>0</td>\n",
       "      <td>135.0</td>\n",
       "      <td>80.0</td>\n",
       "      <td>14.0</td>\n",
       "      <td>458.4</td>\n",
       "      <td>NaN</td>\n",
       "    </tr>\n",
       "  </tbody>\n",
       "</table>\n",
       "</div>"
      ],
      "text/plain": [
       "   Number  Мочевина  Креатинин  Мочевая к-та  Триглицериды  прием п\\щ контрац  \\\n",
       "0     2.0       5.9        110           443          2.37                  0   \n",
       "1     3.0       5.0         72           164          0.64                  0   \n",
       "2     4.0       5.8         85           345          0.36                  0   \n",
       "3     5.0       5.7         74           438          3.38                  0   \n",
       "\n",
       "     САД   ДАД  ГЛЖ ин Соколова-Лайона  VEGF,  пг/мл (N40-600)  HLDF (нг/мл  \n",
       "0  160.0  90.0                     NaN                     NaN          NaN  \n",
       "1  130.0  80.0                    22.0                     NaN          NaN  \n",
       "2  120.0  80.0                     NaN                     NaN          NaN  \n",
       "3  135.0  80.0                    14.0                   458.4          NaN  "
      ]
     },
     "execution_count": 490,
     "metadata": {},
     "output_type": "execute_result"
    }
   ],
   "source": [
    "data_auto = pd.read_csv(\"Clipped_data.csv\")\n",
    "data_auto.head(4)"
   ]
  },
  {
   "cell_type": "code",
   "execution_count": 497,
   "metadata": {},
   "outputs": [],
   "source": [
    "Target_auto = np.array(pd.read_csv(\"Target.csv\")).T[0]"
   ]
  },
  {
   "cell_type": "code",
   "execution_count": 503,
   "metadata": {},
   "outputs": [
    {
     "data": {
      "text/plain": [
       "array([-1, -1, -1, -1, -1, -1, -1, -1, -1, -1, -1, -1, -1, -1, -1, -1, -1,\n",
       "       -1, -1, -1, -1, -1, -1, -1, -1, -1, -1, -1, -1, -1, -1, -1, -1, -1,\n",
       "       -1, -1, -1, -1, -1, -1, -1, -1, -1, -1, -1, -1, -1, -1, -1, -1, -1,\n",
       "       -1, -1, -1, -1, -1, -1, -1, -1, -1, -1, -1, -1, -1, -1, -1, -1,  1,\n",
       "        1,  1,  1,  1,  1,  1,  1,  1,  1,  1,  1,  1,  1,  1,  1,  1,  1,\n",
       "        1,  1,  1,  1,  1,  1,  1,  1,  1,  1,  1,  1,  1,  1,  1,  1,  1,\n",
       "        1,  1,  1,  1,  1,  1,  1,  1,  1,  1,  1,  1,  1,  1,  1])"
      ]
     },
     "execution_count": 503,
     "metadata": {},
     "output_type": "execute_result"
    }
   ],
   "source": [
    "Target_auto"
   ]
  },
  {
   "cell_type": "code",
   "execution_count": 505,
   "metadata": {},
   "outputs": [],
   "source": [
    "def launch(model, random_state = 451, test_size = 0.25):\n",
    "    \n",
    "    X_train, X_test, y_train, y_test = train_test_split(data_auto.fillna(-100), \n",
    "                                                        Target_auto,\n",
    "                                                        random_state=random_state,\n",
    "                                                        test_size=test_size)\n",
    "    \n",
    "    Pairwise_train, Pairwise_test = recombination(X_train, X_test)\n",
    "    \n",
    "    model.fit(Pairwise_train, y_train)\n",
    "    \n",
    "    preds = model.predict(Pairwise_test)\n",
    "    \n",
    "    return roc_auc_score(y_test, preds)"
   ]
  },
  {
   "cell_type": "code",
   "execution_count": 509,
   "metadata": {},
   "outputs": [
    {
     "data": {
      "text/plain": [
       "0.8552036199095022"
      ]
     },
     "execution_count": 509,
     "metadata": {},
     "output_type": "execute_result"
    }
   ],
   "source": [
    "launch(KNC(n_neighbors = 15))"
   ]
  },
  {
   "cell_type": "markdown",
   "metadata": {},
   "source": [
    "# Вопросы к самому себе:\n",
    "\n",
    "Для начала, зачем я вообще нахожу попарные расстояния между объектами из train сета???. это нелогично.\n",
    "Потом, при перекидывании данных в KNN Classifier мы находим совершенно не то - вместо того, чтобы просто оценить ближайшего соседа, я оцениваю соответствие расситояний до других объектов заданному.\n",
    "\n",
    "При этом, по идее, я могу сам написать некоторое подобие метода, использующего лишь Test датасет"
   ]
  },
  {
   "cell_type": "code",
   "execution_count": 536,
   "metadata": {},
   "outputs": [],
   "source": [
    "class Model:\n",
    "    \n",
    "    def __init__(self, n_neighbors = 5, weight = False):\n",
    "\n",
    "        self.n_neighbors = n_neighbors\n",
    "        self.weight = weight\n",
    "    \n",
    "    def fit(self,X_train, y_train):\n",
    "        self.target = y_train\n",
    "    \n",
    "    def predict(self, X_test):\n",
    "        \n",
    "        def distances(values):\n",
    "            # epsilon-add of 1/10^2\n",
    "\n",
    "            return values / (np.sum(values) + 0.1)\n",
    "        \n",
    "        result_col = np.empty(X_test.shape[0])\n",
    "    \n",
    "        for enum, item in enumerate(X_test):\n",
    "\n",
    "            sorted_line = np.argsort(item)[:self.n_neighbors]\n",
    "            sorted_dist = item[sorted_line]\n",
    "\n",
    "            sorted_targets = self.target[sorted_line]\n",
    "            \n",
    "            if self.weight: \n",
    "                weights = distances(sorted_dist)\n",
    "            else:\n",
    "                weights = np.ones(self.n_neighbors)\n",
    "\n",
    "            sign = np.sum(sorted_targets * weights)\n",
    "\n",
    "            if sign >= 0:\n",
    "                result_col[enum] = 1\n",
    "            else:\n",
    "                result_col[enum] = -1\n",
    "\n",
    "        return result_col"
   ]
  },
  {
   "cell_type": "code",
   "execution_count": 540,
   "metadata": {},
   "outputs": [],
   "source": [
    "def launch_2(model, X_train, X_test, y_train, y_test):\n",
    "    \n",
    "    Pairwise_train, Pairwise_test = recombination(X_train, X_test)\n",
    "    \n",
    "    model.fit(Pairwise_train, y_train)\n",
    "    \n",
    "    preds = model.predict(Pairwise_test)\n",
    "    \n",
    "    return roc_auc_score(y_test, preds)"
   ]
  },
  {
   "cell_type": "code",
   "execution_count": 541,
   "metadata": {},
   "outputs": [],
   "source": [
    "from sklearn.model_selection import KFold"
   ]
  },
  {
   "cell_type": "code",
   "execution_count": null,
   "metadata": {},
   "outputs": [],
   "source": [
    "def launch_cv(model, dataset, target, shuffle = False, n_splits = 4):\n",
    "    cv = KFold(n_splits=n_splits, shuffle=shuffle)\n",
    "    \n",
    "    for enum, indixes in enumerate(folds.split(dataset)):\n",
    "    \n",
    "        train_index = indixes[0]\n",
    "        test_index = indixes[1]"
   ]
  },
  {
   "cell_type": "code",
   "execution_count": 539,
   "metadata": {},
   "outputs": [
    {
     "data": {
      "text/plain": [
       "0.8257918552036198"
      ]
     },
     "execution_count": 539,
     "metadata": {},
     "output_type": "execute_result"
    }
   ],
   "source": [
    "launch(Model(n_neighbors=4, weight=True))"
   ]
  },
  {
   "cell_type": "code",
   "execution_count": 520,
   "metadata": {},
   "outputs": [],
   "source": [
    "def calc_model(dataset, n_neighbors = 5, weight = False):\n",
    "    \"\"\"how does it work: на вход подается матрица попарных расстояний до объектов из train,\n",
    "       для них я нахожу ближайших соседей, и по их номерам смотрю знак - примерно KNN, но без \n",
    "       предварительного обучения\"\"\"\n",
    "    \n",
    "    result_col = np.empty(dataset.shape[0])\n",
    "    \n",
    "    for enum, item in enumerate(dataset):\n",
    "        \n",
    "        sorted_line = np.argsort(item)[:n_neighbors]\n",
    "        sorted_dist = item[sorted_line]\n",
    "        \n",
    "        sorted_targets = Target_auto[sorted_line]\n",
    "        \n",
    "        weights = distances(sorted_dist)\n",
    "\n",
    "        sign = np.sum(sorted_targets * weights)\n",
    "        print(sign)\n",
    "        \n",
    "        if sign >= 0:\n",
    "            result_col[enum] = 1\n",
    "        else:\n",
    "            result_col[enum] = -1\n",
    "            \n",
    "    return result_col"
   ]
  },
  {
   "cell_type": "markdown",
   "metadata": {},
   "source": [
    "# Заброшенный участок"
   ]
  },
  {
   "cell_type": "code",
   "execution_count": 255,
   "metadata": {},
   "outputs": [
    {
     "data": {
      "text/plain": [
       "(76.22988505747126, 40.47902159787855)"
      ]
     },
     "execution_count": 255,
     "metadata": {},
     "output_type": "execute_result"
    }
   ],
   "source": [
    "num_arr = new_train[\"Number\"]\n",
    "num_arr.mean(), num_arr.std()"
   ]
  },
  {
   "cell_type": "code",
   "execution_count": 211,
   "metadata": {},
   "outputs": [
    {
     "data": {
      "text/plain": [
       "<matplotlib.collections.PathCollection at 0x12c5c5290>"
      ]
     },
     "execution_count": 211,
     "metadata": {},
     "output_type": "execute_result"
    },
    {
     "data": {
      "image/png": "[encoded data removed]",
      "text/plain": [
       "<Figure size 432x288 with 1 Axes>"
      ]
     },
     "metadata": {
      "needs_background": "light"
     },
     "output_type": "display_data"
    }
   ],
   "source": [
    "plt.scatter(num_arr, y_train)"
   ]
  },
  {
   "cell_type": "markdown",
   "metadata": {},
   "source": [
    "Что будет, если убрать этот параметр из рассмотрения?"
   ]
  },
  {
   "cell_type": "code",
   "execution_count": 212,
   "metadata": {},
   "outputs": [],
   "source": [
    "model = DTC()"
   ]
  },
  {
   "cell_type": "code",
   "execution_count": 213,
   "metadata": {},
   "outputs": [
    {
     "data": {
      "text/plain": [
       "DecisionTreeClassifier(class_weight=None, criterion='gini', max_depth=None,\n",
       "                       max_features=None, max_leaf_nodes=None,\n",
       "                       min_impurity_decrease=0.0, min_impurity_split=None,\n",
       "                       min_samples_leaf=1, min_samples_split=2,\n",
       "                       min_weight_fraction_leaf=0.0, presort=False,\n",
       "                       random_state=None, splitter='best')"
      ]
     },
     "execution_count": 213,
     "metadata": {},
     "output_type": "execute_result"
    }
   ],
   "source": [
    "model.fit(new_train.drop(columns = \"Number\"), y_train)"
   ]
  },
  {
   "cell_type": "code",
   "execution_count": 215,
   "metadata": {},
   "outputs": [],
   "source": [
    "preds_no_num = model.predict_proba(X_test.fillna(0).drop(columns = \"Number\"))[:, 1]"
   ]
  },
  {
   "cell_type": "code",
   "execution_count": 218,
   "metadata": {},
   "outputs": [
    {
     "data": {
      "text/plain": [
       "0.8642533936651584"
      ]
     },
     "execution_count": 218,
     "metadata": {},
     "output_type": "execute_result"
    }
   ],
   "source": [
    "roc_auc_score(y_test, preds_no_num)"
   ]
  },
  {
   "cell_type": "markdown",
   "metadata": {},
   "source": [
    "#### Подвывод - ничего хорошего\n",
    "\n",
    "В силу отсутствия идей, что с ним делать - пока пропущу"
   ]
  },
  {
   "cell_type": "code",
   "execution_count": null,
   "metadata": {},
   "outputs": [],
   "source": []
  },
  {
   "cell_type": "markdown",
   "metadata": {},
   "source": [
    "2) Мочевина - просто численный параметр"
   ]
  },
  {
   "cell_type": "code",
   "execution_count": 237,
   "metadata": {},
   "outputs": [
    {
     "data": {
      "text/plain": [
       "(5.122988505747126, 1.207895590888787)"
      ]
     },
     "execution_count": 237,
     "metadata": {},
     "output_type": "execute_result"
    }
   ],
   "source": [
    "arr = np.array(new_train[\"Мочевина\"])\n",
    "arr.mean(), arr.std()"
   ]
  },
  {
   "cell_type": "markdown",
   "metadata": {},
   "source": [
    "Как мне корректно оценивать расстояние в данном случае? ОТ 0 до 1! - находим попарное расстояние между фичами, по нему находим максимум модуля.\n",
    "\n",
    "НО!!!! в качестве конечного значения берем что-то вроде sqrt или обратной лог. линейки - чтобы малые различия давали достаточно большой шаг, а все большие различия были бы малозначимы. это будет гораздо лучше, чем просто линейная модель"
   ]
  },
  {
   "cell_type": "code",
   "execution_count": 240,
   "metadata": {},
   "outputs": [],
   "source": [
    "ft_2 = np.absolute(arr[None, :] - arr[:, None])"
   ]
  },
  {
   "cell_type": "code",
   "execution_count": 243,
   "metadata": {},
   "outputs": [
    {
     "data": {
      "text/plain": [
       "7.000000000000001"
      ]
     },
     "execution_count": 243,
     "metadata": {},
     "output_type": "execute_result"
    }
   ],
   "source": [
    "ft_2.max()"
   ]
  },
  {
   "cell_type": "code",
   "execution_count": 244,
   "metadata": {},
   "outputs": [],
   "source": [
    "ft_2 /= ft_2.max()"
   ]
  },
  {
   "cell_type": "code",
   "execution_count": null,
   "metadata": {},
   "outputs": [],
   "source": []
  },
  {
   "cell_type": "markdown",
   "metadata": {},
   "source": [
    "3) Креатинин - численный параметр\n",
    "\n",
    "Пока что, давайте, сделаем то же самое, что и для первого численного параметра\n",
    "Аналогичным же образом подготовим 2 части, на linear и square root базисах"
   ]
  },
  {
   "cell_type": "code",
   "execution_count": 250,
   "metadata": {},
   "outputs": [
    {
     "data": {
      "text/plain": [
       "(77.24137931034483, 14.842441102043086)"
      ]
     },
     "execution_count": 250,
     "metadata": {},
     "output_type": "execute_result"
    }
   ],
   "source": [
    "arr = np.array(new_train[\"Креатинин\"])\n",
    "arr.mean(), arr.std()"
   ]
  },
  {
   "cell_type": "code",
   "execution_count": 263,
   "metadata": {},
   "outputs": [],
   "source": [
    "ft_3 = numeric_features(arr)"
   ]
  },
  {
   "cell_type": "code",
   "execution_count": 264,
   "metadata": {
    "collapsed": true
   },
   "outputs": [
    {
     "data": {
      "text/plain": [
       "array([[0.        , 0.06944444, 0.08333333, ..., 0.125     , 0.45833333,\n",
       "        0.15277778],\n",
       "       [0.06944444, 0.        , 0.01388889, ..., 0.05555556, 0.52777778,\n",
       "        0.08333333],\n",
       "       [0.08333333, 0.01388889, 0.        , ..., 0.04166667, 0.54166667,\n",
       "        0.06944444],\n",
       "       ...,\n",
       "       [0.125     , 0.05555556, 0.04166667, ..., 0.        , 0.58333333,\n",
       "        0.02777778],\n",
       "       [0.45833333, 0.52777778, 0.54166667, ..., 0.58333333, 0.        ,\n",
       "        0.61111111],\n",
       "       [0.15277778, 0.08333333, 0.06944444, ..., 0.02777778, 0.61111111,\n",
       "        0.        ]])"
      ]
     },
     "execution_count": 264,
     "metadata": {},
     "output_type": "execute_result"
    }
   ],
   "source": [
    "ft_3"
   ]
  },
  {
   "cell_type": "markdown",
   "metadata": {},
   "source": [
    "4) Мочевая кислота - численный параметр, НАВЕРНОЕ связан с Мочевиной, не знаю"
   ]
  },
  {
   "cell_type": "code",
   "execution_count": 265,
   "metadata": {},
   "outputs": [
    {
     "data": {
      "text/plain": [
       "(339.98850574712645, 92.74452209146264)"
      ]
     },
     "execution_count": 265,
     "metadata": {},
     "output_type": "execute_result"
    }
   ],
   "source": [
    "arr = new_train[\"Мочевая к-та\"]\n",
    "arr.mean(), arr.std()"
   ]
  },
  {
   "cell_type": "code",
   "execution_count": 269,
   "metadata": {},
   "outputs": [],
   "source": [
    "arr_2 = np.array(new_train[\"Мочевина\"])\n",
    "arr_4 = np.array(new_train[\"Мочевая к-та\"])"
   ]
  },
  {
   "cell_type": "code",
   "execution_count": 268,
   "metadata": {},
   "outputs": [
    {
     "data": {
      "text/plain": [
       "<matplotlib.collections.PathCollection at 0x12f52bed0>"
      ]
     },
     "execution_count": 268,
     "metadata": {},
     "output_type": "execute_result"
    },
    {
     "data": {
      "image/png": "[encoded data removed]",
      "text/plain": [
       "<Figure size 432x288 with 1 Axes>"
      ]
     },
     "metadata": {
      "needs_background": "light"
     },
     "output_type": "display_data"
    }
   ],
   "source": [
    "plt.scatter(arr_2, arr_4)"
   ]
  },
  {
   "cell_type": "markdown",
   "metadata": {},
   "source": [
    "Окей, предположение неверно, нашим легче"
   ]
  },
  {
   "cell_type": "code",
   "execution_count": 279,
   "metadata": {
    "collapsed": true
   },
   "outputs": [
    {
     "data": {
      "text/plain": [
       "array([[0.        , 0.11751663, 0.07538803, ..., 0.00665188, 0.21064302,\n",
       "        0.22838137],\n",
       "       [0.11751663, 0.        , 0.0421286 , ..., 0.11086475, 0.09312639,\n",
       "        0.345898  ],\n",
       "       [0.07538803, 0.0421286 , 0.        , ..., 0.06873614, 0.13525499,\n",
       "        0.3037694 ],\n",
       "       ...,\n",
       "       [0.00665188, 0.11086475, 0.06873614, ..., 0.        , 0.20399113,\n",
       "        0.23503326],\n",
       "       [0.21064302, 0.09312639, 0.13525499, ..., 0.20399113, 0.        ,\n",
       "        0.43902439],\n",
       "       [0.22838137, 0.345898  , 0.3037694 , ..., 0.23503326, 0.43902439,\n",
       "        0.        ]])"
      ]
     },
     "execution_count": 279,
     "metadata": {},
     "output_type": "execute_result"
    }
   ],
   "source": [
    "ft_4 = numeric_features(arr)\n",
    "ft_4"
   ]
  },
  {
   "cell_type": "markdown",
   "metadata": {},
   "source": [
    "5) Триглицериды - численный параметр"
   ]
  },
  {
   "cell_type": "code",
   "execution_count": 343,
   "metadata": {},
   "outputs": [
    {
     "data": {
      "text/plain": [
       "(1.4265517241379313, 0.9006304657462796)"
      ]
     },
     "execution_count": 343,
     "metadata": {},
     "output_type": "execute_result"
    }
   ],
   "source": [
    "arr = np.array(new_train[\"Триглицериды\"])\n",
    "arr.mean(), arr.std()"
   ]
  },
  {
   "cell_type": "code",
   "execution_count": 344,
   "metadata": {},
   "outputs": [
    {
     "data": {
      "text/plain": [
       "array([[0.        , 0.26156584, 0.14234875, ..., 0.10320285, 0.14412811,\n",
       "        0.23309609],\n",
       "       [0.26156584, 0.        , 0.11921708, ..., 0.15836299, 0.11743772,\n",
       "        0.02846975],\n",
       "       [0.14234875, 0.11921708, 0.        , ..., 0.03914591, 0.00177936,\n",
       "        0.09074733],\n",
       "       ...,\n",
       "       [0.10320285, 0.15836299, 0.03914591, ..., 0.        , 0.04092527,\n",
       "        0.12989324],\n",
       "       [0.14412811, 0.11743772, 0.00177936, ..., 0.04092527, 0.        ,\n",
       "        0.08896797],\n",
       "       [0.23309609, 0.02846975, 0.09074733, ..., 0.12989324, 0.08896797,\n",
       "        0.        ]])"
      ]
     },
     "execution_count": 344,
     "metadata": {},
     "output_type": "execute_result"
    }
   ],
   "source": [
    "ft_5 = numeric_features(arr)\n",
    "ft_5"
   ]
  },
  {
   "cell_type": "markdown",
   "metadata": {},
   "source": [
    "6) прием пищевых... - бин. параметр"
   ]
  },
  {
   "cell_type": "code",
   "execution_count": 345,
   "metadata": {},
   "outputs": [],
   "source": [
    "arr = np.array(new_train[\"прием п\\\\щ контрац\"])"
   ]
  },
  {
   "cell_type": "code",
   "execution_count": 346,
   "metadata": {},
   "outputs": [
    {
     "data": {
      "text/plain": [
       "array([0, 1])"
      ]
     },
     "execution_count": 346,
     "metadata": {},
     "output_type": "execute_result"
    }
   ],
   "source": [
    "np.unique(arr)"
   ]
  },
  {
   "cell_type": "code",
   "execution_count": 347,
   "metadata": {},
   "outputs": [
    {
     "data": {
      "text/plain": [
       "array([[0, 1, 0, ..., 0, 0, 0],\n",
       "       [1, 0, 1, ..., 1, 1, 1],\n",
       "       [0, 1, 0, ..., 0, 0, 0],\n",
       "       ...,\n",
       "       [0, 1, 0, ..., 0, 0, 0],\n",
       "       [0, 1, 0, ..., 0, 0, 0],\n",
       "       [0, 1, 0, ..., 0, 0, 0]])"
      ]
     },
     "execution_count": 347,
     "metadata": {},
     "output_type": "execute_result"
    }
   ],
   "source": [
    "ft_6 = np.absolute(arr[None, :] - arr[:, None])\n",
    "ft_6"
   ]
  },
  {
   "cell_type": "markdown",
   "metadata": {},
   "source": [
    "7-8) (!!!) CAD, (!!!) DAD - 2 явно связанных и явно важных параметра, численные"
   ]
  },
  {
   "cell_type": "code",
   "execution_count": 286,
   "metadata": {},
   "outputs": [],
   "source": [
    "arr_cad = np.array(new_train[\"САД\"])\n",
    "arr_dad = np.array(new_train[\"ДАД\"])"
   ]
  },
  {
   "cell_type": "code",
   "execution_count": 287,
   "metadata": {},
   "outputs": [
    {
     "data": {
      "text/plain": [
       "(124.48275862068965, 12.248257740485714)"
      ]
     },
     "execution_count": 287,
     "metadata": {},
     "output_type": "execute_result"
    }
   ],
   "source": [
    "arr_cad.mean(), arr_cad.std()"
   ]
  },
  {
   "cell_type": "code",
   "execution_count": 288,
   "metadata": {},
   "outputs": [
    {
     "data": {
      "text/plain": [
       "(81.26436781609195, 7.28004637176551)"
      ]
     },
     "execution_count": 288,
     "metadata": {},
     "output_type": "execute_result"
    }
   ],
   "source": [
    "arr_dad.mean(), arr_dad.std()"
   ]
  },
  {
   "cell_type": "code",
   "execution_count": 290,
   "metadata": {},
   "outputs": [
    {
     "data": {
      "text/plain": [
       "<matplotlib.collections.PathCollection at 0x12f9997d0>"
      ]
     },
     "execution_count": 290,
     "metadata": {},
     "output_type": "execute_result"
    },
    {
     "data": {
      "image/png": "[encoded data removed]",
      "text/plain": [
       "<Figure size 432x288 with 1 Axes>"
      ]
     },
     "metadata": {
      "needs_background": "light"
     },
     "output_type": "display_data"
    }
   ],
   "source": [
    "plt.scatter(arr_cad, arr_dad)"
   ]
  },
  {
   "cell_type": "markdown",
   "metadata": {},
   "source": [
    "В идеальном случае необходимо попробовать их определить в какую-нибудь 1 метрику с более большим весом, чем имеют они по отдельности (sqrt(2) будет вполне подходящим вариантом)"
   ]
  },
  {
   "cell_type": "code",
   "execution_count": 291,
   "metadata": {},
   "outputs": [
    {
     "data": {
      "text/plain": [
       "array([885950.])"
      ]
     },
     "execution_count": 291,
     "metadata": {},
     "output_type": "execute_result"
    }
   ],
   "source": [
    "np.correlate(arr_cad, arr_dad)"
   ]
  },
  {
   "cell_type": "code",
   "execution_count": 292,
   "metadata": {},
   "outputs": [],
   "source": [
    "ft_7 = numeric_features(arr_cad)\n",
    "ft_8 = numeric_features(arr_dad)"
   ]
  },
  {
   "cell_type": "markdown",
   "metadata": {},
   "source": [
    "9) ГЛЖ - численный параметр"
   ]
  },
  {
   "cell_type": "code",
   "execution_count": 293,
   "metadata": {},
   "outputs": [
    {
     "data": {
      "text/plain": [
       "(24.666666666666668, 9.133324943363878)"
      ]
     },
     "execution_count": 293,
     "metadata": {},
     "output_type": "execute_result"
    }
   ],
   "source": [
    "arr = np.array(new_train[\"ГЛЖ ин Соколова-Лайона\"])\n",
    "arr.mean(), arr.std()"
   ]
  },
  {
   "cell_type": "code",
   "execution_count": 294,
   "metadata": {},
   "outputs": [],
   "source": [
    "ft_9 = numeric_features(arr)"
   ]
  },
  {
   "cell_type": "markdown",
   "metadata": {},
   "source": [
    "10) VEGF - численный параметр, есть пропуски в данных"
   ]
  },
  {
   "cell_type": "code",
   "execution_count": 363,
   "metadata": {},
   "outputs": [],
   "source": [
    "arr = np.array(X_train[\"VEGF,  пг/мл (N40-600)\"])"
   ]
  },
  {
   "cell_type": "code",
   "execution_count": 364,
   "metadata": {},
   "outputs": [],
   "source": [
    "arr = np.nan_to_num(arr) + np.isnan(arr) * -100"
   ]
  },
  {
   "cell_type": "code",
   "execution_count": 365,
   "metadata": {},
   "outputs": [
    {
     "data": {
      "text/plain": [
       "(85.59011494252874, 276.86639855607626)"
      ]
     },
     "execution_count": 365,
     "metadata": {},
     "output_type": "execute_result"
    }
   ],
   "source": [
    "arr.mean(), arr.std()"
   ]
  },
  {
   "cell_type": "code",
   "execution_count": 366,
   "metadata": {},
   "outputs": [],
   "source": [
    "ft_10 = numeric_features(arr)"
   ]
  },
  {
   "cell_type": "markdown",
   "metadata": {},
   "source": [
    "11) (!!!) HLDF - важный численный параметр, есть пропуски в данных"
   ]
  },
  {
   "cell_type": "code",
   "execution_count": 367,
   "metadata": {},
   "outputs": [],
   "source": [
    "arr = np.array(X_train[\"HLDF (нг/мл\"])"
   ]
  },
  {
   "cell_type": "code",
   "execution_count": 368,
   "metadata": {},
   "outputs": [],
   "source": [
    "arr_2 = np.nan_to_num(arr) + np.isnan(arr) * -100"
   ]
  },
  {
   "cell_type": "code",
   "execution_count": 369,
   "metadata": {},
   "outputs": [],
   "source": [
    "ft_11 = numeric_features(arr_2)"
   ]
  },
  {
   "cell_type": "markdown",
   "metadata": {},
   "source": [
    "## Перевод в попарные расстояния (Train)"
   ]
  },
  {
   "cell_type": "code",
   "execution_count": 370,
   "metadata": {},
   "outputs": [],
   "source": [
    "ft_list = [ft_2, ft_3, ft_4, ft_5, ft_6, ft_7, ft_8, ft_9, ft_10, ft_11]"
   ]
  },
  {
   "cell_type": "code",
   "execution_count": 371,
   "metadata": {},
   "outputs": [],
   "source": [
    "ft_names = data.drop(columns = \"Number\").columns"
   ]
  },
  {
   "cell_type": "code",
   "execution_count": 372,
   "metadata": {},
   "outputs": [
    {
     "data": {
      "text/plain": [
       "Index(['Мочевина', 'Креатинин', 'Мочевая к-та', 'Триглицериды',\n",
       "       'прием п\\щ контрац', 'САД', 'ДАД', 'ГЛЖ ин Соколова-Лайона',\n",
       "       'VEGF,  пг/мл (N40-600)', 'HLDF (нг/мл'],\n",
       "      dtype='object')"
      ]
     },
     "execution_count": 372,
     "metadata": {},
     "output_type": "execute_result"
    }
   ],
   "source": [
    "ft_names"
   ]
  },
  {
   "cell_type": "code",
   "execution_count": 374,
   "metadata": {},
   "outputs": [
    {
     "data": {
      "text/plain": [
       "9"
      ]
     },
     "execution_count": 374,
     "metadata": {},
     "output_type": "execute_result"
    }
   ],
   "source": [
    "np.where(features == ft_names[0])[0][0]"
   ]
  },
  {
   "cell_type": "code",
   "execution_count": 380,
   "metadata": {},
   "outputs": [],
   "source": [
    "pairwise_distance_train = recombinate(ft_list, ft_names)"
   ]
  },
  {
   "cell_type": "code",
   "execution_count": 401,
   "metadata": {},
   "outputs": [
    {
     "data": {
      "text/plain": [
       "array([[0.        , 1.6607901 , 0.67214563, ..., 1.50971194, 1.78865172,\n",
       "        0.50113083],\n",
       "       [1.6607901 , 0.        , 1.62090317, ..., 0.98160871, 1.257008  ,\n",
       "        1.67486402],\n",
       "       [0.67214563, 1.62090317, 0.        , ..., 1.26426947, 1.62429653,\n",
       "        0.76849819],\n",
       "       ...,\n",
       "       [1.50971194, 0.98160871, 1.26426947, ..., 0.        , 0.55389096,\n",
       "        1.66187083],\n",
       "       [1.78865172, 1.257008  , 1.62429653, ..., 0.55389096, 0.        ,\n",
       "        2.05917756],\n",
       "       [0.50113083, 1.67486402, 0.76849819, ..., 1.66187083, 2.05917756,\n",
       "        0.        ]])"
      ]
     },
     "execution_count": 401,
     "metadata": {},
     "output_type": "execute_result"
    }
   ],
   "source": [
    "train_pairs"
   ]
  },
  {
   "cell_type": "code",
   "execution_count": null,
   "metadata": {},
   "outputs": [],
   "source": []
  }
 ],
 "metadata": {
  "kernelspec": {
   "display_name": "Python 3",
   "language": "python",
   "name": "python3"
  },
  "language_info": {
   "codemirror_mode": {
    "name": "ipython",
    "version": 3
   },
   "file_extension": ".py",
   "mimetype": "text/x-python",
   "name": "python",
   "nbconvert_exporter": "python",
   "pygments_lexer": "ipython3",
   "version": "3.7.4"
  }
 },
 "nbformat": 4,
 "nbformat_minor": 2
}
