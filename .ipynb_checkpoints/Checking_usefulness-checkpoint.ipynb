{
 "cells": [
  {
   "cell_type": "code",
   "execution_count": 1,
   "metadata": {},
   "outputs": [],
   "source": [
    "import numpy as np\n",
    "import pandas as pd\n",
    "import matplotlib.pyplot as plt\n",
    "\n",
    "from sklearn.model_selection import KFold\n",
    "from sklearn.linear_model import Lasso\n",
    "from sklearn.ensemble import RandomForestClassifier\n",
    "from sklearn.neighbors import KNeighborsClassifier"
   ]
  },
  {
   "cell_type": "code",
   "execution_count": 2,
   "metadata": {},
   "outputs": [],
   "source": [
    "from sklearn.metrics import roc_auc_score"
   ]
  },
  {
   "cell_type": "code",
   "execution_count": 3,
   "metadata": {},
   "outputs": [],
   "source": [
    "def build_distances(train_line, test_line):\n",
    "    \n",
    "    train_pre_arr = np.absolute(train_line[None, :] - train_line[:, None])\n",
    "    test_pre_arr = np.absolute(train_line[None, :] - test_line[:, None])\n",
    "    \n",
    "    train_max = train_pre_arr.max() + 0.01\n",
    "\n",
    "    return train_pre_arr / train_max, test_pre_arr / train_max"
   ]
  },
  {
   "cell_type": "code",
   "execution_count": 4,
   "metadata": {},
   "outputs": [],
   "source": [
    "def recombination(train_df, test_df):\n",
    "    # пока что уберем из рассмотрения столбец Number, т.к. я не знаю, что с ним делать\n",
    "    \n",
    "    columns = train_df.columns\n",
    "    \n",
    "    train_len = train_df[\"Number\"].__len__()\n",
    "    test_len = test_df[\"Number\"].__len__()\n",
    "    \n",
    "    train_pairwise = np.zeros((train_len, train_len))\n",
    "    test_pairwise = np.zeros((test_len, train_len))\n",
    "    \n",
    "    for col in columns:\n",
    "        \n",
    "        train_arr = np.array(train_df[col])\n",
    "        test_arr = np.array(test_df[col])\n",
    "        \n",
    "        train_dist, test_dist = build_distances(train_arr, test_arr)\n",
    "        \n",
    "        position = np.where(features == col)[0][0]\n",
    "        \n",
    "        train_pairwise += percentiles[position] / 100 * train_dist\n",
    "        test_pairwise += percentiles[position] / 100 * test_dist\n",
    "        \n",
    "    return train_pairwise, test_pairwise"
   ]
  },
  {
   "cell_type": "code",
   "execution_count": 5,
   "metadata": {},
   "outputs": [],
   "source": [
    "features = np.array(['HLDF (нг/мл', 'САД', 'ДАД', 'Number', 'Триглицериды',\n",
    "       'ГЛЖ ин Соколова-Лайона', 'Креатинин', 'индекс массы тела',\n",
    "       'прием п\\щ контрац', 'Мочевина', 'Мочевая к-та',\n",
    "       'VEGF,  пг/мл (N40-600)', 'Холестерин', 'age', 'Х-ЛПВП',\n",
    "       'АТ к Анг  II ', 'Глюкоза', 'phys', 'Х-ЛПНП', 'АТ к HLDF- 24',\n",
    "       'S100b, нг/л (N до 90)', 'Анг II, пг/мл (N 10-60 пг/мл)',\n",
    "       'excess_salt_consumption', 'mind', 'АТ к ЭТ ', 'female',\n",
    "       'ЭТ, пмоль/л    (N =0,09)', 'насл, Отяг по почечн, Заб', 'гиподинамия',\n",
    "       'стресс', 'male', 'АТ к S100b', 'no_spec_gender', 'smoking',\n",
    "       'Alcoholic', 'насл отяг, По ГБ, ', 'насл отяг, По ССЗ',\n",
    "       'насл отяг, По СД'])"
   ]
  },
  {
   "cell_type": "code",
   "execution_count": 6,
   "metadata": {},
   "outputs": [],
   "source": [
    "percentiles = np.array([100., 100.,  99.,  97.,  61.,  60.,  51.,  38.,  32.,  31.,  31.,\n",
    "        31.,  23.,  19.,  17.,  11.,  10.,   8.,   8.,   7.,   5.,   5.,\n",
    "         4.,   4.,   4.,   2.,   2.,   2.,   1.,   1.,   1.,   1.,   0.,\n",
    "         0.,   0.,   0.,   0.,   0.])"
   ]
  },
  {
   "cell_type": "code",
   "execution_count": 7,
   "metadata": {},
   "outputs": [
    {
     "data": {
      "text/html": [
       "<div>\n",
       "<style scoped>\n",
       "    .dataframe tbody tr th:only-of-type {\n",
       "        vertical-align: middle;\n",
       "    }\n",
       "\n",
       "    .dataframe tbody tr th {\n",
       "        vertical-align: top;\n",
       "    }\n",
       "\n",
       "    .dataframe thead th {\n",
       "        text-align: right;\n",
       "    }\n",
       "</style>\n",
       "<table border=\"1\" class=\"dataframe\">\n",
       "  <thead>\n",
       "    <tr style=\"text-align: right;\">\n",
       "      <th></th>\n",
       "      <th>Number</th>\n",
       "      <th>Глюкоза</th>\n",
       "      <th>Мочевина</th>\n",
       "      <th>Креатинин</th>\n",
       "      <th>Мочевая к-та</th>\n",
       "      <th>Холестерин</th>\n",
       "      <th>Х-ЛПВП</th>\n",
       "      <th>Х-ЛПНП</th>\n",
       "      <th>Триглицериды</th>\n",
       "      <th>индекс массы тела</th>\n",
       "      <th>...</th>\n",
       "      <th>АТ к Анг  II</th>\n",
       "      <th>АТ к ЭТ</th>\n",
       "      <th>АТ к HLDF- 24</th>\n",
       "      <th>Target</th>\n",
       "      <th>phys</th>\n",
       "      <th>mind</th>\n",
       "      <th>age</th>\n",
       "      <th>male</th>\n",
       "      <th>female</th>\n",
       "      <th>no_spec_gender</th>\n",
       "    </tr>\n",
       "  </thead>\n",
       "  <tbody>\n",
       "    <tr>\n",
       "      <td>0</td>\n",
       "      <td>2.0</td>\n",
       "      <td>6.2</td>\n",
       "      <td>5.9</td>\n",
       "      <td>110</td>\n",
       "      <td>443</td>\n",
       "      <td>6.2</td>\n",
       "      <td>1.07</td>\n",
       "      <td>4.25</td>\n",
       "      <td>2.37</td>\n",
       "      <td>20.00</td>\n",
       "      <td>...</td>\n",
       "      <td>-100.0</td>\n",
       "      <td>-100.0</td>\n",
       "      <td>-100.0</td>\n",
       "      <td>-1</td>\n",
       "      <td>3</td>\n",
       "      <td>0</td>\n",
       "      <td>63.0</td>\n",
       "      <td>1</td>\n",
       "      <td>0</td>\n",
       "      <td>0</td>\n",
       "    </tr>\n",
       "    <tr>\n",
       "      <td>1</td>\n",
       "      <td>3.0</td>\n",
       "      <td>5.2</td>\n",
       "      <td>5.0</td>\n",
       "      <td>72</td>\n",
       "      <td>164</td>\n",
       "      <td>5.5</td>\n",
       "      <td>2.27</td>\n",
       "      <td>3.39</td>\n",
       "      <td>0.64</td>\n",
       "      <td>20.69</td>\n",
       "      <td>...</td>\n",
       "      <td>-100.0</td>\n",
       "      <td>-100.0</td>\n",
       "      <td>-100.0</td>\n",
       "      <td>-1</td>\n",
       "      <td>1</td>\n",
       "      <td>2</td>\n",
       "      <td>57.0</td>\n",
       "      <td>0</td>\n",
       "      <td>1</td>\n",
       "      <td>0</td>\n",
       "    </tr>\n",
       "    <tr>\n",
       "      <td>2</td>\n",
       "      <td>4.0</td>\n",
       "      <td>5.1</td>\n",
       "      <td>5.8</td>\n",
       "      <td>85</td>\n",
       "      <td>345</td>\n",
       "      <td>6.6</td>\n",
       "      <td>2.10</td>\n",
       "      <td>4.14</td>\n",
       "      <td>0.36</td>\n",
       "      <td>30.47</td>\n",
       "      <td>...</td>\n",
       "      <td>-100.0</td>\n",
       "      <td>-100.0</td>\n",
       "      <td>-100.0</td>\n",
       "      <td>-1</td>\n",
       "      <td>1</td>\n",
       "      <td>2</td>\n",
       "      <td>57.0</td>\n",
       "      <td>0</td>\n",
       "      <td>0</td>\n",
       "      <td>1</td>\n",
       "    </tr>\n",
       "    <tr>\n",
       "      <td>3</td>\n",
       "      <td>5.0</td>\n",
       "      <td>5.6</td>\n",
       "      <td>5.7</td>\n",
       "      <td>74</td>\n",
       "      <td>438</td>\n",
       "      <td>6.3</td>\n",
       "      <td>1.04</td>\n",
       "      <td>3.96</td>\n",
       "      <td>3.38</td>\n",
       "      <td>31.80</td>\n",
       "      <td>...</td>\n",
       "      <td>1600.0</td>\n",
       "      <td>400.0</td>\n",
       "      <td>50.0</td>\n",
       "      <td>-1</td>\n",
       "      <td>1</td>\n",
       "      <td>1</td>\n",
       "      <td>55.0</td>\n",
       "      <td>1</td>\n",
       "      <td>0</td>\n",
       "      <td>0</td>\n",
       "    </tr>\n",
       "    <tr>\n",
       "      <td>4</td>\n",
       "      <td>12.0</td>\n",
       "      <td>5.7</td>\n",
       "      <td>5.5</td>\n",
       "      <td>88</td>\n",
       "      <td>286</td>\n",
       "      <td>7.1</td>\n",
       "      <td>0.91</td>\n",
       "      <td>5.33</td>\n",
       "      <td>1.80</td>\n",
       "      <td>26.50</td>\n",
       "      <td>...</td>\n",
       "      <td>400.0</td>\n",
       "      <td>600.0</td>\n",
       "      <td>100.0</td>\n",
       "      <td>-1</td>\n",
       "      <td>3</td>\n",
       "      <td>0</td>\n",
       "      <td>60.0</td>\n",
       "      <td>1</td>\n",
       "      <td>0</td>\n",
       "      <td>0</td>\n",
       "    </tr>\n",
       "  </tbody>\n",
       "</table>\n",
       "<p>5 rows × 39 columns</p>\n",
       "</div>"
      ],
      "text/plain": [
       "   Number  Глюкоза  Мочевина  Креатинин  Мочевая к-та  Холестерин  Х-ЛПВП  \\\n",
       "0     2.0      6.2       5.9        110           443         6.2    1.07   \n",
       "1     3.0      5.2       5.0         72           164         5.5    2.27   \n",
       "2     4.0      5.1       5.8         85           345         6.6    2.10   \n",
       "3     5.0      5.6       5.7         74           438         6.3    1.04   \n",
       "4    12.0      5.7       5.5         88           286         7.1    0.91   \n",
       "\n",
       "   Х-ЛПНП  Триглицериды  индекс массы тела  ...  АТ к Анг  II   АТ к ЭТ   \\\n",
       "0    4.25          2.37              20.00  ...         -100.0    -100.0   \n",
       "1    3.39          0.64              20.69  ...         -100.0    -100.0   \n",
       "2    4.14          0.36              30.47  ...         -100.0    -100.0   \n",
       "3    3.96          3.38              31.80  ...         1600.0     400.0   \n",
       "4    5.33          1.80              26.50  ...          400.0     600.0   \n",
       "\n",
       "   АТ к HLDF- 24  Target  phys  mind   age  male  female  no_spec_gender  \n",
       "0         -100.0      -1     3     0  63.0     1       0               0  \n",
       "1         -100.0      -1     1     2  57.0     0       1               0  \n",
       "2         -100.0      -1     1     2  57.0     0       0               1  \n",
       "3           50.0      -1     1     1  55.0     1       0               0  \n",
       "4          100.0      -1     3     0  60.0     1       0               0  \n",
       "\n",
       "[5 rows x 39 columns]"
      ]
     },
     "execution_count": 7,
     "metadata": {},
     "output_type": "execute_result"
    }
   ],
   "source": [
    "data = pd.read_csv(\"Data_transformed.csv\").fillna(-100)\n",
    "data.head(5)"
   ]
  },
  {
   "cell_type": "code",
   "execution_count": 8,
   "metadata": {},
   "outputs": [
    {
     "data": {
      "text/plain": [
       "array([  0.,   1.,   2.,   4.,   5.,   7.,   8.,  10.,  11.,  17.,  19.,\n",
       "        23.,  31.,  32.,  38.,  51.,  60.,  61.,  97.,  99., 100.])"
      ]
     },
     "execution_count": 8,
     "metadata": {},
     "output_type": "execute_result"
    }
   ],
   "source": [
    "rates = np.unique(percentiles)\n",
    "rates"
   ]
  },
  {
   "cell_type": "code",
   "execution_count": 9,
   "metadata": {},
   "outputs": [
    {
     "data": {
      "text/plain": [
       "array([ 1,  2,  3,  4,  5,  6,  7,  8,  9, 10, 11, 12, 13, 14, 15])"
      ]
     },
     "execution_count": 9,
     "metadata": {},
     "output_type": "execute_result"
    }
   ],
   "source": [
    "neighbours_am = np.arange(15) + 1\n",
    "neighbours_am"
   ]
  },
  {
   "cell_type": "code",
   "execution_count": 10,
   "metadata": {},
   "outputs": [],
   "source": [
    "target_col = np.array(data[\"Target\"])\n",
    "data.drop(columns = \"Target\", inplace = True)"
   ]
  },
  {
   "cell_type": "code",
   "execution_count": 11,
   "metadata": {},
   "outputs": [],
   "source": [
    "splits_am = 8\n",
    "cv = KFold(n_splits=splits_am, shuffle = True, random_state=451)"
   ]
  },
  {
   "cell_type": "code",
   "execution_count": 13,
   "metadata": {},
   "outputs": [],
   "source": [
    "auc_list = []\n",
    "modifiers_list = []\n",
    "\n",
    "for threshold in rates:\n",
    "    for neigh in neighbours_am:\n",
    "        for dist in ['distance', 'uniform']:\n",
    "            kept_ft = features[np.where(percentiles >= threshold)[0]]\n",
    "            removed_ft = list(set(data.columns.tolist()).difference(set(kept_ft.tolist())))\n",
    "            eval_data = data.drop(columns = removed_ft)\n",
    "\n",
    "            model = KNeighborsClassifier(n_neighbors=neigh,\n",
    "                                         weights=dist)\n",
    "\n",
    "            cv_roc = 0\n",
    "            modifiers_list.append([threshold, neigh, dist])\n",
    "            \n",
    "            for train_index, test_index in cv.split(eval_data):\n",
    "                \n",
    "                X_train = eval_data.loc[train_index]\n",
    "                X_test = eval_data.loc[test_index]\n",
    "                \n",
    "                y_train = target_col[train_index]\n",
    "                y_test = target_col[test_index]\n",
    "                \n",
    "                model.fit(X_train, y_train)\n",
    "                \n",
    "                preds = model.predict_proba(X_test)[:, 1]\n",
    "                \n",
    "                cv_roc += roc_auc_score(y_test, preds)\n",
    "                \n",
    "            auc_list.append(cv_roc / splits_am)"
   ]
  },
  {
   "cell_type": "code",
   "execution_count": 15,
   "metadata": {},
   "outputs": [
    {
     "data": {
      "text/plain": [
       "514"
      ]
     },
     "execution_count": 15,
     "metadata": {},
     "output_type": "execute_result"
    }
   ],
   "source": [
    "np.argmax(auc_list)"
   ]
  },
  {
   "cell_type": "code",
   "execution_count": 16,
   "metadata": {},
   "outputs": [
    {
     "data": {
      "text/plain": [
       "[61.0, 3, 'distance']"
      ]
     },
     "execution_count": 16,
     "metadata": {},
     "output_type": "execute_result"
    }
   ],
   "source": [
    "modifiers_list[514]"
   ]
  },
  {
   "cell_type": "code",
   "execution_count": 17,
   "metadata": {},
   "outputs": [
    {
     "data": {
      "text/plain": [
       "0.9459738756613757"
      ]
     },
     "execution_count": 17,
     "metadata": {},
     "output_type": "execute_result"
    }
   ],
   "source": [
    "auc_list[514]"
   ]
  },
  {
   "cell_type": "markdown",
   "metadata": {},
   "source": [
    "Первый оптимум: 3 соседа, отсечка по 61%, расстояние"
   ]
  },
  {
   "cell_type": "markdown",
   "metadata": {},
   "source": [
    "Усложним проверку, откинув заранее неработоспособные границы (для уменьшения общего времени работы)"
   ]
  },
  {
   "cell_type": "code",
   "execution_count": 27,
   "metadata": {},
   "outputs": [
    {
     "data": {
      "text/plain": [
       "array([[390, 391, 392, 393, 394, 395, 396, 397, 398, 399, 400, 401, 402,\n",
       "        403, 404, 405, 406, 407, 408, 409, 410, 411, 412, 413, 414, 415,\n",
       "        416, 417, 418, 419, 420, 421, 422, 423, 424, 425, 426, 427, 428,\n",
       "        429, 430, 431, 432, 433, 434, 435, 436, 437, 438, 439, 440, 441,\n",
       "        442, 443, 444, 445, 446, 447, 448, 449, 450, 451, 452, 453, 454,\n",
       "        455, 456, 457, 458, 459, 460, 461, 462, 463, 464, 465, 466, 467,\n",
       "        468, 469, 470, 471, 472, 473, 474, 475, 476, 477, 478, 479, 480,\n",
       "        481, 482, 483, 484, 485, 486, 487, 488, 489, 490, 491, 492, 493,\n",
       "        494, 495, 496, 497, 498, 499, 500, 501, 502, 503, 504, 505, 506,\n",
       "        507, 508, 509, 510, 511, 512, 513, 514, 515, 516, 517, 518, 519,\n",
       "        520, 521, 522, 523, 524, 525, 526, 527, 528, 529, 530, 531, 532,\n",
       "        533, 534, 535, 536, 537, 538, 539, 540, 541, 542, 543, 544, 545,\n",
       "        546, 547, 548, 549, 550, 551, 552, 553, 554, 555, 556, 557, 558,\n",
       "        559, 560, 561, 562, 563, 564, 565, 566, 567, 568, 569, 570, 571,\n",
       "        572, 573, 574, 575, 576, 577, 578, 579, 580, 581, 582, 583, 584,\n",
       "        585, 586, 587, 588, 589, 590, 591, 592, 593, 594, 595, 596, 597,\n",
       "        598, 599, 600, 601, 602, 603, 604, 605, 606, 607, 608, 609, 610,\n",
       "        611, 612, 613, 614, 615, 616, 617, 618, 619, 620, 621, 622, 623,\n",
       "        624, 625, 626, 627, 628, 629]])"
      ]
     },
     "execution_count": 27,
     "metadata": {},
     "output_type": "execute_result"
    }
   ],
   "source": [
    "np.argwhere(np.array(auc_list) > 0.80).T"
   ]
  },
  {
   "cell_type": "code",
   "execution_count": 28,
   "metadata": {},
   "outputs": [
    {
     "data": {
      "text/plain": [
       "[32.0, 1, 'distance']"
      ]
     },
     "execution_count": 28,
     "metadata": {},
     "output_type": "execute_result"
    }
   ],
   "source": [
    "modifiers_list[390]"
   ]
  },
  {
   "cell_type": "markdown",
   "metadata": {},
   "source": [
    "Т.е. необходимый минимум - 32%"
   ]
  },
  {
   "cell_type": "code",
   "execution_count": 33,
   "metadata": {},
   "outputs": [
    {
     "data": {
      "text/plain": [
       "8"
      ]
     },
     "execution_count": 33,
     "metadata": {},
     "output_type": "execute_result"
    }
   ],
   "source": [
    "new_rates = rates[13:]\n",
    "new_rates.__len__()"
   ]
  },
  {
   "cell_type": "code",
   "execution_count": 95,
   "metadata": {},
   "outputs": [],
   "source": [
    "ind_1 = (np.random.rand(25) * 10000).astype(int)\n",
    "ind_2 = (np.random.rand(25) * 1000).astype(int)\n",
    "ind_3 = (np.random.rand(25) * 100).astype(int)\n",
    "\n",
    "random_states = np.concatenate([ind_1, ind_2, ind_3])"
   ]
  },
  {
   "cell_type": "code",
   "execution_count": 96,
   "metadata": {},
   "outputs": [
    {
     "data": {
      "text/plain": [
       "array([9732, 3195, 4718, 9078, 8918, 5174, 2395, 7524, 3837, 7432, 6916,\n",
       "       7248, 5808, 6199, 5950, 7714, 4622, 5459, 2652, 1445, 6376, 7993,\n",
       "       3373, 5810, 9201,  612,  556,  129,  849,  533,  697,  523,  945,\n",
       "        338,  756,  221,  439,  590,  743,  752,  408,  261,  864,  224,\n",
       "        274,   30,  570,  450,  439,   14,   26,   69,   87,   80,   83,\n",
       "         98,   94,   95,   10,   55,   38,    8,   46,    8,   65,   79,\n",
       "         89,   83,   66,    6,   37,   35,   81,   27,   22])"
      ]
     },
     "execution_count": 96,
     "metadata": {},
     "output_type": "execute_result"
    }
   ],
   "source": [
    "random_states"
   ]
  },
  {
   "cell_type": "code",
   "execution_count": 97,
   "metadata": {},
   "outputs": [],
   "source": [
    "new_auc_list = []\n",
    "new_modifiers_list = []\n",
    "\n",
    "for threshold in new_rates:\n",
    "    for neigh in neighbours_am:\n",
    "        for dist in ['distance', 'uniform']:\n",
    "            kept_ft = features[np.where(percentiles >= threshold)[0]]\n",
    "            removed_ft = list(set(data.columns.tolist()).difference(set(kept_ft.tolist())))\n",
    "            eval_data = data.drop(columns = removed_ft)\n",
    "\n",
    "            model = KNeighborsClassifier(n_neighbors=neigh,\n",
    "                                         weights=dist)\n",
    "\n",
    "            cv_roc = 0\n",
    "            new_modifiers_list.append([threshold, neigh, dist])\n",
    "            \n",
    "            for state in random_states:\n",
    "                \n",
    "                cv = KFold(n_splits=splits_am, shuffle = True, \n",
    "                           random_state = state)\n",
    "            \n",
    "                for train_index, test_index in cv.split(eval_data):\n",
    "\n",
    "                    X_train = eval_data.loc[train_index]\n",
    "                    X_test = eval_data.loc[test_index]\n",
    "\n",
    "                    y_train = target_col[train_index]\n",
    "                    y_test = target_col[test_index]\n",
    "\n",
    "                    model.fit(X_train, y_train)\n",
    "\n",
    "                    preds = model.predict_proba(X_test)[:, 1]\n",
    "\n",
    "                    cv_roc += roc_auc_score(y_test, preds)\n",
    "\n",
    "            new_auc_list.append(cv_roc / splits_am / random_states.__len__())"
   ]
  },
  {
   "cell_type": "code",
   "execution_count": 98,
   "metadata": {},
   "outputs": [
    {
     "data": {
      "text/plain": [
       "223"
      ]
     },
     "execution_count": 98,
     "metadata": {},
     "output_type": "execute_result"
    }
   ],
   "source": [
    "np.argmax(new_auc_list)"
   ]
  },
  {
   "cell_type": "code",
   "execution_count": 142,
   "metadata": {},
   "outputs": [
    {
     "data": {
      "text/plain": [
       "[100.0, 7, 'uniform']"
      ]
     },
     "execution_count": 142,
     "metadata": {},
     "output_type": "execute_result"
    }
   ],
   "source": [
    "best_modifier = new_modifiers_list[np.argmax(new_auc_list)]\n",
    "best_modifier"
   ]
  },
  {
   "cell_type": "code",
   "execution_count": 134,
   "metadata": {},
   "outputs": [],
   "source": [
    "best_result = new_auc_list[np.argmax(new_auc_list)]"
   ]
  },
  {
   "cell_type": "code",
   "execution_count": 143,
   "metadata": {},
   "outputs": [
    {
     "data": {
      "text/plain": [
       "array(['HLDF (нг/мл', 'САД'], dtype='<U29')"
      ]
     },
     "execution_count": 143,
     "metadata": {},
     "output_type": "execute_result"
    }
   ],
   "source": [
    "features[percentiles >= 100]"
   ]
  },
  {
   "cell_type": "code",
   "execution_count": 144,
   "metadata": {},
   "outputs": [],
   "source": [
    "order = np.argsort(new_auc_list)[::-1]"
   ]
  },
  {
   "cell_type": "code",
   "execution_count": 145,
   "metadata": {},
   "outputs": [
    {
     "data": {
      "text/plain": [
       "array([['100.0', '7', 'uniform'],\n",
       "       ['100.0', '8', 'uniform'],\n",
       "       ['100.0', '11', 'uniform'],\n",
       "       ['99.0', '6', 'distance'],\n",
       "       ['99.0', '8', 'distance'],\n",
       "       ['99.0', '9', 'distance'],\n",
       "       ['99.0', '7', 'distance'],\n",
       "       ['99.0', '10', 'distance'],\n",
       "       ['100.0', '9', 'uniform'],\n",
       "       ['100.0', '10', 'uniform'],\n",
       "       ['99.0', '11', 'distance'],\n",
       "       ['99.0', '5', 'distance'],\n",
       "       ['100.0', '12', 'uniform'],\n",
       "       ['99.0', '12', 'distance'],\n",
       "       ['99.0', '14', 'distance'],\n",
       "       ['99.0', '13', 'distance'],\n",
       "       ['99.0', '15', 'distance'],\n",
       "       ['99.0', '15', 'uniform'],\n",
       "       ['99.0', '14', 'uniform'],\n",
       "       ['100.0', '13', 'uniform'],\n",
       "       ['99.0', '5', 'uniform'],\n",
       "       ['99.0', '12', 'uniform'],\n",
       "       ['100.0', '15', 'uniform'],\n",
       "       ['99.0', '13', 'uniform'],\n",
       "       ['100.0', '14', 'uniform'],\n",
       "       ['100.0', '8', 'distance'],\n",
       "       ['100.0', '7', 'distance'],\n",
       "       ['99.0', '11', 'uniform'],\n",
       "       ['100.0', '9', 'distance'],\n",
       "       ['99.0', '6', 'uniform'],\n",
       "       ['97.0', '8', 'distance'],\n",
       "       ['61.0', '8', 'distance'],\n",
       "       ['61.0', '7', 'distance'],\n",
       "       ['97.0', '7', 'distance'],\n",
       "       ['61.0', '8', 'uniform'],\n",
       "       ['61.0', '3', 'distance'],\n",
       "       ['97.0', '10', 'distance'],\n",
       "       ['97.0', '6', 'distance'],\n",
       "       ['61.0', '10', 'distance'],\n",
       "       ['97.0', '3', 'distance'],\n",
       "       ['100.0', '6', 'uniform'],\n",
       "       ['99.0', '10', 'uniform'],\n",
       "       ['97.0', '8', 'uniform'],\n",
       "       ['97.0', '9', 'distance'],\n",
       "       ['61.0', '9', 'distance'],\n",
       "       ['61.0', '7', 'uniform'],\n",
       "       ['97.0', '7', 'uniform'],\n",
       "       ['99.0', '7', 'uniform'],\n",
       "       ['99.0', '4', 'distance'],\n",
       "       ['61.0', '6', 'distance'],\n",
       "       ['99.0', '9', 'uniform'],\n",
       "       ['97.0', '4', 'distance'],\n",
       "       ['97.0', '5', 'distance'],\n",
       "       ['99.0', '8', 'uniform'],\n",
       "       ['61.0', '11', 'distance'],\n",
       "       ['61.0', '9', 'uniform'],\n",
       "       ['61.0', '4', 'distance'],\n",
       "       ['100.0', '10', 'distance'],\n",
       "       ['97.0', '11', 'distance'],\n",
       "       ['61.0', '5', 'distance'],\n",
       "       ['97.0', '9', 'uniform'],\n",
       "       ['38.0', '7', 'distance'],\n",
       "       ['32.0', '7', 'distance'],\n",
       "       ['38.0', '8', 'distance'],\n",
       "       ['32.0', '8', 'distance'],\n",
       "       ['100.0', '11', 'distance'],\n",
       "       ['38.0', '6', 'distance'],\n",
       "       ['32.0', '6', 'distance'],\n",
       "       ['61.0', '2', 'distance'],\n",
       "       ['97.0', '2', 'distance'],\n",
       "       ['97.0', '15', 'distance'],\n",
       "       ['61.0', '15', 'distance'],\n",
       "       ['61.0', '14', 'distance'],\n",
       "       ['97.0', '6', 'uniform'],\n",
       "       ['100.0', '12', 'distance'],\n",
       "       ['32.0', '9', 'distance'],\n",
       "       ['38.0', '9', 'distance'],\n",
       "       ['61.0', '13', 'distance'],\n",
       "       ['97.0', '14', 'distance'],\n",
       "       ['38.0', '10', 'distance'],\n",
       "       ['32.0', '10', 'distance'],\n",
       "       ['100.0', '15', 'distance'],\n",
       "       ['97.0', '13', 'distance'],\n",
       "       ['97.0', '12', 'distance'],\n",
       "       ['99.0', '4', 'uniform'],\n",
       "       ['61.0', '12', 'distance'],\n",
       "       ['100.0', '13', 'distance'],\n",
       "       ['97.0', '10', 'uniform'],\n",
       "       ['61.0', '10', 'uniform'],\n",
       "       ['61.0', '6', 'uniform'],\n",
       "       ['32.0', '11', 'distance'],\n",
       "       ['38.0', '11', 'distance'],\n",
       "       ['100.0', '14', 'distance'],\n",
       "       ['38.0', '8', 'uniform'],\n",
       "       ['32.0', '8', 'uniform'],\n",
       "       ['60.0', '7', 'uniform'],\n",
       "       ['38.0', '7', 'uniform'],\n",
       "       ['32.0', '7', 'uniform'],\n",
       "       ['38.0', '5', 'distance'],\n",
       "       ['32.0', '5', 'distance'],\n",
       "       ['97.0', '5', 'uniform'],\n",
       "       ['38.0', '12', 'distance'],\n",
       "       ['32.0', '12', 'distance'],\n",
       "       ['61.0', '3', 'uniform'],\n",
       "       ['97.0', '3', 'uniform'],\n",
       "       ['61.0', '5', 'uniform'],\n",
       "       ['100.0', '6', 'distance'],\n",
       "       ['61.0', '11', 'uniform'],\n",
       "       ['60.0', '8', 'uniform'],\n",
       "       ['97.0', '11', 'uniform'],\n",
       "       ['32.0', '6', 'uniform'],\n",
       "       ['38.0', '6', 'uniform'],\n",
       "       ['32.0', '9', 'uniform'],\n",
       "       ['38.0', '9', 'uniform'],\n",
       "       ['61.0', '2', 'uniform'],\n",
       "       ['97.0', '2', 'uniform'],\n",
       "       ['60.0', '6', 'uniform'],\n",
       "       ['60.0', '7', 'distance'],\n",
       "       ['38.0', '10', 'uniform'],\n",
       "       ['32.0', '10', 'uniform'],\n",
       "       ['60.0', '8', 'distance'],\n",
       "       ['60.0', '5', 'uniform'],\n",
       "       ['51.0', '8', 'distance'],\n",
       "       ['60.0', '9', 'uniform'],\n",
       "       ['61.0', '4', 'uniform'],\n",
       "       ['60.0', '5', 'distance'],\n",
       "       ['97.0', '4', 'uniform'],\n",
       "       ['38.0', '4', 'distance'],\n",
       "       ['32.0', '4', 'distance'],\n",
       "       ['32.0', '13', 'distance'],\n",
       "       ['38.0', '13', 'distance'],\n",
       "       ['61.0', '14', 'uniform'],\n",
       "       ['51.0', '10', 'uniform'],\n",
       "       ['51.0', '7', 'distance'],\n",
       "       ['97.0', '14', 'uniform'],\n",
       "       ['60.0', '6', 'distance'],\n",
       "       ['51.0', '10', 'distance'],\n",
       "       ['60.0', '9', 'distance'],\n",
       "       ['61.0', '13', 'uniform'],\n",
       "       ['51.0', '11', 'uniform'],\n",
       "       ['51.0', '4', 'distance'],\n",
       "       ['51.0', '9', 'distance'],\n",
       "       ['51.0', '9', 'uniform'],\n",
       "       ['51.0', '11', 'distance'],\n",
       "       ['51.0', '8', 'uniform'],\n",
       "       ['97.0', '13', 'uniform'],\n",
       "       ['60.0', '10', 'uniform'],\n",
       "       ['61.0', '12', 'uniform'],\n",
       "       ['60.0', '10', 'distance'],\n",
       "       ['51.0', '7', 'uniform'],\n",
       "       ['38.0', '11', 'uniform'],\n",
       "       ['32.0', '11', 'uniform'],\n",
       "       ['97.0', '12', 'uniform'],\n",
       "       ['51.0', '5', 'distance'],\n",
       "       ['38.0', '14', 'distance'],\n",
       "       ['32.0', '14', 'distance'],\n",
       "       ['61.0', '15', 'uniform'],\n",
       "       ['51.0', '6', 'distance'],\n",
       "       ['97.0', '15', 'uniform'],\n",
       "       ['60.0', '15', 'distance'],\n",
       "       ['51.0', '12', 'distance'],\n",
       "       ['60.0', '14', 'distance'],\n",
       "       ['60.0', '15', 'uniform'],\n",
       "       ['60.0', '11', 'distance'],\n",
       "       ['38.0', '15', 'distance'],\n",
       "       ['32.0', '15', 'distance'],\n",
       "       ['60.0', '14', 'uniform'],\n",
       "       ['60.0', '4', 'distance'],\n",
       "       ['51.0', '12', 'uniform'],\n",
       "       ['60.0', '12', 'distance'],\n",
       "       ['60.0', '13', 'uniform'],\n",
       "       ['60.0', '13', 'distance'],\n",
       "       ['60.0', '11', 'uniform'],\n",
       "       ['32.0', '3', 'distance'],\n",
       "       ['38.0', '3', 'distance'],\n",
       "       ['51.0', '6', 'uniform'],\n",
       "       ['32.0', '5', 'uniform'],\n",
       "       ['38.0', '5', 'uniform'],\n",
       "       ['60.0', '12', 'uniform'],\n",
       "       ['51.0', '13', 'distance'],\n",
       "       ['51.0', '3', 'distance'],\n",
       "       ['51.0', '5', 'uniform'],\n",
       "       ['32.0', '12', 'uniform'],\n",
       "       ['38.0', '12', 'uniform'],\n",
       "       ['51.0', '4', 'uniform'],\n",
       "       ['51.0', '13', 'uniform'],\n",
       "       ['51.0', '14', 'distance'],\n",
       "       ['38.0', '4', 'uniform'],\n",
       "       ['32.0', '4', 'uniform'],\n",
       "       ['51.0', '15', 'distance'],\n",
       "       ['100.0', '5', 'uniform'],\n",
       "       ['60.0', '4', 'uniform'],\n",
       "       ['60.0', '3', 'distance'],\n",
       "       ['32.0', '13', 'uniform'],\n",
       "       ['38.0', '13', 'uniform'],\n",
       "       ['51.0', '14', 'uniform'],\n",
       "       ['38.0', '3', 'uniform'],\n",
       "       ['32.0', '3', 'uniform'],\n",
       "       ['32.0', '14', 'uniform'],\n",
       "       ['38.0', '14', 'uniform'],\n",
       "       ['51.0', '3', 'uniform'],\n",
       "       ['51.0', '15', 'uniform'],\n",
       "       ['100.0', '5', 'distance'],\n",
       "       ['38.0', '15', 'uniform'],\n",
       "       ['32.0', '15', 'uniform'],\n",
       "       ['60.0', '3', 'uniform'],\n",
       "       ['60.0', '2', 'distance'],\n",
       "       ['100.0', '4', 'uniform'],\n",
       "       ['60.0', '2', 'uniform'],\n",
       "       ['99.0', '3', 'uniform'],\n",
       "       ['99.0', '3', 'distance'],\n",
       "       ['100.0', '2', 'uniform'],\n",
       "       ['100.0', '4', 'distance'],\n",
       "       ['32.0', '2', 'distance'],\n",
       "       ['38.0', '2', 'distance'],\n",
       "       ['51.0', '2', 'distance'],\n",
       "       ['100.0', '3', 'uniform'],\n",
       "       ['97.0', '1', 'uniform'],\n",
       "       ['97.0', '1', 'distance'],\n",
       "       ['100.0', '2', 'distance'],\n",
       "       ['51.0', '2', 'uniform'],\n",
       "       ['61.0', '1', 'uniform'],\n",
       "       ['61.0', '1', 'distance'],\n",
       "       ['38.0', '2', 'uniform'],\n",
       "       ['32.0', '2', 'uniform'],\n",
       "       ['100.0', '3', 'distance'],\n",
       "       ['60.0', '1', 'distance'],\n",
       "       ['60.0', '1', 'uniform'],\n",
       "       ['100.0', '1', 'uniform'],\n",
       "       ['100.0', '1', 'distance'],\n",
       "       ['51.0', '1', 'distance'],\n",
       "       ['51.0', '1', 'uniform'],\n",
       "       ['99.0', '2', 'uniform'],\n",
       "       ['99.0', '2', 'distance'],\n",
       "       ['38.0', '1', 'uniform'],\n",
       "       ['38.0', '1', 'distance'],\n",
       "       ['32.0', '1', 'uniform'],\n",
       "       ['32.0', '1', 'distance'],\n",
       "       ['99.0', '1', 'distance'],\n",
       "       ['99.0', '1', 'uniform']], dtype='<U32')"
      ]
     },
     "execution_count": 145,
     "metadata": {},
     "output_type": "execute_result"
    }
   ],
   "source": [
    "np.array(new_modifiers_list)[order]"
   ]
  },
  {
   "cell_type": "markdown",
   "metadata": {},
   "source": [
    "Из данного результата можно увидеть, что наилучший показатель на кросс-валидации (запускалось 4 раза с разными сл. разбиениями) дает отсечка по 2 ключевым параметрам + 7 соседей + отсутствие весов\n",
    "Попробую добавить различные параметры к данной системе в надежде на улучшение результата на той же кросс-валидации"
   ]
  },
  {
   "cell_type": "code",
   "execution_count": 132,
   "metadata": {},
   "outputs": [],
   "source": [
    "adjusted_column = []\n",
    "result = []\n",
    "\n",
    "model = KNeighborsClassifier(n_neighbors=best_modifier[1],\n",
    "                             weights=best_modifier[2])\n",
    "\n",
    "for column in successor_ft:\n",
    "    \n",
    "    current_columns = best_subset + [column]\n",
    "    #print(current_columns)\n",
    "    outlier_columns = list(set(data.columns.tolist()).difference(set(current_columns)))  \n",
    "    \n",
    "    eval_data = data.drop(columns = outlier_columns)\n",
    "    \n",
    "    adjusted_column.append(column)\n",
    "    \n",
    "    cv_roc = 0\n",
    "    \n",
    "    for state in random_states:\n",
    "        \n",
    "        cv = KFold(n_splits=splits_am, shuffle = True, \n",
    "                           random_state = state)\n",
    "            \n",
    "        for train_index, test_index in cv.split(eval_data):\n",
    "\n",
    "            X_train = eval_data.loc[train_index]\n",
    "            X_test = eval_data.loc[test_index]\n",
    "\n",
    "            y_train = target_col[train_index]\n",
    "            y_test = target_col[test_index]\n",
    "\n",
    "            model.fit(X_train, y_train)\n",
    "\n",
    "            preds = model.predict_proba(X_test)[:, 1]\n",
    "\n",
    "            cv_roc += roc_auc_score(y_test, preds)\n",
    "\n",
    "    result.append(cv_roc / splits_am / random_states.__len__())    "
   ]
  },
  {
   "cell_type": "code",
   "execution_count": 133,
   "metadata": {
    "collapsed": true
   },
   "outputs": [
    {
     "data": {
      "text/plain": [
       "[0.9065499605222819,\n",
       " 0.9352817126656426,\n",
       " 0.9129306380348055,\n",
       " 0.7609985045598144,\n",
       " 0.8321115484713699,\n",
       " 0.9144534472141614,\n",
       " 0.9217091384805677,\n",
       " 0.9260817869630379,\n",
       " 0.9136147109284025,\n",
       " 0.9139812753714546,\n",
       " 0.9350251100861235,\n",
       " 0.9359832103522594,\n",
       " 0.8179906882469384,\n",
       " 0.9379052679353288,\n",
       " 0.9146520490202035,\n",
       " 0.9313042433866853,\n",
       " 0.9174497985700365,\n",
       " 0.9346574174612876,\n",
       " 0.9035941239536479,\n",
       " 0.9165523613842065,\n",
       " 0.9328563275789482,\n",
       " 0.9117073319978097,\n",
       " 0.9119558679636067,\n",
       " 0.9220583682411087,\n",
       " 0.8619967254636901,\n",
       " 0.9351994706021505,\n",
       " 0.9168454561311709,\n",
       " 0.9344235286869222,\n",
       " 0.8427763501379582,\n",
       " 0.9175214792042179,\n",
       " 0.9263252189278991,\n",
       " 0.9245468212343216,\n",
       " 0.930479238948883,\n",
       " 0.9348699030466889,\n",
       " 0.8304771751396753,\n",
       " 0.9167677494683454]"
      ]
     },
     "execution_count": 133,
     "metadata": {},
     "output_type": "execute_result"
    }
   ],
   "source": [
    "result"
   ]
  },
  {
   "cell_type": "code",
   "execution_count": 139,
   "metadata": {},
   "outputs": [
    {
     "data": {
      "text/plain": [
       "array([11, 13])"
      ]
     },
     "execution_count": 139,
     "metadata": {},
     "output_type": "execute_result"
    }
   ],
   "source": [
    "np.argwhere(result > best_result).T[0]"
   ]
  },
  {
   "cell_type": "code",
   "execution_count": 155,
   "metadata": {},
   "outputs": [
    {
     "data": {
      "text/plain": [
       "2"
      ]
     },
     "execution_count": 155,
     "metadata": {},
     "output_type": "execute_result"
    }
   ],
   "source": [
    "np.argwhere(result > best_result).__len__()"
   ]
  },
  {
   "cell_type": "markdown",
   "metadata": {},
   "source": [
    "Достроим систему признаков до полной, руководствуясь повышением качества работы на кросс-валидации"
   ]
  },
  {
   "cell_type": "code",
   "execution_count": 158,
   "metadata": {},
   "outputs": [],
   "source": [
    "best_subset = features[np.where(percentiles >= best_modifier[0])[0]].tolist()"
   ]
  },
  {
   "cell_type": "code",
   "execution_count": 168,
   "metadata": {},
   "outputs": [],
   "source": [
    "successor_ft = list(set(data.columns.tolist()).difference(set(best_subset)))  "
   ]
  },
  {
   "cell_type": "code",
   "execution_count": 169,
   "metadata": {},
   "outputs": [],
   "source": [
    "while True:\n",
    "    adjusted_column = []\n",
    "    result = []\n",
    "\n",
    "    model = KNeighborsClassifier(n_neighbors=best_modifier[1],\n",
    "                                 weights=best_modifier[2])\n",
    "\n",
    "    for column in successor_ft:\n",
    "\n",
    "        current_columns = best_subset + [column]\n",
    "        #print(current_columns)\n",
    "        outlier_columns = list(set(data.columns.tolist()).difference(set(current_columns)))  \n",
    "\n",
    "        eval_data = data.drop(columns = outlier_columns)\n",
    "\n",
    "        adjusted_column.append(column)\n",
    "\n",
    "        cv_roc = 0\n",
    "\n",
    "        for state in random_states:\n",
    "\n",
    "            cv = KFold(n_splits=splits_am, shuffle = True, \n",
    "                               random_state = state)\n",
    "\n",
    "            for train_index, test_index in cv.split(eval_data):\n",
    "\n",
    "                X_train = eval_data.loc[train_index]\n",
    "                X_test = eval_data.loc[test_index]\n",
    "\n",
    "                y_train = target_col[train_index]\n",
    "                y_test = target_col[test_index]\n",
    "\n",
    "                model.fit(X_train, y_train)\n",
    "\n",
    "                preds = model.predict_proba(X_test)[:, 1]\n",
    "\n",
    "                cv_roc += roc_auc_score(y_test, preds)\n",
    "\n",
    "        result.append(cv_roc / splits_am / random_states.__len__())\n",
    "        \n",
    "    if np.argwhere(result > best_result).__len__() == 0:\n",
    "        break\n",
    "        \n",
    "    added_ind = np.argmax(result)\n",
    "    added_col = adjusted_column[added_ind]\n",
    "    \n",
    "    best_subset = best_subset + [added_col]\n",
    "    best_result = np.max(result)\n",
    "    successor_ft.remove(added_col)"
   ]
  },
  {
   "cell_type": "code",
   "execution_count": 170,
   "metadata": {},
   "outputs": [
    {
     "data": {
      "text/plain": [
       "['HLDF (нг/мл', 'САД', 'насл, Отяг по почечн, Заб', 'прием п\\\\щ контрац']"
      ]
     },
     "execution_count": 170,
     "metadata": {},
     "output_type": "execute_result"
    }
   ],
   "source": [
    "best_subset"
   ]
  },
  {
   "cell_type": "code",
   "execution_count": 172,
   "metadata": {},
   "outputs": [
    {
     "data": {
      "text/plain": [
       "0.9385407933997232"
      ]
     },
     "execution_count": 172,
     "metadata": {},
     "output_type": "execute_result"
    }
   ],
   "source": [
    "best_result"
   ]
  },
  {
   "cell_type": "markdown",
   "metadata": {},
   "source": [
    "Полученный результат является наилучшим возможным для данной кросс-валидации для KNN"
   ]
  },
  {
   "cell_type": "markdown",
   "metadata": {},
   "source": [
    "## Сравним этот результат с работой других моделей:"
   ]
  },
  {
   "cell_type": "code",
   "execution_count": null,
   "metadata": {},
   "outputs": [],
   "source": []
  }
 ],
 "metadata": {
  "kernelspec": {
   "display_name": "Python 3",
   "language": "python",
   "name": "python3"
  },
  "language_info": {
   "codemirror_mode": {
    "name": "ipython",
    "version": 3
   },
   "file_extension": ".py",
   "mimetype": "text/x-python",
   "name": "python",
   "nbconvert_exporter": "python",
   "pygments_lexer": "ipython3",
   "version": "3.7.4"
  }
 },
 "nbformat": 4,
 "nbformat_minor": 2
}
